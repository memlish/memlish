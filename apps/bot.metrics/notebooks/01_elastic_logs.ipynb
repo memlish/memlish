{
 "cells": [
  {
   "cell_type": "code",
   "execution_count": 135,
   "id": "b8cf505d-21ab-4696-8e5f-70592f70ee9d",
   "metadata": {
    "tags": []
   },
   "outputs": [],
   "source": [
    "!pip install elasticsearch[async]==7.17.0 -q\n",
    "!pip install elasticsearch-dsl==7.4.0 -q"
   ]
  },
  {
   "cell_type": "code",
   "execution_count": 594,
   "id": "03478ece-04fe-4000-8e95-5952b6ea527f",
   "metadata": {},
   "outputs": [],
   "source": [
    "import sys\n",
    "\n",
    "sys.path.append('/app')"
   ]
  },
  {
   "cell_type": "code",
   "execution_count": 595,
   "id": "6b76ad3f-adfe-4c0c-a1d9-5d0ebaa08c9d",
   "metadata": {},
   "outputs": [],
   "source": [
    "from datetime import datetime\n",
    "from elasticsearch import Elasticsearch\n",
    "from elasticsearch_dsl import Search\n",
    "import pandas as pd\n",
    "import ast\n",
    "import json"
   ]
  },
  {
   "cell_type": "code",
   "execution_count": 596,
   "id": "160b27e1-92e0-4526-b4c2-ed7541048fa3",
   "metadata": {},
   "outputs": [],
   "source": [
    "from memlish.config import ESTag"
   ]
  },
  {
   "cell_type": "code",
   "execution_count": 597,
   "id": "706ea061-8b6e-4cfa-a72f-ec97fa76ff18",
   "metadata": {},
   "outputs": [],
   "source": [
    "client = Elasticsearch(\"http://ec2-34-245-85-126.eu-west-1.compute.amazonaws.com:9200\")\n",
    "index = \"fluentd-*\""
   ]
  },
  {
   "cell_type": "code",
   "execution_count": 598,
   "id": "897c0ce2-c0e7-4c60-9deb-ff61e9ac0470",
   "metadata": {
    "tags": []
   },
   "outputs": [],
   "source": [
    "# client.delete_by_query(index=[index], body={\"query\": {\"match_all\": {}}}, size=1000000)"
   ]
  },
  {
   "cell_type": "code",
   "execution_count": 599,
   "id": "1331549f-46e9-4667-ba73-ad5b19f02fb8",
   "metadata": {},
   "outputs": [],
   "source": [
    "# client.delete_by_query(index=[index], body={\"query\": {\n",
    "#     \"bool\": {\n",
    "#       \"must\": {\n",
    "#         \"match\": {\n",
    "#           \"log\": ESTag.TIMELOG\n",
    "#         }\n",
    "#       }\n",
    "#     }\n",
    "#   }}, size=1000000)"
   ]
  },
  {
   "cell_type": "code",
   "execution_count": null,
   "id": "34b94471-fd35-49f3-ab5f-b68f4c969628",
   "metadata": {},
   "outputs": [],
   "source": []
  },
  {
   "cell_type": "code",
   "execution_count": 600,
   "id": "615ac200-78e5-46e7-82ee-57a2e98923ac",
   "metadata": {},
   "outputs": [],
   "source": [
    "# time_logs = []\n",
    "# time_log_search = Search(using=client, index=index).query(\"multi_match\", query=ESTag.TIMELOG, fields=['log'])\n",
    "\n",
    "# for hit in time_log_search.scan():\n",
    "#     _hit = {}\n",
    "#     _hit = ast.literal_eval(hit.to_dict()['log'])\n",
    "#     time_logs.append(_hit)"
   ]
  },
  {
   "cell_type": "code",
   "execution_count": 601,
   "id": "1eb2448d-49f9-4da4-83a7-48ef3846481c",
   "metadata": {},
   "outputs": [
    {
     "data": {
      "text/plain": [
       "{'name': 'elastic',\n",
       " 'cluster_name': 'docker-cluster',\n",
       " 'cluster_uuid': 'oyf18TppTqyj5cwfBqvswg',\n",
       " 'version': {'number': '7.0.1',\n",
       "  'build_flavor': 'default',\n",
       "  'build_type': 'docker',\n",
       "  'build_hash': 'e4efcb5',\n",
       "  'build_date': '2019-04-29T12:56:03.145736Z',\n",
       "  'build_snapshot': False,\n",
       "  'lucene_version': '8.0.0',\n",
       "  'minimum_wire_compatibility_version': '6.7.0',\n",
       "  'minimum_index_compatibility_version': '6.0.0-beta1'},\n",
       " 'tagline': 'You Know, for Search'}"
      ]
     },
     "execution_count": 601,
     "metadata": {},
     "output_type": "execute_result"
    }
   ],
   "source": [
    "client.info()"
   ]
  },
  {
   "cell_type": "code",
   "execution_count": 602,
   "id": "0366516e-ca90-4aae-8a88-4495f007de03",
   "metadata": {},
   "outputs": [],
   "source": [
    "answ_search = Search(using=client, index=index).query(\"multi_match\", query=ESTag.INLINE_ANSWER, fields=['log'])\n",
    "choice_search = Search(using=client, index=index).query(\"multi_match\", query=ESTag.INLINE_CHOICE, fields=['log'])"
   ]
  },
  {
   "cell_type": "code",
   "execution_count": 603,
   "id": "77b4221c-9b21-4b00-b882-1b1e20c213f8",
   "metadata": {},
   "outputs": [],
   "source": [
    "#cand_id - is guid. Example: 3940172d-fda5-4e02-b284-6f5e2074454c \n",
    "def find_choice_for_answer(cand_id, choices):\n",
    "    for i in choices:\n",
    "        choice_id = i['update']['result_id'].split('_')[1]\n",
    "        if choice_id == cand_id:\n",
    "            return i"
   ]
  },
  {
   "cell_type": "code",
   "execution_count": 604,
   "id": "a0c5ab77-7c01-42b2-904b-6a0dcd39707a",
   "metadata": {},
   "outputs": [],
   "source": [
    "choice_logs = []\n",
    "rows = []\n",
    "\n",
    "for hit in choice_search.scan():\n",
    "    _hit = {}\n",
    "    _hit = ast.literal_eval(hit.to_dict()['log'])\n",
    "    _hit['update'] = json.loads(_hit['update'])\n",
    "    _hit[\"timestamp\"] = hit[\"@timestamp\"]\n",
    "    choice_logs.append(_hit)\n",
    "\n",
    "for hit in answ_search.scan():\n",
    "    result_row = {}\n",
    "    _hit = ast.literal_eval(hit.to_dict()['log'])\n",
    "    _hit[\"answer_timestamp\"] = hit[\"@timestamp\"]\n",
    "    if len(_hit['template_options']) > 0:\n",
    "        _hit_template_uniq_id = _hit['template_options'][0]['id'].split('_')[1]\n",
    "        possible_choice = find_choice_for_answer(_hit_template_uniq_id, choice_logs)\n",
    "    \n",
    "    update = json.loads(_hit['update'])\n",
    "    \n",
    "    if possible_choice is not None:\n",
    "        choice_update = possible_choice['update']\n",
    "        result_row[\"template_choice\"] = choice_update[\"result_id\"]\n",
    "        result_row[\"choice_timestamp\"] = possible_choice['timestamp']\n",
    "    \n",
    "    result_row[\"answer_timestamp\"] = _hit[\"answer_timestamp\"]\n",
    "    result_row[\"id\"] = update[\"id\"]\n",
    "    result_row[\"user_id\"] = update[\"from\"][\"id\"]\n",
    "    result_row[\"first_name\"] = update[\"from\"][\"first_name\"]\n",
    "    result_row[\"last_name\"] = update[\"from\"].get(\"last_name\", \"\")\n",
    "    \n",
    "    if update[\"from\"].get(\"username\", None) is not None:\n",
    "        result_row[\"username\"] = update[\"from\"][\"username\"]\n",
    "    else:\n",
    "        result_row[\"username\"] = update[\"from\"][\"id\"]\n",
    "        \n",
    "    result_row[\"language_code\"] = update[\"from\"][\"language_code\"]\n",
    "    result_row[\"chat_type\"] = update[\"chat_type\"]\n",
    "    result_row[\"query\"] = update[\"query\"]\n",
    "    result_row[\"candidates\"] = _hit[\"template_options\"]\n",
    "    \n",
    "    rows.append(result_row)"
   ]
  },
  {
   "cell_type": "code",
   "execution_count": 605,
   "id": "334322ab-004a-4286-84da-b64957778137",
   "metadata": {},
   "outputs": [],
   "source": [
    "logs_df = pd.DataFrame(rows)"
   ]
  },
  {
   "cell_type": "code",
   "execution_count": 608,
   "id": "99344a62-f08d-4cd5-8cb1-3124e40cfc34",
   "metadata": {},
   "outputs": [
    {
     "data": {
      "text/html": [
       "<div>\n",
       "<style scoped>\n",
       "    .dataframe tbody tr th:only-of-type {\n",
       "        vertical-align: middle;\n",
       "    }\n",
       "\n",
       "    .dataframe tbody tr th {\n",
       "        vertical-align: top;\n",
       "    }\n",
       "\n",
       "    .dataframe thead th {\n",
       "        text-align: right;\n",
       "    }\n",
       "</style>\n",
       "<table border=\"1\" class=\"dataframe\">\n",
       "  <thead>\n",
       "    <tr style=\"text-align: right;\">\n",
       "      <th></th>\n",
       "      <th>answer_timestamp</th>\n",
       "      <th>id</th>\n",
       "      <th>user_id</th>\n",
       "      <th>first_name</th>\n",
       "      <th>last_name</th>\n",
       "      <th>username</th>\n",
       "      <th>language_code</th>\n",
       "      <th>chat_type</th>\n",
       "      <th>query</th>\n",
       "      <th>candidates</th>\n",
       "      <th>template_choice</th>\n",
       "      <th>choice_timestamp</th>\n",
       "    </tr>\n",
       "  </thead>\n",
       "  <tbody>\n",
       "    <tr>\n",
       "      <th>0</th>\n",
       "      <td>2022-02-20T00:00:33.000000000+00:00</td>\n",
       "      <td>3159827879680430741</td>\n",
       "      <td>735704759</td>\n",
       "      <td>lukas</td>\n",
       "      <td></td>\n",
       "      <td>lukasssss</td>\n",
       "      <td>en</td>\n",
       "      <td>group</td>\n",
       "      <td>cum</td>\n",
       "      <td>[{'id': '0_ca6ce419-dec9-4f7b-a698-e17b51b5d66...</td>\n",
       "      <td>NaN</td>\n",
       "      <td>NaN</td>\n",
       "    </tr>\n",
       "    <tr>\n",
       "      <th>1</th>\n",
       "      <td>2022-02-17T07:10:38.000000000+00:00</td>\n",
       "      <td>1409196998664532468</td>\n",
       "      <td>328104244</td>\n",
       "      <td>Volodymyr</td>\n",
       "      <td>Prypeshnyuk</td>\n",
       "      <td>ParadiseN</td>\n",
       "      <td>ru</td>\n",
       "      <td>supergroup</td>\n",
       "      <td>halfs don't coun</td>\n",
       "      <td>[{'id': '0_473b7a22-aaa4-4683-a42e-31dba887fe2...</td>\n",
       "      <td>NaN</td>\n",
       "      <td>NaN</td>\n",
       "    </tr>\n",
       "  </tbody>\n",
       "</table>\n",
       "</div>"
      ],
      "text/plain": [
       "                      answer_timestamp                   id    user_id  \\\n",
       "0  2022-02-20T00:00:33.000000000+00:00  3159827879680430741  735704759   \n",
       "1  2022-02-17T07:10:38.000000000+00:00  1409196998664532468  328104244   \n",
       "\n",
       "  first_name    last_name   username language_code   chat_type  \\\n",
       "0      lukas               lukasssss            en       group   \n",
       "1  Volodymyr  Prypeshnyuk  ParadiseN            ru  supergroup   \n",
       "\n",
       "              query                                         candidates  \\\n",
       "0               cum  [{'id': '0_ca6ce419-dec9-4f7b-a698-e17b51b5d66...   \n",
       "1  halfs don't coun  [{'id': '0_473b7a22-aaa4-4683-a42e-31dba887fe2...   \n",
       "\n",
       "  template_choice choice_timestamp  \n",
       "0             NaN              NaN  \n",
       "1             NaN              NaN  "
      ]
     },
     "execution_count": 608,
     "metadata": {},
     "output_type": "execute_result"
    }
   ],
   "source": [
    "logs_df.head(2)"
   ]
  },
  {
   "cell_type": "code",
   "execution_count": 609,
   "id": "a4b09067-8050-43ff-b1ec-68ab9b76135d",
   "metadata": {},
   "outputs": [],
   "source": [
    "banned_users = ['daniel_kovalenko', 'ParadiseN', 'vprypeshniuk', 'kilianovski', 'ostap_hembara', 'CheshireDog1865', 'dasha_hatsosh', 'NickKlimenko', 'mariupolec']\n",
    "\n",
    "banned_mask = logs_df['username'].apply(lambda x: x not in banned_users)\n",
    "\n",
    "with_choice_mask = logs_df['template_choice'].notna()\n",
    "\n",
    "selection_mask = banned_mask & with_choice_mask"
   ]
  },
  {
   "cell_type": "code",
   "execution_count": 610,
   "id": "7467d05a-8541-4c19-b116-916c3e16c419",
   "metadata": {},
   "outputs": [
    {
     "data": {
      "text/plain": [
       "mochi_chim_chim_chimmy        9\n",
       "TheJosee                      7\n",
       "Cycoric                       5\n",
       "Anayilos_M                    5\n",
       "ellegado                      5\n",
       "sergej_havrylyuk              4\n",
       "Three_part_baton              3\n",
       "lukasssss                     3\n",
       "702299132                     3\n",
       "Dasun616                      3\n",
       "Gifk0                         2\n",
       "An7honym                      2\n",
       "De_Percy_Jackson              2\n",
       "Jared_Junior                  2\n",
       "1241331520                    2\n",
       "AmV1488                       2\n",
       "kingchoudhry                  2\n",
       "1472269408                    2\n",
       "lexashott                     2\n",
       "art_unltd                     2\n",
       "922523433                     1\n",
       "1270542385                    1\n",
       "Arbazkhan6001                 1\n",
       "Wooooooooooooooooooooooooo    1\n",
       "Player_unknown_777            1\n",
       "imameme_guy                   1\n",
       "Super_trolly                  1\n",
       "MarynaMarchenko               1\n",
       "Oh_Ki                         1\n",
       "ImruYas                       1\n",
       "Anvilondre                    1\n",
       "Yeabikibra                    1\n",
       "Anonchar                      1\n",
       "MT_6501                       1\n",
       "supernaut911                  1\n",
       "Elgor_gonita                  1\n",
       "T3ch31                        1\n",
       "aj67346                       1\n",
       "hedonist_01                   1\n",
       "1911116317                    1\n",
       "prince_an                     1\n",
       "ItsmehStk                     1\n",
       "EmdoPL                        1\n",
       "Sami_ykb                      1\n",
       "Boss_Tornado                  1\n",
       "vadmitriev1                   1\n",
       "nihonnnn                      1\n",
       "FujiwaraVodkaStore            1\n",
       "coltxbull                     1\n",
       "Name: username, dtype: int64"
      ]
     },
     "execution_count": 610,
     "metadata": {},
     "output_type": "execute_result"
    }
   ],
   "source": [
    "logs_df[selection_mask]['username'].value_counts()"
   ]
  },
  {
   "cell_type": "code",
   "execution_count": 611,
   "id": "2a48d428-f475-405e-9fdb-0681a82bb3e6",
   "metadata": {},
   "outputs": [],
   "source": [
    "post_date = pd.to_datetime('2022-02-18T15:30:00.000000000+00:00')\n",
    "\n",
    "logs_sorted_dates = logs_df[selection_mask]['answer_timestamp']\n",
    "\n",
    "logs_sorted_dates = pd.to_datetime(logs_sorted_dates)\n",
    "\n",
    "after_post_mask = logs_sorted_dates > post_date"
   ]
  },
  {
   "cell_type": "code",
   "execution_count": 612,
   "id": "2f13f6e4-1d48-4592-ab18-6288eeaa6ea4",
   "metadata": {
    "tags": []
   },
   "outputs": [
    {
     "data": {
      "text/plain": [
       "mochi_chim_chim_chimmy        8\n",
       "TheJosee                      7\n",
       "Cycoric                       5\n",
       "Anayilos_M                    5\n",
       "ellegado                      5\n",
       "702299132                     3\n",
       "Dasun616                      3\n",
       "lukasssss                     3\n",
       "De_Percy_Jackson              2\n",
       "1472269408                    2\n",
       "AmV1488                       2\n",
       "1241331520                    2\n",
       "Jared_Junior                  2\n",
       "Gifk0                         2\n",
       "An7honym                      2\n",
       "kingchoudhry                  2\n",
       "art_unltd                     2\n",
       "lexashott                     2\n",
       "ItsmehStk                     1\n",
       "hedonist_01                   1\n",
       "Arbazkhan6001                 1\n",
       "Wooooooooooooooooooooooooo    1\n",
       "prince_an                     1\n",
       "Super_trolly                  1\n",
       "supernaut911                  1\n",
       "Oh_Ki                         1\n",
       "ImruYas                       1\n",
       "EmdoPL                        1\n",
       "nihonnnn                      1\n",
       "Anonchar                      1\n",
       "922523433                     1\n",
       "MT_6501                       1\n",
       "Elgor_gonita                  1\n",
       "T3ch31                        1\n",
       "aj67346                       1\n",
       "vadmitriev1                   1\n",
       "1911116317                    1\n",
       "Boss_Tornado                  1\n",
       "coltxbull                     1\n",
       "Name: username, dtype: int64"
      ]
     },
     "execution_count": 612,
     "metadata": {},
     "output_type": "execute_result"
    }
   ],
   "source": [
    "logs_df[selection_mask & after_post_mask]['username'].value_counts()"
   ]
  },
  {
   "cell_type": "code",
   "execution_count": 613,
   "id": "714b9298-e40b-43da-8ff0-359ed2829d5e",
   "metadata": {},
   "outputs": [
    {
     "data": {
      "text/plain": [
       "(80,)"
      ]
     },
     "execution_count": 613,
     "metadata": {},
     "output_type": "execute_result"
    }
   ],
   "source": [
    "logs_df[selection_mask & after_post_mask]['username'].shape"
   ]
  },
  {
   "cell_type": "code",
   "execution_count": 614,
   "id": "d065d4b8-3e29-46a0-8b69-548163b740cc",
   "metadata": {},
   "outputs": [
    {
     "data": {
      "text/plain": [
       "(39,)"
      ]
     },
     "execution_count": 614,
     "metadata": {},
     "output_type": "execute_result"
    }
   ],
   "source": [
    "logs_df[selection_mask & after_post_mask]['username'].unique().shape"
   ]
  }
 ],
 "metadata": {
  "kernelspec": {
   "display_name": "Python 3 (ipykernel)",
   "language": "python",
   "name": "python3"
  },
  "language_info": {
   "codemirror_mode": {
    "name": "ipython",
    "version": 3
   },
   "file_extension": ".py",
   "mimetype": "text/x-python",
   "name": "python",
   "nbconvert_exporter": "python",
   "pygments_lexer": "ipython3",
   "version": "3.7.11"
  }
 },
 "nbformat": 4,
 "nbformat_minor": 5
}
