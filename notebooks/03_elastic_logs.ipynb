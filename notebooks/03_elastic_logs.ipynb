{
 "cells": [
  {
   "cell_type": "code",
   "execution_count": 86,
   "id": "b8cf505d-21ab-4696-8e5f-70592f70ee9d",
   "metadata": {
    "tags": []
   },
   "outputs": [],
   "source": [
    "!pip install elasticsearch[async]==7.17.0 -q\n",
    "!pip install elasticsearch-dsl==7.4.0 -q"
   ]
  },
  {
   "cell_type": "code",
   "execution_count": 25,
   "id": "6b76ad3f-adfe-4c0c-a1d9-5d0ebaa08c9d",
   "metadata": {},
   "outputs": [],
   "source": [
    "from datetime import datetime\n",
    "from elasticsearch import Elasticsearch\n",
    "from elasticsearch_dsl import Search\n",
    "import pandas as pd\n",
    "import ast\n",
    "import json"
   ]
  },
  {
   "cell_type": "code",
   "execution_count": 26,
   "id": "160b27e1-92e0-4526-b4c2-ed7541048fa3",
   "metadata": {},
   "outputs": [],
   "source": [
    "class ESTag:\n",
    "    INLINE_CHOICE = \"INLINE_CHOICE\"\n",
    "    INLINE_ANSWER = \"INLINE_ANSWER\""
   ]
  },
  {
   "cell_type": "code",
   "execution_count": 27,
   "id": "706ea061-8b6e-4cfa-a72f-ec97fa76ff18",
   "metadata": {},
   "outputs": [],
   "source": [
    "client = Elasticsearch(\"http://35.224.116.253:7032\")\n",
    "index = \"fluentd-*\""
   ]
  },
  {
   "cell_type": "code",
   "execution_count": 28,
   "id": "897c0ce2-c0e7-4c60-9deb-ff61e9ac0470",
   "metadata": {
    "tags": []
   },
   "outputs": [],
   "source": [
    "# client.delete_by_query(index=[index], body={\"query\": {\"match_all\": {}}}, size=1000000)"
   ]
  },
  {
   "cell_type": "code",
   "execution_count": 29,
   "id": "1eb2448d-49f9-4da4-83a7-48ef3846481c",
   "metadata": {},
   "outputs": [
    {
     "data": {
      "text/plain": [
       "{'name': 'elastic',\n",
       " 'cluster_name': 'docker-cluster',\n",
       " 'cluster_uuid': 'QeWlxU4zT4STOl7p7e6P9g',\n",
       " 'version': {'number': '7.0.1',\n",
       "  'build_flavor': 'default',\n",
       "  'build_type': 'docker',\n",
       "  'build_hash': 'e4efcb5',\n",
       "  'build_date': '2019-04-29T12:56:03.145736Z',\n",
       "  'build_snapshot': False,\n",
       "  'lucene_version': '8.0.0',\n",
       "  'minimum_wire_compatibility_version': '6.7.0',\n",
       "  'minimum_index_compatibility_version': '6.0.0-beta1'},\n",
       " 'tagline': 'You Know, for Search'}"
      ]
     },
     "execution_count": 29,
     "metadata": {},
     "output_type": "execute_result"
    }
   ],
   "source": [
    "client.info()"
   ]
  },
  {
   "cell_type": "code",
   "execution_count": 30,
   "id": "0366516e-ca90-4aae-8a88-4495f007de03",
   "metadata": {},
   "outputs": [],
   "source": [
    "answ_search = Search(using=client, index=index).query(\"multi_match\", query=ESTag.INLINE_ANSWER, fields=['log'])\n",
    "choice_search = Search(using=client, index=index).query(\"multi_match\", query=ESTag.INLINE_CHOICE, fields=['log'])"
   ]
  },
  {
   "cell_type": "code",
   "execution_count": 31,
   "id": "77b4221c-9b21-4b00-b882-1b1e20c213f8",
   "metadata": {},
   "outputs": [],
   "source": [
    "#cand_id - is guid. Example: 3940172d-fda5-4e02-b284-6f5e2074454c \n",
    "def find_choice_for_answer(cand_id, choices):\n",
    "    for i in choices:\n",
    "        choice_id = i['update']['result_id'].split('__')[1]\n",
    "        if choice_id == cand_id:\n",
    "            return i"
   ]
  },
  {
   "cell_type": "code",
   "execution_count": 32,
   "id": "a0c5ab77-7c01-42b2-904b-6a0dcd39707a",
   "metadata": {},
   "outputs": [],
   "source": [
    "choice_logs = []\n",
    "rows = []\n",
    "\n",
    "for hit in choice_search.scan():\n",
    "    _hit = {}\n",
    "    _hit = ast.literal_eval(hit.to_dict()['log'])\n",
    "    _hit['update'] = json.loads(_hit['update'])\n",
    "    _hit[\"timestamp\"] = hit[\"@timestamp\"]\n",
    "    choice_logs.append(_hit)\n",
    "\n",
    "for hit in answ_search.scan():\n",
    "    result_row = {}\n",
    "    _hit = ast.literal_eval(hit.to_dict()['log'])\n",
    "    _hit[\"answer_timestamp\"] = hit[\"@timestamp\"]\n",
    "    _hit_template_uniq_id = _hit['template_options'][0].split('__')[1]\n",
    "    possible_choice = find_choice_for_answer(_hit_template_uniq_id, choice_logs)\n",
    "    update = json.loads(_hit['update'])\n",
    "    \n",
    "    if possible_choice is not None:\n",
    "        choice_update = possible_choice['update']\n",
    "        result_row[\"template_choice\"] = choice_update[\"result_id\"]\n",
    "        result_row[\"choice_timestamp\"] = possible_choice['timestamp']\n",
    "    \n",
    "    result_row[\"answer_timestamp\"] = _hit[\"answer_timestamp\"]\n",
    "    result_row[\"id\"] = update[\"id\"]\n",
    "    result_row[\"user_id\"] = update[\"from\"][\"id\"]\n",
    "    result_row[\"first_name\"] = update[\"from\"][\"first_name\"]\n",
    "    result_row[\"last_name\"] = update[\"from\"][\"last_name\"]\n",
    "    result_row[\"username\"] = update[\"from\"][\"username\"]\n",
    "    result_row[\"language_code\"] = update[\"from\"][\"language_code\"]\n",
    "    result_row[\"chat_type\"] = update[\"chat_type\"]\n",
    "    result_row[\"query\"] = update[\"query\"]\n",
    "    result_row[\"candidates\"] = _hit[\"template_options\"]\n",
    "    \n",
    "    rows.append(result_row)"
   ]
  },
  {
   "cell_type": "code",
   "execution_count": 33,
   "id": "334322ab-004a-4286-84da-b64957778137",
   "metadata": {},
   "outputs": [],
   "source": [
    "logs_df = pd.DataFrame(rows)"
   ]
  },
  {
   "cell_type": "code",
   "execution_count": 34,
   "id": "7467d05a-8541-4c19-b116-916c3e16c419",
   "metadata": {},
   "outputs": [
    {
     "data": {
      "text/html": [
       "<div>\n",
       "<style scoped>\n",
       "    .dataframe tbody tr th:only-of-type {\n",
       "        vertical-align: middle;\n",
       "    }\n",
       "\n",
       "    .dataframe tbody tr th {\n",
       "        vertical-align: top;\n",
       "    }\n",
       "\n",
       "    .dataframe thead th {\n",
       "        text-align: right;\n",
       "    }\n",
       "</style>\n",
       "<table border=\"1\" class=\"dataframe\">\n",
       "  <thead>\n",
       "    <tr style=\"text-align: right;\">\n",
       "      <th></th>\n",
       "      <th>answer_timestamp</th>\n",
       "      <th>id</th>\n",
       "      <th>user_id</th>\n",
       "      <th>first_name</th>\n",
       "      <th>last_name</th>\n",
       "      <th>username</th>\n",
       "      <th>language_code</th>\n",
       "      <th>chat_type</th>\n",
       "      <th>query</th>\n",
       "      <th>candidates</th>\n",
       "      <th>template_choice</th>\n",
       "      <th>choice_timestamp</th>\n",
       "    </tr>\n",
       "  </thead>\n",
       "  <tbody>\n",
       "    <tr>\n",
       "      <th>0</th>\n",
       "      <td>2022-02-08T18:36:13+00:00</td>\n",
       "      <td>1187924786621411208</td>\n",
       "      <td>276585292</td>\n",
       "      <td>Daniel</td>\n",
       "      <td>Kovalenko</td>\n",
       "      <td>daniel_kovalenko</td>\n",
       "      <td>en</td>\n",
       "      <td>private</td>\n",
       "      <td>hellow</td>\n",
       "      <td>[xlq3a8d03gf61.jpg__775d3d68-8f5d-4825-b176-4a...</td>\n",
       "      <td>NaN</td>\n",
       "      <td>NaN</td>\n",
       "    </tr>\n",
       "    <tr>\n",
       "      <th>1</th>\n",
       "      <td>2022-02-08T18:36:13+00:00</td>\n",
       "      <td>1187924786233751295</td>\n",
       "      <td>276585292</td>\n",
       "      <td>Daniel</td>\n",
       "      <td>Kovalenko</td>\n",
       "      <td>daniel_kovalenko</td>\n",
       "      <td>en</td>\n",
       "      <td>private</td>\n",
       "      <td>hellow wo</td>\n",
       "      <td>[zyrdwm2tizl61.jpg__90d5563c-b8ad-4493-92fb-24...</td>\n",
       "      <td>NaN</td>\n",
       "      <td>NaN</td>\n",
       "    </tr>\n",
       "    <tr>\n",
       "      <th>2</th>\n",
       "      <td>2022-02-08T18:36:08+00:00</td>\n",
       "      <td>1187924787750078202</td>\n",
       "      <td>276585292</td>\n",
       "      <td>Daniel</td>\n",
       "      <td>Kovalenko</td>\n",
       "      <td>daniel_kovalenko</td>\n",
       "      <td>en</td>\n",
       "      <td>private</td>\n",
       "      <td>qweqweqweqwe</td>\n",
       "      <td>[eo2kkfhhl4l71.jpg__aa200045-f3a0-490c-95cc-02...</td>\n",
       "      <td>NaN</td>\n",
       "      <td>NaN</td>\n",
       "    </tr>\n",
       "    <tr>\n",
       "      <th>3</th>\n",
       "      <td>2022-02-08T18:36:14+00:00</td>\n",
       "      <td>1187924787098359127</td>\n",
       "      <td>276585292</td>\n",
       "      <td>Daniel</td>\n",
       "      <td>Kovalenko</td>\n",
       "      <td>daniel_kovalenko</td>\n",
       "      <td>en</td>\n",
       "      <td>private</td>\n",
       "      <td>hellow world</td>\n",
       "      <td>[51wqon12m9771.png__ccbbe43e-00ce-4a57-9c52-9e...</td>\n",
       "      <td>51wqon12m9771.png__ccbbe43e-00ce-4a57-9c52-9ed...</td>\n",
       "      <td>2022-02-08T18:36:16+00:00</td>\n",
       "    </tr>\n",
       "    <tr>\n",
       "      <th>4</th>\n",
       "      <td>2022-02-08T18:55:48+00:00</td>\n",
       "      <td>1187924784902022383</td>\n",
       "      <td>276585292</td>\n",
       "      <td>Daniel</td>\n",
       "      <td>Kovalenko</td>\n",
       "      <td>daniel_kovalenko</td>\n",
       "      <td>en</td>\n",
       "      <td>private</td>\n",
       "      <td>qw</td>\n",
       "      <td>[qbo5srpf8h371.png__3955c1ea-969e-494f-b188-81...</td>\n",
       "      <td>qbo5srpf8h371.png__3955c1ea-969e-494f-b188-816...</td>\n",
       "      <td>2022-02-08T18:55:58+00:00</td>\n",
       "    </tr>\n",
       "  </tbody>\n",
       "</table>\n",
       "</div>"
      ],
      "text/plain": [
       "            answer_timestamp                   id    user_id first_name  \\\n",
       "0  2022-02-08T18:36:13+00:00  1187924786621411208  276585292     Daniel   \n",
       "1  2022-02-08T18:36:13+00:00  1187924786233751295  276585292     Daniel   \n",
       "2  2022-02-08T18:36:08+00:00  1187924787750078202  276585292     Daniel   \n",
       "3  2022-02-08T18:36:14+00:00  1187924787098359127  276585292     Daniel   \n",
       "4  2022-02-08T18:55:48+00:00  1187924784902022383  276585292     Daniel   \n",
       "\n",
       "   last_name          username language_code chat_type         query  \\\n",
       "0  Kovalenko  daniel_kovalenko            en   private        hellow   \n",
       "1  Kovalenko  daniel_kovalenko            en   private     hellow wo   \n",
       "2  Kovalenko  daniel_kovalenko            en   private  qweqweqweqwe   \n",
       "3  Kovalenko  daniel_kovalenko            en   private  hellow world   \n",
       "4  Kovalenko  daniel_kovalenko            en   private            qw   \n",
       "\n",
       "                                          candidates  \\\n",
       "0  [xlq3a8d03gf61.jpg__775d3d68-8f5d-4825-b176-4a...   \n",
       "1  [zyrdwm2tizl61.jpg__90d5563c-b8ad-4493-92fb-24...   \n",
       "2  [eo2kkfhhl4l71.jpg__aa200045-f3a0-490c-95cc-02...   \n",
       "3  [51wqon12m9771.png__ccbbe43e-00ce-4a57-9c52-9e...   \n",
       "4  [qbo5srpf8h371.png__3955c1ea-969e-494f-b188-81...   \n",
       "\n",
       "                                     template_choice  \\\n",
       "0                                                NaN   \n",
       "1                                                NaN   \n",
       "2                                                NaN   \n",
       "3  51wqon12m9771.png__ccbbe43e-00ce-4a57-9c52-9ed...   \n",
       "4  qbo5srpf8h371.png__3955c1ea-969e-494f-b188-816...   \n",
       "\n",
       "            choice_timestamp  \n",
       "0                        NaN  \n",
       "1                        NaN  \n",
       "2                        NaN  \n",
       "3  2022-02-08T18:36:16+00:00  \n",
       "4  2022-02-08T18:55:58+00:00  "
      ]
     },
     "execution_count": 34,
     "metadata": {},
     "output_type": "execute_result"
    }
   ],
   "source": [
    "logs_df.head()"
   ]
  },
  {
   "cell_type": "code",
   "execution_count": null,
   "id": "858b745e-d0cb-4b81-a6b1-0960d380fcea",
   "metadata": {},
   "outputs": [],
   "source": []
  }
 ],
 "metadata": {
  "kernelspec": {
   "display_name": "Python 3 (ipykernel)",
   "language": "python",
   "name": "python3"
  },
  "language_info": {
   "codemirror_mode": {
    "name": "ipython",
    "version": 3
   },
   "file_extension": ".py",
   "mimetype": "text/x-python",
   "name": "python",
   "nbconvert_exporter": "python",
   "pygments_lexer": "ipython3",
   "version": "3.7.11"
  }
 },
 "nbformat": 4,
 "nbformat_minor": 5
}
