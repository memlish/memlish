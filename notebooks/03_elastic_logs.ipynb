{
 "cells": [
  {
   "cell_type": "code",
   "execution_count": 1,
   "id": "b8cf505d-21ab-4696-8e5f-70592f70ee9d",
   "metadata": {
    "tags": []
   },
   "outputs": [],
   "source": [
    "!pip install elasticsearch[async]==7.17.0 -q\n",
    "!pip install elasticsearch-dsl==7.4.0 -q"
   ]
  },
  {
   "cell_type": "code",
   "execution_count": 1,
   "id": "03478ece-04fe-4000-8e95-5952b6ea527f",
   "metadata": {},
   "outputs": [],
   "source": [
    "import sys\n",
    "\n",
    "sys.path.append('/app')"
   ]
  },
  {
   "cell_type": "code",
   "execution_count": 2,
   "id": "6b76ad3f-adfe-4c0c-a1d9-5d0ebaa08c9d",
   "metadata": {},
   "outputs": [],
   "source": [
    "from datetime import datetime\n",
    "from elasticsearch import Elasticsearch\n",
    "from elasticsearch_dsl import Search\n",
    "import pandas as pd\n",
    "import ast\n",
    "import json"
   ]
  },
  {
   "cell_type": "code",
   "execution_count": 3,
   "id": "160b27e1-92e0-4526-b4c2-ed7541048fa3",
   "metadata": {},
   "outputs": [],
   "source": [
    "from memlish.config import ESTag"
   ]
  },
  {
   "cell_type": "code",
   "execution_count": 4,
   "id": "706ea061-8b6e-4cfa-a72f-ec97fa76ff18",
   "metadata": {},
   "outputs": [],
   "source": [
    "client = Elasticsearch(\"http://35.224.116.253:7032\")\n",
    "index = \"fluentd-*\""
   ]
  },
  {
   "cell_type": "code",
   "execution_count": 5,
   "id": "897c0ce2-c0e7-4c60-9deb-ff61e9ac0470",
   "metadata": {
    "tags": []
   },
   "outputs": [],
   "source": [
    "# client.delete_by_query(index=[index], body={\"query\": {\"match_all\": {}}}, size=1000000)"
   ]
  },
  {
   "cell_type": "code",
   "execution_count": 6,
   "id": "1331549f-46e9-4667-ba73-ad5b19f02fb8",
   "metadata": {},
   "outputs": [],
   "source": [
    "# client.delete_by_query(index=[index], body={\"query\": {\n",
    "#     \"bool\": {\n",
    "#       \"must\": {\n",
    "#         \"match\": {\n",
    "#           \"log\": ESTag.TIMELOG\n",
    "#         }\n",
    "#       }\n",
    "#     }\n",
    "#   }}, size=1000000)"
   ]
  },
  {
   "cell_type": "code",
   "execution_count": 7,
   "id": "615ac200-78e5-46e7-82ee-57a2e98923ac",
   "metadata": {},
   "outputs": [],
   "source": [
    "# time_logs = []\n",
    "# time_log_search = Search(using=client, index=index).query(\"multi_match\", query=ESTag.TIMELOG, fields=['log'])\n",
    "\n",
    "# for hit in time_log_search.scan():\n",
    "#     _hit = {}\n",
    "#     _hit = ast.literal_eval(hit.to_dict()['log'])\n",
    "#     time_logs.append(_hit)"
   ]
  },
  {
   "cell_type": "code",
   "execution_count": 8,
   "id": "1eb2448d-49f9-4da4-83a7-48ef3846481c",
   "metadata": {},
   "outputs": [
    {
     "data": {
      "text/plain": [
       "{'name': 'elastic',\n",
       " 'cluster_name': 'docker-cluster',\n",
       " 'cluster_uuid': 'QeWlxU4zT4STOl7p7e6P9g',\n",
       " 'version': {'number': '7.0.1',\n",
       "  'build_flavor': 'default',\n",
       "  'build_type': 'docker',\n",
       "  'build_hash': 'e4efcb5',\n",
       "  'build_date': '2019-04-29T12:56:03.145736Z',\n",
       "  'build_snapshot': False,\n",
       "  'lucene_version': '8.0.0',\n",
       "  'minimum_wire_compatibility_version': '6.7.0',\n",
       "  'minimum_index_compatibility_version': '6.0.0-beta1'},\n",
       " 'tagline': 'You Know, for Search'}"
      ]
     },
     "execution_count": 8,
     "metadata": {},
     "output_type": "execute_result"
    }
   ],
   "source": [
    "client.info()"
   ]
  },
  {
   "cell_type": "code",
   "execution_count": 9,
   "id": "0366516e-ca90-4aae-8a88-4495f007de03",
   "metadata": {},
   "outputs": [],
   "source": [
    "answ_search = Search(using=client, index=index).query(\"multi_match\", query=ESTag.INLINE_ANSWER, fields=['log'])\n",
    "choice_search = Search(using=client, index=index).query(\"multi_match\", query=ESTag.INLINE_CHOICE, fields=['log'])"
   ]
  },
  {
   "cell_type": "code",
   "execution_count": 20,
   "id": "77b4221c-9b21-4b00-b882-1b1e20c213f8",
   "metadata": {},
   "outputs": [],
   "source": [
    "#cand_id - is guid. Example: 3940172d-fda5-4e02-b284-6f5e2074454c \n",
    "def find_choice_for_answer(cand_id, choices):\n",
    "    for i in choices:\n",
    "        choice_id = i['update']['result_id'].split('_')[1]\n",
    "        if choice_id == cand_id:\n",
    "            return i"
   ]
  },
  {
   "cell_type": "code",
   "execution_count": 24,
   "id": "a0c5ab77-7c01-42b2-904b-6a0dcd39707a",
   "metadata": {},
   "outputs": [],
   "source": [
    "choice_logs = []\n",
    "rows = []\n",
    "\n",
    "for hit in choice_search.scan():\n",
    "    _hit = {}\n",
    "    _hit = ast.literal_eval(hit.to_dict()['log'])\n",
    "    _hit['update'] = json.loads(_hit['update'])\n",
    "    _hit[\"timestamp\"] = hit[\"@timestamp\"]\n",
    "    choice_logs.append(_hit)\n",
    "\n",
    "for hit in answ_search.scan():\n",
    "    result_row = {}\n",
    "    _hit = ast.literal_eval(hit.to_dict()['log'])\n",
    "    _hit[\"answer_timestamp\"] = hit[\"@timestamp\"]\n",
    "    if len(_hit['template_options']) > 0:\n",
    "        _hit_template_uniq_id = _hit['template_options'][0]['id'].split('_')[1]\n",
    "        possible_choice = find_choice_for_answer(_hit_template_uniq_id, choice_logs)\n",
    "    \n",
    "    update = json.loads(_hit['update'])\n",
    "    \n",
    "    if possible_choice is not None:\n",
    "        choice_update = possible_choice['update']\n",
    "        result_row[\"template_choice\"] = choice_update[\"result_id\"]\n",
    "        result_row[\"choice_timestamp\"] = possible_choice['timestamp']\n",
    "    \n",
    "    result_row[\"answer_timestamp\"] = _hit[\"answer_timestamp\"]\n",
    "    result_row[\"id\"] = update[\"id\"]\n",
    "    result_row[\"user_id\"] = update[\"from\"][\"id\"]\n",
    "    result_row[\"first_name\"] = update[\"from\"][\"first_name\"]\n",
    "    result_row[\"last_name\"] = update[\"from\"].get(\"last_name\", \"\")\n",
    "    result_row[\"username\"] = update[\"from\"][\"username\"]\n",
    "    result_row[\"language_code\"] = update[\"from\"][\"language_code\"]\n",
    "    result_row[\"chat_type\"] = update[\"chat_type\"]\n",
    "    result_row[\"query\"] = update[\"query\"]\n",
    "    result_row[\"candidates\"] = _hit[\"template_options\"]\n",
    "    \n",
    "    rows.append(result_row)"
   ]
  },
  {
   "cell_type": "code",
   "execution_count": 25,
   "id": "334322ab-004a-4286-84da-b64957778137",
   "metadata": {},
   "outputs": [],
   "source": [
    "logs_df = pd.DataFrame(rows)"
   ]
  },
  {
   "cell_type": "code",
   "execution_count": 32,
   "id": "a4b09067-8050-43ff-b1ec-68ab9b76135d",
   "metadata": {},
   "outputs": [],
   "source": [
    "banned_users = ['daniel_kovalenko', 'ParadiseN', 'kilianovski', 'ostap_hembara', 'CheshireDog1865']\n",
    "\n",
    "banned_mask = logs_df['username'].apply(lambda x: x not in banned_users)"
   ]
  },
  {
   "cell_type": "code",
   "execution_count": 33,
   "id": "7467d05a-8541-4c19-b116-916c3e16c419",
   "metadata": {},
   "outputs": [
    {
     "data": {
      "text/plain": [
       "Series([], Name: username, dtype: int64)"
      ]
     },
     "execution_count": 33,
     "metadata": {},
     "output_type": "execute_result"
    }
   ],
   "source": [
    "logs_df[banned_mask]['username'].value_counts()"
   ]
  },
  {
   "cell_type": "code",
   "execution_count": null,
   "id": "858b745e-d0cb-4b81-a6b1-0960d380fcea",
   "metadata": {},
   "outputs": [],
   "source": []
  }
 ],
 "metadata": {
  "kernelspec": {
   "display_name": "Python 3 (ipykernel)",
   "language": "python",
   "name": "python3"
  },
  "language_info": {
   "codemirror_mode": {
    "name": "ipython",
    "version": 3
   },
   "file_extension": ".py",
   "mimetype": "text/x-python",
   "name": "python",
   "nbconvert_exporter": "python",
   "pygments_lexer": "ipython3",
   "version": "3.7.11"
  }
 },
 "nbformat": 4,
 "nbformat_minor": 5
}
