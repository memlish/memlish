{
 "cells": [
  {
   "cell_type": "code",
   "execution_count": 7,
   "id": "d03254d6-77cf-442f-8021-c8d524851e62",
   "metadata": {},
   "outputs": [
    {
     "ename": "ModuleNotFoundError",
     "evalue": "No module named 'loopa.executors'",
     "output_type": "error",
     "traceback": [
      "\u001b[0;31m---------------------------------------------------------------------------\u001b[0m",
      "\u001b[0;31mModuleNotFoundError\u001b[0m                       Traceback (most recent call last)",
      "\u001b[0;32m/tmp/ipykernel_15/3587286989.py\u001b[0m in \u001b[0;36m<module>\u001b[0;34m\u001b[0m\n\u001b[1;32m      5\u001b[0m \u001b[0;32mfrom\u001b[0m \u001b[0mpathlib\u001b[0m \u001b[0;32mimport\u001b[0m \u001b[0mPath\u001b[0m\u001b[0;34m\u001b[0m\u001b[0;34m\u001b[0m\u001b[0m\n\u001b[1;32m      6\u001b[0m \u001b[0;32mimport\u001b[0m \u001b[0margparse\u001b[0m\u001b[0;34m\u001b[0m\u001b[0;34m\u001b[0m\u001b[0m\n\u001b[0;32m----> 7\u001b[0;31m \u001b[0;32mfrom\u001b[0m \u001b[0mloopa\u001b[0m\u001b[0;34m.\u001b[0m\u001b[0mexecutors\u001b[0m\u001b[0;34m.\u001b[0m\u001b[0mclip\u001b[0m \u001b[0;32mimport\u001b[0m \u001b[0mCLIPTextEncoder\u001b[0m\u001b[0;34m\u001b[0m\u001b[0;34m\u001b[0m\u001b[0m\n\u001b[0m\u001b[1;32m      8\u001b[0m \u001b[0;32mfrom\u001b[0m \u001b[0mloopa\u001b[0m\u001b[0;34m.\u001b[0m\u001b[0mexecutors\u001b[0m\u001b[0;34m.\u001b[0m\u001b[0mindex\u001b[0m \u001b[0;32mimport\u001b[0m \u001b[0mFaissIndexer\u001b[0m\u001b[0;34m,\u001b[0m \u001b[0mIndexMerger\u001b[0m\u001b[0;34m\u001b[0m\u001b[0;34m\u001b[0m\u001b[0m\n\u001b[1;32m      9\u001b[0m \u001b[0;32mfrom\u001b[0m \u001b[0mconfig\u001b[0m \u001b[0;32mimport\u001b[0m \u001b[0mIMAGE_DIR\u001b[0m\u001b[0;34m,\u001b[0m \u001b[0mJINA_EMBS_COLLECTION_NAME\u001b[0m\u001b[0;34m,\u001b[0m \u001b[0mEMBEDDER_PARAMS\u001b[0m\u001b[0;34m\u001b[0m\u001b[0;34m\u001b[0m\u001b[0m\n",
      "\u001b[0;31mModuleNotFoundError\u001b[0m: No module named 'loopa.executors'"
     ]
    }
   ],
   "source": [
    "import sys\n",
    "sys.path.append('/app/')  # noqa\n",
    "\n",
    "from jina import Document, DocumentArray, Flow, Executor, requests\n",
    "from pathlib import Path\n",
    "import argparse\n",
    "from loopa.executors.clip import CLIPTextEncoder\n",
    "from loopa.executors.index import FaissIndexer, IndexMerger\n",
    "from config import IMAGE_DIR, JINA_EMBS_COLLECTION_NAME, EMBEDDER_PARAMS\n",
    "import torch"
   ]
  },
  {
   "cell_type": "code",
   "execution_count": 5,
   "id": "97b74bae-9f15-4452-9418-20cb7a485644",
   "metadata": {},
   "outputs": [
    {
     "name": "stdout",
     "output_type": "stream",
     "text": [
      "Dockerfile.cuda  docker-compose.jina.yml       notebooks\n",
      "README.md\t docker-compose.jupyter.yml    requirements.txt\n",
      "apps\t\t docker-compose.search_ui.yml\n",
      "bo4ka\t\t loopa\n"
     ]
    }
   ],
   "source": [
    "!ls /app/loopa"
   ]
  },
  {
   "cell_type": "code",
   "execution_count": null,
   "id": "52ae0023-6d47-411c-b99e-72cc2984a8fd",
   "metadata": {},
   "outputs": [],
   "source": [
    "\n",
    "\n",
    "ROOT_DIR = Path('/data/cache/streamlit_search')\n",
    "\n",
    "MODEL_OPTIONS = {\n",
    "    # name : flow_branch_prefix\n",
    "    \"Clip\": FLOW_BRANCH_CLIP_PREFIX,\n",
    "}\n",
    "\n",
    "\n",
    "def get_url(filename):\n",
    "    return f'{CDN_SERVER_URL}/data/cache/streamlit_search/{filename}'\n",
    "\n",
    "\n",
    "def get_image_url(image):\n",
    "    filename = f'{uuid4()}.jpg'\n",
    "    dst_file = ROOT_DIR/filename\n",
    "    image.convert('RGB').save(dst_file)\n",
    "    return get_url(filename)\n",
    "\n",
    "\n",
    "def to_base64_str(image):\n",
    "    buffered = BytesIO()\n",
    "    image.save(buffered, format=\"JPEG\")\n",
    "    img_str = base64.b64encode(buffered.getvalue())\n",
    "    return img_str\n",
    "\n",
    "\n",
    "def search(text, models_to_use, top_k=10):\n",
    "\n",
    "    parent_id = str(uuid4())\n",
    "\n",
    "    print('text', text)\n",
    "\n",
    "    models = []\n",
    "    for _, value in models_to_use.items():\n",
    "        models.append(MODEL_OPTIONS[value])\n",
    "\n",
    "    models_str = \"|\".join(models)\n",
    "\n",
    "    payload = {\n",
    "        \"data\": [\n",
    "            {\"text\": text}\n",
    "        ],\n",
    "        \"exec_endpoint\": \"/search\",\n",
    "        \"parameters\": {\n",
    "            \"top_k\": top_k,\n",
    "        },\n",
    "        \"target_peapod\": f\"{models_str}|merger\"\n",
    "    }\n",
    "\n",
    "    # print(JINA_SEARCH_ENDPOINT)\n",
    "    # print(\"payload\", payload)\n",
    "\n",
    "    r = requests.post(JINA_SEARCH_ENDPOINT, json=payload)\n",
    "    response = r.json()\n",
    "\n",
    "    result = {}\n",
    "    req_docs = response['data']['docs']\n",
    "    for req_doc in req_docs:\n",
    "        if req_doc.get(\"tags\"):\n",
    "            if req_doc[\"tags\"].get(\"indexer_tag\"):\n",
    "                prefix = req_doc[\"tags\"][\"indexer_tag\"].split(\"_\")[0]\n",
    "                if prefix in FLOW_BRANCH_PREFIXES:\n",
    "                    result[prefix] = req_doc[\"matches\"]\n",
    "\n",
    "    return result\n"
   ]
  }
 ],
 "metadata": {
  "kernelspec": {
   "display_name": "Python 3 (ipykernel)",
   "language": "python",
   "name": "python3"
  },
  "language_info": {
   "codemirror_mode": {
    "name": "ipython",
    "version": 3
   },
   "file_extension": ".py",
   "mimetype": "text/x-python",
   "name": "python",
   "nbconvert_exporter": "python",
   "pygments_lexer": "ipython3",
   "version": "3.7.11"
  }
 },
 "nbformat": 4,
 "nbformat_minor": 5
}
