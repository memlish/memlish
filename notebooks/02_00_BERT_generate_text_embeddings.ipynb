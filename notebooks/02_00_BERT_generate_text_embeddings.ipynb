{
 "cells": [
  {
   "cell_type": "code",
   "execution_count": 1,
   "id": "d03254d6-77cf-442f-8021-c8d524851e62",
   "metadata": {},
   "outputs": [],
   "source": [
    "import sys\n",
    "sys.path.append('/app/')  # noqa\n",
    "\n",
    "from jina import Document, DocumentArray, Flow, Executor, requests\n",
    "from pathlib import Path\n",
    "import numpy as np\n",
    "import pandas as pd\n",
    "from tqdm.auto import tqdm\n",
    "import argparse\n",
    "from memlish.executors.cache import RealSBERTEncoderCache\n",
    "from memlish.executors.index import FaissIndexer\n",
    "import torch\n",
    "import hashlib\n",
    "\n",
    "def my_hash(s): \n",
    "    return str(int(hashlib.md5(str(s).encode('utf-8')).hexdigest(), 16))"
   ]
  },
  {
   "cell_type": "code",
   "execution_count": 2,
   "id": "b143764b-23fc-4167-9447-63a086a38a97",
   "metadata": {},
   "outputs": [],
   "source": [
    "torch.multiprocessing.set_start_method('spawn', force=True) "
   ]
  },
  {
   "cell_type": "code",
   "execution_count": 3,
   "id": "c526baff-0d51-4a7d-b8ed-0aeb48b23e93",
   "metadata": {},
   "outputs": [],
   "source": [
    "OUT_DIR = Path(\"/data/imgflip/v1/\")\n",
    "OUT_TEMPLATE_TEXTS_CSV = OUT_DIR/\"template_texts.csv\""
   ]
  },
  {
   "cell_type": "code",
   "execution_count": 4,
   "id": "5587d303-3481-4a25-9c57-76273957a454",
   "metadata": {},
   "outputs": [],
   "source": [
    "JINA_SBERT_EMBEDDING_TEMPLATE_TEXT_COLLECTION = \"02_v1_images_sbert_all_mpnet_base_v2_imgflip_template_100k_embeddings\"\n",
    "MONGO_EMBEDDING_DB_NAME = 'memlish_db'"
   ]
  },
  {
   "cell_type": "code",
   "execution_count": 5,
   "id": "a7d7de18-4f80-4724-9a4e-b6733cd6f0a4",
   "metadata": {},
   "outputs": [],
   "source": [
    "def text_input_docs(df):    \n",
    "    for idx, row in df.iterrows():\n",
    "        template_name = row[\"template_img_name\"]\n",
    "        try:\n",
    "            template_text = row[\"text\"]\n",
    "            document_id = f\"{template_name}_{my_hash(template_text)}\"\n",
    "            doc = Document(id=document_id, text=template_text)# tags={'filename': str(template_img_path)})\n",
    "        except Exception as e:\n",
    "            print(document_id)\n",
    "            print(template_text)\n",
    "            print(str(e))\n",
    "        \n",
    "        yield doc "
   ]
  },
  {
   "cell_type": "code",
   "execution_count": 6,
   "id": "33b2508a-bb14-4457-8e2e-70a13e47191c",
   "metadata": {},
   "outputs": [],
   "source": [
    "templates_df = pd.read_csv(OUT_TEMPLATE_TEXTS_CSV)"
   ]
  },
  {
   "cell_type": "code",
   "execution_count": 7,
   "id": "42e00c3e-da0a-4fc1-8fe0-254f20ded2d6",
   "metadata": {},
   "outputs": [],
   "source": [
    "templates_df = templates_df[~templates_df['text'].isna()]"
   ]
  },
  {
   "cell_type": "code",
   "execution_count": 8,
   "id": "5e2fb591-49db-425b-a0f4-e7afa68a5f87",
   "metadata": {},
   "outputs": [],
   "source": [
    "templates_df = templates_df[~templates_df.duplicated([\"text\", \"template_img_name\"])]"
   ]
  },
  {
   "cell_type": "code",
   "execution_count": 9,
   "id": "164709c4-e411-471f-a2ef-f5164901aefe",
   "metadata": {
    "tags": []
   },
   "outputs": [
    {
     "data": {
      "text/html": [
       "<div>\n",
       "<style scoped>\n",
       "    .dataframe tbody tr th:only-of-type {\n",
       "        vertical-align: middle;\n",
       "    }\n",
       "\n",
       "    .dataframe tbody tr th {\n",
       "        vertical-align: top;\n",
       "    }\n",
       "\n",
       "    .dataframe thead th {\n",
       "        text-align: right;\n",
       "    }\n",
       "</style>\n",
       "<table border=\"1\" class=\"dataframe\">\n",
       "  <thead>\n",
       "    <tr style=\"text-align: right;\">\n",
       "      <th></th>\n",
       "      <th>Unnamed: 0</th>\n",
       "      <th>text</th>\n",
       "      <th>alt</th>\n",
       "      <th>views</th>\n",
       "      <th>upvotes</th>\n",
       "      <th>comments</th>\n",
       "      <th>template_name</th>\n",
       "      <th>template_img_name</th>\n",
       "    </tr>\n",
       "  </thead>\n",
       "  <tbody>\n",
       "    <tr>\n",
       "      <th>0</th>\n",
       "      <td>0</td>\n",
       "      <td>WHERE IS THE CHOCKY MILK; THAT I SAVED LAST NI...</td>\n",
       "      <td>Chainsaw Bear |  WHERE IS THE CHOCKY MILK; THA...</td>\n",
       "      <td>72</td>\n",
       "      <td>3</td>\n",
       "      <td>2</td>\n",
       "      <td>Chainsaw-Bear</td>\n",
       "      <td>Chainsaw-Bear.jpg</td>\n",
       "    </tr>\n",
       "    <tr>\n",
       "      <th>1</th>\n",
       "      <td>1</td>\n",
       "      <td>POV: YOU SAID POST OR VOID INSTEAD OF POINT OF...</td>\n",
       "      <td>Run |  POV: YOU SAID POST OR VOID INSTEAD OF P...</td>\n",
       "      <td>69</td>\n",
       "      <td>2</td>\n",
       "      <td>0</td>\n",
       "      <td>Chainsaw-Bear</td>\n",
       "      <td>Chainsaw-Bear.jpg</td>\n",
       "    </tr>\n",
       "  </tbody>\n",
       "</table>\n",
       "</div>"
      ],
      "text/plain": [
       "   Unnamed: 0                                               text  \\\n",
       "0           0  WHERE IS THE CHOCKY MILK; THAT I SAVED LAST NI...   \n",
       "1           1  POV: YOU SAID POST OR VOID INSTEAD OF POINT OF...   \n",
       "\n",
       "                                                 alt  views  upvotes  \\\n",
       "0  Chainsaw Bear |  WHERE IS THE CHOCKY MILK; THA...     72        3   \n",
       "1  Run |  POV: YOU SAID POST OR VOID INSTEAD OF P...     69        2   \n",
       "\n",
       "   comments  template_name  template_img_name  \n",
       "0         2  Chainsaw-Bear  Chainsaw-Bear.jpg  \n",
       "1         0  Chainsaw-Bear  Chainsaw-Bear.jpg  "
      ]
     },
     "execution_count": 9,
     "metadata": {},
     "output_type": "execute_result"
    }
   ],
   "source": [
    "templates_df.head(2)"
   ]
  },
  {
   "cell_type": "code",
   "execution_count": 10,
   "id": "1aa68ba7-7e17-40e6-854b-19199def2b07",
   "metadata": {},
   "outputs": [],
   "source": [
    "k_to_take = 100\n",
    "groups = []\n",
    "\n",
    "for _, group in templates_df.groupby(['template_img_name']):\n",
    "    selected_sorted = group.sort_values(by=['views'], ascending=False)[:k_to_take]\n",
    "    groups.append(selected_sorted)"
   ]
  },
  {
   "cell_type": "code",
   "execution_count": 11,
   "id": "05d0fc90-bc32-4469-827c-c08b49154409",
   "metadata": {},
   "outputs": [
    {
     "data": {
      "text/html": [
       "<div>\n",
       "<style scoped>\n",
       "    .dataframe tbody tr th:only-of-type {\n",
       "        vertical-align: middle;\n",
       "    }\n",
       "\n",
       "    .dataframe tbody tr th {\n",
       "        vertical-align: top;\n",
       "    }\n",
       "\n",
       "    .dataframe thead th {\n",
       "        text-align: right;\n",
       "    }\n",
       "</style>\n",
       "<table border=\"1\" class=\"dataframe\">\n",
       "  <thead>\n",
       "    <tr style=\"text-align: right;\">\n",
       "      <th></th>\n",
       "      <th>Unnamed: 0</th>\n",
       "      <th>text</th>\n",
       "      <th>alt</th>\n",
       "      <th>views</th>\n",
       "      <th>upvotes</th>\n",
       "      <th>comments</th>\n",
       "      <th>template_name</th>\n",
       "      <th>template_img_name</th>\n",
       "    </tr>\n",
       "  </thead>\n",
       "  <tbody>\n",
       "    <tr>\n",
       "      <th>0</th>\n",
       "      <td>221950</td>\n",
       "      <td>I WON $10,000,000 IN THE LOTTERY AND DECIDED T...</td>\n",
       "      <td>10 Guy |  I WON $10,000,000 IN THE LOTTERY AND...</td>\n",
       "      <td>733523</td>\n",
       "      <td>305</td>\n",
       "      <td>107</td>\n",
       "      <td>10-Guy</td>\n",
       "      <td>10-Guy.jpg</td>\n",
       "    </tr>\n",
       "    <tr>\n",
       "      <th>1</th>\n",
       "      <td>228696</td>\n",
       "      <td>I NEED TO REFILL MY CHILD REPELLENT</td>\n",
       "      <td>10 Guy | I NEED TO REFILL MY CHILD REPELLENT |...</td>\n",
       "      <td>684545</td>\n",
       "      <td>12</td>\n",
       "      <td>0</td>\n",
       "      <td>10-Guy</td>\n",
       "      <td>10-Guy.jpg</td>\n",
       "    </tr>\n",
       "  </tbody>\n",
       "</table>\n",
       "</div>"
      ],
      "text/plain": [
       "   Unnamed: 0                                               text  \\\n",
       "0      221950  I WON $10,000,000 IN THE LOTTERY AND DECIDED T...   \n",
       "1      228696                I NEED TO REFILL MY CHILD REPELLENT   \n",
       "\n",
       "                                                 alt   views  upvotes  \\\n",
       "0  10 Guy |  I WON $10,000,000 IN THE LOTTERY AND...  733523      305   \n",
       "1  10 Guy | I NEED TO REFILL MY CHILD REPELLENT |...  684545       12   \n",
       "\n",
       "   comments template_name template_img_name  \n",
       "0       107        10-Guy        10-Guy.jpg  \n",
       "1         0        10-Guy        10-Guy.jpg  "
      ]
     },
     "execution_count": 11,
     "metadata": {},
     "output_type": "execute_result"
    }
   ],
   "source": [
    "df = pd.concat(groups).reset_index(drop=True)\n",
    "df.head(2)"
   ]
  },
  {
   "cell_type": "code",
   "execution_count": 13,
   "id": "0e463432-b522-47b7-9e07-ca16b0aa9dd6",
   "metadata": {},
   "outputs": [],
   "source": [
    "embedder_params = {\n",
    "        \"device\": 'cuda'\n",
    "}\n",
    "\n",
    "cache_params = {\n",
    "    \"embedder_params\": embedder_params,\n",
    "    \"db_name\": MONGO_EMBEDDING_DB_NAME, \n",
    "    \"collection_name\": JINA_SBERT_EMBEDDING_TEMPLATE_TEXT_COLLECTION,\n",
    "    \"embedding_field_name\":'emb',\n",
    "    \"megabatch_size\":8192\n",
    "}"
   ]
  },
  {
   "cell_type": "code",
   "execution_count": 14,
   "id": "52ae0023-6d47-411c-b99e-72cc2984a8fd",
   "metadata": {},
   "outputs": [
    {
     "data": {
      "text/html": [
       "<img src=\"https://mermaid.ink/svg/ICAgICAgICAgICAgJSV7aW5pdDp7ICAidGhlbWUiOiAiYmFzZSIsICAidGhlbWVWYXJpYWJsZXMiOiB7ICAgICAgInByaW1hcnlDb2xvciI6ICIjZmZmIiwgICAgICAicHJpbWFyeUJvcmRlckNvbG9yIjogIiNmZmYiLCAgICAgICJtYWluQmtnIjogIiMzMkM4Q0QiLCAgICAgICJjbHVzdGVyQmtnIjogIiNFRUVERTc4QyIsICAgICAgInNlY29uZGFyeUJvcmRlckNvbG9yIjogIm5vbmUiLCAgICAgICJ0ZXJ0aWFyeUJvcmRlckNvbG9yIjogIm5vbmUiLCAgICAgICJsaW5lQ29sb3IiOiAiI2E2ZDhkYSIgICAgICB9fX0lJSAgICAgICAgICAgIApmbG93Y2hhcnQgTFI7CnN1YmdyYXBoIFNCRVJUX2VuY29kZXI7ClNCRVJUX2VuY29kZXIvcGVhLTBbUmVhbFNCRVJURW5jb2RlckNhY2hlXTo6OlBFQTsKZW5kOwpnYXRld2F5c3RhcnRbZ2F0ZXdheV06OjpHQVRFV0FZIC0tPiBTQkVSVF9lbmNvZGVyOjo6UE9EOwpTQkVSVF9lbmNvZGVyOjo6UE9EIC0tPiBnYXRld2F5ZW5kW2dhdGV3YXldOjo6R0FURVdBWTsKY2xhc3NEZWYgSU5TUEVDVCBzdHJva2U6I0YyOUM5RgpjbGFzc0RlZiBKT0lOX0lOU1BFQ1Qgc3Ryb2tlOiNGMjlDOUYKY2xhc3NEZWYgR0FURVdBWSBmaWxsOm5vbmUsY29sb3I6IzAwMCxzdHJva2U6bm9uZQpjbGFzc0RlZiBJTlNQRUNUX0FVWF9QQVNTIHN0cm9rZS1kYXNoYXJyYXk6IDIgMgpjbGFzc0RlZiBIRUFEVEFJTCBmaWxsOiMzMkM4Q0QxRAoKY2xhc3NEZWYgRVhURVJOQUwgZmlsbDojZmZmLHN0cm9rZTojMzJDOENE\"/>"
      ],
      "text/plain": [
       "<IPython.core.display.Image object>"
      ]
     },
     "metadata": {},
     "output_type": "display_data"
    }
   ],
   "source": [
    "flow_text_encode = Flow().add(uses=RealSBERTEncoderCache, name=\"SBERT_encoder\", uses_with=cache_params)\n",
    "flow_text_encode"
   ]
  },
  {
   "cell_type": "code",
   "execution_count": 15,
   "id": "9442c998-4842-4639-a721-9e27848aaf46",
   "metadata": {
    "tags": []
   },
   "outputs": [
    {
     "name": "stdout",
     "output_type": "stream",
     "text": [
      "\u001b[32m⠹\u001b[0m 1/2 waiting \u001b[33mSBERT_encoder\u001b[0m to be ready...                                        "
     ]
    },
    {
     "name": "stderr",
     "output_type": "stream",
     "text": [
      "Downloading: 100%|██████████| 1.18k/1.18k [00:00<00:00, 1.08MB/s]\n"
     ]
    },
    {
     "name": "stdout",
     "output_type": "stream",
     "text": [
      "\u001b[32m⠼\u001b[0m 1/2 waiting \u001b[33mSBERT_encoder\u001b[0m to be ready...                                        "
     ]
    },
    {
     "name": "stderr",
     "output_type": "stream",
     "text": [
      "Downloading: 100%|██████████| 10.1k/10.1k [00:00<00:00, 11.0MB/s]\n"
     ]
    },
    {
     "name": "stdout",
     "output_type": "stream",
     "text": [
      "\u001b[32m⠧\u001b[0m 1/2 waiting \u001b[33mSBERT_encoder\u001b[0m to be ready...                                        "
     ]
    },
    {
     "name": "stderr",
     "output_type": "stream",
     "text": [
      "Downloading: 100%|██████████| 571/571 [00:00<00:00, 862kB/s]\n"
     ]
    },
    {
     "name": "stdout",
     "output_type": "stream",
     "text": [
      "\u001b[32m⠋\u001b[0m 1/2 waiting \u001b[33mSBERT_encoder\u001b[0m to be ready...                                        "
     ]
    },
    {
     "name": "stderr",
     "output_type": "stream",
     "text": [
      "Downloading: 100%|██████████| 116/116 [00:00<00:00, 185kB/s]\n"
     ]
    },
    {
     "name": "stdout",
     "output_type": "stream",
     "text": [
      "\u001b[32m⠸\u001b[0m 1/2 waiting \u001b[33mSBERT_encoder\u001b[0m to be ready...                                        "
     ]
    },
    {
     "name": "stderr",
     "output_type": "stream",
     "text": [
      "Downloading: 100%|██████████| 39.3k/39.3k [00:00<00:00, 1.39MB/s]\n"
     ]
    },
    {
     "name": "stdout",
     "output_type": "stream",
     "text": [
      "\u001b[32m⠦\u001b[0m 1/2 waiting \u001b[33mSBERT_encoder\u001b[0m to be ready...                                        "
     ]
    },
    {
     "name": "stderr",
     "output_type": "stream",
     "text": [
      "Downloading: 100%|██████████| 349/349 [00:00<00:00, 518kB/s]\n"
     ]
    },
    {
     "name": "stdout",
     "output_type": "stream",
     "text": [
      "\u001b[32m⠇\u001b[0m 1/2 waiting \u001b[33mSBERT_encoder\u001b[0m to be ready...                                        "
     ]
    },
    {
     "name": "stderr",
     "output_type": "stream",
     "text": [
      "Downloading:   2%|▏         | 7.56M/438M [00:00<00:10, 39.5MB/s]"
     ]
    },
    {
     "name": "stdout",
     "output_type": "stream",
     "text": [
      "\u001b[32m⠙\u001b[0m 1/2 waiting \u001b[33mSBERT_encoder\u001b[0m to be ready...                                        "
     ]
    },
    {
     "name": "stderr",
     "output_type": "stream",
     "text": [
      "Downloading:   5%|▍         | 21.8M/438M [00:00<00:09, 45.7MB/s]"
     ]
    },
    {
     "name": "stdout",
     "output_type": "stream",
     "text": [
      "\u001b[32m⠼\u001b[0m 1/2 waiting \u001b[33mSBERT_encoder\u001b[0m to be ready...                                        "
     ]
    },
    {
     "name": "stderr",
     "output_type": "stream",
     "text": [
      "Downloading:   8%|▊         | 35.9M/438M [00:00<00:08, 47.0MB/s]"
     ]
    },
    {
     "name": "stdout",
     "output_type": "stream",
     "text": [
      "\u001b[32m⠧\u001b[0m 1/2 waiting \u001b[33mSBERT_encoder\u001b[0m to be ready...                                        "
     ]
    },
    {
     "name": "stderr",
     "output_type": "stream",
     "text": [
      "Downloading:  10%|█         | 45.4M/438M [00:01<00:08, 47.1MB/s]"
     ]
    },
    {
     "name": "stdout",
     "output_type": "stream",
     "text": [
      "\u001b[32m⠏\u001b[0m 1/2 waiting \u001b[33mSBERT_encoder\u001b[0m to be ready...                                        "
     ]
    },
    {
     "name": "stderr",
     "output_type": "stream",
     "text": [
      "Downloading:  14%|█▎        | 59.7M/438M [00:01<00:07, 47.3MB/s]"
     ]
    },
    {
     "name": "stdout",
     "output_type": "stream",
     "text": [
      "\u001b[32m⠹\u001b[0m 1/2 waiting \u001b[33mSBERT_encoder\u001b[0m to be ready...                                        "
     ]
    },
    {
     "name": "stderr",
     "output_type": "stream",
     "text": [
      "Downloading:  17%|█▋        | 74.3M/438M [00:01<00:07, 48.4MB/s]"
     ]
    },
    {
     "name": "stdout",
     "output_type": "stream",
     "text": [
      "\u001b[32m⠴\u001b[0m 1/2 waiting \u001b[33mSBERT_encoder\u001b[0m to be ready...                                        "
     ]
    },
    {
     "name": "stderr",
     "output_type": "stream",
     "text": [
      "Downloading:  20%|██        | 89.0M/438M [00:01<00:07, 48.7MB/s]"
     ]
    },
    {
     "name": "stdout",
     "output_type": "stream",
     "text": [
      "\u001b[32m⠇\u001b[0m 1/2 waiting \u001b[33mSBERT_encoder\u001b[0m to be ready...                                        "
     ]
    },
    {
     "name": "stderr",
     "output_type": "stream",
     "text": [
      "Downloading:  23%|██▎       | 98.7M/438M [00:02<00:07, 48.4MB/s]"
     ]
    },
    {
     "name": "stdout",
     "output_type": "stream",
     "text": [
      "\u001b[32m⠋\u001b[0m 1/2 waiting \u001b[33mSBERT_encoder\u001b[0m to be ready...                                        "
     ]
    },
    {
     "name": "stderr",
     "output_type": "stream",
     "text": [
      "Downloading:  26%|██▌       | 113M/438M [00:02<00:06, 48.5MB/s] "
     ]
    },
    {
     "name": "stdout",
     "output_type": "stream",
     "text": [
      "\u001b[32m⠸\u001b[0m 1/2 waiting \u001b[33mSBERT_encoder\u001b[0m to be ready...                                        "
     ]
    },
    {
     "name": "stderr",
     "output_type": "stream",
     "text": [
      "Downloading:  29%|██▉       | 128M/438M [00:02<00:06, 49.0MB/s]"
     ]
    },
    {
     "name": "stdout",
     "output_type": "stream",
     "text": [
      "\u001b[32m⠦\u001b[0m 1/2 waiting \u001b[33mSBERT_encoder\u001b[0m to be ready...                                        "
     ]
    },
    {
     "name": "stderr",
     "output_type": "stream",
     "text": [
      "Downloading:  33%|███▎      | 143M/438M [00:03<00:06, 48.8MB/s]"
     ]
    },
    {
     "name": "stdout",
     "output_type": "stream",
     "text": [
      "\u001b[32m⠏\u001b[0m 1/2 waiting \u001b[33mSBERT_encoder\u001b[0m to be ready...                                        "
     ]
    },
    {
     "name": "stderr",
     "output_type": "stream",
     "text": [
      "Downloading:  35%|███▍      | 153M/438M [00:03<00:05, 49.0MB/s]"
     ]
    },
    {
     "name": "stdout",
     "output_type": "stream",
     "text": [
      "\u001b[32m⠙\u001b[0m 1/2 waiting \u001b[33mSBERT_encoder\u001b[0m to be ready...                                        "
     ]
    },
    {
     "name": "stderr",
     "output_type": "stream",
     "text": [
      "Downloading:  38%|███▊      | 167M/438M [00:03<00:05, 48.5MB/s]"
     ]
    },
    {
     "name": "stdout",
     "output_type": "stream",
     "text": [
      "\u001b[32m⠼\u001b[0m 1/2 waiting \u001b[33mSBERT_encoder\u001b[0m to be ready...                                        "
     ]
    },
    {
     "name": "stderr",
     "output_type": "stream",
     "text": [
      "Downloading:  42%|████▏     | 182M/438M [00:03<00:05, 48.3MB/s]"
     ]
    },
    {
     "name": "stdout",
     "output_type": "stream",
     "text": [
      "\u001b[32m⠧\u001b[0m 1/2 waiting \u001b[33mSBERT_encoder\u001b[0m to be ready...                                        "
     ]
    },
    {
     "name": "stderr",
     "output_type": "stream",
     "text": [
      "Downloading:  45%|████▍     | 196M/438M [00:04<00:04, 48.6MB/s]"
     ]
    },
    {
     "name": "stdout",
     "output_type": "stream",
     "text": [
      "\u001b[32m⠋\u001b[0m 1/2 waiting \u001b[33mSBERT_encoder\u001b[0m to be ready...                                        "
     ]
    },
    {
     "name": "stderr",
     "output_type": "stream",
     "text": [
      "Downloading:  47%|████▋     | 206M/438M [00:04<00:04, 48.4MB/s]"
     ]
    },
    {
     "name": "stdout",
     "output_type": "stream",
     "text": [
      "\u001b[32m⠹\u001b[0m 1/2 waiting \u001b[33mSBERT_encoder\u001b[0m to be ready...                                        "
     ]
    },
    {
     "name": "stderr",
     "output_type": "stream",
     "text": [
      "Downloading:  50%|█████     | 221M/438M [00:04<00:04, 48.5MB/s]"
     ]
    },
    {
     "name": "stdout",
     "output_type": "stream",
     "text": [
      "\u001b[32m⠴\u001b[0m 1/2 waiting \u001b[33mSBERT_encoder\u001b[0m to be ready...                                        "
     ]
    },
    {
     "name": "stderr",
     "output_type": "stream",
     "text": [
      "Downloading:  53%|█████▎    | 231M/438M [00:04<00:04, 48.9MB/s]"
     ]
    },
    {
     "name": "stdout",
     "output_type": "stream",
     "text": [
      "\u001b[32m⠦\u001b[0m 1/2 waiting \u001b[33mSBERT_encoder\u001b[0m to be ready...                                        "
     ]
    },
    {
     "name": "stderr",
     "output_type": "stream",
     "text": [
      "Downloading:  55%|█████▍    | 240M/438M [00:05<00:04, 48.8MB/s]"
     ]
    },
    {
     "name": "stdout",
     "output_type": "stream",
     "text": [
      "\u001b[32m⠇\u001b[0m 1/2 waiting \u001b[33mSBERT_encoder\u001b[0m to be ready...                                        "
     ]
    },
    {
     "name": "stderr",
     "output_type": "stream",
     "text": [
      "Downloading:  58%|█████▊    | 255M/438M [00:05<00:03, 48.6MB/s]"
     ]
    },
    {
     "name": "stdout",
     "output_type": "stream",
     "text": [
      "\u001b[32m⠙\u001b[0m 1/2 waiting \u001b[33mSBERT_encoder\u001b[0m to be ready...                                        "
     ]
    },
    {
     "name": "stderr",
     "output_type": "stream",
     "text": [
      "Downloading:  60%|██████    | 265M/438M [00:05<00:03, 48.3MB/s]"
     ]
    },
    {
     "name": "stdout",
     "output_type": "stream",
     "text": [
      "\u001b[32m⠸\u001b[0m 1/2 waiting \u001b[33mSBERT_encoder\u001b[0m to be ready...                                        "
     ]
    },
    {
     "name": "stderr",
     "output_type": "stream",
     "text": [
      "Downloading:  63%|██████▎   | 274M/438M [00:05<00:03, 48.0MB/s]"
     ]
    },
    {
     "name": "stdout",
     "output_type": "stream",
     "text": [
      "\u001b[32m⠴\u001b[0m 1/2 waiting \u001b[33mSBERT_encoder\u001b[0m to be ready...                                        "
     ]
    },
    {
     "name": "stderr",
     "output_type": "stream",
     "text": [
      "Downloading:  66%|██████▌   | 289M/438M [00:06<00:03, 47.7MB/s]"
     ]
    },
    {
     "name": "stdout",
     "output_type": "stream",
     "text": [
      "\u001b[32m⠇\u001b[0m 1/2 waiting \u001b[33mSBERT_encoder\u001b[0m to be ready...                                        "
     ]
    },
    {
     "name": "stderr",
     "output_type": "stream",
     "text": [
      "Downloading:  69%|██████▉   | 303M/438M [00:06<00:02, 48.3MB/s]"
     ]
    },
    {
     "name": "stdout",
     "output_type": "stream",
     "text": [
      "\u001b[32m⠙\u001b[0m 1/2 waiting \u001b[33mSBERT_encoder\u001b[0m to be ready...                                        "
     ]
    },
    {
     "name": "stderr",
     "output_type": "stream",
     "text": [
      "Downloading:  73%|███████▎  | 318M/438M [00:06<00:02, 48.1MB/s]"
     ]
    },
    {
     "name": "stdout",
     "output_type": "stream",
     "text": [
      "\u001b[32m⠼\u001b[0m 1/2 waiting \u001b[33mSBERT_encoder\u001b[0m to be ready...                                        "
     ]
    },
    {
     "name": "stderr",
     "output_type": "stream",
     "text": [
      "Downloading:  76%|███████▌  | 332M/438M [00:06<00:02, 47.8MB/s]"
     ]
    },
    {
     "name": "stdout",
     "output_type": "stream",
     "text": [
      "\u001b[32m⠧\u001b[0m 1/2 waiting \u001b[33mSBERT_encoder\u001b[0m to be ready...                                        "
     ]
    },
    {
     "name": "stderr",
     "output_type": "stream",
     "text": [
      "Downloading:  79%|███████▉  | 347M/438M [00:07<00:01, 48.4MB/s]"
     ]
    },
    {
     "name": "stdout",
     "output_type": "stream",
     "text": [
      "\u001b[32m⠋\u001b[0m 1/2 waiting \u001b[33mSBERT_encoder\u001b[0m to be ready...                                        "
     ]
    },
    {
     "name": "stderr",
     "output_type": "stream",
     "text": [
      "Downloading:  81%|████████▏ | 357M/438M [00:07<00:01, 48.3MB/s]"
     ]
    },
    {
     "name": "stdout",
     "output_type": "stream",
     "text": [
      "\u001b[32m⠹\u001b[0m 1/2 waiting \u001b[33mSBERT_encoder\u001b[0m to be ready...                                        "
     ]
    },
    {
     "name": "stderr",
     "output_type": "stream",
     "text": [
      "Downloading:  85%|████████▍ | 371M/438M [00:07<00:01, 48.8MB/s]"
     ]
    },
    {
     "name": "stdout",
     "output_type": "stream",
     "text": [
      "\u001b[32m⠴\u001b[0m 1/2 waiting \u001b[33mSBERT_encoder\u001b[0m to be ready...                                        "
     ]
    },
    {
     "name": "stderr",
     "output_type": "stream",
     "text": [
      "Downloading:  87%|████████▋ | 381M/438M [00:07<00:01, 48.5MB/s]"
     ]
    },
    {
     "name": "stdout",
     "output_type": "stream",
     "text": [
      "\u001b[32m⠧\u001b[0m 1/2 waiting \u001b[33mSBERT_encoder\u001b[0m to be ready...                                        "
     ]
    },
    {
     "name": "stderr",
     "output_type": "stream",
     "text": [
      "Downloading:  90%|█████████ | 396M/438M [00:08<00:00, 48.5MB/s]"
     ]
    },
    {
     "name": "stdout",
     "output_type": "stream",
     "text": [
      "\u001b[32m⠋\u001b[0m 1/2 waiting \u001b[33mSBERT_encoder\u001b[0m to be ready...                                        "
     ]
    },
    {
     "name": "stderr",
     "output_type": "stream",
     "text": [
      "Downloading:  93%|█████████▎| 406M/438M [00:08<00:00, 48.6MB/s]"
     ]
    },
    {
     "name": "stdout",
     "output_type": "stream",
     "text": [
      "\u001b[32m⠹\u001b[0m 1/2 waiting \u001b[33mSBERT_encoder\u001b[0m to be ready...                                        "
     ]
    },
    {
     "name": "stderr",
     "output_type": "stream",
     "text": [
      "Downloading:  95%|█████████▍| 415M/438M [00:08<00:00, 48.7MB/s]"
     ]
    },
    {
     "name": "stdout",
     "output_type": "stream",
     "text": [
      "\u001b[32m⠼\u001b[0m 1/2 waiting \u001b[33mSBERT_encoder\u001b[0m to be ready...                                        "
     ]
    },
    {
     "name": "stderr",
     "output_type": "stream",
     "text": [
      "Downloading:  98%|█████████▊| 430M/438M [00:08<00:00, 48.8MB/s]"
     ]
    },
    {
     "name": "stdout",
     "output_type": "stream",
     "text": [
      "\u001b[32m⠧\u001b[0m 1/2 waiting \u001b[33mSBERT_encoder\u001b[0m to be ready...                                        "
     ]
    },
    {
     "name": "stderr",
     "output_type": "stream",
     "text": [
      "Downloading: 100%|██████████| 438M/438M [00:09<00:00, 48.1MB/s]\n"
     ]
    },
    {
     "name": "stdout",
     "output_type": "stream",
     "text": [
      "\u001b[32m⠙\u001b[0m 1/2 waiting \u001b[33mSBERT_encoder\u001b[0m to be ready...                                        "
     ]
    },
    {
     "name": "stderr",
     "output_type": "stream",
     "text": [
      "Downloading: 100%|██████████| 53.0/53.0 [00:00<00:00, 69.2kB/s]\n"
     ]
    },
    {
     "name": "stdout",
     "output_type": "stream",
     "text": [
      "\u001b[32m⠼\u001b[0m 1/2 waiting \u001b[33mSBERT_encoder\u001b[0m to be ready...                                        "
     ]
    },
    {
     "name": "stderr",
     "output_type": "stream",
     "text": [
      "Downloading: 100%|██████████| 239/239 [00:00<00:00, 377kB/s]\n"
     ]
    },
    {
     "name": "stdout",
     "output_type": "stream",
     "text": [
      "\u001b[32m⠦\u001b[0m 1/2 waiting \u001b[33mSBERT_encoder\u001b[0m to be ready...                                        "
     ]
    },
    {
     "name": "stderr",
     "output_type": "stream",
     "text": [
      "Downloading: 100%|██████████| 466k/466k [00:00<00:00, 3.40MB/s]\n"
     ]
    },
    {
     "name": "stdout",
     "output_type": "stream",
     "text": [
      "\u001b[32m⠋\u001b[0m 1/2 waiting \u001b[33mSBERT_encoder\u001b[0m to be ready...                                        "
     ]
    },
    {
     "name": "stderr",
     "output_type": "stream",
     "text": [
      "Downloading: 100%|██████████| 363/363 [00:00<00:00, 454kB/s]\n"
     ]
    },
    {
     "name": "stdout",
     "output_type": "stream",
     "text": [
      "\u001b[32m⠸\u001b[0m 1/2 waiting \u001b[33mSBERT_encoder\u001b[0m to be ready...                                        "
     ]
    },
    {
     "name": "stderr",
     "output_type": "stream",
     "text": [
      "Downloading: 100%|██████████| 13.1k/13.1k [00:00<00:00, 12.6MB/s]\n"
     ]
    },
    {
     "name": "stdout",
     "output_type": "stream",
     "text": [
      "\u001b[32m⠦\u001b[0m 1/2 waiting \u001b[33mSBERT_encoder\u001b[0m to be ready...                                        "
     ]
    },
    {
     "name": "stderr",
     "output_type": "stream",
     "text": [
      "Downloading: 100%|██████████| 232k/232k [00:00<00:00, 2.77MB/s]\n"
     ]
    },
    {
     "name": "stdout",
     "output_type": "stream",
     "text": [
      "\u001b[32m⠋\u001b[0m 1/2 waiting \u001b[33mSBERT_encoder\u001b[0m to be ready...                                        "
     ]
    },
    {
     "name": "stderr",
     "output_type": "stream",
     "text": [
      "Downloading: 100%|██████████| 190/190 [00:00<00:00, 281kB/s]\n"
     ]
    },
    {
     "name": "stdout",
     "output_type": "stream",
     "text": [
      "           Flow@130[I]:\u001b[32m🎉 Flow is ready to use!\u001b[0m                                            \n",
      "\t🔗 Protocol: \t\t\u001b[1mGRPC\u001b[0m\n",
      "\t🏠 Local access:\t\u001b[4m\u001b[36m0.0.0.0:37143\u001b[0m\n",
      "\t🔒 Private network:\t\u001b[4m\u001b[36m172.20.0.2:37143\u001b[0m\n",
      "\t🌐 Public address:\t\u001b[4m\u001b[36m35.224.116.253:37143\u001b[0m\u001b[0m\n",
      "\u001b[32m⠦\u001b[0m Working... \u001b[32m━\u001b[0m\u001b[32m╸\u001b[0m\u001b[2m\u001b[32m━━━━━━━━━━━━━━━━━━━━━━━━━━━━━━━━━━━━━━━\u001b[0m \u001b[36m0:00:01\u001b[0m estimating... "
     ]
    },
    {
     "name": "stderr",
     "output_type": "stream",
     "text": [
      "  0%|          | 0/2 [00:00<?, ?it/s]"
     ]
    },
    {
     "name": "stdout",
     "output_type": "stream",
     "text": [
      "\u001b[32m⠇\u001b[0m Working... \u001b[32m━\u001b[0m\u001b[32m╸\u001b[0m\u001b[2m\u001b[32m━━━━━━━━━━━━━━━━━━━━━━━━━━━━━━━━━━━━━━━\u001b[0m \u001b[36m0:00:26\u001b[0m estimating... {'es_tag': 'TIMELOG', 'timestamp': '2022-02-21 10:04:56.962099', 'function': 'memlish.executors.bert.get_embeddings', 'duration': 24.986250162124634}\n",
      "\u001b[32m⠙\u001b[0m Working... \u001b[32m━\u001b[0m\u001b[32m╸\u001b[0m\u001b[2m\u001b[32m━━━━━━━━━━━━━━━━━━━━━━━━━━━━━━━━━━━━━━━\u001b[0m \u001b[36m0:00:29\u001b[0m estimating... "
     ]
    },
    {
     "name": "stderr",
     "output_type": "stream",
     "text": [
      " 50%|█████     | 1/2 [00:28<00:28, 28.09s/it]"
     ]
    },
    {
     "name": "stdout",
     "output_type": "stream",
     "text": [
      "\u001b[32m⠋\u001b[0m Working... \u001b[32m━\u001b[0m\u001b[32m╸\u001b[0m\u001b[2m\u001b[32m━━━━━━━━━━━━━━━━━━━━━━━━━━━━━━━━━━━━━━━\u001b[0m \u001b[36m0:00:34\u001b[0m estimating... {'es_tag': 'TIMELOG', 'timestamp': '2022-02-21 10:05:05.284905', 'function': 'memlish.executors.bert.get_embeddings', 'duration': 5.2283899784088135}\n",
      "\u001b[32m⠼\u001b[0m Working... \u001b[32m━\u001b[0m\u001b[32m╸\u001b[0m\u001b[2m\u001b[32m━━━━━━━━━━━━━━━━━━━━━━━━━━━━━━━━━━━━━━━\u001b[0m \u001b[36m0:00:36\u001b[0m estimating... "
     ]
    },
    {
     "name": "stderr",
     "output_type": "stream",
     "text": [
      "100%|██████████| 2/2 [00:34<00:00, 17.26s/it]\n"
     ]
    },
    {
     "name": "stdout",
     "output_type": "stream",
     "text": [
      "\u001b[32m⠇\u001b[0m Working... \u001b[32m━━\u001b[0m\u001b[32m╸\u001b[0m\u001b[2m\u001b[32m━━━━━━━━━━━━━━━━━━━━━━━━━━━━━━━━━━━━━━\u001b[0m \u001b[36m0:00:38\u001b[0m  0.0 step/s . "
     ]
    },
    {
     "name": "stderr",
     "output_type": "stream",
     "text": [
      "  0%|          | 0/2 [00:00<?, ?it/s]"
     ]
    },
    {
     "name": "stdout",
     "output_type": "stream",
     "text": [
      "\u001b[32m⠇\u001b[0m Working... \u001b[32m━━\u001b[0m\u001b[32m╸\u001b[0m\u001b[2m\u001b[32m━━━━━━━━━━━━━━━━━━━━━━━━━━━━━━━━━━━━━━\u001b[0m \u001b[36m0:01:01\u001b[0m  0.0 step/s {'es_tag': 'TIMELOG', 'timestamp': '2022-02-21 10:05:32.375234', 'function': 'memlish.executors.bert.get_embeddings', 'duration': 23.42138910293579}\n",
      "\u001b[32m⠸\u001b[0m Working... \u001b[32m━━\u001b[0m\u001b[32m╸\u001b[0m\u001b[2m\u001b[32m━━━━━━━━━━━━━━━━━━━━━━━━━━━━━━━━━━━━━━\u001b[0m \u001b[36m0:01:05\u001b[0m  0.0 step/s "
     ]
    },
    {
     "name": "stderr",
     "output_type": "stream",
     "text": [
      " 50%|█████     | 1/2 [00:26<00:26, 26.73s/it]"
     ]
    },
    {
     "name": "stdout",
     "output_type": "stream",
     "text": [
      "\u001b[32m⠼\u001b[0m Working... \u001b[32m━━\u001b[0m\u001b[32m╸\u001b[0m\u001b[2m\u001b[32m━━━━━━━━━━━━━━━━━━━━━━━━━━━━━━━━━━━━━━\u001b[0m \u001b[36m0:01:10\u001b[0m  0.0 step/s {'es_tag': 'TIMELOG', 'timestamp': '2022-02-21 10:05:41.017003', 'function': 'memlish.executors.bert.get_embeddings', 'duration': 5.338279724121094}\n",
      "\u001b[32m⠇\u001b[0m Working... \u001b[32m━━\u001b[0m\u001b[32m╸\u001b[0m\u001b[2m\u001b[32m━━━━━━━━━━━━━━━━━━━━━━━━━━━━━━━━━━━━━━\u001b[0m \u001b[36m0:01:12\u001b[0m  0.0 step/s "
     ]
    },
    {
     "name": "stderr",
     "output_type": "stream",
     "text": [
      "100%|██████████| 2/2 [00:33<00:00, 16.63s/it]\n"
     ]
    },
    {
     "name": "stdout",
     "output_type": "stream",
     "text": [
      "\u001b[32m⠋\u001b[0m Working... \u001b[32m━━━\u001b[0m\u001b[32m╸\u001b[0m\u001b[2m\u001b[32m━━━━━━━━━━━━━━━━━━━━━━━━━━━━━━━━━━━━━\u001b[0m \u001b[36m0:01:17\u001b[0m  0.0 step/s "
     ]
    },
    {
     "name": "stderr",
     "output_type": "stream",
     "text": [
      "  0%|          | 0/2 [00:00<?, ?it/s]"
     ]
    },
    {
     "name": "stdout",
     "output_type": "stream",
     "text": [
      "\u001b[32m⠇\u001b[0m Working... \u001b[32m━━━\u001b[0m\u001b[32m╸\u001b[0m\u001b[2m\u001b[32m━━━━━━━━━━━━━━━━━━━━━━━━━━━━━━━━━━━━━\u001b[0m \u001b[36m0:01:46\u001b[0m  0.0 step/s {'es_tag': 'TIMELOG', 'timestamp': '2022-02-21 10:06:16.732148', 'function': 'memlish.executors.bert.get_embeddings', 'duration': 29.179855585098267}\n",
      "\u001b[32m⠏\u001b[0m Working... \u001b[32m━━━\u001b[0m\u001b[32m╸\u001b[0m\u001b[2m\u001b[32m━━━━━━━━━━━━━━━━━━━━━━━━━━━━━━━━━━━━━\u001b[0m \u001b[36m0:01:49\u001b[0m  0.0 step/s "
     ]
    },
    {
     "name": "stderr",
     "output_type": "stream",
     "text": [
      " 50%|█████     | 1/2 [00:32<00:32, 32.21s/it]"
     ]
    },
    {
     "name": "stdout",
     "output_type": "stream",
     "text": [
      "\u001b[32m⠴\u001b[0m Working... \u001b[32m━━━\u001b[0m\u001b[32m╸\u001b[0m\u001b[2m\u001b[32m━━━━━━━━━━━━━━━━━━━━━━━━━━━━━━━━━━━━━\u001b[0m \u001b[36m0:01:55\u001b[0m  0.0 step/s {'es_tag': 'TIMELOG', 'timestamp': '2022-02-21 10:06:25.577643', 'function': 'memlish.executors.bert.get_embeddings', 'duration': 5.820498704910278}\n",
      "\u001b[32m⠏\u001b[0m Working... \u001b[32m━━━\u001b[0m\u001b[32m╸\u001b[0m\u001b[2m\u001b[32m━━━━━━━━━━━━━━━━━━━━━━━━━━━━━━━━━━━━━\u001b[0m \u001b[36m0:01:56\u001b[0m  0.0 step/s "
     ]
    },
    {
     "name": "stderr",
     "output_type": "stream",
     "text": [
      "100%|██████████| 2/2 [00:39<00:00, 19.61s/it]\n"
     ]
    },
    {
     "name": "stdout",
     "output_type": "stream",
     "text": [
      "\u001b[32m⠧\u001b[0m Working... \u001b[32m━━━━\u001b[0m\u001b[32m╸\u001b[0m\u001b[2m\u001b[32m━━━━━━━━━━━━━━━━━━━━━━━━━━━━━━━━━━━━\u001b[0m \u001b[36m0:02:03\u001b[0m  0.0 step/s "
     ]
    },
    {
     "name": "stderr",
     "output_type": "stream",
     "text": [
      "  0%|          | 0/2 [00:00<?, ?it/s]"
     ]
    },
    {
     "name": "stdout",
     "output_type": "stream",
     "text": [
      "\u001b[32m⠦\u001b[0m Working... \u001b[32m━━━━\u001b[0m\u001b[32m╸\u001b[0m\u001b[2m\u001b[32m━━━━━━━━━━━━━━━━━━━━━━━━━━━━━━━━━━━━\u001b[0m \u001b[36m0:02:31\u001b[0m  0.0 step/s {'es_tag': 'TIMELOG', 'timestamp': '2022-02-21 10:07:02.025720', 'function': 'memlish.executors.bert.get_embeddings', 'duration': 28.306034803390503}\n",
      "\u001b[32m⠇\u001b[0m Working... \u001b[32m━━━━\u001b[0m\u001b[32m╸\u001b[0m\u001b[2m\u001b[32m━━━━━━━━━━━━━━━━━━━━━━━━━━━━━━━━━━━━\u001b[0m \u001b[36m0:02:34\u001b[0m  0.0 step/s "
     ]
    },
    {
     "name": "stderr",
     "output_type": "stream",
     "text": [
      " 50%|█████     | 1/2 [00:31<00:31, 31.39s/it]"
     ]
    },
    {
     "name": "stdout",
     "output_type": "stream",
     "text": [
      "\u001b[32m⠙\u001b[0m Working... \u001b[32m━━━━\u001b[0m\u001b[32m╸\u001b[0m\u001b[2m\u001b[32m━━━━━━━━━━━━━━━━━━━━━━━━━━━━━━━━━━━━\u001b[0m \u001b[36m0:02:40\u001b[0m  0.0 step/s {'es_tag': 'TIMELOG', 'timestamp': '2022-02-21 10:07:10.662555', 'function': 'memlish.executors.bert.get_embeddings', 'duration': 5.562665700912476}\n",
      "\u001b[32m⠴\u001b[0m Working... \u001b[32m━━━━\u001b[0m\u001b[32m╸\u001b[0m\u001b[2m\u001b[32m━━━━━━━━━━━━━━━━━━━━━━━━━━━━━━━━━━━━\u001b[0m \u001b[36m0:02:41\u001b[0m  0.0 step/s "
     ]
    },
    {
     "name": "stderr",
     "output_type": "stream",
     "text": [
      "100%|██████████| 2/2 [00:38<00:00, 19.06s/it]\n"
     ]
    },
    {
     "name": "stdout",
     "output_type": "stream",
     "text": [
      "\u001b[32m⠼\u001b[0m Working... \u001b[32m━━━━━\u001b[0m\u001b[32m╸\u001b[0m\u001b[2m\u001b[32m━━━━━━━━━━━━━━━━━━━━━━━━━━━━━━━━━━━\u001b[0m \u001b[36m0:02:50\u001b[0m  0.0 step/s "
     ]
    },
    {
     "name": "stderr",
     "output_type": "stream",
     "text": [
      "  0%|          | 0/2 [00:00<?, ?it/s]"
     ]
    },
    {
     "name": "stdout",
     "output_type": "stream",
     "text": [
      "\u001b[32m⠼\u001b[0m Working... \u001b[32m━━━━━\u001b[0m\u001b[32m╸\u001b[0m\u001b[2m\u001b[32m━━━━━━━━━━━━━━━━━━━━━━━━━━━━━━━━━━━\u001b[0m \u001b[36m0:03:16\u001b[0m  0.0 step/s {'es_tag': 'TIMELOG', 'timestamp': '2022-02-21 10:07:47.249428', 'function': 'memlish.executors.bert.get_embeddings', 'duration': 26.458647966384888}\n",
      "\u001b[32m⠦\u001b[0m Working... \u001b[32m━━━━━\u001b[0m\u001b[32m╸\u001b[0m\u001b[2m\u001b[32m━━━━━━━━━━━━━━━━━━━━━━━━━━━━━━━━━━━\u001b[0m \u001b[36m0:03:20\u001b[0m  0.0 step/s "
     ]
    },
    {
     "name": "stderr",
     "output_type": "stream",
     "text": [
      " 50%|█████     | 1/2 [00:29<00:29, 29.53s/it]"
     ]
    },
    {
     "name": "stdout",
     "output_type": "stream",
     "text": [
      "\u001b[32m⠼\u001b[0m Working... \u001b[32m━━━━━\u001b[0m\u001b[32m╸\u001b[0m\u001b[2m\u001b[32m━━━━━━━━━━━━━━━━━━━━━━━━━━━━━━━━━━━\u001b[0m \u001b[36m0:03:25\u001b[0m  0.0 step/s {'es_tag': 'TIMELOG', 'timestamp': '2022-02-21 10:07:56.287275', 'function': 'memlish.executors.bert.get_embeddings', 'duration': 5.977853536605835}\n",
      "\u001b[32m⠇\u001b[0m Working... \u001b[32m━━━━━\u001b[0m\u001b[32m╸\u001b[0m\u001b[2m\u001b[32m━━━━━━━━━━━━━━━━━━━━━━━━━━━━━━━━━━━\u001b[0m \u001b[36m0:03:27\u001b[0m  0.0 step/s "
     ]
    },
    {
     "name": "stderr",
     "output_type": "stream",
     "text": [
      "100%|██████████| 2/2 [00:36<00:00, 18.38s/it]\n"
     ]
    },
    {
     "name": "stdout",
     "output_type": "stream",
     "text": [
      "\u001b[32m⠋\u001b[0m Working... \u001b[32m━━━━━━\u001b[0m\u001b[32m╸\u001b[0m\u001b[2m\u001b[32m━━━━━━━━━━━━━━━━━━━━━━━━━━━━━━━━━━\u001b[0m \u001b[36m0:03:37\u001b[0m  0.0 step/s "
     ]
    },
    {
     "name": "stderr",
     "output_type": "stream",
     "text": [
      "  0%|          | 0/2 [00:00<?, ?it/s]"
     ]
    },
    {
     "name": "stdout",
     "output_type": "stream",
     "text": [
      "\u001b[32m⠧\u001b[0m Working... \u001b[32m━━━━━━\u001b[0m\u001b[32m╸\u001b[0m\u001b[2m\u001b[32m━━━━━━━━━━━━━━━━━━━━━━━━━━━━━━━━━━\u001b[0m \u001b[36m0:04:07\u001b[0m  0.0 step/s {'es_tag': 'TIMELOG', 'timestamp': '2022-02-21 10:08:37.980115', 'function': 'memlish.executors.bert.get_embeddings', 'duration': 30.12220859527588}\n",
      "\u001b[32m⠏\u001b[0m Working... \u001b[32m━━━━━━\u001b[0m\u001b[32m╸\u001b[0m\u001b[2m\u001b[32m━━━━━━━━━━━━━━━━━━━━━━━━━━━━━━━━━━\u001b[0m \u001b[36m0:04:10\u001b[0m  0.0 step/s "
     ]
    },
    {
     "name": "stderr",
     "output_type": "stream",
     "text": [
      " 50%|█████     | 1/2 [00:33<00:33, 33.16s/it]"
     ]
    },
    {
     "name": "stdout",
     "output_type": "stream",
     "text": [
      "\u001b[32m⠦\u001b[0m Working... \u001b[32m━━━━━━\u001b[0m\u001b[32m╸\u001b[0m\u001b[2m\u001b[32m━━━━━━━━━━━━━━━━━━━━━━━━━━━━━━━━━━\u001b[0m \u001b[36m0:04:16\u001b[0m  0.0 step/s {'es_tag': 'TIMELOG', 'timestamp': '2022-02-21 10:08:46.975312', 'function': 'memlish.executors.bert.get_embeddings', 'duration': 5.9666666984558105}\n",
      "\u001b[32m⠋\u001b[0m Working... \u001b[32m━━━━━━\u001b[0m\u001b[32m╸\u001b[0m\u001b[2m\u001b[32m━━━━━━━━━━━━━━━━━━━━━━━━━━━━━━━━━━\u001b[0m \u001b[36m0:04:18\u001b[0m  0.0 step/s "
     ]
    },
    {
     "name": "stderr",
     "output_type": "stream",
     "text": [
      "100%|██████████| 2/2 [00:40<00:00, 20.20s/it]\n"
     ]
    },
    {
     "name": "stdout",
     "output_type": "stream",
     "text": [
      "\u001b[32m⠙\u001b[0m Working... \u001b[32m━━━━━━━\u001b[0m\u001b[32m╸\u001b[0m\u001b[2m\u001b[32m━━━━━━━━━━━━━━━━━━━━━━━━━━━━━━━━━\u001b[0m \u001b[36m0:04:30\u001b[0m  0.0 step/s "
     ]
    },
    {
     "name": "stderr",
     "output_type": "stream",
     "text": [
      "  0%|          | 0/1 [00:00<?, ?it/s]"
     ]
    },
    {
     "name": "stdout",
     "output_type": "stream",
     "text": [
      "\u001b[32m⠋\u001b[0m Working... \u001b[32m━━━━━━━\u001b[0m\u001b[32m╸\u001b[0m\u001b[2m\u001b[32m━━━━━━━━━━━━━━━━━━━━━━━━━━━━━━━━━\u001b[0m \u001b[36m0:04:52\u001b[0m  0.0 step/s {'es_tag': 'TIMELOG', 'timestamp': '2022-02-21 10:09:22.737511', 'function': 'memlish.executors.bert.get_embeddings', 'duration': 22.27311897277832}\n",
      "\u001b[32m⠋\u001b[0m Working... \u001b[32m━━━━━━━\u001b[0m\u001b[32m╸\u001b[0m\u001b[2m\u001b[32m━━━━━━━━━━━━━━━━━━━━━━━━━━━━━━━━━\u001b[0m \u001b[36m0:04:55\u001b[0m  0.0 step/s "
     ]
    },
    {
     "name": "stderr",
     "output_type": "stream",
     "text": [
      "100%|██████████| 1/1 [00:25<00:00, 25.17s/it]\n"
     ]
    },
    {
     "name": "stdout",
     "output_type": "stream",
     "text": [
      "\u001b[32m⠸\u001b[0m       DONE \u001b[33m━━━━━━━━\u001b[0m\u001b[33m╸\u001b[0m\u001b[2m\u001b[33m━━━━━━━━━━━━━━━━━━━━━━━━━━━━━━━━\u001b[0m \u001b[36m0:04:55\u001b[0m  0.0 step/s \u001b[K8 steps done in 4 minutes and 55 seconds\n"
     ]
    }
   ],
   "source": [
    "with flow_text_encode:\n",
    "    flow_text_encode.post(on='', inputs=text_input_docs(df), request_size=10_000, show_progress=True)"
   ]
  },
  {
   "cell_type": "code",
   "execution_count": null,
   "id": "37463047-04c5-45c2-84bd-4919e081cdae",
   "metadata": {},
   "outputs": [],
   "source": []
  }
 ],
 "metadata": {
  "kernelspec": {
   "display_name": "Python 3 (ipykernel)",
   "language": "python",
   "name": "python3"
  },
  "language_info": {
   "codemirror_mode": {
    "name": "ipython",
    "version": 3
   },
   "file_extension": ".py",
   "mimetype": "text/x-python",
   "name": "python",
   "nbconvert_exporter": "python",
   "pygments_lexer": "ipython3",
   "version": "3.7.11"
  }
 },
 "nbformat": 4,
 "nbformat_minor": 5
}
