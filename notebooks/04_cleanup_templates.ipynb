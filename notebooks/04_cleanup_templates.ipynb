{
 "cells": [
  {
   "cell_type": "markdown",
   "id": "ad39a38a-caff-43d8-b68b-48fd0df09e49",
   "metadata": {},
   "source": [
    "Note: images was cleaned by LabelStudio anntotation"
   ]
  },
  {
   "cell_type": "code",
   "execution_count": 1,
   "id": "949a2b97-d2ea-4133-a2e4-895aed5facf4",
   "metadata": {},
   "outputs": [],
   "source": [
    "import sys\n",
    "sys.path.append('/app')"
   ]
  },
  {
   "cell_type": "code",
   "execution_count": 2,
   "id": "21010760-24f1-4a20-b309-d910fcb74a39",
   "metadata": {},
   "outputs": [],
   "source": [
    "import pandas as pd\n",
    "from pathlib import Path\n",
    "import shutil\n",
    "import memlish\n",
    "from memlish.io.image import load_image"
   ]
  },
  {
   "cell_type": "code",
   "execution_count": 15,
   "id": "7b54041a-b68f-4c0e-b37a-51e9fa604815",
   "metadata": {},
   "outputs": [],
   "source": [
    "IMGFLIP_DIR = Path('/data/imgflip/') \n",
    "IMAGE_DIR = IMGFLIP_DIR / 'images'\n",
    "V1_IMAGE_DIR = IMGFLIP_DIR / 'v1_images'\n",
    "\n",
    "V1_IMAGE_DIR.mkdir(parents=True, exist_ok=True)"
   ]
  },
  {
   "cell_type": "markdown",
   "id": "a966d538-9a49-456d-970b-9901ad883ab6",
   "metadata": {},
   "source": [
    "## Prepare v1_images from cleaned by LabelStudio images"
   ]
  },
  {
   "cell_type": "code",
   "execution_count": 4,
   "id": "ab55ae0b-1ef5-42ef-84ce-40aecd3fad2d",
   "metadata": {},
   "outputs": [],
   "source": [
    "export_df = pd.read_csv('https://s3.eu-west-1.amazonaws.com/memlish.head.public/LabelStudio/memlish/v1_1800_cleaned_templates.csv')"
   ]
  },
  {
   "cell_type": "code",
   "execution_count": 5,
   "id": "7ce3d6ba-35ba-487c-ad79-b2fb678abfe5",
   "metadata": {},
   "outputs": [
    {
     "data": {
      "text/html": [
       "<div>\n",
       "<style scoped>\n",
       "    .dataframe tbody tr th:only-of-type {\n",
       "        vertical-align: middle;\n",
       "    }\n",
       "\n",
       "    .dataframe tbody tr th {\n",
       "        vertical-align: top;\n",
       "    }\n",
       "\n",
       "    .dataframe thead th {\n",
       "        text-align: right;\n",
       "    }\n",
       "</style>\n",
       "<table border=\"1\" class=\"dataframe\">\n",
       "  <thead>\n",
       "    <tr style=\"text-align: right;\">\n",
       "      <th></th>\n",
       "      <th>image</th>\n",
       "      <th>id</th>\n",
       "      <th>choice</th>\n",
       "      <th>annotator</th>\n",
       "      <th>annotation_id</th>\n",
       "      <th>created_at</th>\n",
       "      <th>updated_at</th>\n",
       "      <th>lead_time</th>\n",
       "    </tr>\n",
       "  </thead>\n",
       "  <tbody>\n",
       "    <tr>\n",
       "      <th>3</th>\n",
       "      <td>/data/upload/1/c28c65bf-Zorg.jpg</td>\n",
       "      <td>1843</td>\n",
       "      <td>NaN</td>\n",
       "      <td>1</td>\n",
       "      <td>1843</td>\n",
       "      <td>2022-02-19T22:24:02.204753Z</td>\n",
       "      <td>2022-02-19T22:24:02.204777Z</td>\n",
       "      <td>8.966</td>\n",
       "    </tr>\n",
       "    <tr>\n",
       "      <th>4</th>\n",
       "      <td>/data/upload/1/0a80358e-Zombie-Overly-Attached...</td>\n",
       "      <td>1842</td>\n",
       "      <td>NaN</td>\n",
       "      <td>1</td>\n",
       "      <td>1842</td>\n",
       "      <td>2022-02-19T22:23:52.698633Z</td>\n",
       "      <td>2022-02-19T22:23:52.698654Z</td>\n",
       "      <td>1.014</td>\n",
       "    </tr>\n",
       "  </tbody>\n",
       "</table>\n",
       "</div>"
      ],
      "text/plain": [
       "                                               image    id choice  annotator  \\\n",
       "3                   /data/upload/1/c28c65bf-Zorg.jpg  1843    NaN          1   \n",
       "4  /data/upload/1/0a80358e-Zombie-Overly-Attached...  1842    NaN          1   \n",
       "\n",
       "   annotation_id                   created_at                   updated_at  \\\n",
       "3           1843  2022-02-19T22:24:02.204753Z  2022-02-19T22:24:02.204777Z   \n",
       "4           1842  2022-02-19T22:23:52.698633Z  2022-02-19T22:23:52.698654Z   \n",
       "\n",
       "   lead_time  \n",
       "3      8.966  \n",
       "4      1.014  "
      ]
     },
     "execution_count": 5,
     "metadata": {},
     "output_type": "execute_result"
    }
   ],
   "source": [
    "approved_mask = export_df['choice'].isna()\n",
    "\n",
    "approved_templates_ds = export_df[approved_mask].copy()\n",
    "\n",
    "approved_templates_ds.head(2)"
   ]
  },
  {
   "cell_type": "code",
   "execution_count": 6,
   "id": "9edc470c-f176-413f-af3e-11c2525ffdc8",
   "metadata": {},
   "outputs": [
    {
     "data": {
      "text/plain": [
       "(1184, 8)"
      ]
     },
     "execution_count": 6,
     "metadata": {},
     "output_type": "execute_result"
    }
   ],
   "source": [
    "approved_templates_ds.shape"
   ]
  },
  {
   "cell_type": "code",
   "execution_count": 7,
   "id": "881ba478-3b33-44e4-b7d8-c1a420952973",
   "metadata": {},
   "outputs": [],
   "source": [
    "# LabelStudio insert uniq id to start of filename, I've removed it\n",
    "labeled_images = approved_templates_ds['image'].apply(lambda x: '-'.join(x.split('-')[1:])).values"
   ]
  },
  {
   "cell_type": "code",
   "execution_count": 8,
   "id": "5454a930-d40c-44be-a7f3-e2bed4ea613d",
   "metadata": {},
   "outputs": [],
   "source": [
    "approved_images = [IMAGE_DIR / i for i in labeled_images]"
   ]
  },
  {
   "cell_type": "code",
   "execution_count": 9,
   "id": "3c9ba8ec-aa08-4ce2-9541-3f5cb5e08408",
   "metadata": {},
   "outputs": [
    {
     "data": {
      "text/plain": [
       "[PosixPath('/data/imgflip/images/Zorg.jpg'),\n",
       " PosixPath('/data/imgflip/images/Zombie-Overly-Attached-Girlfriend.jpg')]"
      ]
     },
     "execution_count": 9,
     "metadata": {},
     "output_type": "execute_result"
    }
   ],
   "source": [
    "approved_images[:2]"
   ]
  },
  {
   "cell_type": "code",
   "execution_count": 13,
   "id": "687a915e-a4ca-40a2-9f4f-789b750810b3",
   "metadata": {},
   "outputs": [
    {
     "data": {
      "text/plain": [
       "1184"
      ]
     },
     "execution_count": 13,
     "metadata": {},
     "output_type": "execute_result"
    }
   ],
   "source": [
    "for i in approved_images:\n",
    "    shutil.copyfile(i, V1_IMAGE_DIR / i.name)\n",
    "\n",
    "len(V1_IMAGE_DIR.ls())"
   ]
  },
  {
   "cell_type": "markdown",
   "id": "6a169ce3-875c-4620-b0f0-6ce1b79376e1",
   "metadata": {},
   "source": [
    "## Merge approved images with texts csv"
   ]
  },
  {
   "cell_type": "code",
   "execution_count": 16,
   "id": "98650112-d06c-4844-a3f8-2c33b9ae7e2c",
   "metadata": {},
   "outputs": [],
   "source": [
    "texts_df = pd.read_csv(IMGFLIP_DIR / 'template_texts.csv')"
   ]
  },
  {
   "cell_type": "code",
   "execution_count": 18,
   "id": "521f1138-e406-46f1-b9b2-47efe46029ab",
   "metadata": {},
   "outputs": [],
   "source": [
    "image_names = [i.name for i in V1_IMAGE_DIR.ls()]"
   ]
  },
  {
   "cell_type": "code",
   "execution_count": 20,
   "id": "fa312580-83e5-401b-840f-51f75b3e4b67",
   "metadata": {},
   "outputs": [],
   "source": [
    "approved_text_mask = texts_df['template_img_name'].apply(lambda x: x in image_names)"
   ]
  },
  {
   "cell_type": "code",
   "execution_count": 22,
   "id": "1ad4810a-70ca-4b84-a3d9-2cc143457b96",
   "metadata": {},
   "outputs": [],
   "source": [
    "df = texts_df[approved_text_mask].copy()"
   ]
  },
  {
   "cell_type": "code",
   "execution_count": 23,
   "id": "ec17f0fb-d9d2-4b22-8b7f-fdb0f8224295",
   "metadata": {},
   "outputs": [
    {
     "data": {
      "text/html": [
       "<div>\n",
       "<style scoped>\n",
       "    .dataframe tbody tr th:only-of-type {\n",
       "        vertical-align: middle;\n",
       "    }\n",
       "\n",
       "    .dataframe tbody tr th {\n",
       "        vertical-align: top;\n",
       "    }\n",
       "\n",
       "    .dataframe thead th {\n",
       "        text-align: right;\n",
       "    }\n",
       "</style>\n",
       "<table border=\"1\" class=\"dataframe\">\n",
       "  <thead>\n",
       "    <tr style=\"text-align: right;\">\n",
       "      <th></th>\n",
       "      <th>url</th>\n",
       "      <th>text</th>\n",
       "      <th>alt</th>\n",
       "      <th>views</th>\n",
       "      <th>upvotes</th>\n",
       "      <th>comments</th>\n",
       "      <th>meme_home_page</th>\n",
       "      <th>template_name</th>\n",
       "      <th>template_img_name</th>\n",
       "    </tr>\n",
       "  </thead>\n",
       "  <tbody>\n",
       "    <tr>\n",
       "      <th>59264</th>\n",
       "      <td>i.imgflip.com/61wlf5.jpg</td>\n",
       "      <td>ME; THE MOBILE GAME I BOUGHT 2 MINUTES AGO; TH...</td>\n",
       "      <td>Is this not true? |  ME; THE MOBILE GAME I BOU...</td>\n",
       "      <td>704</td>\n",
       "      <td>6</td>\n",
       "      <td>0</td>\n",
       "      <td>/i/61wlf5</td>\n",
       "      <td>Distracted-Boyfriend</td>\n",
       "      <td>Distracted-Boyfriend.jpg</td>\n",
       "    </tr>\n",
       "    <tr>\n",
       "      <th>59265</th>\n",
       "      <td>i.imgflip.com/61zv6o.jpg</td>\n",
       "      <td>NEWS; GOOD THINGS IN THE WORLD; BAD THINGS IN ...</td>\n",
       "      <td>Distracted Boyfriend |  NEWS; GOOD THINGS IN T...</td>\n",
       "      <td>945</td>\n",
       "      <td>6</td>\n",
       "      <td>0</td>\n",
       "      <td>/i/61zv6o</td>\n",
       "      <td>Distracted-Boyfriend</td>\n",
       "      <td>Distracted-Boyfriend.jpg</td>\n",
       "    </tr>\n",
       "    <tr>\n",
       "      <th>59266</th>\n",
       "      <td>i.imgflip.com/6256vy.jpg</td>\n",
       "      <td>ALSO ME; ALSO ME; ME</td>\n",
       "      <td>Distracted Boyfriend |  ALSO ME; ALSO ME; ME |...</td>\n",
       "      <td>44</td>\n",
       "      <td>3</td>\n",
       "      <td>3</td>\n",
       "      <td>/i/6256vy</td>\n",
       "      <td>Distracted-Boyfriend</td>\n",
       "      <td>Distracted-Boyfriend.jpg</td>\n",
       "    </tr>\n",
       "    <tr>\n",
       "      <th>59267</th>\n",
       "      <td>i.imgflip.com/61z0ba.jpg</td>\n",
       "      <td>STUDY; ME; MOBILE</td>\n",
       "      <td>Distracted Boyfriend |  STUDY; ME; MOBILE | im...</td>\n",
       "      <td>443</td>\n",
       "      <td>3</td>\n",
       "      <td>0</td>\n",
       "      <td>/i/61z0ba</td>\n",
       "      <td>Distracted-Boyfriend</td>\n",
       "      <td>Distracted-Boyfriend.jpg</td>\n",
       "    </tr>\n",
       "    <tr>\n",
       "      <th>59268</th>\n",
       "      <td>i.imgflip.com/624obq.jpg</td>\n",
       "      <td>Fortnite; Fortnite youtubers when the game is ...</td>\n",
       "      <td>Distracted Boyfriend |  Fortnite; Fortnite you...</td>\n",
       "      <td>110</td>\n",
       "      <td>2</td>\n",
       "      <td>0</td>\n",
       "      <td>/i/624obq</td>\n",
       "      <td>Distracted-Boyfriend</td>\n",
       "      <td>Distracted-Boyfriend.jpg</td>\n",
       "    </tr>\n",
       "    <tr>\n",
       "      <th>...</th>\n",
       "      <td>...</td>\n",
       "      <td>...</td>\n",
       "      <td>...</td>\n",
       "      <td>...</td>\n",
       "      <td>...</td>\n",
       "      <td>...</td>\n",
       "      <td>...</td>\n",
       "      <td>...</td>\n",
       "      <td>...</td>\n",
       "    </tr>\n",
       "    <tr>\n",
       "      <th>1439254</th>\n",
       "      <td>i.imgflip.com/e8gl3.jpg</td>\n",
       "      <td>TELLS PEOPLE TO DRIVE SLOWLY IN SNOWY CONDITIO...</td>\n",
       "      <td>Scumbag Redditor | TELLS PEOPLE TO DRIVE SLOWL...</td>\n",
       "      <td>951</td>\n",
       "      <td>0</td>\n",
       "      <td>0</td>\n",
       "      <td>/i/e8gl3</td>\n",
       "      <td>Scumbag-Redditor</td>\n",
       "      <td>Scumbag-Redditor.jpg</td>\n",
       "    </tr>\n",
       "    <tr>\n",
       "      <th>1439255</th>\n",
       "      <td>i.imgflip.com/7tpr0.jpg</td>\n",
       "      <td>SHOWS MY POSTS ON THE WEBSITE NOT ON THE MOBIL...</td>\n",
       "      <td>Scumbag Redditor | SHOWS MY POSTS ON THE WEBSI...</td>\n",
       "      <td>561</td>\n",
       "      <td>0</td>\n",
       "      <td>0</td>\n",
       "      <td>/i/7tpr0</td>\n",
       "      <td>Scumbag-Redditor</td>\n",
       "      <td>Scumbag-Redditor.jpg</td>\n",
       "    </tr>\n",
       "    <tr>\n",
       "      <th>1439256</th>\n",
       "      <td>i.imgflip.com/7bakl.jpg</td>\n",
       "      <td>CRITICISES MEDIA ABOUT NOT GIVING ENOUGH COVER...</td>\n",
       "      <td>Scumbag Redditor | CRITICISES MEDIA ABOUT NOT ...</td>\n",
       "      <td>3400</td>\n",
       "      <td>0</td>\n",
       "      <td>0</td>\n",
       "      <td>/i/7bakl</td>\n",
       "      <td>Scumbag-Redditor</td>\n",
       "      <td>Scumbag-Redditor.jpg</td>\n",
       "    </tr>\n",
       "    <tr>\n",
       "      <th>1439257</th>\n",
       "      <td>i.imgflip.com/12qpk9.jpg</td>\n",
       "      <td>COMES TO YOUR SUB AND SAYS YOU SHOULDN'T USE A...</td>\n",
       "      <td>Scumbag Redditor |  COMES TO YOUR SUB AND SAYS...</td>\n",
       "      <td>738</td>\n",
       "      <td>0</td>\n",
       "      <td>0</td>\n",
       "      <td>/i/12qpk9</td>\n",
       "      <td>Scumbag-Redditor</td>\n",
       "      <td>Scumbag-Redditor.jpg</td>\n",
       "    </tr>\n",
       "    <tr>\n",
       "      <th>1439258</th>\n",
       "      <td>i.imgflip.com/2uwu3g.jpg</td>\n",
       "      <td>THATS T-SERIES? MY BAD, I THOUGHT THAT WAS A T...</td>\n",
       "      <td>Scumbag Redditor |  THATS T-SERIES? MY BAD, I ...</td>\n",
       "      <td>307</td>\n",
       "      <td>2</td>\n",
       "      <td>0</td>\n",
       "      <td>/i/2uwu3g</td>\n",
       "      <td>Scumbag-Redditor</td>\n",
       "      <td>Scumbag-Redditor.jpg</td>\n",
       "    </tr>\n",
       "  </tbody>\n",
       "</table>\n",
       "<p>972342 rows × 9 columns</p>\n",
       "</div>"
      ],
      "text/plain": [
       "                              url  \\\n",
       "59264    i.imgflip.com/61wlf5.jpg   \n",
       "59265    i.imgflip.com/61zv6o.jpg   \n",
       "59266    i.imgflip.com/6256vy.jpg   \n",
       "59267    i.imgflip.com/61z0ba.jpg   \n",
       "59268    i.imgflip.com/624obq.jpg   \n",
       "...                           ...   \n",
       "1439254   i.imgflip.com/e8gl3.jpg   \n",
       "1439255   i.imgflip.com/7tpr0.jpg   \n",
       "1439256   i.imgflip.com/7bakl.jpg   \n",
       "1439257  i.imgflip.com/12qpk9.jpg   \n",
       "1439258  i.imgflip.com/2uwu3g.jpg   \n",
       "\n",
       "                                                      text  \\\n",
       "59264    ME; THE MOBILE GAME I BOUGHT 2 MINUTES AGO; TH...   \n",
       "59265    NEWS; GOOD THINGS IN THE WORLD; BAD THINGS IN ...   \n",
       "59266                                 ALSO ME; ALSO ME; ME   \n",
       "59267                                    STUDY; ME; MOBILE   \n",
       "59268    Fortnite; Fortnite youtubers when the game is ...   \n",
       "...                                                    ...   \n",
       "1439254  TELLS PEOPLE TO DRIVE SLOWLY IN SNOWY CONDITIO...   \n",
       "1439255  SHOWS MY POSTS ON THE WEBSITE NOT ON THE MOBIL...   \n",
       "1439256  CRITICISES MEDIA ABOUT NOT GIVING ENOUGH COVER...   \n",
       "1439257  COMES TO YOUR SUB AND SAYS YOU SHOULDN'T USE A...   \n",
       "1439258  THATS T-SERIES? MY BAD, I THOUGHT THAT WAS A T...   \n",
       "\n",
       "                                                       alt  views  upvotes  \\\n",
       "59264    Is this not true? |  ME; THE MOBILE GAME I BOU...    704        6   \n",
       "59265    Distracted Boyfriend |  NEWS; GOOD THINGS IN T...    945        6   \n",
       "59266    Distracted Boyfriend |  ALSO ME; ALSO ME; ME |...     44        3   \n",
       "59267    Distracted Boyfriend |  STUDY; ME; MOBILE | im...    443        3   \n",
       "59268    Distracted Boyfriend |  Fortnite; Fortnite you...    110        2   \n",
       "...                                                    ...    ...      ...   \n",
       "1439254  Scumbag Redditor | TELLS PEOPLE TO DRIVE SLOWL...    951        0   \n",
       "1439255  Scumbag Redditor | SHOWS MY POSTS ON THE WEBSI...    561        0   \n",
       "1439256  Scumbag Redditor | CRITICISES MEDIA ABOUT NOT ...   3400        0   \n",
       "1439257  Scumbag Redditor |  COMES TO YOUR SUB AND SAYS...    738        0   \n",
       "1439258  Scumbag Redditor |  THATS T-SERIES? MY BAD, I ...    307        2   \n",
       "\n",
       "         comments meme_home_page         template_name  \\\n",
       "59264           0      /i/61wlf5  Distracted-Boyfriend   \n",
       "59265           0      /i/61zv6o  Distracted-Boyfriend   \n",
       "59266           3      /i/6256vy  Distracted-Boyfriend   \n",
       "59267           0      /i/61z0ba  Distracted-Boyfriend   \n",
       "59268           0      /i/624obq  Distracted-Boyfriend   \n",
       "...           ...            ...                   ...   \n",
       "1439254         0       /i/e8gl3      Scumbag-Redditor   \n",
       "1439255         0       /i/7tpr0      Scumbag-Redditor   \n",
       "1439256         0       /i/7bakl      Scumbag-Redditor   \n",
       "1439257         0      /i/12qpk9      Scumbag-Redditor   \n",
       "1439258         0      /i/2uwu3g      Scumbag-Redditor   \n",
       "\n",
       "                template_img_name  \n",
       "59264    Distracted-Boyfriend.jpg  \n",
       "59265    Distracted-Boyfriend.jpg  \n",
       "59266    Distracted-Boyfriend.jpg  \n",
       "59267    Distracted-Boyfriend.jpg  \n",
       "59268    Distracted-Boyfriend.jpg  \n",
       "...                           ...  \n",
       "1439254      Scumbag-Redditor.jpg  \n",
       "1439255      Scumbag-Redditor.jpg  \n",
       "1439256      Scumbag-Redditor.jpg  \n",
       "1439257      Scumbag-Redditor.jpg  \n",
       "1439258      Scumbag-Redditor.jpg  \n",
       "\n",
       "[972342 rows x 9 columns]"
      ]
     },
     "execution_count": 23,
     "metadata": {},
     "output_type": "execute_result"
    }
   ],
   "source": [
    "df"
   ]
  },
  {
   "cell_type": "markdown",
   "id": "46fbb737-4da2-4ba5-9cac-360bb10df259",
   "metadata": {},
   "source": [
    "## Deduplication"
   ]
  },
  {
   "cell_type": "code",
   "execution_count": 27,
   "id": "d5f18da4-40aa-49b1-8c5d-f97be1cb25df",
   "metadata": {
    "collapsed": true,
    "jupyter": {
     "outputs_hidden": true
    },
    "tags": []
   },
   "outputs": [
    {
     "name": "stdout",
     "output_type": "stream",
     "text": [
      "Collecting git+https://****@github.com/memlish/bo4ka.git\n",
      "  Cloning https://****@github.com/memlish/bo4ka.git to /tmp/pip-req-build-3a1ndsjf\n",
      "  Running command git clone -q 'https://****@github.com/memlish/bo4ka.git' /tmp/pip-req-build-3a1ndsjf\n",
      "Collecting opencv-python\n",
      "  Downloading opencv_python-4.5.5.62-cp36-abi3-manylinux_2_17_x86_64.manylinux2014_x86_64.whl (60.4 MB)\n",
      "\u001b[K     |████████████████████████████████| 60.4 MB 43.6 MB/s eta 0:00:01\n",
      "\u001b[?25hRequirement already satisfied: faiss-gpu in /opt/conda/lib/python3.7/site-packages (from bo4ka==0.0.1) (1.7.2)\n",
      "Requirement already satisfied: jupyterlab in /opt/conda/lib/python3.7/site-packages (from bo4ka==0.0.1) (3.2.9)\n",
      "Collecting matplotlib==3.5.0\n",
      "  Downloading matplotlib-3.5.0-cp37-cp37m-manylinux_2_5_x86_64.manylinux1_x86_64.whl (11.2 MB)\n",
      "\u001b[K     |████████████████████████████████| 11.2 MB 27.3 MB/s eta 0:00:01\n",
      "\u001b[?25hCollecting seaborn==0.11.2\n",
      "  Downloading seaborn-0.11.2-py3-none-any.whl (292 kB)\n",
      "\u001b[K     |████████████████████████████████| 292 kB 137.4 MB/s eta 0:00:01\n",
      "\u001b[?25hRequirement already satisfied: notebook in /opt/conda/lib/python3.7/site-packages (from bo4ka==0.0.1) (6.4.8)\n",
      "Requirement already satisfied: ipywidgets in /opt/conda/lib/python3.7/site-packages (from bo4ka==0.0.1) (7.6.5)\n",
      "Requirement already satisfied: sentence-transformers==2.1.0 in /opt/conda/lib/python3.7/site-packages (from bo4ka==0.0.1) (2.1.0)\n",
      "Requirement already satisfied: pandas in /opt/conda/lib/python3.7/site-packages (from bo4ka==0.0.1) (1.3.5)\n",
      "Requirement already satisfied: numpy in /opt/conda/lib/python3.7/site-packages (from bo4ka==0.0.1) (1.21.2)\n",
      "Collecting voila==0.2.16\n",
      "  Downloading voila-0.2.16-py3-none-any.whl (1.6 MB)\n",
      "\u001b[K     |████████████████████████████████| 1.6 MB 42.1 MB/s eta 0:00:01\n",
      "\u001b[?25hCollecting sklearn\n",
      "  Downloading sklearn-0.0.tar.gz (1.1 kB)\n",
      "Collecting h5py\n",
      "  Downloading h5py-3.6.0-cp37-cp37m-manylinux_2_12_x86_64.manylinux2010_x86_64.whl (4.1 MB)\n",
      "\u001b[K     |████████████████████████████████| 4.1 MB 124.8 MB/s eta 0:00:01\n",
      "\u001b[?25hCollecting kornia_moons\n",
      "  Downloading kornia_moons-0.1.7-py3-none-any.whl (10 kB)\n",
      "Collecting kornia\n",
      "  Downloading kornia-0.6.3-py2.py3-none-any.whl (474 kB)\n",
      "\u001b[K     |████████████████████████████████| 474 kB 124.8 MB/s eta 0:00:01\n",
      "\u001b[?25hCollecting pymongo==4.0\n",
      "  Downloading pymongo-4.0-cp37-cp37m-manylinux_2_17_x86_64.manylinux2014_x86_64.whl (452 kB)\n",
      "\u001b[K     |████████████████████████████████| 452 kB 133.6 MB/s eta 0:00:01\n",
      "\u001b[?25hCollecting celery[redis]==5.1.2\n",
      "  Downloading celery-5.1.2-py3-none-any.whl (401 kB)\n",
      "\u001b[K     |████████████████████████████████| 401 kB 138.3 MB/s eta 0:00:01\n",
      "\u001b[?25hCollecting scikit-image\n",
      "  Downloading scikit_image-0.19.2-cp37-cp37m-manylinux_2_12_x86_64.manylinux2010_x86_64.whl (13.5 MB)\n",
      "\u001b[K     |████████████████████████████████| 13.5 MB 126.0 MB/s eta 0:00:01\n",
      "\u001b[?25hCollecting easydict\n",
      "  Downloading easydict-1.9.tar.gz (6.4 kB)\n",
      "Collecting pytorch-lightning==1.5.5\n",
      "  Downloading pytorch_lightning-1.5.5-py3-none-any.whl (525 kB)\n",
      "\u001b[K     |████████████████████████████████| 525 kB 127.5 MB/s eta 0:00:01\n",
      "\u001b[?25hCollecting hydra-core\n",
      "  Downloading hydra_core-1.1.1-py3-none-any.whl (145 kB)\n",
      "\u001b[K     |████████████████████████████████| 145 kB 136.5 MB/s eta 0:00:01\n",
      "\u001b[?25hCollecting albumentations\n",
      "  Downloading albumentations-1.1.0-py3-none-any.whl (102 kB)\n",
      "\u001b[K     |████████████████████████████████| 102 kB 133.3 MB/s eta 0:00:01\n",
      "\u001b[?25hCollecting webdataset\n",
      "  Downloading webdataset-0.1.103-py3-none-any.whl (47 kB)\n",
      "\u001b[K     |████████████████████████████████| 47 kB 99.4 MB/s  eta 0:00:01\n",
      "\u001b[?25hCollecting augly\n",
      "  Downloading augly-0.2.1-py3-none-any.whl (40.1 MB)\n",
      "\u001b[K     |████████████████████████████████| 40.1 MB 44.8 MB/s eta 0:00:01\n",
      "\u001b[?25hCollecting timm\n",
      "  Downloading timm-0.5.4-py3-none-any.whl (431 kB)\n",
      "\u001b[K     |████████████████████████████████| 431 kB 92.5 MB/s eta 0:00:01\n",
      "\u001b[?25hCollecting wandb\n",
      "  Downloading wandb-0.12.10-py2.py3-none-any.whl (1.7 MB)\n",
      "\u001b[K     |████████████████████████████████| 1.7 MB 117.6 MB/s eta 0:00:01\n",
      "\u001b[?25hCollecting pytest\n",
      "  Downloading pytest-7.0.1-py3-none-any.whl (296 kB)\n",
      "\u001b[K     |████████████████████████████████| 296 kB 140.3 MB/s eta 0:00:01\n",
      "\u001b[?25hCollecting opencv-python-headless==4.5.4.60\n",
      "  Downloading opencv_python_headless-4.5.4.60-cp37-cp37m-manylinux_2_17_x86_64.manylinux2014_x86_64.whl (47.6 MB)\n",
      "\u001b[K     |████████████████████████████████| 47.6 MB 131.5 MB/s eta 0:00:01\n",
      "\u001b[?25hCollecting click<8.0,>=7.0\n",
      "  Downloading click-7.1.2-py2.py3-none-any.whl (82 kB)\n",
      "\u001b[K     |████████████████████████████████| 82 kB 64.3 MB/s  eta 0:00:01\n",
      "\u001b[?25hRequirement already satisfied: setuptools in /opt/conda/lib/python3.7/site-packages (from celery[redis]==5.1.2->bo4ka==0.0.1) (58.0.4)\n",
      "Collecting vine<6.0,>=5.0.0\n",
      "  Downloading vine-5.0.0-py2.py3-none-any.whl (9.4 kB)\n",
      "Requirement already satisfied: pytz>dev in /opt/conda/lib/python3.7/site-packages (from celery[redis]==5.1.2->bo4ka==0.0.1) (2021.3)\n",
      "Collecting click-didyoumean>=0.0.3\n",
      "  Downloading click_didyoumean-0.3.0-py3-none-any.whl (2.7 kB)\n",
      "Collecting click-repl>=0.1.6\n",
      "  Downloading click_repl-0.2.0-py3-none-any.whl (5.2 kB)\n",
      "Collecting click-plugins>=1.1.1\n",
      "  Downloading click_plugins-1.1.1-py2.py3-none-any.whl (7.5 kB)\n",
      "Collecting billiard<4.0,>=3.6.4.0\n",
      "  Downloading billiard-3.6.4.0-py3-none-any.whl (89 kB)\n",
      "\u001b[K     |████████████████████████████████| 89 kB 136.3 MB/s eta 0:00:01\n",
      "\u001b[?25hCollecting kombu<6.0,>=5.1.0\n",
      "  Downloading kombu-5.2.3-py3-none-any.whl (189 kB)\n",
      "\u001b[K     |████████████████████████████████| 189 kB 146.2 MB/s eta 0:00:01\n",
      "\u001b[?25hCollecting redis>=3.2.0\n",
      "  Downloading redis-4.1.4-py3-none-any.whl (175 kB)\n",
      "\u001b[K     |████████████████████████████████| 175 kB 149.0 MB/s eta 0:00:01\n",
      "\u001b[?25hRequirement already satisfied: pyparsing>=2.2.1 in /opt/conda/lib/python3.7/site-packages (from matplotlib==3.5.0->bo4ka==0.0.1) (3.0.7)\n",
      "Requirement already satisfied: python-dateutil>=2.7 in /opt/conda/lib/python3.7/site-packages (from matplotlib==3.5.0->bo4ka==0.0.1) (2.8.2)\n",
      "Requirement already satisfied: packaging>=20.0 in /opt/conda/lib/python3.7/site-packages (from matplotlib==3.5.0->bo4ka==0.0.1) (21.3)\n",
      "Requirement already satisfied: kiwisolver>=1.0.1 in /opt/conda/lib/python3.7/site-packages (from matplotlib==3.5.0->bo4ka==0.0.1) (1.3.2)\n",
      "Collecting fonttools>=4.22.0\n",
      "  Downloading fonttools-4.29.1-py3-none-any.whl (895 kB)\n",
      "\u001b[K     |████████████████████████████████| 895 kB 118.5 MB/s eta 0:00:01\n",
      "\u001b[?25hCollecting setuptools-scm>=4\n",
      "  Downloading setuptools_scm-6.4.2-py3-none-any.whl (37 kB)\n",
      "Requirement already satisfied: cycler>=0.10 in /opt/conda/lib/python3.7/site-packages (from matplotlib==3.5.0->bo4ka==0.0.1) (0.11.0)\n",
      "Requirement already satisfied: pillow>=6.2.0 in /opt/conda/lib/python3.7/site-packages (from matplotlib==3.5.0->bo4ka==0.0.1) (8.4.0)\n",
      "Requirement already satisfied: torch>=1.7.* in /opt/conda/lib/python3.7/site-packages (from pytorch-lightning==1.5.5->bo4ka==0.0.1) (1.10.0)\n",
      "Requirement already satisfied: tqdm>=4.41.0 in /opt/conda/lib/python3.7/site-packages (from pytorch-lightning==1.5.5->bo4ka==0.0.1) (4.61.2)\n",
      "Requirement already satisfied: PyYAML>=5.1 in /opt/conda/lib/python3.7/site-packages (from pytorch-lightning==1.5.5->bo4ka==0.0.1) (5.4.1)\n",
      "Collecting fsspec[http]!=2021.06.0,>=2021.05.0\n",
      "  Downloading fsspec-2022.1.0-py3-none-any.whl (133 kB)\n",
      "\u001b[K     |████████████████████████████████| 133 kB 137.2 MB/s eta 0:00:01\n",
      "\u001b[?25hCollecting tensorboard>=2.2.0\n",
      "  Downloading tensorboard-2.8.0-py3-none-any.whl (5.8 MB)\n",
      "\u001b[K     |████████████████████████████████| 5.8 MB 132.8 MB/s eta 0:00:01\n",
      "\u001b[?25hCollecting pyDeprecate==0.3.1\n",
      "  Downloading pyDeprecate-0.3.1-py3-none-any.whl (10 kB)\n",
      "Collecting torchmetrics>=0.4.1\n",
      "  Downloading torchmetrics-0.7.2-py3-none-any.whl (397 kB)\n",
      "\u001b[K     |████████████████████████████████| 397 kB 141.3 MB/s eta 0:00:01\n",
      "\u001b[?25hCollecting future>=0.17.1\n",
      "  Downloading future-0.18.2.tar.gz (829 kB)\n",
      "\u001b[K     |████████████████████████████████| 829 kB 122.4 MB/s eta 0:00:01\n",
      "\u001b[?25hRequirement already satisfied: typing-extensions in /opt/conda/lib/python3.7/site-packages (from pytorch-lightning==1.5.5->bo4ka==0.0.1) (3.10.0.2)\n",
      "Requirement already satisfied: scipy>=1.0 in /opt/conda/lib/python3.7/site-packages (from seaborn==0.11.2->bo4ka==0.0.1) (1.7.3)\n",
      "Requirement already satisfied: sentencepiece in /opt/conda/lib/python3.7/site-packages (from sentence-transformers==2.1.0->bo4ka==0.0.1) (0.1.96)\n",
      "Requirement already satisfied: torchvision in /opt/conda/lib/python3.7/site-packages (from sentence-transformers==2.1.0->bo4ka==0.0.1) (0.11.0)\n",
      "Requirement already satisfied: scikit-learn in /opt/conda/lib/python3.7/site-packages (from sentence-transformers==2.1.0->bo4ka==0.0.1) (1.0.2)\n",
      "Requirement already satisfied: tokenizers>=0.10.3 in /opt/conda/lib/python3.7/site-packages (from sentence-transformers==2.1.0->bo4ka==0.0.1) (0.10.3)\n",
      "Requirement already satisfied: nltk in /opt/conda/lib/python3.7/site-packages (from sentence-transformers==2.1.0->bo4ka==0.0.1) (3.7)\n",
      "Requirement already satisfied: huggingface-hub in /opt/conda/lib/python3.7/site-packages (from sentence-transformers==2.1.0->bo4ka==0.0.1) (0.4.0)\n",
      "Requirement already satisfied: transformers<5.0.0,>=4.6.0 in /opt/conda/lib/python3.7/site-packages (from sentence-transformers==2.1.0->bo4ka==0.0.1) (4.15.0)\n",
      "Requirement already satisfied: jupyter-server<2.0.0,>=0.3.0 in /opt/conda/lib/python3.7/site-packages (from voila==0.2.16->bo4ka==0.0.1) (1.13.5)\n",
      "Requirement already satisfied: nbclient<0.6,>=0.4.0 in /opt/conda/lib/python3.7/site-packages (from voila==0.2.16->bo4ka==0.0.1) (0.5.11)\n",
      "Collecting jupyter-client<7,>=6.1.3\n",
      "  Downloading jupyter_client-6.1.12-py3-none-any.whl (112 kB)\n",
      "\u001b[K     |████████████████████████████████| 112 kB 138.4 MB/s eta 0:00:01\n",
      "\u001b[?25hRequirement already satisfied: nbconvert<7,>=6.0.0 in /opt/conda/lib/python3.7/site-packages (from voila==0.2.16->bo4ka==0.0.1) (6.4.2)\n",
      "Requirement already satisfied: six in /opt/conda/lib/python3.7/site-packages (from click-repl>=0.1.6->celery[redis]==5.1.2->bo4ka==0.0.1) (1.16.0)\n",
      "Requirement already satisfied: prompt-toolkit in /opt/conda/lib/python3.7/site-packages (from click-repl>=0.1.6->celery[redis]==5.1.2->bo4ka==0.0.1) (3.0.20)\n",
      "Requirement already satisfied: aiohttp in /opt/conda/lib/python3.7/site-packages (from fsspec[http]!=2021.06.0,>=2021.05.0->pytorch-lightning==1.5.5->bo4ka==0.0.1) (3.8.1)\n",
      "Requirement already satisfied: requests in /opt/conda/lib/python3.7/site-packages (from fsspec[http]!=2021.06.0,>=2021.05.0->pytorch-lightning==1.5.5->bo4ka==0.0.1) (2.25.1)\n",
      "Requirement already satisfied: traitlets in /opt/conda/lib/python3.7/site-packages (from jupyter-client<7,>=6.1.3->voila==0.2.16->bo4ka==0.0.1) (5.1.0)\n",
      "Requirement already satisfied: jupyter-core>=4.6.0 in /opt/conda/lib/python3.7/site-packages (from jupyter-client<7,>=6.1.3->voila==0.2.16->bo4ka==0.0.1) (4.9.1)\n",
      "Requirement already satisfied: tornado>=4.1 in /opt/conda/lib/python3.7/site-packages (from jupyter-client<7,>=6.1.3->voila==0.2.16->bo4ka==0.0.1) (6.1)\n",
      "Requirement already satisfied: pyzmq>=13 in /opt/conda/lib/python3.7/site-packages (from jupyter-client<7,>=6.1.3->voila==0.2.16->bo4ka==0.0.1) (22.3.0)\n",
      "Requirement already satisfied: prometheus-client in /opt/conda/lib/python3.7/site-packages (from jupyter-server<2.0.0,>=0.3.0->voila==0.2.16->bo4ka==0.0.1) (0.13.1)\n",
      "Requirement already satisfied: anyio<4,>=3.1.0 in /opt/conda/lib/python3.7/site-packages (from jupyter-server<2.0.0,>=0.3.0->voila==0.2.16->bo4ka==0.0.1) (3.5.0)\n",
      "Requirement already satisfied: ipython-genutils in /opt/conda/lib/python3.7/site-packages (from jupyter-server<2.0.0,>=0.3.0->voila==0.2.16->bo4ka==0.0.1) (0.2.0)\n",
      "Requirement already satisfied: nbformat in /opt/conda/lib/python3.7/site-packages (from jupyter-server<2.0.0,>=0.3.0->voila==0.2.16->bo4ka==0.0.1) (5.1.3)\n",
      "Requirement already satisfied: websocket-client in /opt/conda/lib/python3.7/site-packages (from jupyter-server<2.0.0,>=0.3.0->voila==0.2.16->bo4ka==0.0.1) (1.2.3)\n",
      "Requirement already satisfied: terminado>=0.8.3 in /opt/conda/lib/python3.7/site-packages (from jupyter-server<2.0.0,>=0.3.0->voila==0.2.16->bo4ka==0.0.1) (0.13.1)\n",
      "Requirement already satisfied: Send2Trash in /opt/conda/lib/python3.7/site-packages (from jupyter-server<2.0.0,>=0.3.0->voila==0.2.16->bo4ka==0.0.1) (1.8.0)\n",
      "Requirement already satisfied: jinja2 in /opt/conda/lib/python3.7/site-packages (from jupyter-server<2.0.0,>=0.3.0->voila==0.2.16->bo4ka==0.0.1) (2.11.3)\n",
      "Requirement already satisfied: argon2-cffi in /opt/conda/lib/python3.7/site-packages (from jupyter-server<2.0.0,>=0.3.0->voila==0.2.16->bo4ka==0.0.1) (21.3.0)\n",
      "Requirement already satisfied: idna>=2.8 in /opt/conda/lib/python3.7/site-packages (from anyio<4,>=3.1.0->jupyter-server<2.0.0,>=0.3.0->voila==0.2.16->bo4ka==0.0.1) (2.10)\n",
      "Requirement already satisfied: sniffio>=1.1 in /opt/conda/lib/python3.7/site-packages (from anyio<4,>=3.1.0->jupyter-server<2.0.0,>=0.3.0->voila==0.2.16->bo4ka==0.0.1) (1.2.0)\n",
      "Requirement already satisfied: importlib-metadata>=0.18 in /opt/conda/lib/python3.7/site-packages (from kombu<6.0,>=5.1.0->celery[redis]==5.1.2->bo4ka==0.0.1) (4.11.1)\n",
      "Collecting amqp<6.0.0,>=5.0.9\n",
      "  Downloading amqp-5.0.9-py3-none-any.whl (50 kB)\n",
      "\u001b[K     |████████████████████████████████| 50 kB 113.5 MB/s eta 0:00:01\n",
      "\u001b[?25hCollecting cached-property\n",
      "  Downloading cached_property-1.5.2-py2.py3-none-any.whl (7.6 kB)\n",
      "Requirement already satisfied: zipp>=0.5 in /opt/conda/lib/python3.7/site-packages (from importlib-metadata>=0.18->kombu<6.0,>=5.1.0->celery[redis]==5.1.2->bo4ka==0.0.1) (3.7.0)\n",
      "Requirement already satisfied: nest-asyncio in /opt/conda/lib/python3.7/site-packages (from nbclient<0.6,>=0.4.0->voila==0.2.16->bo4ka==0.0.1) (1.5.4)\n",
      "Requirement already satisfied: pygments>=2.4.1 in /opt/conda/lib/python3.7/site-packages (from nbconvert<7,>=6.0.0->voila==0.2.16->bo4ka==0.0.1) (2.10.0)\n",
      "Requirement already satisfied: pandocfilters>=1.4.1 in /opt/conda/lib/python3.7/site-packages (from nbconvert<7,>=6.0.0->voila==0.2.16->bo4ka==0.0.1) (1.5.0)\n",
      "Requirement already satisfied: testpath in /opt/conda/lib/python3.7/site-packages (from nbconvert<7,>=6.0.0->voila==0.2.16->bo4ka==0.0.1) (0.5.0)\n",
      "Requirement already satisfied: jupyterlab-pygments in /opt/conda/lib/python3.7/site-packages (from nbconvert<7,>=6.0.0->voila==0.2.16->bo4ka==0.0.1) (0.1.2)\n",
      "Requirement already satisfied: entrypoints>=0.2.2 in /opt/conda/lib/python3.7/site-packages (from nbconvert<7,>=6.0.0->voila==0.2.16->bo4ka==0.0.1) (0.4)\n",
      "Requirement already satisfied: mistune<2,>=0.8.1 in /opt/conda/lib/python3.7/site-packages (from nbconvert<7,>=6.0.0->voila==0.2.16->bo4ka==0.0.1) (0.8.4)\n",
      "Requirement already satisfied: defusedxml in /opt/conda/lib/python3.7/site-packages (from nbconvert<7,>=6.0.0->voila==0.2.16->bo4ka==0.0.1) (0.7.1)\n",
      "Requirement already satisfied: bleach in /opt/conda/lib/python3.7/site-packages (from nbconvert<7,>=6.0.0->voila==0.2.16->bo4ka==0.0.1) (4.1.0)\n",
      "Requirement already satisfied: MarkupSafe>=0.23 in /opt/conda/lib/python3.7/site-packages (from jinja2->jupyter-server<2.0.0,>=0.3.0->voila==0.2.16->bo4ka==0.0.1) (2.0.1)\n",
      "Requirement already satisfied: jsonschema!=2.5.0,>=2.4 in /opt/conda/lib/python3.7/site-packages (from nbformat->jupyter-server<2.0.0,>=0.3.0->voila==0.2.16->bo4ka==0.0.1) (4.4.0)\n",
      "Requirement already satisfied: importlib-resources>=1.4.0 in /opt/conda/lib/python3.7/site-packages (from jsonschema!=2.5.0,>=2.4->nbformat->jupyter-server<2.0.0,>=0.3.0->voila==0.2.16->bo4ka==0.0.1) (5.4.0)\n",
      "Requirement already satisfied: attrs>=17.4.0 in /opt/conda/lib/python3.7/site-packages (from jsonschema!=2.5.0,>=2.4->nbformat->jupyter-server<2.0.0,>=0.3.0->voila==0.2.16->bo4ka==0.0.1) (21.4.0)\n",
      "Requirement already satisfied: pyrsistent!=0.17.0,!=0.17.1,!=0.17.2,>=0.14.0 in /opt/conda/lib/python3.7/site-packages (from jsonschema!=2.5.0,>=2.4->nbformat->jupyter-server<2.0.0,>=0.3.0->voila==0.2.16->bo4ka==0.0.1) (0.18.1)\n",
      "Collecting deprecated>=1.2.3\n",
      "  Downloading Deprecated-1.2.13-py2.py3-none-any.whl (9.6 kB)\n",
      "Collecting wrapt<2,>=1.10\n",
      "  Downloading wrapt-1.13.3-cp37-cp37m-manylinux_2_5_x86_64.manylinux1_x86_64.manylinux_2_12_x86_64.manylinux2010_x86_64.whl (79 kB)\n",
      "\u001b[K     |████████████████████████████████| 79 kB 122.5 MB/s eta 0:00:01\n",
      "\u001b[?25hCollecting tomli>=1.0.0\n",
      "  Downloading tomli-2.0.1-py3-none-any.whl (12 kB)\n",
      "Collecting tensorboard-data-server<0.7.0,>=0.6.0\n",
      "  Downloading tensorboard_data_server-0.6.1-py3-none-manylinux2010_x86_64.whl (4.9 MB)\n",
      "\u001b[K     |████████████████████████████████| 4.9 MB 121.1 MB/s eta 0:00:01\n",
      "\u001b[?25hCollecting markdown>=2.6.8\n",
      "  Downloading Markdown-3.3.6-py3-none-any.whl (97 kB)\n",
      "\u001b[K     |████████████████████████████████| 97 kB 128.1 MB/s eta 0:00:01\n",
      "\u001b[?25hRequirement already satisfied: protobuf>=3.6.0 in /opt/conda/lib/python3.7/site-packages (from tensorboard>=2.2.0->pytorch-lightning==1.5.5->bo4ka==0.0.1) (3.19.4)\n",
      "Requirement already satisfied: wheel>=0.26 in /opt/conda/lib/python3.7/site-packages (from tensorboard>=2.2.0->pytorch-lightning==1.5.5->bo4ka==0.0.1) (0.36.2)\n",
      "Collecting google-auth-oauthlib<0.5,>=0.4.1\n",
      "  Downloading google_auth_oauthlib-0.4.6-py2.py3-none-any.whl (18 kB)\n",
      "Collecting werkzeug>=0.11.15\n",
      "  Downloading Werkzeug-2.0.3-py3-none-any.whl (289 kB)\n",
      "\u001b[K     |████████████████████████████████| 289 kB 145.4 MB/s eta 0:00:01\n",
      "\u001b[?25hRequirement already satisfied: google-auth<3,>=1.6.3 in /opt/conda/lib/python3.7/site-packages (from tensorboard>=2.2.0->pytorch-lightning==1.5.5->bo4ka==0.0.1) (2.6.0)\n",
      "Collecting tensorboard-plugin-wit>=1.6.0\n",
      "  Downloading tensorboard_plugin_wit-1.8.1-py3-none-any.whl (781 kB)\n",
      "\u001b[K     |████████████████████████████████| 781 kB 120.7 MB/s eta 0:00:01\n",
      "\u001b[?25hRequirement already satisfied: grpcio>=1.24.3 in /opt/conda/lib/python3.7/site-packages (from tensorboard>=2.2.0->pytorch-lightning==1.5.5->bo4ka==0.0.1) (1.43.0)\n",
      "Collecting absl-py>=0.4\n",
      "  Downloading absl_py-1.0.0-py3-none-any.whl (126 kB)\n",
      "\u001b[K     |████████████████████████████████| 126 kB 148.4 MB/s eta 0:00:01\n",
      "\u001b[?25hRequirement already satisfied: rsa<5,>=3.1.4 in /opt/conda/lib/python3.7/site-packages (from google-auth<3,>=1.6.3->tensorboard>=2.2.0->pytorch-lightning==1.5.5->bo4ka==0.0.1) (4.8)\n",
      "Requirement already satisfied: cachetools<6.0,>=2.0.0 in /opt/conda/lib/python3.7/site-packages (from google-auth<3,>=1.6.3->tensorboard>=2.2.0->pytorch-lightning==1.5.5->bo4ka==0.0.1) (5.0.0)\n",
      "Requirement already satisfied: pyasn1-modules>=0.2.1 in /opt/conda/lib/python3.7/site-packages (from google-auth<3,>=1.6.3->tensorboard>=2.2.0->pytorch-lightning==1.5.5->bo4ka==0.0.1) (0.2.8)\n",
      "Requirement already satisfied: requests-oauthlib>=0.7.0 in /opt/conda/lib/python3.7/site-packages (from google-auth-oauthlib<0.5,>=0.4.1->tensorboard>=2.2.0->pytorch-lightning==1.5.5->bo4ka==0.0.1) (1.3.1)\n",
      "Requirement already satisfied: pyasn1<0.5.0,>=0.4.6 in /opt/conda/lib/python3.7/site-packages (from pyasn1-modules>=0.2.1->google-auth<3,>=1.6.3->tensorboard>=2.2.0->pytorch-lightning==1.5.5->bo4ka==0.0.1) (0.4.8)\n",
      "Requirement already satisfied: certifi>=2017.4.17 in /opt/conda/lib/python3.7/site-packages (from requests->fsspec[http]!=2021.06.0,>=2021.05.0->pytorch-lightning==1.5.5->bo4ka==0.0.1) (2021.10.8)\n",
      "Requirement already satisfied: chardet<5,>=3.0.2 in /opt/conda/lib/python3.7/site-packages (from requests->fsspec[http]!=2021.06.0,>=2021.05.0->pytorch-lightning==1.5.5->bo4ka==0.0.1) (4.0.0)\n",
      "Requirement already satisfied: urllib3<1.27,>=1.21.1 in /opt/conda/lib/python3.7/site-packages (from requests->fsspec[http]!=2021.06.0,>=2021.05.0->pytorch-lightning==1.5.5->bo4ka==0.0.1) (1.26.6)\n",
      "Requirement already satisfied: oauthlib>=3.0.0 in /opt/conda/lib/python3.7/site-packages (from requests-oauthlib>=0.7.0->google-auth-oauthlib<0.5,>=0.4.1->tensorboard>=2.2.0->pytorch-lightning==1.5.5->bo4ka==0.0.1) (3.2.0)\n",
      "Requirement already satisfied: ptyprocess in /opt/conda/lib/python3.7/site-packages (from terminado>=0.8.3->jupyter-server<2.0.0,>=0.3.0->voila==0.2.16->bo4ka==0.0.1) (0.7.0)\n",
      "Requirement already satisfied: sacremoses in /opt/conda/lib/python3.7/site-packages (from transformers<5.0.0,>=4.6.0->sentence-transformers==2.1.0->bo4ka==0.0.1) (0.0.47)\n",
      "Requirement already satisfied: regex!=2019.12.17 in /opt/conda/lib/python3.7/site-packages (from transformers<5.0.0,>=4.6.0->sentence-transformers==2.1.0->bo4ka==0.0.1) (2022.1.18)\n",
      "Requirement already satisfied: filelock in /opt/conda/lib/python3.7/site-packages (from transformers<5.0.0,>=4.6.0->sentence-transformers==2.1.0->bo4ka==0.0.1) (3.0.12)\n",
      "Requirement already satisfied: yarl<2.0,>=1.0 in /opt/conda/lib/python3.7/site-packages (from aiohttp->fsspec[http]!=2021.06.0,>=2021.05.0->pytorch-lightning==1.5.5->bo4ka==0.0.1) (1.7.2)\n",
      "Requirement already satisfied: charset-normalizer<3.0,>=2.0 in /opt/conda/lib/python3.7/site-packages (from aiohttp->fsspec[http]!=2021.06.0,>=2021.05.0->pytorch-lightning==1.5.5->bo4ka==0.0.1) (2.0.12)\n",
      "Requirement already satisfied: frozenlist>=1.1.1 in /opt/conda/lib/python3.7/site-packages (from aiohttp->fsspec[http]!=2021.06.0,>=2021.05.0->pytorch-lightning==1.5.5->bo4ka==0.0.1) (1.3.0)\n",
      "Requirement already satisfied: multidict<7.0,>=4.5 in /opt/conda/lib/python3.7/site-packages (from aiohttp->fsspec[http]!=2021.06.0,>=2021.05.0->pytorch-lightning==1.5.5->bo4ka==0.0.1) (6.0.2)\n",
      "Requirement already satisfied: aiosignal>=1.1.2 in /opt/conda/lib/python3.7/site-packages (from aiohttp->fsspec[http]!=2021.06.0,>=2021.05.0->pytorch-lightning==1.5.5->bo4ka==0.0.1) (1.2.0)\n",
      "Requirement already satisfied: async-timeout<5.0,>=4.0.0a3 in /opt/conda/lib/python3.7/site-packages (from aiohttp->fsspec[http]!=2021.06.0,>=2021.05.0->pytorch-lightning==1.5.5->bo4ka==0.0.1) (4.0.2)\n",
      "Requirement already satisfied: asynctest==0.13.0 in /opt/conda/lib/python3.7/site-packages (from aiohttp->fsspec[http]!=2021.06.0,>=2021.05.0->pytorch-lightning==1.5.5->bo4ka==0.0.1) (0.13.0)\n",
      "Collecting qudida>=0.0.4\n",
      "  Downloading qudida-0.0.4-py3-none-any.whl (3.5 kB)\n",
      "Collecting tifffile>=2019.7.26\n",
      "  Downloading tifffile-2021.11.2-py3-none-any.whl (178 kB)\n",
      "\u001b[K     |████████████████████████████████| 178 kB 135.5 MB/s eta 0:00:01\n",
      "\u001b[?25hCollecting networkx>=2.2\n",
      "  Downloading networkx-2.6.3-py3-none-any.whl (1.9 MB)\n",
      "\u001b[K     |████████████████████████████████| 1.9 MB 123.0 MB/s eta 0:00:01\n",
      "\u001b[?25hCollecting PyWavelets>=1.1.1\n",
      "  Downloading PyWavelets-1.2.0-cp37-cp37m-manylinux_2_5_x86_64.manylinux1_x86_64.whl (6.1 MB)\n",
      "\u001b[K     |████████████████████████████████| 6.1 MB 120.6 MB/s eta 0:00:01\n",
      "\u001b[?25hCollecting imageio>=2.4.1\n",
      "  Downloading imageio-2.16.0-py3-none-any.whl (3.3 MB)\n",
      "\u001b[K     |████████████████████████████████| 3.3 MB 126.0 MB/s eta 0:00:01\n",
      "\u001b[?25hRequirement already satisfied: threadpoolctl>=2.0.0 in /opt/conda/lib/python3.7/site-packages (from scikit-learn->sentence-transformers==2.1.0->bo4ka==0.0.1) (3.1.0)\n",
      "Requirement already satisfied: joblib>=0.11 in /opt/conda/lib/python3.7/site-packages (from scikit-learn->sentence-transformers==2.1.0->bo4ka==0.0.1) (1.1.0)\n",
      "Requirement already satisfied: argon2-cffi-bindings in /opt/conda/lib/python3.7/site-packages (from argon2-cffi->jupyter-server<2.0.0,>=0.3.0->voila==0.2.16->bo4ka==0.0.1) (21.2.0)\n",
      "Requirement already satisfied: cffi>=1.0.1 in /opt/conda/lib/python3.7/site-packages (from argon2-cffi-bindings->argon2-cffi->jupyter-server<2.0.0,>=0.3.0->voila==0.2.16->bo4ka==0.0.1) (1.14.6)\n",
      "Requirement already satisfied: pycparser in /opt/conda/lib/python3.7/site-packages (from cffi>=1.0.1->argon2-cffi-bindings->argon2-cffi->jupyter-server<2.0.0,>=0.3.0->voila==0.2.16->bo4ka==0.0.1) (2.20)\n",
      "Collecting vidgear>=0.2.4\n",
      "  Downloading vidgear-0.2.5-py3-none-any.whl (111 kB)\n",
      "\u001b[K     |████████████████████████████████| 111 kB 128.4 MB/s eta 0:00:01\n",
      "\u001b[?25hCollecting iopath>=0.1.8\n",
      "  Downloading iopath-0.1.9-py3-none-any.whl (27 kB)\n",
      "Collecting python-magic>=0.4.22\n",
      "  Downloading python_magic-0.4.25-py2.py3-none-any.whl (13 kB)\n",
      "Collecting nlpaug==1.1.3\n",
      "  Downloading nlpaug-1.1.3-py3-none-any.whl (394 kB)\n",
      "\u001b[K     |████████████████████████████████| 394 kB 126.1 MB/s eta 0:00:01\n",
      "\u001b[?25hCollecting portalocker\n",
      "  Downloading portalocker-2.4.0-py2.py3-none-any.whl (16 kB)\n",
      "Collecting cython\n",
      "  Downloading Cython-0.29.28-cp37-cp37m-manylinux_2_17_x86_64.manylinux2014_x86_64.manylinux_2_24_x86_64.whl (1.9 MB)\n",
      "\u001b[K     |████████████████████████████████| 1.9 MB 132.8 MB/s eta 0:00:01\n",
      "\u001b[?25hCollecting colorlog\n",
      "  Downloading colorlog-6.6.0-py2.py3-none-any.whl (11 kB)\n",
      "Requirement already satisfied: webencodings in /opt/conda/lib/python3.7/site-packages (from bleach->nbconvert<7,>=6.0.0->voila==0.2.16->bo4ka==0.0.1) (0.5.1)\n",
      "Collecting antlr4-python3-runtime==4.8\n",
      "  Downloading antlr4-python3-runtime-4.8.tar.gz (112 kB)\n",
      "\u001b[K     |████████████████████████████████| 112 kB 133.9 MB/s eta 0:00:01\n",
      "\u001b[?25hCollecting omegaconf==2.1.*\n",
      "  Downloading omegaconf-2.1.1-py3-none-any.whl (74 kB)\n",
      "\u001b[K     |████████████████████████████████| 74 kB 101.0 MB/s eta 0:00:01\n",
      "\u001b[?25hRequirement already satisfied: ipykernel>=4.5.1 in /opt/conda/lib/python3.7/site-packages (from ipywidgets->bo4ka==0.0.1) (6.9.0)\n",
      "Requirement already satisfied: widgetsnbextension~=3.5.0 in /opt/conda/lib/python3.7/site-packages (from ipywidgets->bo4ka==0.0.1) (3.5.2)\n",
      "Requirement already satisfied: jupyterlab-widgets>=1.0.0 in /opt/conda/lib/python3.7/site-packages (from ipywidgets->bo4ka==0.0.1) (1.0.2)\n",
      "Requirement already satisfied: ipython>=4.0.0 in /opt/conda/lib/python3.7/site-packages (from ipywidgets->bo4ka==0.0.1) (7.27.0)\n",
      "Requirement already satisfied: matplotlib-inline<0.2.0,>=0.1.0 in /opt/conda/lib/python3.7/site-packages (from ipykernel>=4.5.1->ipywidgets->bo4ka==0.0.1) (0.1.2)\n",
      "Requirement already satisfied: debugpy<2.0,>=1.0.0 in /opt/conda/lib/python3.7/site-packages (from ipykernel>=4.5.1->ipywidgets->bo4ka==0.0.1) (1.5.1)\n",
      "Requirement already satisfied: jedi>=0.16 in /opt/conda/lib/python3.7/site-packages (from ipython>=4.0.0->ipywidgets->bo4ka==0.0.1) (0.18.0)\n",
      "Requirement already satisfied: pexpect>4.3 in /opt/conda/lib/python3.7/site-packages (from ipython>=4.0.0->ipywidgets->bo4ka==0.0.1) (4.8.0)\n",
      "Requirement already satisfied: decorator in /opt/conda/lib/python3.7/site-packages (from ipython>=4.0.0->ipywidgets->bo4ka==0.0.1) (5.1.0)\n",
      "Requirement already satisfied: backcall in /opt/conda/lib/python3.7/site-packages (from ipython>=4.0.0->ipywidgets->bo4ka==0.0.1) (0.2.0)\n",
      "Requirement already satisfied: pickleshare in /opt/conda/lib/python3.7/site-packages (from ipython>=4.0.0->ipywidgets->bo4ka==0.0.1) (0.7.5)\n",
      "Requirement already satisfied: parso<0.9.0,>=0.8.0 in /opt/conda/lib/python3.7/site-packages (from jedi>=0.16->ipython>=4.0.0->ipywidgets->bo4ka==0.0.1) (0.8.2)\n",
      "Requirement already satisfied: wcwidth in /opt/conda/lib/python3.7/site-packages (from prompt-toolkit->click-repl>=0.1.6->celery[redis]==5.1.2->bo4ka==0.0.1) (0.2.5)\n",
      "Requirement already satisfied: nbclassic~=0.2 in /opt/conda/lib/python3.7/site-packages (from jupyterlab->bo4ka==0.0.1) (0.3.5)\n",
      "Requirement already satisfied: jupyterlab-server~=2.3 in /opt/conda/lib/python3.7/site-packages (from jupyterlab->bo4ka==0.0.1) (2.10.3)\n",
      "Requirement already satisfied: babel in /opt/conda/lib/python3.7/site-packages (from jupyterlab-server~=2.3->jupyterlab->bo4ka==0.0.1) (2.9.1)\n",
      "Requirement already satisfied: json5 in /opt/conda/lib/python3.7/site-packages (from jupyterlab-server~=2.3->jupyterlab->bo4ka==0.0.1) (0.9.6)\n",
      "Collecting py>=1.8.2\n",
      "  Downloading py-1.11.0-py2.py3-none-any.whl (98 kB)\n",
      "\u001b[K     |████████████████████████████████| 98 kB 119.3 MB/s eta 0:00:01\n",
      "\u001b[?25hCollecting pluggy<2.0,>=0.12\n",
      "  Downloading pluggy-1.0.0-py2.py3-none-any.whl (13 kB)\n",
      "Collecting iniconfig\n",
      "  Downloading iniconfig-1.1.1-py2.py3-none-any.whl (5.0 kB)\n",
      "Requirement already satisfied: psutil>=5.0.0 in /opt/conda/lib/python3.7/site-packages (from wandb->bo4ka==0.0.1) (5.8.0)\n",
      "Requirement already satisfied: GitPython>=1.0.0 in /opt/conda/lib/python3.7/site-packages (from wandb->bo4ka==0.0.1) (3.1.26)\n",
      "Collecting sentry-sdk>=1.0.0\n",
      "  Downloading sentry_sdk-1.5.5-py2.py3-none-any.whl (144 kB)\n",
      "\u001b[K     |████████████████████████████████| 144 kB 139.7 MB/s eta 0:00:01\n",
      "\u001b[?25hCollecting pathtools\n",
      "  Downloading pathtools-0.1.2.tar.gz (11 kB)\n",
      "Collecting shortuuid>=0.5.0\n",
      "  Downloading shortuuid-1.0.8-py3-none-any.whl (9.5 kB)\n",
      "Collecting yaspin>=1.0.0\n",
      "  Downloading yaspin-2.1.0-py3-none-any.whl (18 kB)\n",
      "Collecting promise<3,>=2.0\n",
      "  Downloading promise-2.3.tar.gz (19 kB)\n",
      "Collecting docker-pycreds>=0.4.0\n",
      "  Downloading docker_pycreds-0.4.0-py2.py3-none-any.whl (9.0 kB)\n",
      "Requirement already satisfied: gitdb<5,>=4.0.1 in /opt/conda/lib/python3.7/site-packages (from GitPython>=1.0.0->wandb->bo4ka==0.0.1) (4.0.9)\n",
      "Requirement already satisfied: smmap<6,>=3.0.1 in /opt/conda/lib/python3.7/site-packages (from gitdb<5,>=4.0.1->GitPython>=1.0.0->wandb->bo4ka==0.0.1) (5.0.0)\n",
      "Collecting termcolor<2.0.0,>=1.1.0\n",
      "  Downloading termcolor-1.1.0.tar.gz (3.9 kB)\n",
      "Collecting braceexpand\n",
      "  Downloading braceexpand-0.1.7-py2.py3-none-any.whl (5.9 kB)\n",
      "Building wheels for collected packages: bo4ka, future, easydict, antlr4-python3-runtime, sklearn, promise, termcolor, pathtools\n",
      "  Building wheel for bo4ka (setup.py) ... \u001b[?25ldone\n",
      "\u001b[?25h  Created wheel for bo4ka: filename=bo4ka-0.0.1-py3-none-any.whl size=70507 sha256=208fc233ead25648005974be8ce32c3759cfc283526d8689f3d38c1446a721b6\n",
      "  Stored in directory: /tmp/pip-ephem-wheel-cache-shdwa3jx/wheels/e1/b8/b6/e92e89bb4be582f8f1bcc26b55bff6ee8a938a9eff03addb72\n",
      "  Building wheel for future (setup.py) ... \u001b[?25ldone\n",
      "\u001b[?25h  Created wheel for future: filename=future-0.18.2-py3-none-any.whl size=491070 sha256=fadda9d88b352d2aadaf1dff2280046fe964a21c38d88dac8e61820ec50f00b9\n",
      "  Stored in directory: /tmp/pip-ephem-wheel-cache-shdwa3jx/wheels/56/b0/fe/4410d17b32f1f0c3cf54cdfb2bc04d7b4b8f4ae377e2229ba0\n",
      "  Building wheel for easydict (setup.py) ... \u001b[?25ldone\n",
      "\u001b[?25h  Created wheel for easydict: filename=easydict-1.9-py3-none-any.whl size=6361 sha256=41811687a4f2a0a5d493ce63bfd59335223790737c370dcb3cd8039b93ebd9dc\n",
      "  Stored in directory: /tmp/pip-ephem-wheel-cache-shdwa3jx/wheels/88/96/68/c2be18e7406804be2e593e1c37845f2dd20ac2ce1381ce40b0\n",
      "  Building wheel for antlr4-python3-runtime (setup.py) ... \u001b[?25ldone\n",
      "\u001b[?25h  Created wheel for antlr4-python3-runtime: filename=antlr4_python3_runtime-4.8-py3-none-any.whl size=141229 sha256=28ddc67dae91a30c908d32be7aba9057eedd607bf1e10696ed1ba24ecbcd25d1\n",
      "  Stored in directory: /tmp/pip-ephem-wheel-cache-shdwa3jx/wheels/ca/33/b7/336836125fc9bb4ceaa4376d8abca10ca8bc84ddc824baea6c\n",
      "  Building wheel for sklearn (setup.py) ... \u001b[?25ldone\n",
      "\u001b[?25h  Created wheel for sklearn: filename=sklearn-0.0-py2.py3-none-any.whl size=1309 sha256=5ea907bb4fa06901d906ec0a034e19ccf3727678d2e9e77ae5c1e8cf00606089\n",
      "  Stored in directory: /tmp/pip-ephem-wheel-cache-shdwa3jx/wheels/46/ef/c3/157e41f5ee1372d1be90b09f74f82b10e391eaacca8f22d33e\n",
      "  Building wheel for promise (setup.py) ... \u001b[?25ldone\n",
      "\u001b[?25h  Created wheel for promise: filename=promise-2.3-py3-none-any.whl size=21502 sha256=c58d74a26ad2f65ef215959741303bc323389fbf1f81a34b9cc50787ff175f7c\n",
      "  Stored in directory: /tmp/pip-ephem-wheel-cache-shdwa3jx/wheels/29/93/c6/762e359f8cb6a5b69c72235d798804cae523bbe41c2aa8333d\n",
      "  Building wheel for termcolor (setup.py) ... \u001b[?25ldone\n",
      "\u001b[?25h  Created wheel for termcolor: filename=termcolor-1.1.0-py3-none-any.whl size=4847 sha256=fac2014fd9a5de5a0cf08862154ba83dc194f95a0351ff41e420e882572270c3\n",
      "  Stored in directory: /tmp/pip-ephem-wheel-cache-shdwa3jx/wheels/3f/e3/ec/8a8336ff196023622fbcb36de0c5a5c218cbb24111d1d4c7f2\n",
      "  Building wheel for pathtools (setup.py) ... \u001b[?25ldone\n",
      "\u001b[?25h  Created wheel for pathtools: filename=pathtools-0.1.2-py3-none-any.whl size=8806 sha256=24fa0c8b574ba4333adb9ed5abebd84d1d7d3807dda40c66c0ed97af175e7fe8\n",
      "  Stored in directory: /tmp/pip-ephem-wheel-cache-shdwa3jx/wheels/3e/31/09/fa59cef12cdcfecc627b3d24273699f390e71828921b2cbba2\n",
      "Successfully built bo4ka future easydict antlr4-python3-runtime sklearn promise termcolor pathtools\n",
      "Installing collected packages: jupyter-client, vine, wrapt, tomli, click, cached-property, amqp, werkzeug, tifffile, termcolor, tensorboard-plugin-wit, tensorboard-data-server, setuptools-scm, PyWavelets, pyDeprecate, portalocker, opencv-python-headless, networkx, markdown, kombu, imageio, google-auth-oauthlib, fsspec, fonttools, deprecated, cython, colorlog, click-repl, click-plugins, click-didyoumean, billiard, antlr4-python3-runtime, absl-py, yaspin, vidgear, torchmetrics, tensorboard, shortuuid, sentry-sdk, scikit-image, redis, qudida, python-magic, py, promise, pluggy, pathtools, opencv-python, omegaconf, nlpaug, matplotlib, kornia, iopath, iniconfig, future, docker-pycreds, celery, braceexpand, webdataset, wandb, voila, timm, sklearn, seaborn, pytorch-lightning, pytest, pymongo, kornia-moons, hydra-core, h5py, easydict, augly, albumentations, bo4ka\n",
      "  Attempting uninstall: jupyter-client\n",
      "    Found existing installation: jupyter-client 7.1.2\n",
      "    Uninstalling jupyter-client-7.1.2:\n",
      "      Successfully uninstalled jupyter-client-7.1.2\n",
      "  Attempting uninstall: click\n",
      "    Found existing installation: click 8.0.1\n",
      "    Uninstalling click-8.0.1:\n",
      "      Successfully uninstalled click-8.0.1\n",
      "  Attempting uninstall: matplotlib\n",
      "    Found existing installation: matplotlib 3.4.3\n",
      "    Uninstalling matplotlib-3.4.3:\n",
      "      Successfully uninstalled matplotlib-3.4.3\n",
      "  Attempting uninstall: pymongo\n",
      "    Found existing installation: pymongo 4.0.1\n",
      "    Uninstalling pymongo-4.0.1:\n",
      "      Successfully uninstalled pymongo-4.0.1\n",
      "Successfully installed PyWavelets-1.2.0 absl-py-1.0.0 albumentations-1.1.0 amqp-5.0.9 antlr4-python3-runtime-4.8 augly-0.2.1 billiard-3.6.4.0 bo4ka-0.0.1 braceexpand-0.1.7 cached-property-1.5.2 celery-5.1.2 click-7.1.2 click-didyoumean-0.3.0 click-plugins-1.1.1 click-repl-0.2.0 colorlog-6.6.0 cython-0.29.28 deprecated-1.2.13 docker-pycreds-0.4.0 easydict-1.9 fonttools-4.29.1 fsspec-2022.1.0 future-0.18.2 google-auth-oauthlib-0.4.6 h5py-3.6.0 hydra-core-1.1.1 imageio-2.16.0 iniconfig-1.1.1 iopath-0.1.9 jupyter-client-6.1.12 kombu-5.2.3 kornia-0.6.3 kornia-moons-0.1.7 markdown-3.3.6 matplotlib-3.5.0 networkx-2.6.3 nlpaug-1.1.3 omegaconf-2.1.1 opencv-python-4.5.5.62 opencv-python-headless-4.5.4.60 pathtools-0.1.2 pluggy-1.0.0 portalocker-2.4.0 promise-2.3 py-1.11.0 pyDeprecate-0.3.1 pymongo-4.0 pytest-7.0.1 python-magic-0.4.25 pytorch-lightning-1.5.5 qudida-0.0.4 redis-4.1.4 scikit-image-0.19.2 seaborn-0.11.2 sentry-sdk-1.5.5 setuptools-scm-6.4.2 shortuuid-1.0.8 sklearn-0.0 tensorboard-2.8.0 tensorboard-data-server-0.6.1 tensorboard-plugin-wit-1.8.1 termcolor-1.1.0 tifffile-2021.11.2 timm-0.5.4 tomli-2.0.1 torchmetrics-0.7.2 vidgear-0.2.5 vine-5.0.0 voila-0.2.16 wandb-0.12.10 webdataset-0.1.103 werkzeug-2.0.3 wrapt-1.13.3 yaspin-2.1.0\n"
     ]
    }
   ],
   "source": [
    "# install bo4ka\n",
    "!pip install git+https://<git_token>@github.com/memlish/bo4ka.git --no-cache-dir"
   ]
  },
  {
   "cell_type": "code",
   "execution_count": 32,
   "id": "80034854-ff9a-4d82-885c-5ff3f1afa15f",
   "metadata": {},
   "outputs": [],
   "source": [
    "import bo4ka\n",
    "from bo4ka.embeddings.generators import WangHelsingEmbeddingGenerator, WangHelsingConfig\n",
    "from bo4ka.matching.pipelines.p00_wanghelsing_loftr import Pipeline_00_WangHelsing_LoFTR\n",
    "from bo4ka.nn.loftr import LoFTR"
   ]
  },
  {
   "cell_type": "code",
   "execution_count": 35,
   "id": "5300e77d-8147-4adf-8274-b5bde421491c",
   "metadata": {},
   "outputs": [],
   "source": [
    "cfg = WangHelsingConfig(batch_size=16, num_workers=0, device='cpu')\n",
    "\n",
    "wang_helsing = WangHelsingEmbeddingGenerator(V1_IMAGE_DIR, cfg=cfg)"
   ]
  },
  {
   "cell_type": "code",
   "execution_count": 36,
   "id": "c557fe89-8460-451d-8217-e42dae8a3fe4",
   "metadata": {},
   "outputs": [],
   "source": [
    "image_files = [i.name for i in V1_IMAGE_DIR.ls()]"
   ]
  },
  {
   "cell_type": "code",
   "execution_count": 38,
   "id": "58ba9544-7b5a-49b7-8a99-20e43df970e2",
   "metadata": {},
   "outputs": [
    {
     "data": {
      "application/vnd.jupyter.widget-view+json": {
       "model_id": "",
       "version_major": 2,
       "version_minor": 0
      },
      "text/plain": [
       "Calculate descriptors:   0%|          | 0/2 [00:00<?, ?it/s]"
      ]
     },
     "metadata": {},
     "output_type": "display_data"
    },
    {
     "data": {
      "application/vnd.jupyter.widget-view+json": {
       "model_id": "",
       "version_major": 2,
       "version_minor": 0
      },
      "text/plain": [
       "imsize=768:   0%|          | 0/74 [00:00<?, ?it/s]"
      ]
     },
     "metadata": {},
     "output_type": "display_data"
    },
    {
     "data": {
      "application/vnd.jupyter.widget-view+json": {
       "model_id": "",
       "version_major": 2,
       "version_minor": 0
      },
      "text/plain": [
       "imsize=128:   0%|          | 0/74 [00:00<?, ?it/s]"
      ]
     },
     "metadata": {},
     "output_type": "display_data"
    }
   ],
   "source": [
    "embs_filenames, embs = wang_helsing.get_embeddings(image_files)"
   ]
  },
  {
   "cell_type": "code",
   "execution_count": 44,
   "id": "0e5bb633-9454-4fd1-aafa-5c0286cc00bf",
   "metadata": {},
   "outputs": [],
   "source": [
    "embs_filenames = [V1_IMAGE_DIR/f for f in embs_filenames]\n",
    "matcher = LoFTR(device='cpu')\n",
    "\n",
    "pipeline = Pipeline_00_WangHelsing_LoFTR(\n",
    "    template_files=embs_filenames,\n",
    "    template_desc=embs,\n",
    "    embedding_generator=wang_helsing,\n",
    "    loftr=matcher)"
   ]
  },
  {
   "cell_type": "code",
   "execution_count": 46,
   "id": "c496909a-a889-4529-bc57-aa9d24bf20d4",
   "metadata": {},
   "outputs": [
    {
     "data": {
      "application/vnd.jupyter.widget-view+json": {
       "model_id": "",
       "version_major": 2,
       "version_minor": 0
      },
      "text/plain": [
       "Calculate descriptors:   0%|          | 0/2 [00:00<?, ?it/s]"
      ]
     },
     "metadata": {},
     "output_type": "display_data"
    },
    {
     "data": {
      "application/vnd.jupyter.widget-view+json": {
       "model_id": "",
       "version_major": 2,
       "version_minor": 0
      },
      "text/plain": [
       "imsize=768:   0%|          | 0/74 [00:00<?, ?it/s]"
      ]
     },
     "metadata": {},
     "output_type": "display_data"
    },
    {
     "data": {
      "application/vnd.jupyter.widget-view+json": {
       "model_id": "",
       "version_major": 2,
       "version_minor": 0
      },
      "text/plain": [
       "imsize=128:   0%|          | 0/74 [00:00<?, ?it/s]"
      ]
     },
     "metadata": {},
     "output_type": "display_data"
    },
    {
     "data": {
      "application/vnd.jupyter.widget-view+json": {
       "model_id": "917c28546a304673bc048091bf6bfb80",
       "version_major": 2,
       "version_minor": 0
      },
      "text/plain": [
       "  0%|          | 0/1850 [00:00<?, ?it/s]"
      ]
     },
     "metadata": {},
     "output_type": "display_data"
    },
    {
     "ename": "KeyboardInterrupt",
     "evalue": "",
     "output_type": "error",
     "traceback": [
      "\u001b[0;31m---------------------------------------------------------------------------\u001b[0m",
      "\u001b[0;31mKeyboardInterrupt\u001b[0m                         Traceback (most recent call last)",
      "\u001b[0;32m/tmp/ipykernel_271/3083162785.py\u001b[0m in \u001b[0;36m<module>\u001b[0;34m\u001b[0m\n\u001b[0;32m----> 1\u001b[0;31m \u001b[0mmatches_df\u001b[0m \u001b[0;34m=\u001b[0m \u001b[0mpipeline\u001b[0m\u001b[0;34m.\u001b[0m\u001b[0mprocess_queries\u001b[0m\u001b[0;34m(\u001b[0m\u001b[0membs_filenames\u001b[0m\u001b[0;34m,\u001b[0m \u001b[0mtop_k\u001b[0m\u001b[0;34m=\u001b[0m\u001b[0;36m50\u001b[0m\u001b[0;34m)\u001b[0m\u001b[0;34m\u001b[0m\u001b[0;34m\u001b[0m\u001b[0m\n\u001b[0m",
      "\u001b[0;32m/opt/conda/lib/python3.7/site-packages/bo4ka/matching/pipelines/p00_wanghelsing_loftr.py\u001b[0m in \u001b[0;36mprocess_queries\u001b[0;34m(self, query_files, top_k)\u001b[0m\n\u001b[1;32m     65\u001b[0m     \u001b[0;32mdef\u001b[0m \u001b[0mprocess_queries\u001b[0m\u001b[0;34m(\u001b[0m\u001b[0mself\u001b[0m\u001b[0;34m,\u001b[0m \u001b[0mquery_files\u001b[0m\u001b[0;34m,\u001b[0m \u001b[0mtop_k\u001b[0m\u001b[0;34m=\u001b[0m\u001b[0;36m10\u001b[0m\u001b[0;34m)\u001b[0m\u001b[0;34m:\u001b[0m\u001b[0;34m\u001b[0m\u001b[0;34m\u001b[0m\u001b[0m\n\u001b[1;32m     66\u001b[0m         \u001b[0mmatch_df\u001b[0m \u001b[0;34m=\u001b[0m \u001b[0mself\u001b[0m\u001b[0;34m.\u001b[0m\u001b[0mget_first_stage_candidates\u001b[0m\u001b[0;34m(\u001b[0m\u001b[0mquery_files\u001b[0m\u001b[0;34m,\u001b[0m \u001b[0mtop_k\u001b[0m\u001b[0;34m)\u001b[0m\u001b[0;34m\u001b[0m\u001b[0;34m\u001b[0m\u001b[0m\n\u001b[0;32m---> 67\u001b[0;31m         \u001b[0mpredictions\u001b[0m \u001b[0;34m=\u001b[0m \u001b[0mloftr_rerank\u001b[0m\u001b[0;34m(\u001b[0m\u001b[0mmatch_df\u001b[0m\u001b[0;34m,\u001b[0m \u001b[0mself\u001b[0m\u001b[0;34m.\u001b[0m\u001b[0mloftr\u001b[0m\u001b[0;34m,\u001b[0m \u001b[0mself\u001b[0m\u001b[0;34m.\u001b[0m\u001b[0mcfg\u001b[0m\u001b[0;34m)\u001b[0m\u001b[0;34m\u001b[0m\u001b[0;34m\u001b[0m\u001b[0m\n\u001b[0m\u001b[1;32m     68\u001b[0m         \u001b[0;32mreturn\u001b[0m \u001b[0mpredictions\u001b[0m\u001b[0;34m\u001b[0m\u001b[0;34m\u001b[0m\u001b[0m\n\u001b[1;32m     69\u001b[0m \u001b[0;34m\u001b[0m\u001b[0m\n",
      "\u001b[0;32m/opt/conda/lib/python3.7/site-packages/bo4ka/matching/pipelines/p00_wanghelsing_loftr.py\u001b[0m in \u001b[0;36mloftr_rerank\u001b[0;34m(match_df, loftr, cfg, emb_score_col, loftr_score_col)\u001b[0m\n\u001b[1;32m     23\u001b[0m \u001b[0;34m\u001b[0m\u001b[0m\n\u001b[1;32m     24\u001b[0m     batch_correspondences = loftr.find_correspondences(\n\u001b[0;32m---> 25\u001b[0;31m         match_df['query_file'].values, match_df['template_file'].values, batch_size=cfg.batch_size)\n\u001b[0m\u001b[1;32m     26\u001b[0m     \u001b[0mloftr_df\u001b[0m \u001b[0;34m=\u001b[0m \u001b[0mpd\u001b[0m\u001b[0;34m.\u001b[0m\u001b[0mDataFrame\u001b[0m\u001b[0;34m(\u001b[0m\u001b[0mbatch_correspondences\u001b[0m\u001b[0;34m)\u001b[0m\u001b[0;34m\u001b[0m\u001b[0;34m\u001b[0m\u001b[0m\n\u001b[1;32m     27\u001b[0m     \u001b[0mmatch_df\u001b[0m\u001b[0;34m[\u001b[0m\u001b[0;34m'loftr_confidence_sum'\u001b[0m\u001b[0;34m]\u001b[0m \u001b[0;34m=\u001b[0m \u001b[0mloftr_df\u001b[0m\u001b[0;34m[\u001b[0m\u001b[0;34m'sum'\u001b[0m\u001b[0;34m]\u001b[0m\u001b[0;34m\u001b[0m\u001b[0;34m\u001b[0m\u001b[0m\n",
      "\u001b[0;32m/opt/conda/lib/python3.7/site-packages/bo4ka/nn/loftr.py\u001b[0m in \u001b[0;36mfind_correspondences\u001b[0;34m(self, files_a, files_b, target_size, batch_size, verbose)\u001b[0m\n\u001b[1;32m     83\u001b[0m                 files_b[from_i:to_i], target_size=target_size)\n\u001b[1;32m     84\u001b[0m \u001b[0;34m\u001b[0m\u001b[0m\n\u001b[0;32m---> 85\u001b[0;31m             \u001b[0mcorrespondences\u001b[0m \u001b[0;34m=\u001b[0m \u001b[0mself\u001b[0m\u001b[0;34m.\u001b[0m\u001b[0m_find_correspondences\u001b[0m\u001b[0;34m(\u001b[0m\u001b[0mimgs_a\u001b[0m\u001b[0;34m,\u001b[0m \u001b[0mimgs_b\u001b[0m\u001b[0;34m)\u001b[0m\u001b[0;34m\u001b[0m\u001b[0;34m\u001b[0m\u001b[0m\n\u001b[0m\u001b[1;32m     86\u001b[0m \u001b[0;34m\u001b[0m\u001b[0m\n\u001b[1;32m     87\u001b[0m             correspondences = {k: correspondences[k].cpu().numpy()\n",
      "\u001b[0;32m/opt/conda/lib/python3.7/site-packages/bo4ka/nn/loftr.py\u001b[0m in \u001b[0;36m_find_correspondences\u001b[0;34m(self, img0, img1, explude_keys)\u001b[0m\n\u001b[1;32m     60\u001b[0m                 warnings.filterwarnings(\n\u001b[1;32m     61\u001b[0m                     \"ignore\", message=\"__floordiv__ is deprecated\")\n\u001b[0;32m---> 62\u001b[0;31m                 \u001b[0mcorrespondences\u001b[0m \u001b[0;34m=\u001b[0m \u001b[0mself\u001b[0m\u001b[0;34m.\u001b[0m\u001b[0mmatcher\u001b[0m\u001b[0;34m(\u001b[0m\u001b[0minput_dict\u001b[0m\u001b[0;34m)\u001b[0m\u001b[0;34m\u001b[0m\u001b[0;34m\u001b[0m\u001b[0m\n\u001b[0m\u001b[1;32m     63\u001b[0m \u001b[0;34m\u001b[0m\u001b[0m\n\u001b[1;32m     64\u001b[0m         \u001b[0;32mreturn\u001b[0m \u001b[0mcorrespondences\u001b[0m\u001b[0;34m\u001b[0m\u001b[0;34m\u001b[0m\u001b[0m\n",
      "\u001b[0;32m/opt/conda/lib/python3.7/site-packages/torch/nn/modules/module.py\u001b[0m in \u001b[0;36m_call_impl\u001b[0;34m(self, *input, **kwargs)\u001b[0m\n\u001b[1;32m   1100\u001b[0m         if not (self._backward_hooks or self._forward_hooks or self._forward_pre_hooks or _global_backward_hooks\n\u001b[1;32m   1101\u001b[0m                 or _global_forward_hooks or _global_forward_pre_hooks):\n\u001b[0;32m-> 1102\u001b[0;31m             \u001b[0;32mreturn\u001b[0m \u001b[0mforward_call\u001b[0m\u001b[0;34m(\u001b[0m\u001b[0;34m*\u001b[0m\u001b[0minput\u001b[0m\u001b[0;34m,\u001b[0m \u001b[0;34m**\u001b[0m\u001b[0mkwargs\u001b[0m\u001b[0;34m)\u001b[0m\u001b[0;34m\u001b[0m\u001b[0;34m\u001b[0m\u001b[0m\n\u001b[0m\u001b[1;32m   1103\u001b[0m         \u001b[0;31m# Do not call functions when jit is used\u001b[0m\u001b[0;34m\u001b[0m\u001b[0;34m\u001b[0m\u001b[0;34m\u001b[0m\u001b[0m\n\u001b[1;32m   1104\u001b[0m         \u001b[0mfull_backward_hooks\u001b[0m\u001b[0;34m,\u001b[0m \u001b[0mnon_full_backward_hooks\u001b[0m \u001b[0;34m=\u001b[0m \u001b[0;34m[\u001b[0m\u001b[0;34m]\u001b[0m\u001b[0;34m,\u001b[0m \u001b[0;34m[\u001b[0m\u001b[0;34m]\u001b[0m\u001b[0;34m\u001b[0m\u001b[0;34m\u001b[0m\u001b[0m\n",
      "\u001b[0;32m/opt/conda/lib/python3.7/site-packages/kornia/feature/loftr/loftr.py\u001b[0m in \u001b[0;36mforward\u001b[0;34m(self, data)\u001b[0m\n\u001b[1;32m    124\u001b[0m \u001b[0;34m\u001b[0m\u001b[0m\n\u001b[1;32m    125\u001b[0m         \u001b[0;32mif\u001b[0m \u001b[0mdata\u001b[0m\u001b[0;34m[\u001b[0m\u001b[0;34m'hw0_i'\u001b[0m\u001b[0;34m]\u001b[0m \u001b[0;34m==\u001b[0m \u001b[0mdata\u001b[0m\u001b[0;34m[\u001b[0m\u001b[0;34m'hw1_i'\u001b[0m\u001b[0;34m]\u001b[0m\u001b[0;34m:\u001b[0m  \u001b[0;31m# faster & better BN convergence\u001b[0m\u001b[0;34m\u001b[0m\u001b[0;34m\u001b[0m\u001b[0m\n\u001b[0;32m--> 126\u001b[0;31m             \u001b[0mfeats_c\u001b[0m\u001b[0;34m,\u001b[0m \u001b[0mfeats_f\u001b[0m \u001b[0;34m=\u001b[0m \u001b[0mself\u001b[0m\u001b[0;34m.\u001b[0m\u001b[0mbackbone\u001b[0m\u001b[0;34m(\u001b[0m\u001b[0mtorch\u001b[0m\u001b[0;34m.\u001b[0m\u001b[0mcat\u001b[0m\u001b[0;34m(\u001b[0m\u001b[0;34m[\u001b[0m\u001b[0mdata\u001b[0m\u001b[0;34m[\u001b[0m\u001b[0;34m'image0'\u001b[0m\u001b[0;34m]\u001b[0m\u001b[0;34m,\u001b[0m \u001b[0mdata\u001b[0m\u001b[0;34m[\u001b[0m\u001b[0;34m'image1'\u001b[0m\u001b[0;34m]\u001b[0m\u001b[0;34m]\u001b[0m\u001b[0;34m,\u001b[0m \u001b[0mdim\u001b[0m\u001b[0;34m=\u001b[0m\u001b[0;36m0\u001b[0m\u001b[0;34m)\u001b[0m\u001b[0;34m)\u001b[0m\u001b[0;34m\u001b[0m\u001b[0;34m\u001b[0m\u001b[0m\n\u001b[0m\u001b[1;32m    127\u001b[0m             \u001b[0;34m(\u001b[0m\u001b[0mfeat_c0\u001b[0m\u001b[0;34m,\u001b[0m \u001b[0mfeat_c1\u001b[0m\u001b[0;34m)\u001b[0m\u001b[0;34m,\u001b[0m \u001b[0;34m(\u001b[0m\u001b[0mfeat_f0\u001b[0m\u001b[0;34m,\u001b[0m \u001b[0mfeat_f1\u001b[0m\u001b[0;34m)\u001b[0m \u001b[0;34m=\u001b[0m \u001b[0mfeats_c\u001b[0m\u001b[0;34m.\u001b[0m\u001b[0msplit\u001b[0m\u001b[0;34m(\u001b[0m\u001b[0mdata\u001b[0m\u001b[0;34m[\u001b[0m\u001b[0;34m'bs'\u001b[0m\u001b[0;34m]\u001b[0m\u001b[0;34m)\u001b[0m\u001b[0;34m,\u001b[0m \u001b[0mfeats_f\u001b[0m\u001b[0;34m.\u001b[0m\u001b[0msplit\u001b[0m\u001b[0;34m(\u001b[0m\u001b[0mdata\u001b[0m\u001b[0;34m[\u001b[0m\u001b[0;34m'bs'\u001b[0m\u001b[0;34m]\u001b[0m\u001b[0;34m)\u001b[0m\u001b[0;34m\u001b[0m\u001b[0;34m\u001b[0m\u001b[0m\n\u001b[1;32m    128\u001b[0m         \u001b[0;32melse\u001b[0m\u001b[0;34m:\u001b[0m  \u001b[0;31m# handle different input shapes\u001b[0m\u001b[0;34m\u001b[0m\u001b[0;34m\u001b[0m\u001b[0m\n",
      "\u001b[0;32m/opt/conda/lib/python3.7/site-packages/torch/nn/modules/module.py\u001b[0m in \u001b[0;36m_call_impl\u001b[0;34m(self, *input, **kwargs)\u001b[0m\n\u001b[1;32m   1100\u001b[0m         if not (self._backward_hooks or self._forward_hooks or self._forward_pre_hooks or _global_backward_hooks\n\u001b[1;32m   1101\u001b[0m                 or _global_forward_hooks or _global_forward_pre_hooks):\n\u001b[0;32m-> 1102\u001b[0;31m             \u001b[0;32mreturn\u001b[0m \u001b[0mforward_call\u001b[0m\u001b[0;34m(\u001b[0m\u001b[0;34m*\u001b[0m\u001b[0minput\u001b[0m\u001b[0;34m,\u001b[0m \u001b[0;34m**\u001b[0m\u001b[0mkwargs\u001b[0m\u001b[0;34m)\u001b[0m\u001b[0;34m\u001b[0m\u001b[0;34m\u001b[0m\u001b[0m\n\u001b[0m\u001b[1;32m   1103\u001b[0m         \u001b[0;31m# Do not call functions when jit is used\u001b[0m\u001b[0;34m\u001b[0m\u001b[0;34m\u001b[0m\u001b[0;34m\u001b[0m\u001b[0m\n\u001b[1;32m   1104\u001b[0m         \u001b[0mfull_backward_hooks\u001b[0m\u001b[0;34m,\u001b[0m \u001b[0mnon_full_backward_hooks\u001b[0m \u001b[0;34m=\u001b[0m \u001b[0;34m[\u001b[0m\u001b[0;34m]\u001b[0m\u001b[0;34m,\u001b[0m \u001b[0;34m[\u001b[0m\u001b[0;34m]\u001b[0m\u001b[0;34m\u001b[0m\u001b[0;34m\u001b[0m\u001b[0m\n",
      "\u001b[0;32m/opt/conda/lib/python3.7/site-packages/kornia/feature/loftr/backbone/resnet_fpn.py\u001b[0m in \u001b[0;36mforward\u001b[0;34m(self, x)\u001b[0m\n\u001b[1;32m    101\u001b[0m         \u001b[0;31m# ResNet Backbone\u001b[0m\u001b[0;34m\u001b[0m\u001b[0;34m\u001b[0m\u001b[0;34m\u001b[0m\u001b[0m\n\u001b[1;32m    102\u001b[0m         \u001b[0mx0\u001b[0m \u001b[0;34m=\u001b[0m \u001b[0mself\u001b[0m\u001b[0;34m.\u001b[0m\u001b[0mrelu\u001b[0m\u001b[0;34m(\u001b[0m\u001b[0mself\u001b[0m\u001b[0;34m.\u001b[0m\u001b[0mbn1\u001b[0m\u001b[0;34m(\u001b[0m\u001b[0mself\u001b[0m\u001b[0;34m.\u001b[0m\u001b[0mconv1\u001b[0m\u001b[0;34m(\u001b[0m\u001b[0mx\u001b[0m\u001b[0;34m)\u001b[0m\u001b[0;34m)\u001b[0m\u001b[0;34m)\u001b[0m\u001b[0;34m\u001b[0m\u001b[0;34m\u001b[0m\u001b[0m\n\u001b[0;32m--> 103\u001b[0;31m         \u001b[0mx1\u001b[0m \u001b[0;34m=\u001b[0m \u001b[0mself\u001b[0m\u001b[0;34m.\u001b[0m\u001b[0mlayer1\u001b[0m\u001b[0;34m(\u001b[0m\u001b[0mx0\u001b[0m\u001b[0;34m)\u001b[0m  \u001b[0;31m# 1/2\u001b[0m\u001b[0;34m\u001b[0m\u001b[0;34m\u001b[0m\u001b[0m\n\u001b[0m\u001b[1;32m    104\u001b[0m         \u001b[0mx2\u001b[0m \u001b[0;34m=\u001b[0m \u001b[0mself\u001b[0m\u001b[0;34m.\u001b[0m\u001b[0mlayer2\u001b[0m\u001b[0;34m(\u001b[0m\u001b[0mx1\u001b[0m\u001b[0;34m)\u001b[0m  \u001b[0;31m# 1/4\u001b[0m\u001b[0;34m\u001b[0m\u001b[0;34m\u001b[0m\u001b[0m\n\u001b[1;32m    105\u001b[0m         \u001b[0mx3\u001b[0m \u001b[0;34m=\u001b[0m \u001b[0mself\u001b[0m\u001b[0;34m.\u001b[0m\u001b[0mlayer3\u001b[0m\u001b[0;34m(\u001b[0m\u001b[0mx2\u001b[0m\u001b[0;34m)\u001b[0m  \u001b[0;31m# 1/8\u001b[0m\u001b[0;34m\u001b[0m\u001b[0;34m\u001b[0m\u001b[0m\n",
      "\u001b[0;32m/opt/conda/lib/python3.7/site-packages/torch/nn/modules/module.py\u001b[0m in \u001b[0;36m_call_impl\u001b[0;34m(self, *input, **kwargs)\u001b[0m\n\u001b[1;32m   1100\u001b[0m         if not (self._backward_hooks or self._forward_hooks or self._forward_pre_hooks or _global_backward_hooks\n\u001b[1;32m   1101\u001b[0m                 or _global_forward_hooks or _global_forward_pre_hooks):\n\u001b[0;32m-> 1102\u001b[0;31m             \u001b[0;32mreturn\u001b[0m \u001b[0mforward_call\u001b[0m\u001b[0;34m(\u001b[0m\u001b[0;34m*\u001b[0m\u001b[0minput\u001b[0m\u001b[0;34m,\u001b[0m \u001b[0;34m**\u001b[0m\u001b[0mkwargs\u001b[0m\u001b[0;34m)\u001b[0m\u001b[0;34m\u001b[0m\u001b[0;34m\u001b[0m\u001b[0m\n\u001b[0m\u001b[1;32m   1103\u001b[0m         \u001b[0;31m# Do not call functions when jit is used\u001b[0m\u001b[0;34m\u001b[0m\u001b[0;34m\u001b[0m\u001b[0;34m\u001b[0m\u001b[0m\n\u001b[1;32m   1104\u001b[0m         \u001b[0mfull_backward_hooks\u001b[0m\u001b[0;34m,\u001b[0m \u001b[0mnon_full_backward_hooks\u001b[0m \u001b[0;34m=\u001b[0m \u001b[0;34m[\u001b[0m\u001b[0;34m]\u001b[0m\u001b[0;34m,\u001b[0m \u001b[0;34m[\u001b[0m\u001b[0;34m]\u001b[0m\u001b[0;34m\u001b[0m\u001b[0;34m\u001b[0m\u001b[0m\n",
      "\u001b[0;32m/opt/conda/lib/python3.7/site-packages/torch/nn/modules/container.py\u001b[0m in \u001b[0;36mforward\u001b[0;34m(self, input)\u001b[0m\n\u001b[1;32m    139\u001b[0m     \u001b[0;32mdef\u001b[0m \u001b[0mforward\u001b[0m\u001b[0;34m(\u001b[0m\u001b[0mself\u001b[0m\u001b[0;34m,\u001b[0m \u001b[0minput\u001b[0m\u001b[0;34m)\u001b[0m\u001b[0;34m:\u001b[0m\u001b[0;34m\u001b[0m\u001b[0;34m\u001b[0m\u001b[0m\n\u001b[1;32m    140\u001b[0m         \u001b[0;32mfor\u001b[0m \u001b[0mmodule\u001b[0m \u001b[0;32min\u001b[0m \u001b[0mself\u001b[0m\u001b[0;34m:\u001b[0m\u001b[0;34m\u001b[0m\u001b[0;34m\u001b[0m\u001b[0m\n\u001b[0;32m--> 141\u001b[0;31m             \u001b[0minput\u001b[0m \u001b[0;34m=\u001b[0m \u001b[0mmodule\u001b[0m\u001b[0;34m(\u001b[0m\u001b[0minput\u001b[0m\u001b[0;34m)\u001b[0m\u001b[0;34m\u001b[0m\u001b[0;34m\u001b[0m\u001b[0m\n\u001b[0m\u001b[1;32m    142\u001b[0m         \u001b[0;32mreturn\u001b[0m \u001b[0minput\u001b[0m\u001b[0;34m\u001b[0m\u001b[0;34m\u001b[0m\u001b[0m\n\u001b[1;32m    143\u001b[0m \u001b[0;34m\u001b[0m\u001b[0m\n",
      "\u001b[0;32m/opt/conda/lib/python3.7/site-packages/torch/nn/modules/module.py\u001b[0m in \u001b[0;36m_call_impl\u001b[0;34m(self, *input, **kwargs)\u001b[0m\n\u001b[1;32m   1100\u001b[0m         if not (self._backward_hooks or self._forward_hooks or self._forward_pre_hooks or _global_backward_hooks\n\u001b[1;32m   1101\u001b[0m                 or _global_forward_hooks or _global_forward_pre_hooks):\n\u001b[0;32m-> 1102\u001b[0;31m             \u001b[0;32mreturn\u001b[0m \u001b[0mforward_call\u001b[0m\u001b[0;34m(\u001b[0m\u001b[0;34m*\u001b[0m\u001b[0minput\u001b[0m\u001b[0;34m,\u001b[0m \u001b[0;34m**\u001b[0m\u001b[0mkwargs\u001b[0m\u001b[0;34m)\u001b[0m\u001b[0;34m\u001b[0m\u001b[0;34m\u001b[0m\u001b[0m\n\u001b[0m\u001b[1;32m   1103\u001b[0m         \u001b[0;31m# Do not call functions when jit is used\u001b[0m\u001b[0;34m\u001b[0m\u001b[0;34m\u001b[0m\u001b[0;34m\u001b[0m\u001b[0m\n\u001b[1;32m   1104\u001b[0m         \u001b[0mfull_backward_hooks\u001b[0m\u001b[0;34m,\u001b[0m \u001b[0mnon_full_backward_hooks\u001b[0m \u001b[0;34m=\u001b[0m \u001b[0;34m[\u001b[0m\u001b[0;34m]\u001b[0m\u001b[0;34m,\u001b[0m \u001b[0;34m[\u001b[0m\u001b[0;34m]\u001b[0m\u001b[0;34m\u001b[0m\u001b[0;34m\u001b[0m\u001b[0m\n",
      "\u001b[0;32m/opt/conda/lib/python3.7/site-packages/kornia/feature/loftr/backbone/resnet_fpn.py\u001b[0m in \u001b[0;36mforward\u001b[0;34m(self, x)\u001b[0m\n\u001b[1;32m     33\u001b[0m         \u001b[0my\u001b[0m \u001b[0;34m=\u001b[0m \u001b[0mx\u001b[0m\u001b[0;34m\u001b[0m\u001b[0;34m\u001b[0m\u001b[0m\n\u001b[1;32m     34\u001b[0m         \u001b[0my\u001b[0m \u001b[0;34m=\u001b[0m \u001b[0mself\u001b[0m\u001b[0;34m.\u001b[0m\u001b[0mrelu\u001b[0m\u001b[0;34m(\u001b[0m\u001b[0mself\u001b[0m\u001b[0;34m.\u001b[0m\u001b[0mbn1\u001b[0m\u001b[0;34m(\u001b[0m\u001b[0mself\u001b[0m\u001b[0;34m.\u001b[0m\u001b[0mconv1\u001b[0m\u001b[0;34m(\u001b[0m\u001b[0my\u001b[0m\u001b[0;34m)\u001b[0m\u001b[0;34m)\u001b[0m\u001b[0;34m)\u001b[0m\u001b[0;34m\u001b[0m\u001b[0;34m\u001b[0m\u001b[0m\n\u001b[0;32m---> 35\u001b[0;31m         \u001b[0my\u001b[0m \u001b[0;34m=\u001b[0m \u001b[0mself\u001b[0m\u001b[0;34m.\u001b[0m\u001b[0mbn2\u001b[0m\u001b[0;34m(\u001b[0m\u001b[0mself\u001b[0m\u001b[0;34m.\u001b[0m\u001b[0mconv2\u001b[0m\u001b[0;34m(\u001b[0m\u001b[0my\u001b[0m\u001b[0;34m)\u001b[0m\u001b[0;34m)\u001b[0m\u001b[0;34m\u001b[0m\u001b[0;34m\u001b[0m\u001b[0m\n\u001b[0m\u001b[1;32m     36\u001b[0m \u001b[0;34m\u001b[0m\u001b[0m\n\u001b[1;32m     37\u001b[0m         \u001b[0;32mif\u001b[0m \u001b[0mself\u001b[0m\u001b[0;34m.\u001b[0m\u001b[0mdownsample\u001b[0m \u001b[0;32mis\u001b[0m \u001b[0;32mnot\u001b[0m \u001b[0;32mNone\u001b[0m\u001b[0;34m:\u001b[0m\u001b[0;34m\u001b[0m\u001b[0;34m\u001b[0m\u001b[0m\n",
      "\u001b[0;32m/opt/conda/lib/python3.7/site-packages/torch/nn/modules/module.py\u001b[0m in \u001b[0;36m_call_impl\u001b[0;34m(self, *input, **kwargs)\u001b[0m\n\u001b[1;32m   1100\u001b[0m         if not (self._backward_hooks or self._forward_hooks or self._forward_pre_hooks or _global_backward_hooks\n\u001b[1;32m   1101\u001b[0m                 or _global_forward_hooks or _global_forward_pre_hooks):\n\u001b[0;32m-> 1102\u001b[0;31m             \u001b[0;32mreturn\u001b[0m \u001b[0mforward_call\u001b[0m\u001b[0;34m(\u001b[0m\u001b[0;34m*\u001b[0m\u001b[0minput\u001b[0m\u001b[0;34m,\u001b[0m \u001b[0;34m**\u001b[0m\u001b[0mkwargs\u001b[0m\u001b[0;34m)\u001b[0m\u001b[0;34m\u001b[0m\u001b[0;34m\u001b[0m\u001b[0m\n\u001b[0m\u001b[1;32m   1103\u001b[0m         \u001b[0;31m# Do not call functions when jit is used\u001b[0m\u001b[0;34m\u001b[0m\u001b[0;34m\u001b[0m\u001b[0;34m\u001b[0m\u001b[0m\n\u001b[1;32m   1104\u001b[0m         \u001b[0mfull_backward_hooks\u001b[0m\u001b[0;34m,\u001b[0m \u001b[0mnon_full_backward_hooks\u001b[0m \u001b[0;34m=\u001b[0m \u001b[0;34m[\u001b[0m\u001b[0;34m]\u001b[0m\u001b[0;34m,\u001b[0m \u001b[0;34m[\u001b[0m\u001b[0;34m]\u001b[0m\u001b[0;34m\u001b[0m\u001b[0;34m\u001b[0m\u001b[0m\n",
      "\u001b[0;32m/opt/conda/lib/python3.7/site-packages/torch/nn/modules/conv.py\u001b[0m in \u001b[0;36mforward\u001b[0;34m(self, input)\u001b[0m\n\u001b[1;32m    444\u001b[0m \u001b[0;34m\u001b[0m\u001b[0m\n\u001b[1;32m    445\u001b[0m     \u001b[0;32mdef\u001b[0m \u001b[0mforward\u001b[0m\u001b[0;34m(\u001b[0m\u001b[0mself\u001b[0m\u001b[0;34m,\u001b[0m \u001b[0minput\u001b[0m\u001b[0;34m:\u001b[0m \u001b[0mTensor\u001b[0m\u001b[0;34m)\u001b[0m \u001b[0;34m->\u001b[0m \u001b[0mTensor\u001b[0m\u001b[0;34m:\u001b[0m\u001b[0;34m\u001b[0m\u001b[0;34m\u001b[0m\u001b[0m\n\u001b[0;32m--> 446\u001b[0;31m         \u001b[0;32mreturn\u001b[0m \u001b[0mself\u001b[0m\u001b[0;34m.\u001b[0m\u001b[0m_conv_forward\u001b[0m\u001b[0;34m(\u001b[0m\u001b[0minput\u001b[0m\u001b[0;34m,\u001b[0m \u001b[0mself\u001b[0m\u001b[0;34m.\u001b[0m\u001b[0mweight\u001b[0m\u001b[0;34m,\u001b[0m \u001b[0mself\u001b[0m\u001b[0;34m.\u001b[0m\u001b[0mbias\u001b[0m\u001b[0;34m)\u001b[0m\u001b[0;34m\u001b[0m\u001b[0;34m\u001b[0m\u001b[0m\n\u001b[0m\u001b[1;32m    447\u001b[0m \u001b[0;34m\u001b[0m\u001b[0m\n\u001b[1;32m    448\u001b[0m \u001b[0;32mclass\u001b[0m \u001b[0mConv3d\u001b[0m\u001b[0;34m(\u001b[0m\u001b[0m_ConvNd\u001b[0m\u001b[0;34m)\u001b[0m\u001b[0;34m:\u001b[0m\u001b[0;34m\u001b[0m\u001b[0;34m\u001b[0m\u001b[0m\n",
      "\u001b[0;32m/opt/conda/lib/python3.7/site-packages/torch/nn/modules/conv.py\u001b[0m in \u001b[0;36m_conv_forward\u001b[0;34m(self, input, weight, bias)\u001b[0m\n\u001b[1;32m    441\u001b[0m                             _pair(0), self.dilation, self.groups)\n\u001b[1;32m    442\u001b[0m         return F.conv2d(input, weight, bias, self.stride,\n\u001b[0;32m--> 443\u001b[0;31m                         self.padding, self.dilation, self.groups)\n\u001b[0m\u001b[1;32m    444\u001b[0m \u001b[0;34m\u001b[0m\u001b[0m\n\u001b[1;32m    445\u001b[0m     \u001b[0;32mdef\u001b[0m \u001b[0mforward\u001b[0m\u001b[0;34m(\u001b[0m\u001b[0mself\u001b[0m\u001b[0;34m,\u001b[0m \u001b[0minput\u001b[0m\u001b[0;34m:\u001b[0m \u001b[0mTensor\u001b[0m\u001b[0;34m)\u001b[0m \u001b[0;34m->\u001b[0m \u001b[0mTensor\u001b[0m\u001b[0;34m:\u001b[0m\u001b[0;34m\u001b[0m\u001b[0;34m\u001b[0m\u001b[0m\n",
      "\u001b[0;31mKeyboardInterrupt\u001b[0m: "
     ]
    }
   ],
   "source": [
    "matches_df = pipeline.process_queries(embs_filenames, top_k=50)"
   ]
  }
 ],
 "metadata": {
  "kernelspec": {
   "display_name": "Python 3 (ipykernel)",
   "language": "python",
   "name": "python3"
  },
  "language_info": {
   "codemirror_mode": {
    "name": "ipython",
    "version": 3
   },
   "file_extension": ".py",
   "mimetype": "text/x-python",
   "name": "python",
   "nbconvert_exporter": "python",
   "pygments_lexer": "ipython3",
   "version": "3.7.11"
  }
 },
 "nbformat": 4,
 "nbformat_minor": 5
}
