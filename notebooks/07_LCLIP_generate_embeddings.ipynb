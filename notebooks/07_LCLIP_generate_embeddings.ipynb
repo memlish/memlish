{
 "cells": [
  {
   "cell_type": "code",
   "execution_count": 1,
   "id": "eba9f5db-344e-4343-a92d-010b2e969762",
   "metadata": {},
   "outputs": [],
   "source": [
    "import sys\n",
    "sys.path.append('/app/')  # noqa\n",
    "\n",
    "from jina import Document, DocumentArray, Flow, Executor, requests\n",
    "from jina.types.request import Request\n",
    "from pathlib import Path\n",
    "import numpy as np\n",
    "import pandas as pd\n",
    "from tqdm.auto import tqdm\n",
    "import argparse\n",
    "from memlish.executors.cache import OpenAICLIPImageEncoderCache\n",
    "from memlish.executors.cache import RealSBERTEncoderCache\n",
    "from memlish.executors.index import FaissIndexer\n",
    "import torch\n",
    "import hashlib\n",
    "\n",
    "def my_hash(s): \n",
    "    return str(int(hashlib.md5(str(s).encode('utf-8')).hexdigest(), 16))\n",
    "\n",
    "from pathlib import Path\n",
    "Path.ls = lambda x: list(x.iterdir())"
   ]
  },
  {
   "cell_type": "code",
   "execution_count": 2,
   "id": "81669331-4523-4e2e-a230-bab18fed6758",
   "metadata": {},
   "outputs": [],
   "source": [
    "torch.multiprocessing.set_start_method('spawn', force=True) "
   ]
  },
  {
   "cell_type": "code",
   "execution_count": 3,
   "id": "0deeb448-23d2-4f78-b549-3c779cd687fd",
   "metadata": {},
   "outputs": [],
   "source": [
    "IMAGE_DIR = Path(\"/data/imgflip/scrap_language_image_pairs_20220209/images\")"
   ]
  },
  {
   "cell_type": "code",
   "execution_count": 4,
   "id": "bb3cc19b-2349-4c15-89aa-7a5cb8226e2b",
   "metadata": {},
   "outputs": [],
   "source": [
    "images = IMAGE_DIR.ls()"
   ]
  },
  {
   "cell_type": "code",
   "execution_count": 5,
   "id": "eb45a62c-1c8f-48d3-ab73-30220abde592",
   "metadata": {},
   "outputs": [],
   "source": [
    "JINA_LCLIP_EMBEDDING_TEMPLATE_IMAGE_COLLECTION = \"02_lclip_imgflip_template_image_100k_embeddings\"\n",
    "MONGO_EMBEDDING_DB_NAME = 'memlish_db'"
   ]
  },
  {
   "cell_type": "code",
   "execution_count": 6,
   "id": "0de2dcd5-aee6-4f13-9680-fdf86551ded5",
   "metadata": {},
   "outputs": [],
   "source": [
    "def plot_search_results(resp: Request):\n",
    "    for doc in resp.docs:\n",
    "        print(f'Query text: {doc.text}')\n",
    "        print(f'Matches:')\n",
    "        print('-'*10)\n",
    "        show_docs(doc.matches[:3])\n",
    "        \n",
    "def input_docs(images):\n",
    "    for img_path in images:\n",
    "        doc = Document(id=str(img_path.name), uri=str(img_path), tags={'filename': str(img_path)})\n",
    "        yield doc \n",
    "\n",
    "def show_docs(docs):\n",
    "    for doc in docs:\n",
    "        doc.load_uri_to_image_blob()\n",
    "        plt.imshow(doc.blob)\n",
    "        plt.show()"
   ]
  },
  {
   "cell_type": "code",
   "execution_count": 11,
   "id": "dd78d3a9-1592-4093-a0af-423e5334c39a",
   "metadata": {},
   "outputs": [],
   "source": [
    "embedder_params = {\n",
    "    \"batch_size\": 64,\n",
    "    \"device\":'cuda'\n",
    "}\n",
    "\n",
    "image_cache_params = {\n",
    "    \"embedder_params\": embedder_params,\n",
    "    \"collection_name\": JINA_LCLIP_EMBEDDING_TEMPLATE_IMAGE_COLLECTION,\n",
    "    \"embedding_field_name\":'emb',\n",
    "    \"megabatch_size\":4096\n",
    "}"
   ]
  },
  {
   "cell_type": "code",
   "execution_count": 12,
   "id": "eeeef08e-1a44-4089-ab05-85b9d6e5953b",
   "metadata": {},
   "outputs": [
    {
     "data": {
      "text/html": [
       "<img src=\"https://mermaid.ink/svg/ICAgICAgICAgICAgJSV7aW5pdDp7ICAidGhlbWUiOiAiYmFzZSIsICAidGhlbWVWYXJpYWJsZXMiOiB7ICAgICAgInByaW1hcnlDb2xvciI6ICIjZmZmIiwgICAgICAicHJpbWFyeUJvcmRlckNvbG9yIjogIiNmZmYiLCAgICAgICJtYWluQmtnIjogIiMzMkM4Q0QiLCAgICAgICJjbHVzdGVyQmtnIjogIiNFRUVERTc4QyIsICAgICAgInNlY29uZGFyeUJvcmRlckNvbG9yIjogIm5vbmUiLCAgICAgICJ0ZXJ0aWFyeUJvcmRlckNvbG9yIjogIm5vbmUiLCAgICAgICJsaW5lQ29sb3IiOiAiI2E2ZDhkYSIgICAgICB9fX0lJSAgICAgICAgICAgIApmbG93Y2hhcnQgTFI7CnN1YmdyYXBoIENMSVBJbWFnZUVuY29kZXJDYWNoZTsKQ0xJUEltYWdlRW5jb2RlckNhY2hlL3BlYS0wW09wZW5BSUNMSVBJbWFnZUVuY29kZXJDYWNoZV06OjpQRUE7CmVuZDsKZ2F0ZXdheXN0YXJ0W2dhdGV3YXldOjo6R0FURVdBWSAtLT4gQ0xJUEltYWdlRW5jb2RlckNhY2hlOjo6UE9EOwpDTElQSW1hZ2VFbmNvZGVyQ2FjaGU6OjpQT0QgLS0+IGdhdGV3YXllbmRbZ2F0ZXdheV06OjpHQVRFV0FZOwpjbGFzc0RlZiBJTlNQRUNUIHN0cm9rZTojRjI5QzlGCmNsYXNzRGVmIEpPSU5fSU5TUEVDVCBzdHJva2U6I0YyOUM5RgpjbGFzc0RlZiBHQVRFV0FZIGZpbGw6bm9uZSxjb2xvcjojMDAwLHN0cm9rZTpub25lCmNsYXNzRGVmIElOU1BFQ1RfQVVYX1BBU1Mgc3Ryb2tlLWRhc2hhcnJheTogMiAyCmNsYXNzRGVmIEhFQURUQUlMIGZpbGw6IzMyQzhDRDFECgpjbGFzc0RlZiBFWFRFUk5BTCBmaWxsOiNmZmYsc3Ryb2tlOiMzMkM4Q0Q=\"/>"
      ],
      "text/plain": [
       "<IPython.core.display.Image object>"
      ]
     },
     "metadata": {},
     "output_type": "display_data"
    }
   ],
   "source": [
    "from jina import Flow\n",
    "flow_index = Flow().add(uses=OpenAICLIPImageEncoderCache, name=\"CLIPImageEncoderCache\", uses_with=image_cache_params)\n",
    "flow_index"
   ]
  },
  {
   "cell_type": "code",
   "execution_count": 13,
   "id": "b454ec1d-fde3-4a18-944f-438ec6b9b44e",
   "metadata": {},
   "outputs": [
    {
     "name": "stdout",
     "output_type": "stream",
     "text": [
      "           Flow@15[I]:\u001b[32m🎉 Flow is ready to use!\u001b[0m                                             \n",
      "\t🔗 Protocol: \t\t\u001b[1mGRPC\u001b[0m\n",
      "\t🏠 Local access:\t\u001b[4m\u001b[36m0.0.0.0:41639\u001b[0m\n",
      "\t🔒 Private network:\t\u001b[4m\u001b[36m172.20.0.2:41639\u001b[0m\n",
      "\t🌐 Public address:\t\u001b[4m\u001b[36m35.224.116.253:41639\u001b[0m\u001b[0m\n",
      "\u001b[32m⠹\u001b[0m Working... \u001b[32m━\u001b[0m\u001b[32m╸\u001b[0m\u001b[2m\u001b[32m━━━━━━━━━━━━━━━━━━━━━━━━━━━━━━━━━━━━━━━\u001b[0m \u001b[36m0:00:00\u001b[0m estimating... "
     ]
    },
    {
     "name": "stderr",
     "output_type": "stream",
     "text": [
      "  0%|          | 0/1 [00:00<?, ?it/s]"
     ]
    },
    {
     "name": "stdout",
     "output_type": "stream",
     "text": [
      "\u001b[32m⠙\u001b[0m Working... \u001b[32m━━\u001b[0m\u001b[32m╸\u001b[0m\u001b[2m\u001b[32m━━━━━━━━━━━━━━━━━━━━━━━━━━━━━━━━━━━━━━\u001b[0m \u001b[36m0:00:32\u001b[0m  0.0 step/s . "
     ]
    },
    {
     "name": "stderr",
     "output_type": "stream",
     "text": [
      "100%|██████████| 1/1 [00:32<00:00, 32.35s/it]\n",
      "  0%|          | 0/1 [00:00<?, ?it/s]"
     ]
    },
    {
     "name": "stdout",
     "output_type": "stream",
     "text": [
      "\u001b[32m⠇\u001b[0m       DONE \u001b[33m━━━\u001b[0m\u001b[33m╸\u001b[0m\u001b[2m\u001b[33m━━━━━━━━━━━━━━━━━━━━━━━━━━━━━━━━━━━━━\u001b[0m \u001b[36m0:00:59\u001b[0m  0.0 step/s \u001b[K3 steps done in 59 seconds\n"
     ]
    },
    {
     "name": "stderr",
     "output_type": "stream",
     "text": [
      "100%|██████████| 1/1 [00:26<00:00, 26.90s/it]\n"
     ]
    }
   ],
   "source": [
    "with flow_index:\n",
    "    flow_index.post(on='',inputs=input_docs(images), request_size=1000, show_progress=True)"
   ]
  },
  {
   "cell_type": "code",
   "execution_count": null,
   "id": "0c8211a5-64c3-4f19-9b01-382dbc8c901f",
   "metadata": {},
   "outputs": [],
   "source": []
  }
 ],
 "metadata": {
  "kernelspec": {
   "display_name": "Python 3 (ipykernel)",
   "language": "python",
   "name": "python3"
  },
  "language_info": {
   "codemirror_mode": {
    "name": "ipython",
    "version": 3
   },
   "file_extension": ".py",
   "mimetype": "text/x-python",
   "name": "python",
   "nbconvert_exporter": "python",
   "pygments_lexer": "ipython3",
   "version": "3.7.11"
  }
 },
 "nbformat": 4,
 "nbformat_minor": 5
}
