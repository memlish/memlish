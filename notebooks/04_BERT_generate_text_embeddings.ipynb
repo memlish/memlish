{
 "cells": [
  {
   "cell_type": "code",
   "execution_count": 56,
   "id": "d03254d6-77cf-442f-8021-c8d524851e62",
   "metadata": {},
   "outputs": [],
   "source": [
    "import sys\n",
    "sys.path.append('/app/')  # noqa\n",
    "sys.path.append('/app/loopa')  # noqa\n",
    "\n",
    "from jina import Document, DocumentArray, Flow, Executor, requests\n",
    "from pathlib import Path\n",
    "import numpy as np\n",
    "import pandas as pd\n",
    "from tqdm.auto import tqdm\n",
    "import argparse\n",
    "from loopa.executors.cache import SBERTEncoderCache\n",
    "from loopa.executors.index import FaissIndexer, IndexMerger\n",
    "from loopa.config import CUDA_IF_AVAILABLE\n",
    "import torch\n",
    "import hashlib\n",
    "\n",
    "def my_hash(s): \n",
    "    return str(int(hashlib.md5(str(s).encode('utf-8')).hexdigest(), 16))"
   ]
  },
  {
   "cell_type": "code",
   "execution_count": 2,
   "id": "b143764b-23fc-4167-9447-63a086a38a97",
   "metadata": {},
   "outputs": [],
   "source": [
    "torch.multiprocessing.set_start_method('spawn', force=True) "
   ]
  },
  {
   "cell_type": "code",
   "execution_count": 13,
   "id": "c526baff-0d51-4a7d-b8ed-0aeb48b23e93",
   "metadata": {},
   "outputs": [],
   "source": [
    "OUT_DIR = Path(\"/data/imgflip/scrap_language_image_pairs_20220209/\")\n",
    "OUT_TEMPLATE_TEXTS_CSV = OUT_DIR/\"template_texts.csv\""
   ]
  },
  {
   "cell_type": "code",
   "execution_count": 14,
   "id": "5587d303-3481-4a25-9c57-76273957a454",
   "metadata": {},
   "outputs": [],
   "source": [
    "JINA_SBERT_EMBEDDING_TEMPLATE_TEXT_COLLECTION = \"00_sbert_all_mpnet_base_v2_imgflip_template_1400k_embeddings\"\n",
    "MONGO_EMBEDDING_DB_NAME = 'memlish_db'"
   ]
  },
  {
   "cell_type": "code",
   "execution_count": 36,
   "id": "a7d7de18-4f80-4724-9a4e-b6733cd6f0a4",
   "metadata": {},
   "outputs": [],
   "source": [
    "def text_input_docs(templates_df):    \n",
    "    for idx, row in templates_df.iterrows():\n",
    "        template_name = row[\"template_img_name\"]\n",
    "        try:\n",
    "            template_text = row[\"text\"]\n",
    "            document_id = f\"{template_name}_{my_hash(template_text)}\"\n",
    "            doc = Document(id=document_id, text=template_text)# tags={'filename': str(template_img_path)})\n",
    "        except Exception as e:\n",
    "            print(document_id)\n",
    "            print(template_text)\n",
    "            print(str(e))\n",
    "        \n",
    "        yield doc "
   ]
  },
  {
   "cell_type": "code",
   "execution_count": 16,
   "id": "33b2508a-bb14-4457-8e2e-70a13e47191c",
   "metadata": {},
   "outputs": [],
   "source": [
    "templates_df = pd.read_csv(OUT_TEMPLATE_TEXTS_CSV)"
   ]
  },
  {
   "cell_type": "code",
   "execution_count": 43,
   "id": "42e00c3e-da0a-4fc1-8fe0-254f20ded2d6",
   "metadata": {},
   "outputs": [],
   "source": [
    "templates_df = templates_df[~templates_df['text'].isna()]"
   ]
  },
  {
   "cell_type": "code",
   "execution_count": 57,
   "id": "5e2fb591-49db-425b-a0f4-e7afa68a5f87",
   "metadata": {},
   "outputs": [],
   "source": [
    "templates_df = templates_df[~templates_df.duplicated([\"text\", \"template_img_name\"])]"
   ]
  },
  {
   "cell_type": "code",
   "execution_count": 17,
   "id": "164709c4-e411-471f-a2ef-f5164901aefe",
   "metadata": {
    "tags": []
   },
   "outputs": [
    {
     "data": {
      "text/html": [
       "<div>\n",
       "<style scoped>\n",
       "    .dataframe tbody tr th:only-of-type {\n",
       "        vertical-align: middle;\n",
       "    }\n",
       "\n",
       "    .dataframe tbody tr th {\n",
       "        vertical-align: top;\n",
       "    }\n",
       "\n",
       "    .dataframe thead th {\n",
       "        text-align: right;\n",
       "    }\n",
       "</style>\n",
       "<table border=\"1\" class=\"dataframe\">\n",
       "  <thead>\n",
       "    <tr style=\"text-align: right;\">\n",
       "      <th></th>\n",
       "      <th>url</th>\n",
       "      <th>text</th>\n",
       "      <th>alt</th>\n",
       "      <th>views</th>\n",
       "      <th>upvotes</th>\n",
       "      <th>comments</th>\n",
       "      <th>meme_home_page</th>\n",
       "      <th>template_name</th>\n",
       "      <th>template_img_name</th>\n",
       "    </tr>\n",
       "  </thead>\n",
       "  <tbody>\n",
       "    <tr>\n",
       "      <th>0</th>\n",
       "      <td>i.imgflip.com/61ov27.jpg</td>\n",
       "      <td>accepting that ur child made a good point; MOM...</td>\n",
       "      <td>Moms be like |  accepting that ur child made a...</td>\n",
       "      <td>7208</td>\n",
       "      <td>106</td>\n",
       "      <td>7</td>\n",
       "      <td>/i/61ov27</td>\n",
       "      <td>Drake-Hotline-Bling</td>\n",
       "      <td>Drake-Hotline-Bling.jpg</td>\n",
       "    </tr>\n",
       "    <tr>\n",
       "      <th>1</th>\n",
       "      <td>i.imgflip.com/61soau.jpg</td>\n",
       "      <td>Ground children by sending them to bed early a...</td>\n",
       "      <td>Mexican meme |  Ground children by sending the...</td>\n",
       "      <td>5271</td>\n",
       "      <td>65</td>\n",
       "      <td>5</td>\n",
       "      <td>/i/61soau</td>\n",
       "      <td>Drake-Hotline-Bling</td>\n",
       "      <td>Drake-Hotline-Bling.jpg</td>\n",
       "    </tr>\n",
       "    <tr>\n",
       "      <th>2</th>\n",
       "      <td>i.imgflip.com/6205qv.jpg</td>\n",
       "      <td>image tagged in memes,drake hotline bling</td>\n",
       "      <td>Drake Hotline Bling | image tagged in memes,dr...</td>\n",
       "      <td>1265</td>\n",
       "      <td>6</td>\n",
       "      <td>0</td>\n",
       "      <td>/i/6205qv</td>\n",
       "      <td>Drake-Hotline-Bling</td>\n",
       "      <td>Drake-Hotline-Bling.jpg</td>\n",
       "    </tr>\n",
       "    <tr>\n",
       "      <th>3</th>\n",
       "      <td>i.imgflip.com/623hal.jpg</td>\n",
       "      <td>\"Let's eat, Grandma.\"; \"Let's eat Grandma.\"</td>\n",
       "      <td>certified hood classic |  \"Let's eat, Grandma....</td>\n",
       "      <td>196</td>\n",
       "      <td>6</td>\n",
       "      <td>0</td>\n",
       "      <td>/i/623hal</td>\n",
       "      <td>Drake-Hotline-Bling</td>\n",
       "      <td>Drake-Hotline-Bling.jpg</td>\n",
       "    </tr>\n",
       "    <tr>\n",
       "      <th>4</th>\n",
       "      <td>i.imgflip.com/62353w.jpg</td>\n",
       "      <td>Keep focusing on new relationships, being prod...</td>\n",
       "      <td>3 years of abstinence |  Keep focusing on new ...</td>\n",
       "      <td>229</td>\n",
       "      <td>6</td>\n",
       "      <td>0</td>\n",
       "      <td>/i/62353w</td>\n",
       "      <td>Drake-Hotline-Bling</td>\n",
       "      <td>Drake-Hotline-Bling.jpg</td>\n",
       "    </tr>\n",
       "  </tbody>\n",
       "</table>\n",
       "</div>"
      ],
      "text/plain": [
       "                        url  \\\n",
       "0  i.imgflip.com/61ov27.jpg   \n",
       "1  i.imgflip.com/61soau.jpg   \n",
       "2  i.imgflip.com/6205qv.jpg   \n",
       "3  i.imgflip.com/623hal.jpg   \n",
       "4  i.imgflip.com/62353w.jpg   \n",
       "\n",
       "                                                text  \\\n",
       "0  accepting that ur child made a good point; MOM...   \n",
       "1  Ground children by sending them to bed early a...   \n",
       "2          image tagged in memes,drake hotline bling   \n",
       "3        \"Let's eat, Grandma.\"; \"Let's eat Grandma.\"   \n",
       "4  Keep focusing on new relationships, being prod...   \n",
       "\n",
       "                                                 alt  views  upvotes  \\\n",
       "0  Moms be like |  accepting that ur child made a...   7208      106   \n",
       "1  Mexican meme |  Ground children by sending the...   5271       65   \n",
       "2  Drake Hotline Bling | image tagged in memes,dr...   1265        6   \n",
       "3  certified hood classic |  \"Let's eat, Grandma....    196        6   \n",
       "4  3 years of abstinence |  Keep focusing on new ...    229        6   \n",
       "\n",
       "   comments meme_home_page        template_name        template_img_name  \n",
       "0         7      /i/61ov27  Drake-Hotline-Bling  Drake-Hotline-Bling.jpg  \n",
       "1         5      /i/61soau  Drake-Hotline-Bling  Drake-Hotline-Bling.jpg  \n",
       "2         0      /i/6205qv  Drake-Hotline-Bling  Drake-Hotline-Bling.jpg  \n",
       "3         0      /i/623hal  Drake-Hotline-Bling  Drake-Hotline-Bling.jpg  \n",
       "4         0      /i/62353w  Drake-Hotline-Bling  Drake-Hotline-Bling.jpg  "
      ]
     },
     "execution_count": 17,
     "metadata": {},
     "output_type": "execute_result"
    }
   ],
   "source": [
    "templates_df.head()"
   ]
  },
  {
   "cell_type": "code",
   "execution_count": 47,
   "id": "0e463432-b522-47b7-9e07-ca16b0aa9dd6",
   "metadata": {},
   "outputs": [],
   "source": [
    "embedder_params = {\n",
    "        \"device\":CUDA_IF_AVAILABLE\n",
    "}\n",
    "\n",
    "cache_params = {\n",
    "    \"embedder_params\": embedder_params,\n",
    "    \"db_name\": MONGO_EMBEDDING_DB_NAME, \n",
    "    \"collection_name\": JINA_SBERT_EMBEDDING_TEMPLATE_TEXT_COLLECTION,\n",
    "    \"embedding_field_name\":'emb',\n",
    "    \"megabatch_size\":8192\n",
    "}"
   ]
  },
  {
   "cell_type": "code",
   "execution_count": 48,
   "id": "52ae0023-6d47-411c-b99e-72cc2984a8fd",
   "metadata": {},
   "outputs": [
    {
     "data": {
      "text/html": [
       "<img src=\"https://mermaid.ink/svg/ICAgICAgICAgICAgJSV7aW5pdDp7ICAidGhlbWUiOiAiYmFzZSIsICAidGhlbWVWYXJpYWJsZXMiOiB7ICAgICAgInByaW1hcnlDb2xvciI6ICIjZmZmIiwgICAgICAicHJpbWFyeUJvcmRlckNvbG9yIjogIiNmZmYiLCAgICAgICJtYWluQmtnIjogIiMzMkM4Q0QiLCAgICAgICJjbHVzdGVyQmtnIjogIiNFRUVERTc4QyIsICAgICAgInNlY29uZGFyeUJvcmRlckNvbG9yIjogIm5vbmUiLCAgICAgICJ0ZXJ0aWFyeUJvcmRlckNvbG9yIjogIm5vbmUiLCAgICAgICJsaW5lQ29sb3IiOiAiI2E2ZDhkYSIgICAgICB9fX0lJSAgICAgICAgICAgIApmbG93Y2hhcnQgTFI7CnN1YmdyYXBoIFNCRVJUX2VuY29kZXI7ClNCRVJUX2VuY29kZXIvcGVhLTBbU0JFUlRFbmNvZGVyQ2FjaGVdOjo6UEVBOwplbmQ7CmdhdGV3YXlzdGFydFtnYXRld2F5XTo6OkdBVEVXQVkgLS0+IFNCRVJUX2VuY29kZXI6OjpQT0Q7ClNCRVJUX2VuY29kZXI6OjpQT0QgLS0+IGdhdGV3YXllbmRbZ2F0ZXdheV06OjpHQVRFV0FZOwpjbGFzc0RlZiBJTlNQRUNUIHN0cm9rZTojRjI5QzlGCmNsYXNzRGVmIEpPSU5fSU5TUEVDVCBzdHJva2U6I0YyOUM5RgpjbGFzc0RlZiBHQVRFV0FZIGZpbGw6bm9uZSxjb2xvcjojMDAwLHN0cm9rZTpub25lCmNsYXNzRGVmIElOU1BFQ1RfQVVYX1BBU1Mgc3Ryb2tlLWRhc2hhcnJheTogMiAyCmNsYXNzRGVmIEhFQURUQUlMIGZpbGw6IzMyQzhDRDFECgpjbGFzc0RlZiBFWFRFUk5BTCBmaWxsOiNmZmYsc3Ryb2tlOiMzMkM4Q0Q=\"/>"
      ],
      "text/plain": [
       "<IPython.core.display.Image object>"
      ]
     },
     "metadata": {},
     "output_type": "display_data"
    }
   ],
   "source": [
    "flow_text_encode = Flow().add(uses=SBERTEncoderCache, name=\"SBERT_encoder\", uses_with=cache_params)\n",
    "flow_text_encode"
   ]
  },
  {
   "cell_type": "code",
   "execution_count": null,
   "id": "9442c998-4842-4639-a721-9e27848aaf46",
   "metadata": {
    "tags": []
   },
   "outputs": [
    {
     "name": "stdout",
     "output_type": "stream",
     "text": [
      "           Flow@15[I]:\u001b[32m🎉 Flow is ready to use!\u001b[0m                                             \n",
      "\t🔗 Protocol: \t\t\u001b[1mGRPC\u001b[0m\n",
      "\t🏠 Local access:\t\u001b[4m\u001b[36m0.0.0.0:39205\u001b[0m\n",
      "\t🔒 Private network:\t\u001b[4m\u001b[36m172.20.0.5:39205\u001b[0m\n",
      "\t🌐 Public address:\t\u001b[4m\u001b[36m35.224.116.253:39205\u001b[0m\u001b[0m\n",
      "\u001b[32m⠹\u001b[0m Working... \u001b[32m━\u001b[0m\u001b[32m╸\u001b[0m\u001b[2m\u001b[32m━━━━━━━━━━━━━━━━━━━━━━━━━━━━━━━━━━━━━━━\u001b[0m \u001b[36m0:00:02\u001b[0m estimating... "
     ]
    },
    {
     "name": "stderr",
     "output_type": "stream",
     "text": [
      "  0%|          | 0/2 [00:00<?, ?it/s]"
     ]
    },
    {
     "name": "stdout",
     "output_type": "stream",
     "text": [
      "\u001b[32m⠙\u001b[0m Working... \u001b[32m━\u001b[0m\u001b[32m╸\u001b[0m\u001b[2m\u001b[32m━━━━━━━━━━━━━━━━━━━━━━━━━━━━━━━━━━━━━━━\u001b[0m \u001b[36m0:00:26\u001b[0m estimating... "
     ]
    },
    {
     "name": "stderr",
     "output_type": "stream",
     "text": [
      " 50%|█████     | 1/2 [00:24<00:24, 24.39s/it]"
     ]
    },
    {
     "name": "stdout",
     "output_type": "stream",
     "text": [
      "\u001b[32m⠙\u001b[0m Working... \u001b[32m━\u001b[0m\u001b[32m╸\u001b[0m\u001b[2m\u001b[32m━━━━━━━━━━━━━━━━━━━━━━━━━━━━━━━━━━━━━━━\u001b[0m \u001b[36m0:00:32\u001b[0m estimating... "
     ]
    },
    {
     "name": "stderr",
     "output_type": "stream",
     "text": [
      "100%|██████████| 2/2 [00:29<00:00, 14.93s/it]\n"
     ]
    },
    {
     "name": "stdout",
     "output_type": "stream",
     "text": [
      "\u001b[32m⠦\u001b[0m Working... \u001b[32m━\u001b[0m\u001b[32m╸\u001b[0m\u001b[2m\u001b[32m━━━━━━━━━━━━━━━━━━━━━━━━━━━━━━━━━━━━━━━\u001b[0m \u001b[36m0:00:32\u001b[0m estimating... "
     ]
    },
    {
     "name": "stderr",
     "output_type": "stream",
     "text": [
      "  0%|          | 0/2 [00:00<?, ?it/s]"
     ]
    },
    {
     "name": "stdout",
     "output_type": "stream",
     "text": [
      "\u001b[32m⠙\u001b[0m Working... \u001b[32m━━\u001b[0m\u001b[32m╸\u001b[0m\u001b[2m\u001b[32m━━━━━━━━━━━━━━━━━━━━━━━━━━━━━━━━━━━━━━\u001b[0m \u001b[36m0:00:59\u001b[0m  0.0 step/s . "
     ]
    },
    {
     "name": "stderr",
     "output_type": "stream",
     "text": [
      " 50%|█████     | 1/2 [00:26<00:26, 26.25s/it]"
     ]
    },
    {
     "name": "stdout",
     "output_type": "stream",
     "text": [
      "\u001b[32m⠇\u001b[0m Working... \u001b[32m━━\u001b[0m\u001b[32m╸\u001b[0m\u001b[2m\u001b[32m━━━━━━━━━━━━━━━━━━━━━━━━━━━━━━━━━━━━━━\u001b[0m \u001b[36m0:01:04\u001b[0m  0.0 step/s "
     ]
    },
    {
     "name": "stderr",
     "output_type": "stream",
     "text": [
      "100%|██████████| 2/2 [00:31<00:00, 15.65s/it]\n"
     ]
    },
    {
     "name": "stdout",
     "output_type": "stream",
     "text": [
      "\u001b[32m⠸\u001b[0m Working... \u001b[32m━━\u001b[0m\u001b[32m╸\u001b[0m\u001b[2m\u001b[32m━━━━━━━━━━━━━━━━━━━━━━━━━━━━━━━━━━━━━━\u001b[0m \u001b[36m0:01:04\u001b[0m  0.0 step/s "
     ]
    },
    {
     "name": "stderr",
     "output_type": "stream",
     "text": [
      "  0%|          | 0/2 [00:00<?, ?it/s]"
     ]
    },
    {
     "name": "stdout",
     "output_type": "stream",
     "text": [
      "\u001b[32m⠏\u001b[0m Working... \u001b[32m━━━\u001b[0m\u001b[32m╸\u001b[0m\u001b[2m\u001b[32m━━━━━━━━━━━━━━━━━━━━━━━━━━━━━━━━━━━━━\u001b[0m \u001b[36m0:01:35\u001b[0m  0.0 step/s "
     ]
    },
    {
     "name": "stderr",
     "output_type": "stream",
     "text": [
      " 50%|█████     | 1/2 [00:30<00:30, 30.86s/it]"
     ]
    },
    {
     "name": "stdout",
     "output_type": "stream",
     "text": [
      "\u001b[32m⠋\u001b[0m Working... \u001b[32m━━━\u001b[0m\u001b[32m╸\u001b[0m\u001b[2m\u001b[32m━━━━━━━━━━━━━━━━━━━━━━━━━━━━━━━━━━━━━\u001b[0m \u001b[36m0:01:39\u001b[0m  0.0 step/s "
     ]
    },
    {
     "name": "stderr",
     "output_type": "stream",
     "text": [
      "100%|██████████| 2/2 [00:35<00:00, 17.67s/it]\n"
     ]
    },
    {
     "name": "stdout",
     "output_type": "stream",
     "text": [
      "\u001b[32m⠧\u001b[0m Working... \u001b[32m━━━━\u001b[0m\u001b[32m╸\u001b[0m\u001b[2m\u001b[32m━━━━━━━━━━━━━━━━━━━━━━━━━━━━━━━━━━━━\u001b[0m \u001b[36m0:01:40\u001b[0m  0.0 step/s "
     ]
    },
    {
     "name": "stderr",
     "output_type": "stream",
     "text": [
      "  0%|          | 0/2 [00:00<?, ?it/s]"
     ]
    },
    {
     "name": "stdout",
     "output_type": "stream",
     "text": [
      "\u001b[32m⠧\u001b[0m Working... \u001b[32m━━━━\u001b[0m\u001b[32m╸\u001b[0m\u001b[2m\u001b[32m━━━━━━━━━━━━━━━━━━━━━━━━━━━━━━━━━━━━\u001b[0m \u001b[36m0:02:01\u001b[0m  0.0 step/s "
     ]
    },
    {
     "name": "stderr",
     "output_type": "stream",
     "text": [
      " 50%|█████     | 1/2 [00:20<00:20, 20.48s/it]"
     ]
    },
    {
     "name": "stdout",
     "output_type": "stream",
     "text": [
      "\u001b[32m⠴\u001b[0m Working... \u001b[32m━━━━\u001b[0m\u001b[32m╸\u001b[0m\u001b[2m\u001b[32m━━━━━━━━━━━━━━━━━━━━━━━━━━━━━━━━━━━━\u001b[0m \u001b[36m0:02:06\u001b[0m  0.0 step/s "
     ]
    },
    {
     "name": "stderr",
     "output_type": "stream",
     "text": [
      "100%|██████████| 2/2 [00:25<00:00, 12.90s/it]\n"
     ]
    },
    {
     "name": "stdout",
     "output_type": "stream",
     "text": [
      "\u001b[32m⠼\u001b[0m Working... \u001b[32m━━━━\u001b[0m\u001b[32m╸\u001b[0m\u001b[2m\u001b[32m━━━━━━━━━━━━━━━━━━━━━━━━━━━━━━━━━━━━\u001b[0m \u001b[36m0:02:07\u001b[0m  0.0 step/s "
     ]
    },
    {
     "name": "stderr",
     "output_type": "stream",
     "text": [
      "  0%|          | 0/2 [00:00<?, ?it/s]"
     ]
    },
    {
     "name": "stdout",
     "output_type": "stream",
     "text": [
      "\u001b[32m⠏\u001b[0m Working... \u001b[32m━━━━━\u001b[0m\u001b[32m╸\u001b[0m\u001b[2m\u001b[32m━━━━━━━━━━━━━━━━━━━━━━━━━━━━━━━━━━━\u001b[0m \u001b[36m0:02:27\u001b[0m  0.0 step/s "
     ]
    },
    {
     "name": "stderr",
     "output_type": "stream",
     "text": [
      " 50%|█████     | 1/2 [00:20<00:20, 20.14s/it]"
     ]
    },
    {
     "name": "stdout",
     "output_type": "stream",
     "text": [
      "\u001b[32m⠇\u001b[0m Working... \u001b[32m━━━━━\u001b[0m\u001b[32m╸\u001b[0m\u001b[2m\u001b[32m━━━━━━━━━━━━━━━━━━━━━━━━━━━━━━━━━━━\u001b[0m \u001b[36m0:02:31\u001b[0m  0.0 step/s "
     ]
    },
    {
     "name": "stderr",
     "output_type": "stream",
     "text": [
      "100%|██████████| 2/2 [00:24<00:00, 12.17s/it]\n"
     ]
    },
    {
     "name": "stdout",
     "output_type": "stream",
     "text": [
      "\u001b[32m⠇\u001b[0m Working... \u001b[32m━━━━━\u001b[0m\u001b[32m╸\u001b[0m\u001b[2m\u001b[32m━━━━━━━━━━━━━━━━━━━━━━━━━━━━━━━━━━━\u001b[0m \u001b[36m0:02:32\u001b[0m  0.0 step/s "
     ]
    },
    {
     "name": "stderr",
     "output_type": "stream",
     "text": [
      "  0%|          | 0/2 [00:00<?, ?it/s]"
     ]
    },
    {
     "name": "stdout",
     "output_type": "stream",
     "text": [
      "\u001b[32m⠏\u001b[0m Working... \u001b[32m━━━━━━\u001b[0m\u001b[32m╸\u001b[0m\u001b[2m\u001b[32m━━━━━━━━━━━━━━━━━━━━━━━━━━━━━━━━━━\u001b[0m \u001b[36m0:02:51\u001b[0m  0.0 step/s "
     ]
    },
    {
     "name": "stderr",
     "output_type": "stream",
     "text": [
      " 50%|█████     | 1/2 [00:18<00:18, 18.54s/it]"
     ]
    },
    {
     "name": "stdout",
     "output_type": "stream",
     "text": [
      "\u001b[32m⠴\u001b[0m Working... \u001b[32m━━━━━━\u001b[0m\u001b[32m╸\u001b[0m\u001b[2m\u001b[32m━━━━━━━━━━━━━━━━━━━━━━━━━━━━━━━━━━\u001b[0m \u001b[36m0:02:55\u001b[0m  0.0 step/s "
     ]
    },
    {
     "name": "stderr",
     "output_type": "stream",
     "text": [
      "100%|██████████| 2/2 [00:22<00:00, 11.24s/it]\n"
     ]
    },
    {
     "name": "stdout",
     "output_type": "stream",
     "text": [
      "\u001b[32m⠧\u001b[0m Working... \u001b[32m━━━━━━━\u001b[0m\u001b[32m╸\u001b[0m\u001b[2m\u001b[32m━━━━━━━━━━━━━━━━━━━━━━━━━━━━━━━━━\u001b[0m \u001b[36m0:02:56\u001b[0m  0.0 step/s "
     ]
    },
    {
     "name": "stderr",
     "output_type": "stream",
     "text": [
      "  0%|          | 0/2 [00:00<?, ?it/s]"
     ]
    },
    {
     "name": "stdout",
     "output_type": "stream",
     "text": [
      "\u001b[32m⠋\u001b[0m Working... \u001b[32m━━━━━━━\u001b[0m\u001b[32m╸\u001b[0m\u001b[2m\u001b[32m━━━━━━━━━━━━━━━━━━━━━━━━━━━━━━━━━\u001b[0m \u001b[36m0:03:17\u001b[0m  0.0 step/s "
     ]
    },
    {
     "name": "stderr",
     "output_type": "stream",
     "text": [
      " 50%|█████     | 1/2 [00:20<00:20, 20.32s/it]"
     ]
    },
    {
     "name": "stdout",
     "output_type": "stream",
     "text": [
      "\u001b[32m⠹\u001b[0m Working... \u001b[32m━━━━━━━\u001b[0m\u001b[32m╸\u001b[0m\u001b[2m\u001b[32m━━━━━━━━━━━━━━━━━━━━━━━━━━━━━━━━━\u001b[0m \u001b[36m0:03:21\u001b[0m  0.0 step/s "
     ]
    },
    {
     "name": "stderr",
     "output_type": "stream",
     "text": [
      "100%|██████████| 2/2 [00:24<00:00, 12.25s/it]\n"
     ]
    },
    {
     "name": "stdout",
     "output_type": "stream",
     "text": [
      "\u001b[32m⠦\u001b[0m Working... \u001b[32m━━━━━━━━\u001b[0m\u001b[32m╸\u001b[0m\u001b[2m\u001b[32m━━━━━━━━━━━━━━━━━━━━━━━━━━━━━━━━\u001b[0m \u001b[36m0:03:22\u001b[0m  0.0 step/s "
     ]
    },
    {
     "name": "stderr",
     "output_type": "stream",
     "text": [
      "  0%|          | 0/2 [00:00<?, ?it/s]"
     ]
    },
    {
     "name": "stdout",
     "output_type": "stream",
     "text": [
      "\u001b[32m⠏\u001b[0m Working... \u001b[32m━━━━━━━━\u001b[0m\u001b[32m╸\u001b[0m\u001b[2m\u001b[32m━━━━━━━━━━━━━━━━━━━━━━━━━━━━━━━━\u001b[0m \u001b[36m0:03:43\u001b[0m  0.0 step/s "
     ]
    },
    {
     "name": "stderr",
     "output_type": "stream",
     "text": [
      " 50%|█████     | 1/2 [00:20<00:20, 20.47s/it]"
     ]
    },
    {
     "name": "stdout",
     "output_type": "stream",
     "text": [
      "\u001b[32m⠹\u001b[0m Working... \u001b[32m━━━━━━━━\u001b[0m\u001b[32m╸\u001b[0m\u001b[2m\u001b[32m━━━━━━━━━━━━━━━━━━━━━━━━━━━━━━━━\u001b[0m \u001b[36m0:03:48\u001b[0m  0.0 step/s "
     ]
    },
    {
     "name": "stderr",
     "output_type": "stream",
     "text": [
      "100%|██████████| 2/2 [00:25<00:00, 12.91s/it]\n"
     ]
    },
    {
     "name": "stdout",
     "output_type": "stream",
     "text": [
      "\u001b[32m⠧\u001b[0m Working... \u001b[32m━━━━━━━━━\u001b[0m\u001b[32m╸\u001b[0m\u001b[2m\u001b[32m━━━━━━━━━━━━━━━━━━━━━━━━━━━━━━━\u001b[0m \u001b[36m0:03:50\u001b[0m  0.0 step/s "
     ]
    },
    {
     "name": "stderr",
     "output_type": "stream",
     "text": [
      "  0%|          | 0/2 [00:00<?, ?it/s]"
     ]
    },
    {
     "name": "stdout",
     "output_type": "stream",
     "text": [
      "\u001b[32m⠧\u001b[0m Working... \u001b[32m━━━━━━━━━\u001b[0m\u001b[32m╸\u001b[0m\u001b[2m\u001b[32m━━━━━━━━━━━━━━━━━━━━━━━━━━━━━━━\u001b[0m \u001b[36m0:04:20\u001b[0m  0.0 step/s "
     ]
    },
    {
     "name": "stderr",
     "output_type": "stream",
     "text": [
      " 50%|█████     | 1/2 [00:30<00:30, 30.33s/it]"
     ]
    },
    {
     "name": "stdout",
     "output_type": "stream",
     "text": [
      "\u001b[32m⠦\u001b[0m Working... \u001b[32m━━━━━━━━━\u001b[0m\u001b[32m╸\u001b[0m\u001b[2m\u001b[32m━━━━━━━━━━━━━━━━━━━━━━━━━━━━━━━\u001b[0m \u001b[36m0:04:26\u001b[0m  0.0 step/s "
     ]
    },
    {
     "name": "stderr",
     "output_type": "stream",
     "text": [
      "100%|██████████| 2/2 [00:36<00:00, 18.15s/it]\n"
     ]
    },
    {
     "name": "stdout",
     "output_type": "stream",
     "text": [
      "\u001b[32m⠸\u001b[0m Working... \u001b[32m━━━━━━━━━━\u001b[0m\u001b[32m╸\u001b[0m\u001b[2m\u001b[32m━━━━━━━━━━━━━━━━━━━━━━━━━━━━━━\u001b[0m \u001b[36m0:04:28\u001b[0m  0.0 step/s "
     ]
    },
    {
     "name": "stderr",
     "output_type": "stream",
     "text": [
      "  0%|          | 0/2 [00:00<?, ?it/s]"
     ]
    },
    {
     "name": "stdout",
     "output_type": "stream",
     "text": [
      "\u001b[32m⠏\u001b[0m Working... \u001b[32m━━━━━━━━━━\u001b[0m\u001b[32m╸\u001b[0m\u001b[2m\u001b[32m━━━━━━━━━━━━━━━━━━━━━━━━━━━━━━\u001b[0m \u001b[36m0:04:49\u001b[0m  0.0 step/s "
     ]
    },
    {
     "name": "stderr",
     "output_type": "stream",
     "text": [
      " 50%|█████     | 1/2 [00:20<00:20, 20.73s/it]"
     ]
    },
    {
     "name": "stdout",
     "output_type": "stream",
     "text": [
      "\u001b[32m⠏\u001b[0m Working... \u001b[32m━━━━━━━━━━\u001b[0m\u001b[32m╸\u001b[0m\u001b[2m\u001b[32m━━━━━━━━━━━━━━━━━━━━━━━━━━━━━━\u001b[0m \u001b[36m0:04:52\u001b[0m  0.0 step/s "
     ]
    },
    {
     "name": "stderr",
     "output_type": "stream",
     "text": [
      "100%|██████████| 2/2 [00:23<00:00, 11.90s/it]\n"
     ]
    },
    {
     "name": "stdout",
     "output_type": "stream",
     "text": [
      "\u001b[32m⠏\u001b[0m Working... \u001b[32m━━━━━━━━━━━\u001b[0m\u001b[32m╸\u001b[0m\u001b[2m\u001b[32m━━━━━━━━━━━━━━━━━━━━━━━━━━━━━\u001b[0m \u001b[36m0:04:54\u001b[0m  0.0 step/s "
     ]
    },
    {
     "name": "stderr",
     "output_type": "stream",
     "text": [
      "  0%|          | 0/2 [00:00<?, ?it/s]"
     ]
    },
    {
     "name": "stdout",
     "output_type": "stream",
     "text": [
      "\u001b[32m⠹\u001b[0m Working... \u001b[32m━━━━━━━━━━━\u001b[0m\u001b[32m╸\u001b[0m\u001b[2m\u001b[32m━━━━━━━━━━━━━━━━━━━━━━━━━━━━━\u001b[0m \u001b[36m0:05:12\u001b[0m  0.0 step/s "
     ]
    },
    {
     "name": "stderr",
     "output_type": "stream",
     "text": [
      " 50%|█████     | 1/2 [00:18<00:18, 18.51s/it]"
     ]
    },
    {
     "name": "stdout",
     "output_type": "stream",
     "text": [
      "\u001b[32m⠴\u001b[0m Working... \u001b[32m━━━━━━━━━━━\u001b[0m\u001b[32m╸\u001b[0m\u001b[2m\u001b[32m━━━━━━━━━━━━━━━━━━━━━━━━━━━━━\u001b[0m \u001b[36m0:05:17\u001b[0m  0.0 step/s "
     ]
    },
    {
     "name": "stderr",
     "output_type": "stream",
     "text": [
      "100%|██████████| 2/2 [00:22<00:00, 11.40s/it]\n"
     ]
    },
    {
     "name": "stdout",
     "output_type": "stream",
     "text": [
      "\u001b[32m⠴\u001b[0m Working... \u001b[32m━━━━━━━━━━━━\u001b[0m\u001b[32m╸\u001b[0m\u001b[2m\u001b[32m━━━━━━━━━━━━━━━━━━━━━━━━━━━━\u001b[0m \u001b[36m0:05:19\u001b[0m  0.0 step/s "
     ]
    },
    {
     "name": "stderr",
     "output_type": "stream",
     "text": [
      "  0%|          | 0/2 [00:00<?, ?it/s]"
     ]
    },
    {
     "name": "stdout",
     "output_type": "stream",
     "text": [
      "\u001b[32m⠼\u001b[0m Working... \u001b[32m━━━━━━━━━━━━\u001b[0m\u001b[32m╸\u001b[0m\u001b[2m\u001b[32m━━━━━━━━━━━━━━━━━━━━━━━━━━━━\u001b[0m \u001b[36m0:05:39\u001b[0m  0.0 step/s "
     ]
    },
    {
     "name": "stderr",
     "output_type": "stream",
     "text": [
      " 50%|█████     | 1/2 [00:20<00:20, 20.07s/it]"
     ]
    },
    {
     "name": "stdout",
     "output_type": "stream",
     "text": [
      "\u001b[32m⠇\u001b[0m Working... \u001b[32m━━━━━━━━━━━━\u001b[0m\u001b[32m╸\u001b[0m\u001b[2m\u001b[32m━━━━━━━━━━━━━━━━━━━━━━━━━━━━\u001b[0m \u001b[36m0:05:43\u001b[0m  0.0 step/s "
     ]
    },
    {
     "name": "stderr",
     "output_type": "stream",
     "text": [
      "100%|██████████| 2/2 [00:24<00:00, 12.25s/it]\n"
     ]
    },
    {
     "name": "stdout",
     "output_type": "stream",
     "text": [
      "\u001b[32m⠙\u001b[0m Working... \u001b[32m━━━━━━━━━━━━━\u001b[0m\u001b[32m╸\u001b[0m\u001b[2m\u001b[32m━━━━━━━━━━━━━━━━━━━━━━━━━━━\u001b[0m \u001b[36m0:05:46\u001b[0m  0.0 step/s "
     ]
    },
    {
     "name": "stderr",
     "output_type": "stream",
     "text": [
      "  0%|          | 0/2 [00:00<?, ?it/s]"
     ]
    },
    {
     "name": "stdout",
     "output_type": "stream",
     "text": [
      "\u001b[32m⠏\u001b[0m Working... \u001b[32m━━━━━━━━━━━━━\u001b[0m\u001b[32m╸\u001b[0m\u001b[2m\u001b[32m━━━━━━━━━━━━━━━━━━━━━━━━━━━\u001b[0m \u001b[36m0:06:08\u001b[0m  0.0 step/s "
     ]
    },
    {
     "name": "stderr",
     "output_type": "stream",
     "text": [
      " 50%|█████     | 1/2 [00:22<00:22, 22.01s/it]"
     ]
    },
    {
     "name": "stdout",
     "output_type": "stream",
     "text": [
      "\u001b[32m⠼\u001b[0m Working... \u001b[32m━━━━━━━━━━━━━\u001b[0m\u001b[32m╸\u001b[0m\u001b[2m\u001b[32m━━━━━━━━━━━━━━━━━━━━━━━━━━━\u001b[0m \u001b[36m0:06:12\u001b[0m  0.0 step/s "
     ]
    },
    {
     "name": "stderr",
     "output_type": "stream",
     "text": [
      "100%|██████████| 2/2 [00:26<00:00, 13.27s/it]\n"
     ]
    },
    {
     "name": "stdout",
     "output_type": "stream",
     "text": [
      "\u001b[32m⠋\u001b[0m Working... \u001b[32m━━━━━━━━━━━━━━\u001b[0m\u001b[32m╸\u001b[0m\u001b[2m\u001b[32m━━━━━━━━━━━━━━━━━━━━━━━━━━\u001b[0m \u001b[36m0:06:15\u001b[0m  0.0 step/s "
     ]
    },
    {
     "name": "stderr",
     "output_type": "stream",
     "text": [
      "  0%|          | 0/2 [00:00<?, ?it/s]"
     ]
    },
    {
     "name": "stdout",
     "output_type": "stream",
     "text": [
      "\u001b[32m⠸\u001b[0m Working... \u001b[32m━━━━━━━━━━━━━━\u001b[0m\u001b[32m╸\u001b[0m\u001b[2m\u001b[32m━━━━━━━━━━━━━━━━━━━━━━━━━━\u001b[0m \u001b[36m0:06:53\u001b[0m  0.0 step/s "
     ]
    },
    {
     "name": "stderr",
     "output_type": "stream",
     "text": [
      " 50%|█████     | 1/2 [00:37<00:37, 37.65s/it]"
     ]
    },
    {
     "name": "stdout",
     "output_type": "stream",
     "text": [
      "\u001b[32m⠋\u001b[0m Working... \u001b[32m━━━━━━━━━━━━━━\u001b[0m\u001b[32m╸\u001b[0m\u001b[2m\u001b[32m━━━━━━━━━━━━━━━━━━━━━━━━━━\u001b[0m \u001b[36m0:07:02\u001b[0m  0.0 step/s "
     ]
    },
    {
     "name": "stderr",
     "output_type": "stream",
     "text": [
      "100%|██████████| 2/2 [00:47<00:00, 23.75s/it]\n"
     ]
    },
    {
     "name": "stdout",
     "output_type": "stream",
     "text": [
      "\u001b[32m⠇\u001b[0m Working... \u001b[32m━━━━━━━━━━━━━━━\u001b[0m\u001b[32m╸\u001b[0m\u001b[2m\u001b[32m━━━━━━━━━━━━━━━━━━━━━━━━━\u001b[0m \u001b[36m0:07:05\u001b[0m  0.0 step/s "
     ]
    },
    {
     "name": "stderr",
     "output_type": "stream",
     "text": [
      "  0%|          | 0/2 [00:00<?, ?it/s]"
     ]
    },
    {
     "name": "stdout",
     "output_type": "stream",
     "text": [
      "\u001b[32m⠴\u001b[0m Working... \u001b[32m━━━━━━━━━━━━━━━\u001b[0m\u001b[32m╸\u001b[0m\u001b[2m\u001b[32m━━━━━━━━━━━━━━━━━━━━━━━━━\u001b[0m \u001b[36m0:07:47\u001b[0m  0.0 step/s "
     ]
    },
    {
     "name": "stderr",
     "output_type": "stream",
     "text": [
      " 50%|█████     | 1/2 [00:42<00:42, 42.11s/it]"
     ]
    },
    {
     "name": "stdout",
     "output_type": "stream",
     "text": [
      "\u001b[32m⠙\u001b[0m Working... \u001b[32m━━━━━━━━━━━━━━━\u001b[0m\u001b[32m╸\u001b[0m\u001b[2m\u001b[32m━━━━━━━━━━━━━━━━━━━━━━━━━\u001b[0m \u001b[36m0:07:57\u001b[0m  0.0 step/s "
     ]
    },
    {
     "name": "stderr",
     "output_type": "stream",
     "text": [
      "100%|██████████| 2/2 [00:51<00:00, 25.89s/it]\n"
     ]
    },
    {
     "name": "stdout",
     "output_type": "stream",
     "text": [
      "\u001b[32m⠇\u001b[0m Working... \u001b[32m━━━━━━━━━━━━━━━━\u001b[0m\u001b[32m╸\u001b[0m\u001b[2m\u001b[32m━━━━━━━━━━━━━━━━━━━━━━━━\u001b[0m \u001b[36m0:08:00\u001b[0m  0.0 step/s "
     ]
    },
    {
     "name": "stderr",
     "output_type": "stream",
     "text": [
      "  0%|          | 0/2 [00:00<?, ?it/s]"
     ]
    },
    {
     "name": "stdout",
     "output_type": "stream",
     "text": [
      "\u001b[32m⠇\u001b[0m Working... \u001b[32m━━━━━━━━━━━━━━━━\u001b[0m\u001b[32m╸\u001b[0m\u001b[2m\u001b[32m━━━━━━━━━━━━━━━━━━━━━━━━\u001b[0m \u001b[36m0:08:28\u001b[0m  0.0 step/s "
     ]
    },
    {
     "name": "stderr",
     "output_type": "stream",
     "text": [
      " 50%|█████     | 1/2 [00:28<00:28, 28.33s/it]"
     ]
    },
    {
     "name": "stdout",
     "output_type": "stream",
     "text": [
      "\u001b[32m⠏\u001b[0m Working... \u001b[32m━━━━━━━━━━━━━━━━\u001b[0m\u001b[32m╸\u001b[0m\u001b[2m\u001b[32m━━━━━━━━━━━━━━━━━━━━━━━━\u001b[0m \u001b[36m0:08:35\u001b[0m  0.0 step/s "
     ]
    },
    {
     "name": "stderr",
     "output_type": "stream",
     "text": [
      "100%|██████████| 2/2 [00:35<00:00, 17.73s/it]\n"
     ]
    },
    {
     "name": "stdout",
     "output_type": "stream",
     "text": [
      "\u001b[32m⠏\u001b[0m Working... \u001b[32m━━━━━━━━━━━━━━━━━\u001b[0m\u001b[32m╸\u001b[0m\u001b[2m\u001b[32m━━━━━━━━━━━━━━━━━━━━━━━\u001b[0m \u001b[36m0:08:38\u001b[0m  0.0 step/s "
     ]
    },
    {
     "name": "stderr",
     "output_type": "stream",
     "text": [
      "  0%|          | 0/2 [00:00<?, ?it/s]"
     ]
    },
    {
     "name": "stdout",
     "output_type": "stream",
     "text": [
      "\u001b[32m⠏\u001b[0m Working... \u001b[32m━━━━━━━━━━━━━━━━━\u001b[0m\u001b[32m╸\u001b[0m\u001b[2m\u001b[32m━━━━━━━━━━━━━━━━━━━━━━━\u001b[0m \u001b[36m0:09:03\u001b[0m  0.0 step/s "
     ]
    },
    {
     "name": "stderr",
     "output_type": "stream",
     "text": [
      " 50%|█████     | 1/2 [00:24<00:24, 24.18s/it]"
     ]
    },
    {
     "name": "stdout",
     "output_type": "stream",
     "text": [
      "\u001b[32m⠇\u001b[0m Working... \u001b[32m━━━━━━━━━━━━━━━━━\u001b[0m\u001b[32m╸\u001b[0m\u001b[2m\u001b[32m━━━━━━━━━━━━━━━━━━━━━━━\u001b[0m \u001b[36m0:09:06\u001b[0m  0.0 step/s "
     ]
    },
    {
     "name": "stderr",
     "output_type": "stream",
     "text": [
      "100%|██████████| 2/2 [00:28<00:00, 14.07s/it]\n"
     ]
    },
    {
     "name": "stdout",
     "output_type": "stream",
     "text": [
      "\u001b[32m⠏\u001b[0m Working... \u001b[32m━━━━━━━━━━━━━━━━━━\u001b[0m\u001b[32m╸\u001b[0m\u001b[2m\u001b[32m━━━━━━━━━━━━━━━━━━━━━━\u001b[0m \u001b[36m0:09:10\u001b[0m  0.0 step/s "
     ]
    },
    {
     "name": "stderr",
     "output_type": "stream",
     "text": [
      "  0%|          | 0/2 [00:00<?, ?it/s]"
     ]
    },
    {
     "name": "stdout",
     "output_type": "stream",
     "text": [
      "\u001b[32m⠙\u001b[0m Working... \u001b[32m━━━━━━━━━━━━━━━━━━\u001b[0m\u001b[32m╸\u001b[0m\u001b[2m\u001b[32m━━━━━━━━━━━━━━━━━━━━━━\u001b[0m \u001b[36m0:09:32\u001b[0m  0.0 step/s "
     ]
    },
    {
     "name": "stderr",
     "output_type": "stream",
     "text": [
      " 50%|█████     | 1/2 [00:22<00:22, 22.43s/it]"
     ]
    },
    {
     "name": "stdout",
     "output_type": "stream",
     "text": [
      "\u001b[32m⠴\u001b[0m Working... \u001b[32m━━━━━━━━━━━━━━━━━━\u001b[0m\u001b[32m╸\u001b[0m\u001b[2m\u001b[32m━━━━━━━━━━━━━━━━━━━━━━\u001b[0m \u001b[36m0:09:37\u001b[0m  0.0 step/s "
     ]
    },
    {
     "name": "stderr",
     "output_type": "stream",
     "text": [
      "100%|██████████| 2/2 [00:26<00:00, 13.46s/it]\n"
     ]
    },
    {
     "name": "stdout",
     "output_type": "stream",
     "text": [
      "\u001b[32m⠹\u001b[0m Working... \u001b[32m━━━━━━━━━━━━━━━━━━━\u001b[0m\u001b[32m╸\u001b[0m\u001b[2m\u001b[32m━━━━━━━━━━━━━━━━━━━━━\u001b[0m \u001b[36m0:09:40\u001b[0m  0.0 step/s "
     ]
    },
    {
     "name": "stderr",
     "output_type": "stream",
     "text": [
      "  0%|          | 0/2 [00:00<?, ?it/s]"
     ]
    },
    {
     "name": "stdout",
     "output_type": "stream",
     "text": [
      "\u001b[32m⠼\u001b[0m Working... \u001b[32m━━━━━━━━━━━━━━━━━━━\u001b[0m\u001b[32m╸\u001b[0m\u001b[2m\u001b[32m━━━━━━━━━━━━━━━━━━━━━\u001b[0m \u001b[36m0:10:07\u001b[0m  0.0 step/s "
     ]
    },
    {
     "name": "stderr",
     "output_type": "stream",
     "text": [
      " 50%|█████     | 1/2 [00:26<00:26, 26.41s/it]"
     ]
    },
    {
     "name": "stdout",
     "output_type": "stream",
     "text": [
      "\u001b[32m⠏\u001b[0m Working... \u001b[32m━━━━━━━━━━━━━━━━━━━\u001b[0m\u001b[32m╸\u001b[0m\u001b[2m\u001b[32m━━━━━━━━━━━━━━━━━━━━━\u001b[0m \u001b[36m0:10:17\u001b[0m  0.0 step/s "
     ]
    },
    {
     "name": "stderr",
     "output_type": "stream",
     "text": [
      "100%|██████████| 2/2 [00:37<00:00, 18.51s/it]\n"
     ]
    },
    {
     "name": "stdout",
     "output_type": "stream",
     "text": [
      "\u001b[32m⠦\u001b[0m Working... \u001b[32m━━━━━━━━━━━━━━━━━━━━\u001b[0m\u001b[32m╸\u001b[0m\u001b[2m\u001b[32m━━━━━━━━━━━━━━━━━━━━\u001b[0m \u001b[36m0:10:21\u001b[0m  0.0 step/s "
     ]
    },
    {
     "name": "stderr",
     "output_type": "stream",
     "text": [
      "  0%|          | 0/2 [00:00<?, ?it/s]"
     ]
    },
    {
     "name": "stdout",
     "output_type": "stream",
     "text": [
      "\u001b[32m⠼\u001b[0m Working... \u001b[32m━━━━━━━━━━━━━━━━━━━━\u001b[0m\u001b[32m╸\u001b[0m\u001b[2m\u001b[32m━━━━━━━━━━━━━━━━━━━━\u001b[0m \u001b[36m0:11:09\u001b[0m  0.0 step/s "
     ]
    },
    {
     "name": "stderr",
     "output_type": "stream",
     "text": [
      " 50%|█████     | 1/2 [00:47<00:47, 47.30s/it]"
     ]
    },
    {
     "name": "stdout",
     "output_type": "stream",
     "text": [
      "\u001b[32m⠙\u001b[0m Working... \u001b[32m━━━━━━━━━━━━━━━━━━━━\u001b[0m\u001b[32m╸\u001b[0m\u001b[2m\u001b[32m━━━━━━━━━━━━━━━━━━━━\u001b[0m \u001b[36m0:11:19\u001b[0m  0.0 step/s "
     ]
    },
    {
     "name": "stderr",
     "output_type": "stream",
     "text": [
      "100%|██████████| 2/2 [00:58<00:00, 29.02s/it]\n"
     ]
    },
    {
     "name": "stdout",
     "output_type": "stream",
     "text": [
      "\u001b[32m⠇\u001b[0m Working... \u001b[32m━━━━━━━━━━━━━━━━━━━━━\u001b[0m\u001b[32m╸\u001b[0m\u001b[2m\u001b[32m━━━━━━━━━━━━━━━━━━━\u001b[0m \u001b[36m0:11:23\u001b[0m  0.0 step/s "
     ]
    },
    {
     "name": "stderr",
     "output_type": "stream",
     "text": [
      "  0%|          | 0/2 [00:00<?, ?it/s]"
     ]
    },
    {
     "name": "stdout",
     "output_type": "stream",
     "text": [
      "\u001b[32m⠼\u001b[0m Working... \u001b[32m━━━━━━━━━━━━━━━━━━━━━\u001b[0m\u001b[32m╸\u001b[0m\u001b[2m\u001b[32m━━━━━━━━━━━━━━━━━━━\u001b[0m \u001b[36m0:12:11\u001b[0m  0.0 step/s "
     ]
    },
    {
     "name": "stderr",
     "output_type": "stream",
     "text": [
      " 50%|█████     | 1/2 [00:48<00:48, 48.11s/it]"
     ]
    },
    {
     "name": "stdout",
     "output_type": "stream",
     "text": [
      "\u001b[32m⠏\u001b[0m Working... \u001b[32m━━━━━━━━━━━━━━━━━━━━━\u001b[0m\u001b[32m╸\u001b[0m\u001b[2m\u001b[32m━━━━━━━━━━━━━━━━━━━\u001b[0m \u001b[36m0:12:17\u001b[0m  0.0 step/s "
     ]
    },
    {
     "name": "stderr",
     "output_type": "stream",
     "text": [
      "100%|██████████| 2/2 [00:53<00:00, 26.81s/it]\n"
     ]
    },
    {
     "name": "stdout",
     "output_type": "stream",
     "text": [
      "\u001b[32m⠏\u001b[0m Working... \u001b[32m━━━━━━━━━━━━━━━━━━━━━━\u001b[0m\u001b[32m╸\u001b[0m\u001b[2m\u001b[32m━━━━━━━━━━━━━━━━━━\u001b[0m \u001b[36m0:12:21\u001b[0m  0.0 step/s "
     ]
    },
    {
     "name": "stderr",
     "output_type": "stream",
     "text": [
      "  0%|          | 0/2 [00:00<?, ?it/s]"
     ]
    },
    {
     "name": "stdout",
     "output_type": "stream",
     "text": [
      "\u001b[32m⠋\u001b[0m Working... \u001b[32m━━━━━━━━━━━━━━━━━━━━━━\u001b[0m\u001b[32m╸\u001b[0m\u001b[2m\u001b[32m━━━━━━━━━━━━━━━━━━\u001b[0m \u001b[36m0:12:42\u001b[0m  0.0 step/s "
     ]
    },
    {
     "name": "stderr",
     "output_type": "stream",
     "text": [
      " 50%|█████     | 1/2 [00:21<00:21, 21.28s/it]"
     ]
    },
    {
     "name": "stdout",
     "output_type": "stream",
     "text": [
      "\u001b[32m⠸\u001b[0m Working... \u001b[32m━━━━━━━━━━━━━━━━━━━━━━\u001b[0m\u001b[32m╸\u001b[0m\u001b[2m\u001b[32m━━━━━━━━━━━━━━━━━━\u001b[0m \u001b[36m0:12:47\u001b[0m  0.0 step/s "
     ]
    },
    {
     "name": "stderr",
     "output_type": "stream",
     "text": [
      "100%|██████████| 2/2 [00:25<00:00, 12.83s/it]\n"
     ]
    },
    {
     "name": "stdout",
     "output_type": "stream",
     "text": [
      "\u001b[32m⠼\u001b[0m Working... \u001b[32m━━━━━━━━━━━━━━━━━━━━━━━\u001b[0m\u001b[32m╸\u001b[0m\u001b[2m\u001b[32m━━━━━━━━━━━━━━━━━\u001b[0m \u001b[36m0:12:51\u001b[0m  0.0 step/s "
     ]
    },
    {
     "name": "stderr",
     "output_type": "stream",
     "text": [
      "  0%|          | 0/2 [00:00<?, ?it/s]"
     ]
    },
    {
     "name": "stdout",
     "output_type": "stream",
     "text": [
      "\u001b[32m⠏\u001b[0m Working... \u001b[32m━━━━━━━━━━━━━━━━━━━━━━━\u001b[0m\u001b[32m╸\u001b[0m\u001b[2m\u001b[32m━━━━━━━━━━━━━━━━━\u001b[0m \u001b[36m0:13:11\u001b[0m  0.0 step/s "
     ]
    },
    {
     "name": "stderr",
     "output_type": "stream",
     "text": [
      " 50%|█████     | 1/2 [00:20<00:20, 20.63s/it]"
     ]
    },
    {
     "name": "stdout",
     "output_type": "stream",
     "text": [
      "\u001b[32m⠇\u001b[0m Working... \u001b[32m━━━━━━━━━━━━━━━━━━━━━━━\u001b[0m\u001b[32m╸\u001b[0m\u001b[2m\u001b[32m━━━━━━━━━━━━━━━━━\u001b[0m \u001b[36m0:13:19\u001b[0m  0.0 step/s "
     ]
    },
    {
     "name": "stderr",
     "output_type": "stream",
     "text": [
      "100%|██████████| 2/2 [00:28<00:00, 14.30s/it]\n"
     ]
    },
    {
     "name": "stdout",
     "output_type": "stream",
     "text": [
      "\u001b[32m⠸\u001b[0m Working... \u001b[32m━━━━━━━━━━━━━━━━━━━━━━━━\u001b[0m\u001b[32m╸\u001b[0m\u001b[2m\u001b[32m━━━━━━━━━━━━━━━━\u001b[0m \u001b[36m0:13:24\u001b[0m  0.0 step/s "
     ]
    },
    {
     "name": "stderr",
     "output_type": "stream",
     "text": [
      "  0%|          | 0/2 [00:00<?, ?it/s]"
     ]
    },
    {
     "name": "stdout",
     "output_type": "stream",
     "text": [
      "\u001b[32m⠴\u001b[0m Working... \u001b[32m━━━━━━━━━━━━━━━━━━━━━━━━\u001b[0m\u001b[32m╸\u001b[0m\u001b[2m\u001b[32m━━━━━━━━━━━━━━━━\u001b[0m \u001b[36m0:14:01\u001b[0m  0.0 step/s "
     ]
    },
    {
     "name": "stderr",
     "output_type": "stream",
     "text": [
      " 50%|█████     | 1/2 [00:36<00:36, 36.57s/it]"
     ]
    },
    {
     "name": "stdout",
     "output_type": "stream",
     "text": [
      "\u001b[32m⠹\u001b[0m Working... \u001b[32m━━━━━━━━━━━━━━━━━━━━━━━━\u001b[0m\u001b[32m╸\u001b[0m\u001b[2m\u001b[32m━━━━━━━━━━━━━━━━\u001b[0m \u001b[36m0:14:09\u001b[0m  0.0 step/s "
     ]
    },
    {
     "name": "stderr",
     "output_type": "stream",
     "text": [
      "100%|██████████| 2/2 [00:45<00:00, 22.70s/it]\n"
     ]
    },
    {
     "name": "stdout",
     "output_type": "stream",
     "text": [
      "\u001b[32m⠇\u001b[0m Working... \u001b[32m━━━━━━━━━━━━━━━━━━━━━━━━━\u001b[0m\u001b[32m╸\u001b[0m\u001b[2m\u001b[32m━━━━━━━━━━━━━━━\u001b[0m \u001b[36m0:14:14\u001b[0m  0.0 step/s "
     ]
    },
    {
     "name": "stderr",
     "output_type": "stream",
     "text": [
      "  0%|          | 0/2 [00:00<?, ?it/s]"
     ]
    },
    {
     "name": "stdout",
     "output_type": "stream",
     "text": [
      "\u001b[32m⠼\u001b[0m Working... \u001b[32m━━━━━━━━━━━━━━━━━━━━━━━━━\u001b[0m\u001b[32m╸\u001b[0m\u001b[2m\u001b[32m━━━━━━━━━━━━━━━\u001b[0m \u001b[36m0:14:52\u001b[0m  0.0 step/s "
     ]
    },
    {
     "name": "stderr",
     "output_type": "stream",
     "text": [
      " 50%|█████     | 1/2 [00:37<00:37, 38.00s/it]"
     ]
    },
    {
     "name": "stdout",
     "output_type": "stream",
     "text": [
      "\u001b[32m⠇\u001b[0m Working... \u001b[32m━━━━━━━━━━━━━━━━━━━━━━━━━\u001b[0m\u001b[32m╸\u001b[0m\u001b[2m\u001b[32m━━━━━━━━━━━━━━━\u001b[0m \u001b[36m0:15:01\u001b[0m  0.0 step/s "
     ]
    },
    {
     "name": "stderr",
     "output_type": "stream",
     "text": [
      "100%|██████████| 2/2 [00:46<00:00, 23.21s/it]\n"
     ]
    },
    {
     "name": "stdout",
     "output_type": "stream",
     "text": [
      "\u001b[32m⠇\u001b[0m Working... \u001b[32m━━━━━━━━━━━━━━━━━━━━━━━━━━\u001b[0m\u001b[32m╸\u001b[0m\u001b[2m\u001b[32m━━━━━━━━━━━━━━\u001b[0m \u001b[36m0:15:06\u001b[0m  0.0 step/s "
     ]
    },
    {
     "name": "stderr",
     "output_type": "stream",
     "text": [
      "  0%|          | 0/2 [00:00<?, ?it/s]"
     ]
    },
    {
     "name": "stdout",
     "output_type": "stream",
     "text": [
      "\u001b[32m⠧\u001b[0m Working... \u001b[32m━━━━━━━━━━━━━━━━━━━━━━━━━━\u001b[0m\u001b[32m╸\u001b[0m\u001b[2m\u001b[32m━━━━━━━━━━━━━━\u001b[0m \u001b[36m0:15:43\u001b[0m  0.0 step/s "
     ]
    },
    {
     "name": "stderr",
     "output_type": "stream",
     "text": [
      " 50%|█████     | 1/2 [00:37<00:37, 37.32s/it]"
     ]
    },
    {
     "name": "stdout",
     "output_type": "stream",
     "text": [
      "\u001b[32m⠇\u001b[0m Working... \u001b[32m━━━━━━━━━━━━━━━━━━━━━━━━━━\u001b[0m\u001b[32m╸\u001b[0m\u001b[2m\u001b[32m━━━━━━━━━━━━━━\u001b[0m \u001b[36m0:15:51\u001b[0m  0.0 step/s "
     ]
    },
    {
     "name": "stderr",
     "output_type": "stream",
     "text": [
      "100%|██████████| 2/2 [00:45<00:00, 22.72s/it]\n"
     ]
    },
    {
     "name": "stdout",
     "output_type": "stream",
     "text": [
      "\u001b[32m⠋\u001b[0m Working... \u001b[32m━━━━━━━━━━━━━━━━━━━━━━━━━━━\u001b[0m\u001b[32m╸\u001b[0m\u001b[2m\u001b[32m━━━━━━━━━━━━━\u001b[0m \u001b[36m0:15:57\u001b[0m  0.0 step/s "
     ]
    },
    {
     "name": "stderr",
     "output_type": "stream",
     "text": [
      "  0%|          | 0/2 [00:00<?, ?it/s]"
     ]
    },
    {
     "name": "stdout",
     "output_type": "stream",
     "text": [
      "\u001b[32m⠧\u001b[0m Working... \u001b[32m━━━━━━━━━━━━━━━━━━━━━━━━━━━\u001b[0m\u001b[32m╸\u001b[0m\u001b[2m\u001b[32m━━━━━━━━━━━━━\u001b[0m \u001b[36m0:16:33\u001b[0m  0.0 step/s "
     ]
    }
   ],
   "source": [
    "with flow_text_encode:\n",
    "    flow_text_encode.post(on='', inputs=text_input_docs(templates_df), request_size=10_000, show_progress=True)"
   ]
  },
  {
   "cell_type": "code",
   "execution_count": null,
   "id": "18c515e4-427e-4308-a84c-bd6baed608c2",
   "metadata": {},
   "outputs": [],
   "source": []
  }
 ],
 "metadata": {
  "kernelspec": {
   "display_name": "Python 3 (ipykernel)",
   "language": "python",
   "name": "python3"
  },
  "language_info": {
   "codemirror_mode": {
    "name": "ipython",
    "version": 3
   },
   "file_extension": ".py",
   "mimetype": "text/x-python",
   "name": "python",
   "nbconvert_exporter": "python",
   "pygments_lexer": "ipython3",
   "version": "3.7.11"
  }
 },
 "nbformat": 4,
 "nbformat_minor": 5
}
