{
 "cells": [
  {
   "cell_type": "code",
   "execution_count": 19,
   "id": "77072a71-cd78-403f-a661-bc118dcadb2f",
   "metadata": {},
   "outputs": [
    {
     "ename": "KeyError",
     "evalue": "'SERVER_NAME'",
     "output_type": "error",
     "traceback": [
      "\u001b[0;31m---------------------------------------------------------------------------\u001b[0m",
      "\u001b[0;31mKeyError\u001b[0m                                  Traceback (most recent call last)",
      "\u001b[0;32m/tmp/ipykernel_15/3769513155.py\u001b[0m in \u001b[0;36m<module>\u001b[0;34m\u001b[0m\n\u001b[1;32m      2\u001b[0m \u001b[0;34m\u001b[0m\u001b[0m\n\u001b[1;32m      3\u001b[0m \u001b[0mBOT_TOKEN\u001b[0m \u001b[0;34m=\u001b[0m \u001b[0mos\u001b[0m\u001b[0;34m.\u001b[0m\u001b[0menviron\u001b[0m\u001b[0;34m[\u001b[0m\u001b[0;34m'BOT_TOKEN'\u001b[0m\u001b[0;34m]\u001b[0m\u001b[0;34m\u001b[0m\u001b[0;34m\u001b[0m\u001b[0m\n\u001b[0;32m----> 4\u001b[0;31m \u001b[0mSERVER_NAME\u001b[0m \u001b[0;34m=\u001b[0m \u001b[0mos\u001b[0m\u001b[0;34m.\u001b[0m\u001b[0menviron\u001b[0m\u001b[0;34m[\u001b[0m\u001b[0;34m'SERVER_NAME'\u001b[0m\u001b[0;34m]\u001b[0m\u001b[0;34m\u001b[0m\u001b[0;34m\u001b[0m\u001b[0m\n\u001b[0m",
      "\u001b[0;32m/opt/conda/lib/python3.7/os.py\u001b[0m in \u001b[0;36m__getitem__\u001b[0;34m(self, key)\u001b[0m\n\u001b[1;32m    679\u001b[0m         \u001b[0;32mexcept\u001b[0m \u001b[0mKeyError\u001b[0m\u001b[0;34m:\u001b[0m\u001b[0;34m\u001b[0m\u001b[0;34m\u001b[0m\u001b[0m\n\u001b[1;32m    680\u001b[0m             \u001b[0;31m# raise KeyError with the original key value\u001b[0m\u001b[0;34m\u001b[0m\u001b[0;34m\u001b[0m\u001b[0;34m\u001b[0m\u001b[0m\n\u001b[0;32m--> 681\u001b[0;31m             \u001b[0;32mraise\u001b[0m \u001b[0mKeyError\u001b[0m\u001b[0;34m(\u001b[0m\u001b[0mkey\u001b[0m\u001b[0;34m)\u001b[0m \u001b[0;32mfrom\u001b[0m \u001b[0;32mNone\u001b[0m\u001b[0;34m\u001b[0m\u001b[0;34m\u001b[0m\u001b[0m\n\u001b[0m\u001b[1;32m    682\u001b[0m         \u001b[0;32mreturn\u001b[0m \u001b[0mself\u001b[0m\u001b[0;34m.\u001b[0m\u001b[0mdecodevalue\u001b[0m\u001b[0;34m(\u001b[0m\u001b[0mvalue\u001b[0m\u001b[0;34m)\u001b[0m\u001b[0;34m\u001b[0m\u001b[0;34m\u001b[0m\u001b[0m\n\u001b[1;32m    683\u001b[0m \u001b[0;34m\u001b[0m\u001b[0m\n",
      "\u001b[0;31mKeyError\u001b[0m: 'SERVER_NAME'"
     ]
    }
   ],
   "source": [
    "import os\n",
    "\n",
    "BOT_TOKEN = os.environ['BOT_TOKEN']\n",
    "SERVER_NAME = os.environ['SERVER_NAME']"
   ]
  },
  {
   "cell_type": "code",
   "execution_count": 15,
   "id": "56f1e0c9-0f64-46a3-87de-3778e814b6e2",
   "metadata": {},
   "outputs": [],
   "source": [
    "from aiogram import Bot\n",
    "from aiogram.types.input_file import InputFile\n",
    "\n",
    "#IP of machine and exposed port from bot\n",
    "WEBHOOK_URL = f'https://35.224.116.253/{BOT_TOKEN}'\n",
    "certificate = InputFile('/app/infrastructure/nginx/certs/cert.pem')"
   ]
  },
  {
   "cell_type": "code",
   "execution_count": 16,
   "id": "ec114534-5524-4dad-83ad-a58c5270812e",
   "metadata": {},
   "outputs": [
    {
     "name": "stdout",
     "output_type": "stream",
     "text": [
      "{\"id\": 5047382501, \"is_bot\": true, \"first_name\": \"onlymemes\", \"username\": \"onlymemebot\", \"can_join_groups\": true, \"can_read_all_group_messages\": false, \"supports_inline_queries\": false}\n"
     ]
    }
   ],
   "source": [
    "bot = Bot(token=BOT_TOKEN)\n",
    "print(await bot.get_me())"
   ]
  },
  {
   "cell_type": "code",
   "execution_count": 17,
   "id": "1d9982d3-fcb4-45c9-bb7a-732db87126ef",
   "metadata": {},
   "outputs": [
    {
     "data": {
      "text/plain": [
       "True"
      ]
     },
     "execution_count": 17,
     "metadata": {},
     "output_type": "execute_result"
    }
   ],
   "source": [
    "await bot.delete_webhook()"
   ]
  },
  {
   "cell_type": "code",
   "execution_count": 18,
   "id": "7a76c70f-783a-451e-a3bb-1ce59748d89c",
   "metadata": {},
   "outputs": [
    {
     "name": "stdout",
     "output_type": "stream",
     "text": [
      "True\n"
     ]
    }
   ],
   "source": [
    "print(await bot.set_webhook(WEBHOOK_URL, certificate=certificate))"
   ]
  },
  {
   "cell_type": "code",
   "execution_count": 21,
   "id": "350b6a5f-97f4-422d-97e2-1982be854a02",
   "metadata": {},
   "outputs": [
    {
     "name": "stdout",
     "output_type": "stream",
     "text": [
      "Process is interrupted.\n"
     ]
    },
    {
     "name": "stderr",
     "output_type": "stream",
     "text": [
      "Unclosed client session\n",
      "client_session: <aiohttp.client.ClientSession object at 0x7f2b4c436510>\n",
      "Unclosed client session\n",
      "client_session: <aiohttp.client.ClientSession object at 0x7f2b356a6a10>\n"
     ]
    }
   ],
   "source": [
    "%%bash\n",
    "curl --tlsv1.2 -v -k -X POST -H \"Content-Type: application/json\" -H \"Cache-Control: no-cache\"  -d '{\n",
    "\"update_id\":10000,\n",
    "\"message\":{\n",
    "  \"date\":1441645532,\n",
    "  \"chat\":{\n",
    "     \"last_name\":\"Test Lastname\",\n",
    "     \"id\":1111111,\n",
    "     \"first_name\":\"Test\",\n",
    "     \"username\":\"Test\"\n",
    "  },\n",
    "  \"message_id\":1365,\n",
    "  \"from\":{\n",
    "     \"last_name\":\"Test Lastname\",\n",
    "     \"id\":1111111,\n",
    "     \"first_name\":\"Test\",\n",
    "     \"username\":\"aafFFFFFFFFFFF\"\n",
    "  },\n",
    "  \"text\":\"/start\"\n",
    "}\n",
    "}' \"https://35.224.116.253/2032994658:AAFNrVymlX71HefRgHZfVvZPsaJw0-oxUP0\""
   ]
  }
 ],
 "metadata": {
  "kernelspec": {
   "display_name": "Python 3 (ipykernel)",
   "language": "python",
   "name": "python3"
  },
  "language_info": {
   "codemirror_mode": {
    "name": "ipython",
    "version": 3
   },
   "file_extension": ".py",
   "mimetype": "text/x-python",
   "name": "python",
   "nbconvert_exporter": "python",
   "pygments_lexer": "ipython3",
   "version": "3.7.11"
  }
 },
 "nbformat": 4,
 "nbformat_minor": 5
}
