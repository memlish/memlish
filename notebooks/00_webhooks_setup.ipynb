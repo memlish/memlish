{
 "cells": [
  {
   "cell_type": "code",
   "execution_count": 1,
   "id": "3ff135ba-c136-4412-ab93-d6fc8b5bcfb0",
   "metadata": {},
   "outputs": [],
   "source": [
    "import sys\n",
    "sys.path.append('/app')\n",
    "sys.path.append('/app/loopa')"
   ]
  },
  {
   "cell_type": "code",
   "execution_count": 2,
   "id": "5f53b989-6cf1-4e86-a394-716db2e56a5d",
   "metadata": {},
   "outputs": [],
   "source": [
    "from memlish.config import SERVER_NAME, BOT_TOKEN"
   ]
  },
  {
   "cell_type": "code",
   "execution_count": 3,
   "id": "56f1e0c9-0f64-46a3-87de-3778e814b6e2",
   "metadata": {},
   "outputs": [],
   "source": [
    "from aiogram import Bot\n",
    "from aiogram.types.input_file import InputFile\n",
    "\n",
    "#IP of machine and exposed port from bot\n",
    "WEBHOOK_URL = f'https://{SERVER_NAME}:8443/{BOT_TOKEN}'\n",
    "certificate = InputFile('/app/infrastructure/nginx/certs/cert.pem')"
   ]
  },
  {
   "cell_type": "code",
   "execution_count": 4,
   "id": "ec114534-5524-4dad-83ad-a58c5270812e",
   "metadata": {},
   "outputs": [
    {
     "name": "stdout",
     "output_type": "stream",
     "text": [
      "{\"id\": 5047382501, \"is_bot\": true, \"first_name\": \"onlymemes\", \"username\": \"onlymemebot\", \"can_join_groups\": true, \"can_read_all_group_messages\": false, \"supports_inline_queries\": true}\n"
     ]
    }
   ],
   "source": [
    "bot = Bot(token=BOT_TOKEN)\n",
    "print(await bot.get_me())"
   ]
  },
  {
   "cell_type": "code",
   "execution_count": 5,
   "id": "921c1619-811b-488c-8942-e9798452d74e",
   "metadata": {},
   "outputs": [],
   "source": [
    "webhook = await bot.get_webhook_info()"
   ]
  },
  {
   "cell_type": "code",
   "execution_count": 27,
   "id": "1d9982d3-fcb4-45c9-bb7a-732db87126ef",
   "metadata": {},
   "outputs": [
    {
     "data": {
      "text/plain": [
       "True"
      ]
     },
     "execution_count": 27,
     "metadata": {},
     "output_type": "execute_result"
    }
   ],
   "source": [
    "await bot.delete_webhook()"
   ]
  },
  {
   "cell_type": "code",
   "execution_count": 28,
   "id": "7a76c70f-783a-451e-a3bb-1ce59748d89c",
   "metadata": {},
   "outputs": [
    {
     "name": "stdout",
     "output_type": "stream",
     "text": [
      "True\n"
     ]
    }
   ],
   "source": [
    "print(await bot.set_webhook(WEBHOOK_URL, certificate=certificate))"
   ]
  },
  {
   "cell_type": "code",
   "execution_count": 7,
   "id": "350b6a5f-97f4-422d-97e2-1982be854a02",
   "metadata": {},
   "outputs": [
    {
     "name": "stdout",
     "output_type": "stream",
     "text": [
      "ok"
     ]
    },
    {
     "name": "stderr",
     "output_type": "stream",
     "text": [
      "Note: Unnecessary use of -X or --request, POST is already inferred.\n",
      "  % Total    % Received % Xferd  Average Speed   Time    Time     Time  Current\n",
      "                                 Dload  Upload   Total   Spent    Left  Speed\n",
      "  0     0    0     0    0     0      0      0 --:--:-- --:--:-- --:--:--     0*   Trying 35.224.116.253...\n",
      "* TCP_NODELAY set\n",
      "* Connected to onlymeme.publicvm.com (35.224.116.253) port 443 (#0)\n",
      "* ALPN, offering h2\n",
      "* ALPN, offering http/1.1\n",
      "* successfully set certificate verify locations:\n",
      "*   CAfile: /etc/ssl/certs/ca-certificates.crt\n",
      "  CApath: /etc/ssl/certs\n",
      "} [5 bytes data]\n",
      "* TLSv1.2 (OUT), TLS handshake, Client hello (1):\n",
      "} [237 bytes data]\n",
      "* TLSv1.2 (IN), TLS handshake, Server hello (2):\n",
      "{ [112 bytes data]\n",
      "* TLSv1.2 (IN), TLS handshake, Certificate (11):\n",
      "{ [1694 bytes data]\n",
      "* TLSv1.2 (IN), TLS handshake, Server key exchange (12):\n",
      "{ [300 bytes data]\n",
      "* TLSv1.2 (IN), TLS handshake, Server finished (14):\n",
      "{ [4 bytes data]\n",
      "* TLSv1.2 (OUT), TLS handshake, Client key exchange (16):\n",
      "} [37 bytes data]\n",
      "* TLSv1.2 (OUT), TLS change cipher, Client hello (1):\n",
      "} [1 bytes data]\n",
      "* TLSv1.2 (OUT), TLS handshake, Finished (20):\n",
      "} [16 bytes data]\n",
      "* TLSv1.2 (IN), TLS handshake, Finished (20):\n",
      "{ [16 bytes data]\n",
      "* SSL connection using TLSv1.2 / ECDHE-RSA-AES256-GCM-SHA384\n",
      "* ALPN, server accepted to use http/1.1\n",
      "* Server certificate:\n",
      "*  subject: CN=onlymeme.publicvm.com\n",
      "*  start date: Feb 11 00:00:00 2022 GMT\n",
      "*  expire date: May 12 23:59:59 2022 GMT\n",
      "*  issuer: C=AT; O=ZeroSSL; CN=ZeroSSL RSA Domain Secure Site CA\n",
      "*  SSL certificate verify result: unable to get local issuer certificate (20), continuing anyway.\n",
      "} [5 bytes data]\n",
      "> POST /5047382501:AAEPONuLiCA93X7QgZg0SkOGKOd77mfrpis HTTP/1.1\n",
      "> Host: onlymeme.publicvm.com\n",
      "> User-Agent: curl/7.58.0\n",
      "> Accept: */*\n",
      "> Content-Type: application/json\n",
      "> Cache-Control: no-cache\n",
      "> Content-Length: 341\n",
      "> \n",
      "} [341 bytes data]\n",
      "* upload completely sent off: 341 out of 341 bytes\n",
      "{ [5 bytes data]\n",
      "< HTTP/1.1 200 OK\n",
      "< Server: nginx/1.21.6\n",
      "< Date: Fri, 11 Feb 2022 14:45:27 GMT\n",
      "< Content-Type: text/plain; charset=utf-8\n",
      "< Content-Length: 2\n",
      "< Connection: keep-alive\n",
      "< \n",
      "{ [2 bytes data]\n",
      "100   343  100     2  100   341     22   3788 --:--:-- --:--:-- --:--:--  3853\n",
      "* Connection #0 to host onlymeme.publicvm.com left intact\n"
     ]
    }
   ],
   "source": [
    "%%bash\n",
    "curl --tlsv1.2 -v -k -X POST -H \"Content-Type: application/json\" -H \"Cache-Control: no-cache\"  -d '{\n",
    "\"update_id\":10000,\n",
    "\"message\":{\n",
    "  \"date\":1441645532,\n",
    "  \"chat\":{\n",
    "     \"last_name\":\"Test Lastname\",\n",
    "     \"id\":1111111,\n",
    "     \"first_name\":\"Test\",\n",
    "     \"username\":\"Test\"\n",
    "  },\n",
    "  \"message_id\":1365,\n",
    "  \"from\":{\n",
    "     \"last_name\":\"Test Lastname\",\n",
    "     \"id\":1111111,\n",
    "     \"first_name\":\"Test\",\n",
    "     \"username\":\"aafFFFFFFFFFFF\"\n",
    "  },\n",
    "  \"text\":\"start\"\n",
    "}\n",
    "}' \"<WEBHOOK_URL: https://some_dns/token>\""
   ]
  },
  {
   "cell_type": "code",
   "execution_count": null,
   "id": "6e48de8c-c996-4022-a057-0bc7615ac4dd",
   "metadata": {},
   "outputs": [],
   "source": []
  }
 ],
 "metadata": {
  "kernelspec": {
   "display_name": "Python 3 (ipykernel)",
   "language": "python",
   "name": "python3"
  },
  "language_info": {
   "codemirror_mode": {
    "name": "ipython",
    "version": 3
   },
   "file_extension": ".py",
   "mimetype": "text/x-python",
   "name": "python",
   "nbconvert_exporter": "python",
   "pygments_lexer": "ipython3",
   "version": "3.7.11"
  }
 },
 "nbformat": 4,
 "nbformat_minor": 5
}
