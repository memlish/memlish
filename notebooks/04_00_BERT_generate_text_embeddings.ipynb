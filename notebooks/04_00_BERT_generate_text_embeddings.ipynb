{
 "cells": [
  {
   "cell_type": "code",
   "execution_count": 4,
   "id": "d03254d6-77cf-442f-8021-c8d524851e62",
   "metadata": {},
   "outputs": [],
   "source": [
    "import sys\n",
    "sys.path.append('/app/')  # noqa\n",
    "\n",
    "from jina import Document, DocumentArray, Flow, Executor, requests\n",
    "from pathlib import Path\n",
    "import numpy as np\n",
    "import pandas as pd\n",
    "from tqdm.auto import tqdm\n",
    "import argparse\n",
    "from memlish.executors.cache import RealSBERTEncoderCache\n",
    "from memlish.executors.index import FaissIndexer\n",
    "import torch\n",
    "import hashlib\n",
    "\n",
    "def my_hash(s): \n",
    "    return str(int(hashlib.md5(str(s).encode('utf-8')).hexdigest(), 16))"
   ]
  },
  {
   "cell_type": "code",
   "execution_count": 5,
   "id": "b143764b-23fc-4167-9447-63a086a38a97",
   "metadata": {},
   "outputs": [],
   "source": [
    "torch.multiprocessing.set_start_method('spawn', force=True) "
   ]
  },
  {
   "cell_type": "code",
   "execution_count": 10,
   "id": "c526baff-0d51-4a7d-b8ed-0aeb48b23e93",
   "metadata": {},
   "outputs": [],
   "source": [
    "OUT_DIR = Path(\"/data/imgflip/\")\n",
    "OUT_TEMPLATE_TEXTS_CSV = OUT_DIR/\"template_texts.csv\""
   ]
  },
  {
   "cell_type": "code",
   "execution_count": 11,
   "id": "5587d303-3481-4a25-9c57-76273957a454",
   "metadata": {},
   "outputs": [],
   "source": [
    "JINA_SBERT_EMBEDDING_TEMPLATE_TEXT_COLLECTION = \"01_sbert_all_mpnet_base_v2_imgflip_template_100k_embeddings\"\n",
    "MONGO_EMBEDDING_DB_NAME = 'memlish_db'"
   ]
  },
  {
   "cell_type": "code",
   "execution_count": 12,
   "id": "a7d7de18-4f80-4724-9a4e-b6733cd6f0a4",
   "metadata": {},
   "outputs": [],
   "source": [
    "def text_input_docs(df):    \n",
    "    for idx, row in df.iterrows():\n",
    "        template_name = row[\"template_img_name\"]\n",
    "        try:\n",
    "            template_text = row[\"text\"]\n",
    "            document_id = f\"{template_name}_{my_hash(template_text)}\"\n",
    "            doc = Document(id=document_id, text=template_text)# tags={'filename': str(template_img_path)})\n",
    "        except Exception as e:\n",
    "            print(document_id)\n",
    "            print(template_text)\n",
    "            print(str(e))\n",
    "        \n",
    "        yield doc "
   ]
  },
  {
   "cell_type": "code",
   "execution_count": 13,
   "id": "33b2508a-bb14-4457-8e2e-70a13e47191c",
   "metadata": {},
   "outputs": [],
   "source": [
    "templates_df = pd.read_csv(OUT_TEMPLATE_TEXTS_CSV)"
   ]
  },
  {
   "cell_type": "code",
   "execution_count": 14,
   "id": "42e00c3e-da0a-4fc1-8fe0-254f20ded2d6",
   "metadata": {},
   "outputs": [],
   "source": [
    "templates_df = templates_df[~templates_df['text'].isna()]"
   ]
  },
  {
   "cell_type": "code",
   "execution_count": 15,
   "id": "5e2fb591-49db-425b-a0f4-e7afa68a5f87",
   "metadata": {},
   "outputs": [],
   "source": [
    "templates_df = templates_df[~templates_df.duplicated([\"text\", \"template_img_name\"])]"
   ]
  },
  {
   "cell_type": "code",
   "execution_count": 16,
   "id": "164709c4-e411-471f-a2ef-f5164901aefe",
   "metadata": {
    "tags": []
   },
   "outputs": [
    {
     "data": {
      "text/html": [
       "<div>\n",
       "<style scoped>\n",
       "    .dataframe tbody tr th:only-of-type {\n",
       "        vertical-align: middle;\n",
       "    }\n",
       "\n",
       "    .dataframe tbody tr th {\n",
       "        vertical-align: top;\n",
       "    }\n",
       "\n",
       "    .dataframe thead th {\n",
       "        text-align: right;\n",
       "    }\n",
       "</style>\n",
       "<table border=\"1\" class=\"dataframe\">\n",
       "  <thead>\n",
       "    <tr style=\"text-align: right;\">\n",
       "      <th></th>\n",
       "      <th>url</th>\n",
       "      <th>text</th>\n",
       "      <th>alt</th>\n",
       "      <th>views</th>\n",
       "      <th>upvotes</th>\n",
       "      <th>comments</th>\n",
       "      <th>meme_home_page</th>\n",
       "      <th>template_name</th>\n",
       "      <th>template_img_name</th>\n",
       "    </tr>\n",
       "  </thead>\n",
       "  <tbody>\n",
       "    <tr>\n",
       "      <th>0</th>\n",
       "      <td>i.imgflip.com/61ov27.jpg</td>\n",
       "      <td>accepting that ur child made a good point; MOM...</td>\n",
       "      <td>Moms be like |  accepting that ur child made a...</td>\n",
       "      <td>7208</td>\n",
       "      <td>106</td>\n",
       "      <td>7</td>\n",
       "      <td>/i/61ov27</td>\n",
       "      <td>Drake-Hotline-Bling</td>\n",
       "      <td>Drake-Hotline-Bling.jpg</td>\n",
       "    </tr>\n",
       "    <tr>\n",
       "      <th>1</th>\n",
       "      <td>i.imgflip.com/61soau.jpg</td>\n",
       "      <td>Ground children by sending them to bed early a...</td>\n",
       "      <td>Mexican meme |  Ground children by sending the...</td>\n",
       "      <td>5271</td>\n",
       "      <td>65</td>\n",
       "      <td>5</td>\n",
       "      <td>/i/61soau</td>\n",
       "      <td>Drake-Hotline-Bling</td>\n",
       "      <td>Drake-Hotline-Bling.jpg</td>\n",
       "    </tr>\n",
       "  </tbody>\n",
       "</table>\n",
       "</div>"
      ],
      "text/plain": [
       "                        url  \\\n",
       "0  i.imgflip.com/61ov27.jpg   \n",
       "1  i.imgflip.com/61soau.jpg   \n",
       "\n",
       "                                                text  \\\n",
       "0  accepting that ur child made a good point; MOM...   \n",
       "1  Ground children by sending them to bed early a...   \n",
       "\n",
       "                                                 alt  views  upvotes  \\\n",
       "0  Moms be like |  accepting that ur child made a...   7208      106   \n",
       "1  Mexican meme |  Ground children by sending the...   5271       65   \n",
       "\n",
       "   comments meme_home_page        template_name        template_img_name  \n",
       "0         7      /i/61ov27  Drake-Hotline-Bling  Drake-Hotline-Bling.jpg  \n",
       "1         5      /i/61soau  Drake-Hotline-Bling  Drake-Hotline-Bling.jpg  "
      ]
     },
     "execution_count": 16,
     "metadata": {},
     "output_type": "execute_result"
    }
   ],
   "source": [
    "templates_df.head(2)"
   ]
  },
  {
   "cell_type": "code",
   "execution_count": 17,
   "id": "1aa68ba7-7e17-40e6-854b-19199def2b07",
   "metadata": {},
   "outputs": [],
   "source": [
    "k_to_take = 100\n",
    "groups = []\n",
    "\n",
    "for _, group in templates_df.groupby(['template_img_name']):\n",
    "    selected_sorted = group.sort_values(by=['views'], ascending=False)[:k_to_take]\n",
    "    groups.append(selected_sorted)"
   ]
  },
  {
   "cell_type": "code",
   "execution_count": 18,
   "id": "05d0fc90-bc32-4469-827c-c08b49154409",
   "metadata": {},
   "outputs": [
    {
     "data": {
      "text/html": [
       "<div>\n",
       "<style scoped>\n",
       "    .dataframe tbody tr th:only-of-type {\n",
       "        vertical-align: middle;\n",
       "    }\n",
       "\n",
       "    .dataframe tbody tr th {\n",
       "        vertical-align: top;\n",
       "    }\n",
       "\n",
       "    .dataframe thead th {\n",
       "        text-align: right;\n",
       "    }\n",
       "</style>\n",
       "<table border=\"1\" class=\"dataframe\">\n",
       "  <thead>\n",
       "    <tr style=\"text-align: right;\">\n",
       "      <th></th>\n",
       "      <th>url</th>\n",
       "      <th>text</th>\n",
       "      <th>alt</th>\n",
       "      <th>views</th>\n",
       "      <th>upvotes</th>\n",
       "      <th>comments</th>\n",
       "      <th>meme_home_page</th>\n",
       "      <th>template_name</th>\n",
       "      <th>template_img_name</th>\n",
       "    </tr>\n",
       "  </thead>\n",
       "  <tbody>\n",
       "    <tr>\n",
       "      <th>0</th>\n",
       "      <td>i.imgflip.com/25p6ij.jpg</td>\n",
       "      <td>I WON $10,000,000 IN THE LOTTERY AND DECIDED T...</td>\n",
       "      <td>10 Guy |  I WON $10,000,000 IN THE LOTTERY AND...</td>\n",
       "      <td>733523</td>\n",
       "      <td>305</td>\n",
       "      <td>107</td>\n",
       "      <td>/i/25p6ij</td>\n",
       "      <td>10-Guy</td>\n",
       "      <td>10-Guy.jpg</td>\n",
       "    </tr>\n",
       "    <tr>\n",
       "      <th>1</th>\n",
       "      <td>i.imgflip.com/kbovc.jpg</td>\n",
       "      <td>I NEED TO REFILL MY CHILD REPELLENT</td>\n",
       "      <td>10 Guy | I NEED TO REFILL MY CHILD REPELLENT |...</td>\n",
       "      <td>684545</td>\n",
       "      <td>12</td>\n",
       "      <td>0</td>\n",
       "      <td>/i/kbovc</td>\n",
       "      <td>10-Guy</td>\n",
       "      <td>10-Guy.jpg</td>\n",
       "    </tr>\n",
       "  </tbody>\n",
       "</table>\n",
       "</div>"
      ],
      "text/plain": [
       "                        url  \\\n",
       "0  i.imgflip.com/25p6ij.jpg   \n",
       "1   i.imgflip.com/kbovc.jpg   \n",
       "\n",
       "                                                text  \\\n",
       "0  I WON $10,000,000 IN THE LOTTERY AND DECIDED T...   \n",
       "1                I NEED TO REFILL MY CHILD REPELLENT   \n",
       "\n",
       "                                                 alt   views  upvotes  \\\n",
       "0  10 Guy |  I WON $10,000,000 IN THE LOTTERY AND...  733523      305   \n",
       "1  10 Guy | I NEED TO REFILL MY CHILD REPELLENT |...  684545       12   \n",
       "\n",
       "   comments meme_home_page template_name template_img_name  \n",
       "0       107      /i/25p6ij        10-Guy        10-Guy.jpg  \n",
       "1         0       /i/kbovc        10-Guy        10-Guy.jpg  "
      ]
     },
     "execution_count": 18,
     "metadata": {},
     "output_type": "execute_result"
    }
   ],
   "source": [
    "df = pd.concat(groups).reset_index(drop=True)\n",
    "df.head(2)"
   ]
  },
  {
   "cell_type": "code",
   "execution_count": 19,
   "id": "0e463432-b522-47b7-9e07-ca16b0aa9dd6",
   "metadata": {},
   "outputs": [],
   "source": [
    "embedder_params = {\n",
    "        \"device\": 'cpu'\n",
    "}\n",
    "\n",
    "cache_params = {\n",
    "    \"embedder_params\": embedder_params,\n",
    "    \"db_name\": MONGO_EMBEDDING_DB_NAME, \n",
    "    \"collection_name\": JINA_SBERT_EMBEDDING_TEMPLATE_TEXT_COLLECTION,\n",
    "    \"embedding_field_name\":'emb',\n",
    "    \"megabatch_size\":8192\n",
    "}"
   ]
  },
  {
   "cell_type": "code",
   "execution_count": 21,
   "id": "52ae0023-6d47-411c-b99e-72cc2984a8fd",
   "metadata": {},
   "outputs": [
    {
     "data": {
      "text/html": [
       "<img src=\"https://mermaid.ink/svg/ICAgICAgICAgICAgJSV7aW5pdDp7ICAidGhlbWUiOiAiYmFzZSIsICAidGhlbWVWYXJpYWJsZXMiOiB7ICAgICAgInByaW1hcnlDb2xvciI6ICIjZmZmIiwgICAgICAicHJpbWFyeUJvcmRlckNvbG9yIjogIiNmZmYiLCAgICAgICJtYWluQmtnIjogIiMzMkM4Q0QiLCAgICAgICJjbHVzdGVyQmtnIjogIiNFRUVERTc4QyIsICAgICAgInNlY29uZGFyeUJvcmRlckNvbG9yIjogIm5vbmUiLCAgICAgICJ0ZXJ0aWFyeUJvcmRlckNvbG9yIjogIm5vbmUiLCAgICAgICJsaW5lQ29sb3IiOiAiI2E2ZDhkYSIgICAgICB9fX0lJSAgICAgICAgICAgIApmbG93Y2hhcnQgTFI7CnN1YmdyYXBoIFNCRVJUX2VuY29kZXI7ClNCRVJUX2VuY29kZXIvcGVhLTBbUmVhbFNCRVJURW5jb2RlckNhY2hlXTo6OlBFQTsKZW5kOwpnYXRld2F5c3RhcnRbZ2F0ZXdheV06OjpHQVRFV0FZIC0tPiBTQkVSVF9lbmNvZGVyOjo6UE9EOwpTQkVSVF9lbmNvZGVyOjo6UE9EIC0tPiBnYXRld2F5ZW5kW2dhdGV3YXldOjo6R0FURVdBWTsKY2xhc3NEZWYgSU5TUEVDVCBzdHJva2U6I0YyOUM5RgpjbGFzc0RlZiBKT0lOX0lOU1BFQ1Qgc3Ryb2tlOiNGMjlDOUYKY2xhc3NEZWYgR0FURVdBWSBmaWxsOm5vbmUsY29sb3I6IzAwMCxzdHJva2U6bm9uZQpjbGFzc0RlZiBJTlNQRUNUX0FVWF9QQVNTIHN0cm9rZS1kYXNoYXJyYXk6IDIgMgpjbGFzc0RlZiBIRUFEVEFJTCBmaWxsOiMzMkM4Q0QxRAoKY2xhc3NEZWYgRVhURVJOQUwgZmlsbDojZmZmLHN0cm9rZTojMzJDOENE\"/>"
      ],
      "text/plain": [
       "<IPython.core.display.Image object>"
      ]
     },
     "metadata": {},
     "output_type": "display_data"
    }
   ],
   "source": [
    "flow_text_encode = Flow().add(uses=RealSBERTEncoderCache, name=\"SBERT_encoder\", uses_with=cache_params)\n",
    "flow_text_encode"
   ]
  },
  {
   "cell_type": "code",
   "execution_count": 23,
   "id": "9442c998-4842-4639-a721-9e27848aaf46",
   "metadata": {
    "tags": []
   },
   "outputs": [
    {
     "name": "stdout",
     "output_type": "stream",
     "text": [
      "           Flow@18[I]:\u001b[32m🎉 Flow is ready to use!\u001b[0m                                             \n",
      "\t🔗 Protocol: \t\t\u001b[1mGRPC\u001b[0m\n",
      "\t🏠 Local access:\t\u001b[4m\u001b[36m0.0.0.0:57901\u001b[0m\n",
      "\t🔒 Private network:\t\u001b[4m\u001b[36m172.18.0.2:57901\u001b[0m\n",
      "\t🌐 Public address:\t\u001b[4m\u001b[36m63.35.187.56:57901\u001b[0m\u001b[0m\n",
      "\u001b[32m⠧\u001b[0m Working... \u001b[32m━\u001b[0m\u001b[32m╸\u001b[0m\u001b[2m\u001b[32m━━━━━━━━━━━━━━━━━━━━━━━━━━━━━━━━━━━━━━━\u001b[0m \u001b[36m0:00:01\u001b[0m estimating... "
     ]
    },
    {
     "name": "stderr",
     "output_type": "stream",
     "text": [
      "  0%|          | 0/1 [00:00<?, ?it/s]"
     ]
    },
    {
     "name": "stdout",
     "output_type": "stream",
     "text": [
      "\u001b[32m⠸\u001b[0m Working... \u001b[32m━\u001b[0m\u001b[32m╸\u001b[0m\u001b[2m\u001b[32m━━━━━━━━━━━━━━━━━━━━━━━━━━━━━━━━━━━━━━━\u001b[0m \u001b[36m0:00:30\u001b[0m estimating... {'es_tag': 'TIMELOG', 'timestamp': '2022-02-12 15:58:44.382928', 'function': 'memlish.executors.bert.get_embeddings', 'duration': 29.276824474334717}\n",
      "\u001b[32m⠦\u001b[0m Working... \u001b[32m━\u001b[0m\u001b[32m╸\u001b[0m\u001b[2m\u001b[32m━━━━━━━━━━━━━━━━━━━━━━━━━━━━━━━━━━━━━━━\u001b[0m \u001b[36m0:00:30\u001b[0m estimating... "
     ]
    },
    {
     "name": "stderr",
     "output_type": "stream",
     "text": [
      "100%|██████████| 1/1 [00:29<00:00, 29.35s/it]\n"
     ]
    },
    {
     "name": "stdout",
     "output_type": "stream",
     "text": [
      "\u001b[32m⠇\u001b[0m Working... \u001b[32m━━\u001b[0m\u001b[32m╸\u001b[0m\u001b[2m\u001b[32m━━━━━━━━━━━━━━━━━━━━━━━━━━━━━━━━━━━━━━\u001b[0m \u001b[36m0:00:31\u001b[0m  0.0 step/s "
     ]
    },
    {
     "name": "stderr",
     "output_type": "stream",
     "text": [
      "  0%|          | 0/2 [00:00<?, ?it/s]"
     ]
    },
    {
     "name": "stdout",
     "output_type": "stream",
     "text": [
      "\u001b[32m⠸\u001b[0m Working... \u001b[32m━━\u001b[0m\u001b[32m╸\u001b[0m\u001b[2m\u001b[32m━━━━━━━━━━━━━━━━━━━━━━━━━━━━━━━━━━━━━━\u001b[0m \u001b[36m0:02:05\u001b[0m  0.0 step/s {'es_tag': 'TIMELOG', 'timestamp': '2022-02-12 16:00:19.406408', 'function': 'memlish.executors.bert.get_embeddings', 'duration': 94.70445322990417}\n",
      "\u001b[32m⠇\u001b[0m Working... \u001b[32m━━\u001b[0m\u001b[32m╸\u001b[0m\u001b[2m\u001b[32m━━━━━━━━━━━━━━━━━━━━━━━━━━━━━━━━━━━━━━\u001b[0m \u001b[36m0:02:06\u001b[0m  0.0 step/s "
     ]
    },
    {
     "name": "stderr",
     "output_type": "stream",
     "text": [
      " 50%|█████     | 1/2 [01:35<01:35, 95.03s/it]"
     ]
    },
    {
     "name": "stdout",
     "output_type": "stream",
     "text": [
      "\u001b[32m⠼\u001b[0m Working... \u001b[32m━━\u001b[0m\u001b[32m╸\u001b[0m\u001b[2m\u001b[32m━━━━━━━━━━━━━━━━━━━━━━━━━━━━━━━━━━━━━━\u001b[0m \u001b[36m0:02:22\u001b[0m  0.0 step/s {'es_tag': 'TIMELOG', 'timestamp': '2022-02-12 16:00:36.659554', 'function': 'memlish.executors.bert.get_embeddings', 'duration': 16.92940068244934}\n",
      "\u001b[32m⠦\u001b[0m Working... \u001b[32m━━\u001b[0m\u001b[32m╸\u001b[0m\u001b[2m\u001b[32m━━━━━━━━━━━━━━━━━━━━━━━━━━━━━━━━━━━━━━\u001b[0m \u001b[36m0:02:23\u001b[0m  0.0 step/s "
     ]
    },
    {
     "name": "stderr",
     "output_type": "stream",
     "text": [
      "100%|██████████| 2/2 [01:52<00:00, 56.02s/it]\n"
     ]
    },
    {
     "name": "stdout",
     "output_type": "stream",
     "text": [
      "\u001b[32m⠋\u001b[0m Working... \u001b[32m━━━\u001b[0m\u001b[32m╸\u001b[0m\u001b[2m\u001b[32m━━━━━━━━━━━━━━━━━━━━━━━━━━━━━━━━━━━━━\u001b[0m \u001b[36m0:02:23\u001b[0m  0.0 step/s "
     ]
    },
    {
     "name": "stderr",
     "output_type": "stream",
     "text": [
      "  0%|          | 0/2 [00:00<?, ?it/s]"
     ]
    },
    {
     "name": "stdout",
     "output_type": "stream",
     "text": [
      "\u001b[32m⠇\u001b[0m Working... \u001b[32m━━━\u001b[0m\u001b[32m╸\u001b[0m\u001b[2m\u001b[32m━━━━━━━━━━━━━━━━━━━━━━━━━━━━━━━━━━━━━\u001b[0m \u001b[36m0:03:36\u001b[0m  0.0 step/s {'es_tag': 'TIMELOG', 'timestamp': '2022-02-12 16:01:49.970406', 'function': 'memlish.executors.bert.get_embeddings', 'duration': 72.84306597709656}\n",
      "\u001b[32m⠼\u001b[0m Working... \u001b[32m━━━\u001b[0m\u001b[32m╸\u001b[0m\u001b[2m\u001b[32m━━━━━━━━━━━━━━━━━━━━━━━━━━━━━━━━━━━━━\u001b[0m \u001b[36m0:03:36\u001b[0m  0.0 step/s "
     ]
    },
    {
     "name": "stderr",
     "output_type": "stream",
     "text": [
      " 50%|█████     | 1/2 [01:13<01:13, 73.17s/it]"
     ]
    },
    {
     "name": "stdout",
     "output_type": "stream",
     "text": [
      "\u001b[32m⠏\u001b[0m Working... \u001b[32m━━━\u001b[0m\u001b[32m╸\u001b[0m\u001b[2m\u001b[32m━━━━━━━━━━━━━━━━━━━━━━━━━━━━━━━━━━━━━\u001b[0m \u001b[36m0:03:50\u001b[0m  0.0 step/s {'es_tag': 'TIMELOG', 'timestamp': '2022-02-12 16:02:04.137680', 'function': 'memlish.executors.bert.get_embeddings', 'duration': 13.846692085266113}\n",
      "\u001b[32m⠙\u001b[0m Working... \u001b[32m━━━\u001b[0m\u001b[32m╸\u001b[0m\u001b[2m\u001b[32m━━━━━━━━━━━━━━━━━━━━━━━━━━━━━━━━━━━━━\u001b[0m \u001b[36m0:03:50\u001b[0m  0.0 step/s "
     ]
    },
    {
     "name": "stderr",
     "output_type": "stream",
     "text": [
      "100%|██████████| 2/2 [01:27<00:00, 43.54s/it]\n"
     ]
    },
    {
     "name": "stdout",
     "output_type": "stream",
     "text": [
      "\u001b[32m⠦\u001b[0m Working... \u001b[32m━━━━\u001b[0m\u001b[32m╸\u001b[0m\u001b[2m\u001b[32m━━━━━━━━━━━━━━━━━━━━━━━━━━━━━━━━━━━━\u001b[0m \u001b[36m0:03:51\u001b[0m  0.0 step/s "
     ]
    },
    {
     "name": "stderr",
     "output_type": "stream",
     "text": [
      "  0%|          | 0/2 [00:00<?, ?it/s]"
     ]
    },
    {
     "name": "stdout",
     "output_type": "stream",
     "text": [
      "\u001b[32m⠙\u001b[0m Working... \u001b[32m━━━━\u001b[0m\u001b[32m╸\u001b[0m\u001b[2m\u001b[32m━━━━━━━━━━━━━━━━━━━━━━━━━━━━━━━━━━━━\u001b[0m \u001b[36m0:05:16\u001b[0m  0.0 step/s {'es_tag': 'TIMELOG', 'timestamp': '2022-02-12 16:03:30.345038', 'function': 'memlish.executors.bert.get_embeddings', 'duration': 85.61653590202332}\n",
      "\u001b[32m⠦\u001b[0m Working... \u001b[32m━━━━\u001b[0m\u001b[32m╸\u001b[0m\u001b[2m\u001b[32m━━━━━━━━━━━━━━━━━━━━━━━━━━━━━━━━━━━━\u001b[0m \u001b[36m0:05:16\u001b[0m  0.0 step/s "
     ]
    },
    {
     "name": "stderr",
     "output_type": "stream",
     "text": [
      " 50%|█████     | 1/2 [01:25<01:25, 86.00s/it]"
     ]
    },
    {
     "name": "stdout",
     "output_type": "stream",
     "text": [
      "\u001b[32m⠸\u001b[0m Working... \u001b[32m━━━━\u001b[0m\u001b[32m╸\u001b[0m\u001b[2m\u001b[32m━━━━━━━━━━━━━━━━━━━━━━━━━━━━━━━━━━━━\u001b[0m \u001b[36m0:05:31\u001b[0m  0.0 step/s {'es_tag': 'TIMELOG', 'timestamp': '2022-02-12 16:03:45.721874', 'function': 'memlish.executors.bert.get_embeddings', 'duration': 14.99766492843628}\n",
      "\u001b[32m⠦\u001b[0m Working... \u001b[32m━━━━\u001b[0m\u001b[32m╸\u001b[0m\u001b[2m\u001b[32m━━━━━━━━━━━━━━━━━━━━━━━━━━━━━━━━━━━━\u001b[0m \u001b[36m0:05:32\u001b[0m  0.0 step/s "
     ]
    },
    {
     "name": "stderr",
     "output_type": "stream",
     "text": [
      "100%|██████████| 2/2 [01:41<00:00, 50.54s/it]\n"
     ]
    },
    {
     "name": "stdout",
     "output_type": "stream",
     "text": [
      "\u001b[32m⠹\u001b[0m Working... \u001b[32m━━━━━\u001b[0m\u001b[32m╸\u001b[0m\u001b[2m\u001b[32m━━━━━━━━━━━━━━━━━━━━━━━━━━━━━━━━━━━\u001b[0m \u001b[36m0:05:32\u001b[0m  0.0 step/s "
     ]
    },
    {
     "name": "stderr",
     "output_type": "stream",
     "text": [
      "  0%|          | 0/2 [00:00<?, ?it/s]"
     ]
    },
    {
     "name": "stdout",
     "output_type": "stream",
     "text": [
      "\u001b[32m⠦\u001b[0m Working... \u001b[32m━━━━━\u001b[0m\u001b[32m╸\u001b[0m\u001b[2m\u001b[32m━━━━━━━━━━━━━━━━━━━━━━━━━━━━━━━━━━━\u001b[0m \u001b[36m0:07:07\u001b[0m  0.0 step/s {'es_tag': 'TIMELOG', 'timestamp': '2022-02-12 16:05:21.085168', 'function': 'memlish.executors.bert.get_embeddings', 'duration': 94.64491438865662}\n",
      "\u001b[32m⠙\u001b[0m Working... \u001b[32m━━━━━\u001b[0m\u001b[32m╸\u001b[0m\u001b[2m\u001b[32m━━━━━━━━━━━━━━━━━━━━━━━━━━━━━━━━━━━\u001b[0m \u001b[36m0:07:07\u001b[0m  0.0 step/s "
     ]
    },
    {
     "name": "stderr",
     "output_type": "stream",
     "text": [
      " 50%|█████     | 1/2 [01:34<01:34, 94.97s/it]"
     ]
    },
    {
     "name": "stdout",
     "output_type": "stream",
     "text": [
      "\u001b[32m⠼\u001b[0m Working... \u001b[32m━━━━━\u001b[0m\u001b[32m╸\u001b[0m\u001b[2m\u001b[32m━━━━━━━━━━━━━━━━━━━━━━━━━━━━━━━━━━━\u001b[0m \u001b[36m0:07:31\u001b[0m  0.0 step/s {'es_tag': 'TIMELOG', 'timestamp': '2022-02-12 16:05:45.156703', 'function': 'memlish.executors.bert.get_embeddings', 'duration': 23.745384693145752}\n",
      "\u001b[32m⠧\u001b[0m Working... \u001b[32m━━━━━\u001b[0m\u001b[32m╸\u001b[0m\u001b[2m\u001b[32m━━━━━━━━━━━━━━━━━━━━━━━━━━━━━━━━━━━\u001b[0m \u001b[36m0:07:31\u001b[0m  0.0 step/s "
     ]
    },
    {
     "name": "stderr",
     "output_type": "stream",
     "text": [
      "100%|██████████| 2/2 [01:58<00:00, 59.40s/it]\n"
     ]
    },
    {
     "name": "stdout",
     "output_type": "stream",
     "text": [
      "\u001b[32m⠼\u001b[0m Working... \u001b[32m━━━━━━\u001b[0m\u001b[32m╸\u001b[0m\u001b[2m\u001b[32m━━━━━━━━━━━━━━━━━━━━━━━━━━━━━━━━━━\u001b[0m \u001b[36m0:07:32\u001b[0m  0.0 step/s "
     ]
    },
    {
     "name": "stderr",
     "output_type": "stream",
     "text": [
      "  0%|          | 0/2 [00:00<?, ?it/s]"
     ]
    },
    {
     "name": "stdout",
     "output_type": "stream",
     "text": [
      "\u001b[32m⠇\u001b[0m Working... \u001b[32m━━━━━━\u001b[0m\u001b[32m╸\u001b[0m\u001b[2m\u001b[32m━━━━━━━━━━━━━━━━━━━━━━━━━━━━━━━━━━\u001b[0m \u001b[36m0:09:02\u001b[0m  0.0 step/s {'es_tag': 'TIMELOG', 'timestamp': '2022-02-12 16:07:16.569986', 'function': 'memlish.executors.bert.get_embeddings', 'duration': 90.54138851165771}\n",
      "\u001b[32m⠼\u001b[0m Working... \u001b[32m━━━━━━\u001b[0m\u001b[32m╸\u001b[0m\u001b[2m\u001b[32m━━━━━━━━━━━━━━━━━━━━━━━━━━━━━━━━━━\u001b[0m \u001b[36m0:09:03\u001b[0m  0.0 step/s "
     ]
    },
    {
     "name": "stderr",
     "output_type": "stream",
     "text": [
      " 50%|█████     | 1/2 [01:30<01:30, 90.94s/it]"
     ]
    },
    {
     "name": "stdout",
     "output_type": "stream",
     "text": [
      "\u001b[32m⠋\u001b[0m Working... \u001b[32m━━━━━━\u001b[0m\u001b[32m╸\u001b[0m\u001b[2m\u001b[32m━━━━━━━━━━━━━━━━━━━━━━━━━━━━━━━━━━\u001b[0m \u001b[36m0:09:22\u001b[0m  0.0 step/s {'es_tag': 'TIMELOG', 'timestamp': '2022-02-12 16:07:35.968313', 'function': 'memlish.executors.bert.get_embeddings', 'duration': 19.002976655960083}\n",
      "\u001b[32m⠸\u001b[0m Working... \u001b[32m━━━━━━\u001b[0m\u001b[32m╸\u001b[0m\u001b[2m\u001b[32m━━━━━━━━━━━━━━━━━━━━━━━━━━━━━━━━━━\u001b[0m \u001b[36m0:09:22\u001b[0m  0.0 step/s "
     ]
    },
    {
     "name": "stderr",
     "output_type": "stream",
     "text": [
      "100%|██████████| 2/2 [01:50<00:00, 55.01s/it]\n"
     ]
    },
    {
     "name": "stdout",
     "output_type": "stream",
     "text": [
      "\u001b[32m⠙\u001b[0m Working... \u001b[32m━━━━━━━\u001b[0m\u001b[32m╸\u001b[0m\u001b[2m\u001b[32m━━━━━━━━━━━━━━━━━━━━━━━━━━━━━━━━━\u001b[0m \u001b[36m0:09:23\u001b[0m  0.0 step/s "
     ]
    },
    {
     "name": "stderr",
     "output_type": "stream",
     "text": [
      "  0%|          | 0/2 [00:00<?, ?it/s]"
     ]
    },
    {
     "name": "stdout",
     "output_type": "stream",
     "text": [
      "\u001b[32m⠧\u001b[0m Working... \u001b[32m━━━━━━━\u001b[0m\u001b[32m╸\u001b[0m\u001b[2m\u001b[32m━━━━━━━━━━━━━━━━━━━━━━━━━━━━━━━━━\u001b[0m \u001b[36m0:10:35\u001b[0m  0.0 step/s {'es_tag': 'TIMELOG', 'timestamp': '2022-02-12 16:08:49.531944', 'function': 'memlish.executors.bert.get_embeddings', 'duration': 72.549640417099}\n",
      "\u001b[32m⠹\u001b[0m Working... \u001b[32m━━━━━━━\u001b[0m\u001b[32m╸\u001b[0m\u001b[2m\u001b[32m━━━━━━━━━━━━━━━━━━━━━━━━━━━━━━━━━\u001b[0m \u001b[36m0:10:36\u001b[0m  0.0 step/s "
     ]
    },
    {
     "name": "stderr",
     "output_type": "stream",
     "text": [
      " 50%|█████     | 1/2 [01:12<01:12, 72.87s/it]"
     ]
    },
    {
     "name": "stdout",
     "output_type": "stream",
     "text": [
      "\u001b[32m⠇\u001b[0m Working... \u001b[32m━━━━━━━\u001b[0m\u001b[32m╸\u001b[0m\u001b[2m\u001b[32m━━━━━━━━━━━━━━━━━━━━━━━━━━━━━━━━━\u001b[0m \u001b[36m0:10:51\u001b[0m  0.0 step/s {'es_tag': 'TIMELOG', 'timestamp': '2022-02-12 16:09:05.782152', 'function': 'memlish.executors.bert.get_embeddings', 'duration': 15.935953617095947}\n",
      "\u001b[32m⠙\u001b[0m Working... \u001b[32m━━━━━━━\u001b[0m\u001b[32m╸\u001b[0m\u001b[2m\u001b[32m━━━━━━━━━━━━━━━━━━━━━━━━━━━━━━━━━\u001b[0m \u001b[36m0:10:52\u001b[0m  0.0 step/s "
     ]
    },
    {
     "name": "stderr",
     "output_type": "stream",
     "text": [
      "100%|██████████| 2/2 [01:28<00:00, 44.44s/it]\n"
     ]
    },
    {
     "name": "stdout",
     "output_type": "stream",
     "text": [
      "\u001b[32m⠋\u001b[0m Working... \u001b[32m━━━━━━━━\u001b[0m\u001b[32m╸\u001b[0m\u001b[2m\u001b[32m━━━━━━━━━━━━━━━━━━━━━━━━━━━━━━━━\u001b[0m \u001b[36m0:10:53\u001b[0m  0.0 step/s "
     ]
    },
    {
     "name": "stderr",
     "output_type": "stream",
     "text": [
      "  0%|          | 0/2 [00:00<?, ?it/s]"
     ]
    },
    {
     "name": "stdout",
     "output_type": "stream",
     "text": [
      "\u001b[32m⠙\u001b[0m Working... \u001b[32m━━━━━━━━\u001b[0m\u001b[32m╸\u001b[0m\u001b[2m\u001b[32m━━━━━━━━━━━━━━━━━━━━━━━━━━━━━━━━\u001b[0m \u001b[36m0:12:19\u001b[0m  0.0 step/s {'es_tag': 'TIMELOG', 'timestamp': '2022-02-12 16:10:33.089324', 'function': 'memlish.executors.bert.get_embeddings', 'duration': 86.2028796672821}\n",
      "\u001b[32m⠦\u001b[0m Working... \u001b[32m━━━━━━━━\u001b[0m\u001b[32m╸\u001b[0m\u001b[2m\u001b[32m━━━━━━━━━━━━━━━━━━━━━━━━━━━━━━━━\u001b[0m \u001b[36m0:12:19\u001b[0m  0.0 step/s "
     ]
    },
    {
     "name": "stderr",
     "output_type": "stream",
     "text": [
      " 50%|█████     | 1/2 [01:26<01:26, 86.53s/it]"
     ]
    },
    {
     "name": "stdout",
     "output_type": "stream",
     "text": [
      "\u001b[32m⠙\u001b[0m Working... \u001b[32m━━━━━━━━\u001b[0m\u001b[32m╸\u001b[0m\u001b[2m\u001b[32m━━━━━━━━━━━━━━━━━━━━━━━━━━━━━━━━\u001b[0m \u001b[36m0:12:36\u001b[0m  0.0 step/s {'es_tag': 'TIMELOG', 'timestamp': '2022-02-12 16:10:50.265194', 'function': 'memlish.executors.bert.get_embeddings', 'duration': 16.846456289291382}\n",
      "\u001b[32m⠼\u001b[0m Working... \u001b[32m━━━━━━━━\u001b[0m\u001b[32m╸\u001b[0m\u001b[2m\u001b[32m━━━━━━━━━━━━━━━━━━━━━━━━━━━━━━━━\u001b[0m \u001b[36m0:12:36\u001b[0m  0.0 step/s "
     ]
    },
    {
     "name": "stderr",
     "output_type": "stream",
     "text": [
      "100%|██████████| 2/2 [01:43<00:00, 51.73s/it]\n"
     ]
    },
    {
     "name": "stdout",
     "output_type": "stream",
     "text": [
      "\u001b[32m⠴\u001b[0m Working... \u001b[32m━━━━━━━━━\u001b[0m\u001b[32m╸\u001b[0m\u001b[2m\u001b[32m━━━━━━━━━━━━━━━━━━━━━━━━━━━━━━━\u001b[0m \u001b[36m0:12:37\u001b[0m  0.0 step/s "
     ]
    },
    {
     "name": "stderr",
     "output_type": "stream",
     "text": [
      "  0%|          | 0/2 [00:00<?, ?it/s]"
     ]
    },
    {
     "name": "stdout",
     "output_type": "stream",
     "text": [
      "\u001b[32m⠴\u001b[0m Working... \u001b[32m━━━━━━━━━\u001b[0m\u001b[32m╸\u001b[0m\u001b[2m\u001b[32m━━━━━━━━━━━━━━━━━━━━━━━━━━━━━━━\u001b[0m \u001b[36m0:13:43\u001b[0m  0.0 step/s {'es_tag': 'TIMELOG', 'timestamp': '2022-02-12 16:11:57.404657', 'function': 'memlish.executors.bert.get_embeddings', 'duration': 65.8918297290802}\n",
      "\u001b[32m⠙\u001b[0m Working... \u001b[32m━━━━━━━━━\u001b[0m\u001b[32m╸\u001b[0m\u001b[2m\u001b[32m━━━━━━━━━━━━━━━━━━━━━━━━━━━━━━━\u001b[0m \u001b[36m0:13:44\u001b[0m  0.0 step/s "
     ]
    },
    {
     "name": "stderr",
     "output_type": "stream",
     "text": [
      " 50%|█████     | 1/2 [01:06<01:06, 66.28s/it]"
     ]
    },
    {
     "name": "stdout",
     "output_type": "stream",
     "text": [
      "\u001b[32m⠧\u001b[0m Working... \u001b[32m━━━━━━━━━\u001b[0m\u001b[32m╸\u001b[0m\u001b[2m\u001b[32m━━━━━━━━━━━━━━━━━━━━━━━━━━━━━━━\u001b[0m \u001b[36m0:14:14\u001b[0m  0.0 step/s {'es_tag': 'TIMELOG', 'timestamp': '2022-02-12 16:12:27.943025', 'function': 'memlish.executors.bert.get_embeddings', 'duration': 30.152880430221558}\n",
      "\u001b[32m⠋\u001b[0m Working... \u001b[32m━━━━━━━━━\u001b[0m\u001b[32m╸\u001b[0m\u001b[2m\u001b[32m━━━━━━━━━━━━━━━━━━━━━━━━━━━━━━━\u001b[0m \u001b[36m0:14:14\u001b[0m  0.0 step/s "
     ]
    },
    {
     "name": "stderr",
     "output_type": "stream",
     "text": [
      "100%|██████████| 2/2 [01:36<00:00, 48.25s/it]\n"
     ]
    },
    {
     "name": "stdout",
     "output_type": "stream",
     "text": [
      "\u001b[32m⠹\u001b[0m Working... \u001b[32m━━━━━━━━━━\u001b[0m\u001b[32m╸\u001b[0m\u001b[2m\u001b[32m━━━━━━━━━━━━━━━━━━━━━━━━━━━━━━\u001b[0m \u001b[36m0:14:15\u001b[0m  0.0 step/s "
     ]
    },
    {
     "name": "stderr",
     "output_type": "stream",
     "text": [
      "  0%|          | 0/2 [00:00<?, ?it/s]"
     ]
    },
    {
     "name": "stdout",
     "output_type": "stream",
     "text": [
      "\u001b[32m⠦\u001b[0m Working... \u001b[32m━━━━━━━━━━\u001b[0m\u001b[32m╸\u001b[0m\u001b[2m\u001b[32m━━━━━━━━━━━━━━━━━━━━━━━━━━━━━━\u001b[0m \u001b[36m0:15:31\u001b[0m  0.0 step/s {'es_tag': 'TIMELOG', 'timestamp': '2022-02-12 16:13:45.736578', 'function': 'memlish.executors.bert.get_embeddings', 'duration': 76.37919330596924}\n",
      "\u001b[32m⠙\u001b[0m Working... \u001b[32m━━━━━━━━━━\u001b[0m\u001b[32m╸\u001b[0m\u001b[2m\u001b[32m━━━━━━━━━━━━━━━━━━━━━━━━━━━━━━\u001b[0m \u001b[36m0:15:32\u001b[0m  0.0 step/s "
     ]
    },
    {
     "name": "stderr",
     "output_type": "stream",
     "text": [
      " 50%|█████     | 1/2 [01:16<01:16, 76.71s/it]"
     ]
    },
    {
     "name": "stdout",
     "output_type": "stream",
     "text": [
      "\u001b[32m⠋\u001b[0m Working... \u001b[32m━━━━━━━━━━\u001b[0m\u001b[32m╸\u001b[0m\u001b[2m\u001b[32m━━━━━━━━━━━━━━━━━━━━━━━━━━━━━━\u001b[0m \u001b[36m0:15:48\u001b[0m  0.0 step/s {'es_tag': 'TIMELOG', 'timestamp': '2022-02-12 16:14:02.275316', 'function': 'memlish.executors.bert.get_embeddings', 'duration': 16.214709758758545}\n",
      "\u001b[32m⠹\u001b[0m Working... \u001b[32m━━━━━━━━━━\u001b[0m\u001b[32m╸\u001b[0m\u001b[2m\u001b[32m━━━━━━━━━━━━━━━━━━━━━━━━━━━━━━\u001b[0m \u001b[36m0:15:48\u001b[0m  0.0 step/s "
     ]
    },
    {
     "name": "stderr",
     "output_type": "stream",
     "text": [
      "100%|██████████| 2/2 [01:32<00:00, 46.50s/it]\n"
     ]
    },
    {
     "name": "stdout",
     "output_type": "stream",
     "text": [
      "\u001b[32m⠦\u001b[0m Working... \u001b[32m━━━━━━━━━━━\u001b[0m\u001b[32m╸\u001b[0m\u001b[2m\u001b[32m━━━━━━━━━━━━━━━━━━━━━━━━━━━━━\u001b[0m \u001b[36m0:15:50\u001b[0m  0.0 step/s "
     ]
    },
    {
     "name": "stderr",
     "output_type": "stream",
     "text": [
      "  0%|          | 0/2 [00:00<?, ?it/s]"
     ]
    },
    {
     "name": "stdout",
     "output_type": "stream",
     "text": [
      "\u001b[32m⠼\u001b[0m Working... \u001b[32m━━━━━━━━━━━\u001b[0m\u001b[32m╸\u001b[0m\u001b[2m\u001b[32m━━━━━━━━━━━━━━━━━━━━━━━━━━━━━\u001b[0m \u001b[36m0:17:17\u001b[0m  0.0 step/s {'es_tag': 'TIMELOG', 'timestamp': '2022-02-12 16:15:31.638523', 'function': 'memlish.executors.bert.get_embeddings', 'duration': 87.86424899101257}\n",
      "\u001b[32m⠏\u001b[0m Working... \u001b[32m━━━━━━━━━━━\u001b[0m\u001b[32m╸\u001b[0m\u001b[2m\u001b[32m━━━━━━━━━━━━━━━━━━━━━━━━━━━━━\u001b[0m \u001b[36m0:17:18\u001b[0m  0.0 step/s "
     ]
    },
    {
     "name": "stderr",
     "output_type": "stream",
     "text": [
      " 50%|█████     | 1/2 [01:28<01:28, 88.18s/it]"
     ]
    },
    {
     "name": "stdout",
     "output_type": "stream",
     "text": [
      "\u001b[32m⠧\u001b[0m Working... \u001b[32m━━━━━━━━━━━\u001b[0m\u001b[32m╸\u001b[0m\u001b[2m\u001b[32m━━━━━━━━━━━━━━━━━━━━━━━━━━━━━\u001b[0m \u001b[36m0:17:36\u001b[0m  0.0 step/s {'es_tag': 'TIMELOG', 'timestamp': '2022-02-12 16:15:50.117226', 'function': 'memlish.executors.bert.get_embeddings', 'duration': 18.163864374160767}\n",
      "\u001b[32m⠏\u001b[0m Working... \u001b[32m━━━━━━━━━━━\u001b[0m\u001b[32m╸\u001b[0m\u001b[2m\u001b[32m━━━━━━━━━━━━━━━━━━━━━━━━━━━━━\u001b[0m \u001b[36m0:17:36\u001b[0m  0.0 step/s "
     ]
    },
    {
     "name": "stderr",
     "output_type": "stream",
     "text": [
      "100%|██████████| 2/2 [01:46<00:00, 53.21s/it]\n"
     ]
    },
    {
     "name": "stdout",
     "output_type": "stream",
     "text": [
      "\u001b[32m⠸\u001b[0m Working... \u001b[32m━━━━━━━━━━━━\u001b[0m\u001b[32m╸\u001b[0m\u001b[2m\u001b[32m━━━━━━━━━━━━━━━━━━━━━━━━━━━━\u001b[0m \u001b[36m0:17:37\u001b[0m  0.0 step/s "
     ]
    },
    {
     "name": "stderr",
     "output_type": "stream",
     "text": [
      "  0%|          | 0/1 [00:00<?, ?it/s]"
     ]
    },
    {
     "name": "stdout",
     "output_type": "stream",
     "text": [
      "\u001b[32m⠋\u001b[0m Working... \u001b[32m━━━━━━━━━━━━\u001b[0m\u001b[32m╸\u001b[0m\u001b[2m\u001b[32m━━━━━━━━━━━━━━━━━━━━━━━━━━━━\u001b[0m \u001b[36m0:18:37\u001b[0m  0.0 step/s {'es_tag': 'TIMELOG', 'timestamp': '2022-02-12 16:16:51.220717', 'function': 'memlish.executors.bert.get_embeddings', 'duration': 59.51326775550842}\n",
      "\u001b[32m⠼\u001b[0m Working... \u001b[32m━━━━━━━━━━━━\u001b[0m\u001b[32m╸\u001b[0m\u001b[2m\u001b[32m━━━━━━━━━━━━━━━━━━━━━━━━━━━━\u001b[0m \u001b[36m0:18:37\u001b[0m  0.0 step/s "
     ]
    },
    {
     "name": "stderr",
     "output_type": "stream",
     "text": [
      "100%|██████████| 1/1 [00:59<00:00, 59.70s/it]\n"
     ]
    },
    {
     "name": "stdout",
     "output_type": "stream",
     "text": [
      "\u001b[32m⠧\u001b[0m       DONE \u001b[33m━━━━━━━━━━━━━\u001b[0m\u001b[33m╸\u001b[0m\u001b[2m\u001b[33m━━━━━━━━━━━━━━━━━━━━━━━━━━━\u001b[0m \u001b[36m0:18:38\u001b[0m  0.0 step/s \u001b[K13 steps done in 18 minutes and 37 seconds\n"
     ]
    }
   ],
   "source": [
    "with flow_text_encode:\n",
    "    flow_text_encode.post(on='', inputs=text_input_docs(df), request_size=10_000, show_progress=True)"
   ]
  },
  {
   "cell_type": "code",
   "execution_count": null,
   "id": "37463047-04c5-45c2-84bd-4919e081cdae",
   "metadata": {},
   "outputs": [],
   "source": []
  }
 ],
 "metadata": {
  "kernelspec": {
   "display_name": "Python 3 (ipykernel)",
   "language": "python",
   "name": "python3"
  },
  "language_info": {
   "codemirror_mode": {
    "name": "ipython",
    "version": 3
   },
   "file_extension": ".py",
   "mimetype": "text/x-python",
   "name": "python",
   "nbconvert_exporter": "python",
   "pygments_lexer": "ipython3",
   "version": "3.7.11"
  }
 },
 "nbformat": 4,
 "nbformat_minor": 5
}
