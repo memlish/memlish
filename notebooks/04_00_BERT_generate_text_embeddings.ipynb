{
 "cells": [
  {
   "cell_type": "code",
   "execution_count": 1,
   "id": "d03254d6-77cf-442f-8021-c8d524851e62",
   "metadata": {},
   "outputs": [],
   "source": [
    "import sys\n",
    "sys.path.append('/app/')  # noqa\n",
    "sys.path.append('/app/loopa')  # noqa\n",
    "\n",
    "from jina import Document, DocumentArray, Flow, Executor, requests\n",
    "from pathlib import Path\n",
    "import numpy as np\n",
    "import pandas as pd\n",
    "from tqdm.auto import tqdm\n",
    "import argparse\n",
    "from loopa.executors.cache import SBERTEncoderCache\n",
    "from loopa.executors.index import FaissIndexer, IndexMerger\n",
    "from loopa.config import CUDA_IF_AVAILABLE\n",
    "import torch\n",
    "import hashlib\n",
    "\n",
    "def my_hash(s): \n",
    "    return str(int(hashlib.md5(str(s).encode('utf-8')).hexdigest(), 16))"
   ]
  },
  {
   "cell_type": "code",
   "execution_count": 2,
   "id": "b143764b-23fc-4167-9447-63a086a38a97",
   "metadata": {},
   "outputs": [],
   "source": [
    "torch.multiprocessing.set_start_method('spawn', force=True) "
   ]
  },
  {
   "cell_type": "code",
   "execution_count": 3,
   "id": "c526baff-0d51-4a7d-b8ed-0aeb48b23e93",
   "metadata": {},
   "outputs": [],
   "source": [
    "OUT_DIR = Path(\"/data/imgflip/scrap_language_image_pairs_20220209/\")\n",
    "OUT_TEMPLATE_TEXTS_CSV = OUT_DIR/\"template_texts.csv\""
   ]
  },
  {
   "cell_type": "code",
   "execution_count": 47,
   "id": "5587d303-3481-4a25-9c57-76273957a454",
   "metadata": {},
   "outputs": [],
   "source": [
    "JINA_SBERT_EMBEDDING_TEMPLATE_TEXT_COLLECTION = \"01_sbert_all_mpnet_base_v2_imgflip_template_100k_embeddings\"\n",
    "MONGO_EMBEDDING_DB_NAME = 'memlish_db'"
   ]
  },
  {
   "cell_type": "code",
   "execution_count": 46,
   "id": "a7d7de18-4f80-4724-9a4e-b6733cd6f0a4",
   "metadata": {},
   "outputs": [],
   "source": [
    "def text_input_docs(df):    \n",
    "    for idx, row in df.iterrows():\n",
    "        template_name = row[\"template_img_name\"]\n",
    "        try:\n",
    "            template_text = row[\"text\"]\n",
    "            document_id = f\"{template_name}_{my_hash(template_text)}\"\n",
    "            doc = Document(id=document_id, text=template_text)# tags={'filename': str(template_img_path)})\n",
    "        except Exception as e:\n",
    "            print(document_id)\n",
    "            print(template_text)\n",
    "            print(str(e))\n",
    "        \n",
    "        yield doc "
   ]
  },
  {
   "cell_type": "code",
   "execution_count": 6,
   "id": "33b2508a-bb14-4457-8e2e-70a13e47191c",
   "metadata": {},
   "outputs": [],
   "source": [
    "templates_df = pd.read_csv(OUT_TEMPLATE_TEXTS_CSV)"
   ]
  },
  {
   "cell_type": "code",
   "execution_count": 7,
   "id": "42e00c3e-da0a-4fc1-8fe0-254f20ded2d6",
   "metadata": {},
   "outputs": [],
   "source": [
    "templates_df = templates_df[~templates_df['text'].isna()]"
   ]
  },
  {
   "cell_type": "code",
   "execution_count": 8,
   "id": "5e2fb591-49db-425b-a0f4-e7afa68a5f87",
   "metadata": {},
   "outputs": [],
   "source": [
    "templates_df = templates_df[~templates_df.duplicated([\"text\", \"template_img_name\"])]"
   ]
  },
  {
   "cell_type": "code",
   "execution_count": 37,
   "id": "164709c4-e411-471f-a2ef-f5164901aefe",
   "metadata": {
    "tags": []
   },
   "outputs": [
    {
     "data": {
      "text/html": [
       "<div>\n",
       "<style scoped>\n",
       "    .dataframe tbody tr th:only-of-type {\n",
       "        vertical-align: middle;\n",
       "    }\n",
       "\n",
       "    .dataframe tbody tr th {\n",
       "        vertical-align: top;\n",
       "    }\n",
       "\n",
       "    .dataframe thead th {\n",
       "        text-align: right;\n",
       "    }\n",
       "</style>\n",
       "<table border=\"1\" class=\"dataframe\">\n",
       "  <thead>\n",
       "    <tr style=\"text-align: right;\">\n",
       "      <th></th>\n",
       "      <th>url</th>\n",
       "      <th>text</th>\n",
       "      <th>alt</th>\n",
       "      <th>views</th>\n",
       "      <th>upvotes</th>\n",
       "      <th>comments</th>\n",
       "      <th>meme_home_page</th>\n",
       "      <th>template_name</th>\n",
       "      <th>template_img_name</th>\n",
       "    </tr>\n",
       "  </thead>\n",
       "  <tbody>\n",
       "    <tr>\n",
       "      <th>0</th>\n",
       "      <td>i.imgflip.com/61ov27.jpg</td>\n",
       "      <td>accepting that ur child made a good point; MOM...</td>\n",
       "      <td>Moms be like |  accepting that ur child made a...</td>\n",
       "      <td>7208</td>\n",
       "      <td>106</td>\n",
       "      <td>7</td>\n",
       "      <td>/i/61ov27</td>\n",
       "      <td>Drake-Hotline-Bling</td>\n",
       "      <td>Drake-Hotline-Bling.jpg</td>\n",
       "    </tr>\n",
       "    <tr>\n",
       "      <th>1</th>\n",
       "      <td>i.imgflip.com/61soau.jpg</td>\n",
       "      <td>Ground children by sending them to bed early a...</td>\n",
       "      <td>Mexican meme |  Ground children by sending the...</td>\n",
       "      <td>5271</td>\n",
       "      <td>65</td>\n",
       "      <td>5</td>\n",
       "      <td>/i/61soau</td>\n",
       "      <td>Drake-Hotline-Bling</td>\n",
       "      <td>Drake-Hotline-Bling.jpg</td>\n",
       "    </tr>\n",
       "  </tbody>\n",
       "</table>\n",
       "</div>"
      ],
      "text/plain": [
       "                        url  \\\n",
       "0  i.imgflip.com/61ov27.jpg   \n",
       "1  i.imgflip.com/61soau.jpg   \n",
       "\n",
       "                                                text  \\\n",
       "0  accepting that ur child made a good point; MOM...   \n",
       "1  Ground children by sending them to bed early a...   \n",
       "\n",
       "                                                 alt  views  upvotes  \\\n",
       "0  Moms be like |  accepting that ur child made a...   7208      106   \n",
       "1  Mexican meme |  Ground children by sending the...   5271       65   \n",
       "\n",
       "   comments meme_home_page        template_name        template_img_name  \n",
       "0         7      /i/61ov27  Drake-Hotline-Bling  Drake-Hotline-Bling.jpg  \n",
       "1         5      /i/61soau  Drake-Hotline-Bling  Drake-Hotline-Bling.jpg  "
      ]
     },
     "execution_count": 37,
     "metadata": {},
     "output_type": "execute_result"
    }
   ],
   "source": [
    "templates_df.head(2)"
   ]
  },
  {
   "cell_type": "code",
   "execution_count": 48,
   "id": "1aa68ba7-7e17-40e6-854b-19199def2b07",
   "metadata": {},
   "outputs": [],
   "source": [
    "k_to_take = 100\n",
    "groups = []\n",
    "\n",
    "for _, group in templates_df.groupby(['template_img_name']):\n",
    "    selected_sorted = group.sort_values(by=['views'], ascending=False)[:k_to_take]\n",
    "    groups.append(selected_sorted)"
   ]
  },
  {
   "cell_type": "code",
   "execution_count": 49,
   "id": "05d0fc90-bc32-4469-827c-c08b49154409",
   "metadata": {},
   "outputs": [
    {
     "data": {
      "text/html": [
       "<div>\n",
       "<style scoped>\n",
       "    .dataframe tbody tr th:only-of-type {\n",
       "        vertical-align: middle;\n",
       "    }\n",
       "\n",
       "    .dataframe tbody tr th {\n",
       "        vertical-align: top;\n",
       "    }\n",
       "\n",
       "    .dataframe thead th {\n",
       "        text-align: right;\n",
       "    }\n",
       "</style>\n",
       "<table border=\"1\" class=\"dataframe\">\n",
       "  <thead>\n",
       "    <tr style=\"text-align: right;\">\n",
       "      <th></th>\n",
       "      <th>url</th>\n",
       "      <th>text</th>\n",
       "      <th>alt</th>\n",
       "      <th>views</th>\n",
       "      <th>upvotes</th>\n",
       "      <th>comments</th>\n",
       "      <th>meme_home_page</th>\n",
       "      <th>template_name</th>\n",
       "      <th>template_img_name</th>\n",
       "    </tr>\n",
       "  </thead>\n",
       "  <tbody>\n",
       "    <tr>\n",
       "      <th>0</th>\n",
       "      <td>i.imgflip.com/25p6ij.jpg</td>\n",
       "      <td>I WON $10,000,000 IN THE LOTTERY AND DECIDED T...</td>\n",
       "      <td>10 Guy |  I WON $10,000,000 IN THE LOTTERY AND...</td>\n",
       "      <td>733523</td>\n",
       "      <td>305</td>\n",
       "      <td>107</td>\n",
       "      <td>/i/25p6ij</td>\n",
       "      <td>10-Guy</td>\n",
       "      <td>10-Guy.jpg</td>\n",
       "    </tr>\n",
       "    <tr>\n",
       "      <th>1</th>\n",
       "      <td>i.imgflip.com/kbovc.jpg</td>\n",
       "      <td>I NEED TO REFILL MY CHILD REPELLENT</td>\n",
       "      <td>10 Guy | I NEED TO REFILL MY CHILD REPELLENT |...</td>\n",
       "      <td>684545</td>\n",
       "      <td>12</td>\n",
       "      <td>0</td>\n",
       "      <td>/i/kbovc</td>\n",
       "      <td>10-Guy</td>\n",
       "      <td>10-Guy.jpg</td>\n",
       "    </tr>\n",
       "  </tbody>\n",
       "</table>\n",
       "</div>"
      ],
      "text/plain": [
       "                        url  \\\n",
       "0  i.imgflip.com/25p6ij.jpg   \n",
       "1   i.imgflip.com/kbovc.jpg   \n",
       "\n",
       "                                                text  \\\n",
       "0  I WON $10,000,000 IN THE LOTTERY AND DECIDED T...   \n",
       "1                I NEED TO REFILL MY CHILD REPELLENT   \n",
       "\n",
       "                                                 alt   views  upvotes  \\\n",
       "0  10 Guy |  I WON $10,000,000 IN THE LOTTERY AND...  733523      305   \n",
       "1  10 Guy | I NEED TO REFILL MY CHILD REPELLENT |...  684545       12   \n",
       "\n",
       "   comments meme_home_page template_name template_img_name  \n",
       "0       107      /i/25p6ij        10-Guy        10-Guy.jpg  \n",
       "1         0       /i/kbovc        10-Guy        10-Guy.jpg  "
      ]
     },
     "execution_count": 49,
     "metadata": {},
     "output_type": "execute_result"
    }
   ],
   "source": [
    "df = pd.concat(groups).reset_index(drop=True)\n",
    "df.head(2)"
   ]
  },
  {
   "cell_type": "code",
   "execution_count": 50,
   "id": "0e463432-b522-47b7-9e07-ca16b0aa9dd6",
   "metadata": {},
   "outputs": [],
   "source": [
    "embedder_params = {\n",
    "        \"device\":CUDA_IF_AVAILABLE\n",
    "}\n",
    "\n",
    "cache_params = {\n",
    "    \"embedder_params\": embedder_params,\n",
    "    \"db_name\": MONGO_EMBEDDING_DB_NAME, \n",
    "    \"collection_name\": JINA_SBERT_EMBEDDING_TEMPLATE_TEXT_COLLECTION,\n",
    "    \"embedding_field_name\":'emb',\n",
    "    \"megabatch_size\":8192\n",
    "}"
   ]
  },
  {
   "cell_type": "code",
   "execution_count": 51,
   "id": "52ae0023-6d47-411c-b99e-72cc2984a8fd",
   "metadata": {},
   "outputs": [
    {
     "data": {
      "text/html": [
       "<img src=\"https://mermaid.ink/svg/ICAgICAgICAgICAgJSV7aW5pdDp7ICAidGhlbWUiOiAiYmFzZSIsICAidGhlbWVWYXJpYWJsZXMiOiB7ICAgICAgInByaW1hcnlDb2xvciI6ICIjZmZmIiwgICAgICAicHJpbWFyeUJvcmRlckNvbG9yIjogIiNmZmYiLCAgICAgICJtYWluQmtnIjogIiMzMkM4Q0QiLCAgICAgICJjbHVzdGVyQmtnIjogIiNFRUVERTc4QyIsICAgICAgInNlY29uZGFyeUJvcmRlckNvbG9yIjogIm5vbmUiLCAgICAgICJ0ZXJ0aWFyeUJvcmRlckNvbG9yIjogIm5vbmUiLCAgICAgICJsaW5lQ29sb3IiOiAiI2E2ZDhkYSIgICAgICB9fX0lJSAgICAgICAgICAgIApmbG93Y2hhcnQgTFI7CnN1YmdyYXBoIFNCRVJUX2VuY29kZXI7ClNCRVJUX2VuY29kZXIvcGVhLTBbU0JFUlRFbmNvZGVyQ2FjaGVdOjo6UEVBOwplbmQ7CmdhdGV3YXlzdGFydFtnYXRld2F5XTo6OkdBVEVXQVkgLS0+IFNCRVJUX2VuY29kZXI6OjpQT0Q7ClNCRVJUX2VuY29kZXI6OjpQT0QgLS0+IGdhdGV3YXllbmRbZ2F0ZXdheV06OjpHQVRFV0FZOwpjbGFzc0RlZiBJTlNQRUNUIHN0cm9rZTojRjI5QzlGCmNsYXNzRGVmIEpPSU5fSU5TUEVDVCBzdHJva2U6I0YyOUM5RgpjbGFzc0RlZiBHQVRFV0FZIGZpbGw6bm9uZSxjb2xvcjojMDAwLHN0cm9rZTpub25lCmNsYXNzRGVmIElOU1BFQ1RfQVVYX1BBU1Mgc3Ryb2tlLWRhc2hhcnJheTogMiAyCmNsYXNzRGVmIEhFQURUQUlMIGZpbGw6IzMyQzhDRDFECgpjbGFzc0RlZiBFWFRFUk5BTCBmaWxsOiNmZmYsc3Ryb2tlOiMzMkM4Q0Q=\"/>"
      ],
      "text/plain": [
       "<IPython.core.display.Image object>"
      ]
     },
     "metadata": {},
     "output_type": "display_data"
    }
   ],
   "source": [
    "flow_text_encode = Flow().add(uses=SBERTEncoderCache, name=\"SBERT_encoder\", uses_with=cache_params)\n",
    "flow_text_encode"
   ]
  },
  {
   "cell_type": "code",
   "execution_count": 52,
   "id": "9442c998-4842-4639-a721-9e27848aaf46",
   "metadata": {
    "collapsed": true,
    "jupyter": {
     "outputs_hidden": true
    },
    "tags": []
   },
   "outputs": [
    {
     "name": "stdout",
     "output_type": "stream",
     "text": [
      "\u001b[32m⠏\u001b[0m 1/2 waiting \u001b[33mSBERT_encoder\u001b[0m to be ready...                                        "
     ]
    },
    {
     "name": "stderr",
     "output_type": "stream",
     "text": [
      "Downloading: 100%|██████████| 1.18k/1.18k [00:00<00:00, 1.48MB/s]\n"
     ]
    },
    {
     "name": "stdout",
     "output_type": "stream",
     "text": [
      "\u001b[32m⠸\u001b[0m 1/2 waiting \u001b[33mSBERT_encoder\u001b[0m to be ready...                                        "
     ]
    },
    {
     "name": "stderr",
     "output_type": "stream",
     "text": [
      "Downloading: 100%|██████████| 10.1k/10.1k [00:00<00:00, 9.30MB/s]\n"
     ]
    },
    {
     "name": "stdout",
     "output_type": "stream",
     "text": [
      "\u001b[32m⠦\u001b[0m 1/2 waiting \u001b[33mSBERT_encoder\u001b[0m to be ready...                                        "
     ]
    },
    {
     "name": "stderr",
     "output_type": "stream",
     "text": [
      "Downloading: 100%|██████████| 571/571 [00:00<00:00, 690kB/s]\n"
     ]
    },
    {
     "name": "stdout",
     "output_type": "stream",
     "text": [
      "\u001b[32m⠏\u001b[0m 1/2 waiting \u001b[33mSBERT_encoder\u001b[0m to be ready...                                        "
     ]
    },
    {
     "name": "stderr",
     "output_type": "stream",
     "text": [
      "Downloading: 100%|██████████| 116/116 [00:00<00:00, 167kB/s]\n"
     ]
    },
    {
     "name": "stdout",
     "output_type": "stream",
     "text": [
      "\u001b[32m⠸\u001b[0m 1/2 waiting \u001b[33mSBERT_encoder\u001b[0m to be ready...                                        "
     ]
    },
    {
     "name": "stderr",
     "output_type": "stream",
     "text": [
      "Downloading: 100%|██████████| 39.3k/39.3k [00:00<00:00, 23.8MB/s]\n"
     ]
    },
    {
     "name": "stdout",
     "output_type": "stream",
     "text": [
      "\u001b[32m⠦\u001b[0m 1/2 waiting \u001b[33mSBERT_encoder\u001b[0m to be ready...                                        "
     ]
    },
    {
     "name": "stderr",
     "output_type": "stream",
     "text": [
      "Downloading: 100%|██████████| 349/349 [00:00<00:00, 390kB/s]\n"
     ]
    },
    {
     "name": "stdout",
     "output_type": "stream",
     "text": [
      "\u001b[32m⠏\u001b[0m 1/2 waiting \u001b[33mSBERT_encoder\u001b[0m to be ready...                                        "
     ]
    },
    {
     "name": "stderr",
     "output_type": "stream",
     "text": [
      "Downloading:   2%|▏         | 7.83M/438M [00:00<00:10, 41.0MB/s]"
     ]
    },
    {
     "name": "stdout",
     "output_type": "stream",
     "text": [
      "\u001b[32m⠹\u001b[0m 1/2 waiting \u001b[33mSBERT_encoder\u001b[0m to be ready...                                        "
     ]
    },
    {
     "name": "stderr",
     "output_type": "stream",
     "text": [
      "Downloading:   5%|▌         | 22.9M/438M [00:00<00:08, 48.3MB/s]"
     ]
    },
    {
     "name": "stdout",
     "output_type": "stream",
     "text": [
      "\u001b[32m⠼\u001b[0m 1/2 waiting \u001b[33mSBERT_encoder\u001b[0m to be ready...                                        "
     ]
    },
    {
     "name": "stderr",
     "output_type": "stream",
     "text": [
      "Downloading:   8%|▊         | 32.9M/438M [00:00<00:08, 49.4MB/s]"
     ]
    },
    {
     "name": "stdout",
     "output_type": "stream",
     "text": [
      "\u001b[32m⠦\u001b[0m 1/2 waiting \u001b[33mSBERT_encoder\u001b[0m to be ready...                                        "
     ]
    },
    {
     "name": "stderr",
     "output_type": "stream",
     "text": [
      "Downloading:  11%|█         | 48.0M/438M [00:01<00:07, 50.0MB/s]"
     ]
    },
    {
     "name": "stdout",
     "output_type": "stream",
     "text": [
      "\u001b[32m⠏\u001b[0m 1/2 waiting \u001b[33mSBERT_encoder\u001b[0m to be ready...                                        "
     ]
    },
    {
     "name": "stderr",
     "output_type": "stream",
     "text": [
      "Downloading:  13%|█▎        | 58.2M/438M [00:01<00:07, 50.4MB/s]"
     ]
    },
    {
     "name": "stdout",
     "output_type": "stream",
     "text": [
      "\u001b[32m⠙\u001b[0m 1/2 waiting \u001b[33mSBERT_encoder\u001b[0m to be ready...                                        "
     ]
    },
    {
     "name": "stderr",
     "output_type": "stream",
     "text": [
      "Downloading:  17%|█▋        | 73.3M/438M [00:01<00:07, 50.3MB/s]"
     ]
    },
    {
     "name": "stdout",
     "output_type": "stream",
     "text": [
      "\u001b[32m⠼\u001b[0m 1/2 waiting \u001b[33mSBERT_encoder\u001b[0m to be ready...                                        "
     ]
    },
    {
     "name": "stderr",
     "output_type": "stream",
     "text": [
      "Downloading:  19%|█▉        | 83.4M/438M [00:01<00:07, 50.3MB/s]"
     ]
    },
    {
     "name": "stdout",
     "output_type": "stream",
     "text": [
      "\u001b[32m⠦\u001b[0m 1/2 waiting \u001b[33mSBERT_encoder\u001b[0m to be ready...                                        "
     ]
    },
    {
     "name": "stderr",
     "output_type": "stream",
     "text": [
      "Downloading:  21%|██▏       | 93.4M/438M [00:01<00:06, 50.0MB/s]"
     ]
    },
    {
     "name": "stdout",
     "output_type": "stream",
     "text": [
      "\u001b[32m⠇\u001b[0m 1/2 waiting \u001b[33mSBERT_encoder\u001b[0m to be ready...                                        "
     ]
    },
    {
     "name": "stderr",
     "output_type": "stream",
     "text": [
      "Downloading:  25%|██▍       | 109M/438M [00:02<00:06, 50.2MB/s] "
     ]
    },
    {
     "name": "stdout",
     "output_type": "stream",
     "text": [
      "\u001b[32m⠙\u001b[0m 1/2 waiting \u001b[33mSBERT_encoder\u001b[0m to be ready...                                        "
     ]
    },
    {
     "name": "stderr",
     "output_type": "stream",
     "text": [
      "Downloading:  27%|██▋       | 119M/438M [00:02<00:06, 49.8MB/s]"
     ]
    },
    {
     "name": "stdout",
     "output_type": "stream",
     "text": [
      "\u001b[32m⠸\u001b[0m 1/2 waiting \u001b[33mSBERT_encoder\u001b[0m to be ready...                                        "
     ]
    },
    {
     "name": "stderr",
     "output_type": "stream",
     "text": [
      "Downloading:  31%|███       | 134M/438M [00:02<00:06, 49.6MB/s]"
     ]
    },
    {
     "name": "stdout",
     "output_type": "stream",
     "text": [
      "\u001b[32m⠦\u001b[0m 1/2 waiting \u001b[33mSBERT_encoder\u001b[0m to be ready...                                        "
     ]
    },
    {
     "name": "stderr",
     "output_type": "stream",
     "text": [
      "Downloading:  33%|███▎      | 144M/438M [00:02<00:06, 48.8MB/s]"
     ]
    },
    {
     "name": "stdout",
     "output_type": "stream",
     "text": [
      "\u001b[32m⠇\u001b[0m 1/2 waiting \u001b[33mSBERT_encoder\u001b[0m to be ready...                                        "
     ]
    },
    {
     "name": "stderr",
     "output_type": "stream",
     "text": [
      "Downloading:  36%|███▌      | 158M/438M [00:03<00:05, 49.2MB/s]"
     ]
    },
    {
     "name": "stdout",
     "output_type": "stream",
     "text": [
      "\u001b[32m⠙\u001b[0m 1/2 waiting \u001b[33mSBERT_encoder\u001b[0m to be ready...                                        "
     ]
    },
    {
     "name": "stderr",
     "output_type": "stream",
     "text": [
      "Downloading:  38%|███▊      | 169M/438M [00:03<00:05, 49.8MB/s]"
     ]
    },
    {
     "name": "stdout",
     "output_type": "stream",
     "text": [
      "\u001b[32m⠸\u001b[0m 1/2 waiting \u001b[33mSBERT_encoder\u001b[0m to be ready...                                        "
     ]
    },
    {
     "name": "stderr",
     "output_type": "stream",
     "text": [
      "Downloading:  42%|████▏     | 184M/438M [00:03<00:05, 49.8MB/s]"
     ]
    },
    {
     "name": "stdout",
     "output_type": "stream",
     "text": [
      "\u001b[32m⠦\u001b[0m 1/2 waiting \u001b[33mSBERT_encoder\u001b[0m to be ready...                                        "
     ]
    },
    {
     "name": "stderr",
     "output_type": "stream",
     "text": [
      "Downloading:  44%|████▍     | 194M/438M [00:03<00:04, 49.3MB/s]"
     ]
    },
    {
     "name": "stdout",
     "output_type": "stream",
     "text": [
      "\u001b[32m⠇\u001b[0m 1/2 waiting \u001b[33mSBERT_encoder\u001b[0m to be ready...                                        "
     ]
    },
    {
     "name": "stderr",
     "output_type": "stream",
     "text": [
      "Downloading:  48%|████▊     | 208M/438M [00:04<00:04, 49.5MB/s]"
     ]
    },
    {
     "name": "stdout",
     "output_type": "stream",
     "text": [
      "\u001b[32m⠙\u001b[0m 1/2 waiting \u001b[33mSBERT_encoder\u001b[0m to be ready...                                        "
     ]
    },
    {
     "name": "stderr",
     "output_type": "stream",
     "text": [
      "Downloading:  50%|████▉     | 218M/438M [00:04<00:04, 49.6MB/s]"
     ]
    },
    {
     "name": "stdout",
     "output_type": "stream",
     "text": [
      "\u001b[32m⠸\u001b[0m 1/2 waiting \u001b[33mSBERT_encoder\u001b[0m to be ready...                                        "
     ]
    },
    {
     "name": "stderr",
     "output_type": "stream",
     "text": [
      "Downloading:  53%|█████▎    | 233M/438M [00:04<00:04, 48.7MB/s]"
     ]
    },
    {
     "name": "stdout",
     "output_type": "stream",
     "text": [
      "\u001b[32m⠦\u001b[0m 1/2 waiting \u001b[33mSBERT_encoder\u001b[0m to be ready...                                        "
     ]
    },
    {
     "name": "stderr",
     "output_type": "stream",
     "text": [
      "Downloading:  56%|█████▌    | 243M/438M [00:04<00:03, 49.2MB/s]"
     ]
    },
    {
     "name": "stdout",
     "output_type": "stream",
     "text": [
      "\u001b[32m⠇\u001b[0m 1/2 waiting \u001b[33mSBERT_encoder\u001b[0m to be ready...                                        "
     ]
    },
    {
     "name": "stderr",
     "output_type": "stream",
     "text": [
      "Downloading:  59%|█████▉    | 258M/438M [00:05<00:03, 49.9MB/s]"
     ]
    },
    {
     "name": "stdout",
     "output_type": "stream",
     "text": [
      "\u001b[32m⠙\u001b[0m 1/2 waiting \u001b[33mSBERT_encoder\u001b[0m to be ready...                                        "
     ]
    },
    {
     "name": "stderr",
     "output_type": "stream",
     "text": [
      "Downloading:  61%|██████▏   | 268M/438M [00:05<00:03, 49.2MB/s]"
     ]
    },
    {
     "name": "stdout",
     "output_type": "stream",
     "text": [
      "\u001b[32m⠸\u001b[0m 1/2 waiting \u001b[33mSBERT_encoder\u001b[0m to be ready...                                        "
     ]
    },
    {
     "name": "stderr",
     "output_type": "stream",
     "text": [
      "Downloading:  65%|██████▍   | 283M/438M [00:05<00:03, 49.3MB/s]"
     ]
    },
    {
     "name": "stdout",
     "output_type": "stream",
     "text": [
      "\u001b[32m⠦\u001b[0m 1/2 waiting \u001b[33mSBERT_encoder\u001b[0m to be ready...                                        "
     ]
    },
    {
     "name": "stderr",
     "output_type": "stream",
     "text": [
      "Downloading:  68%|██████▊   | 298M/438M [00:06<00:02, 50.0MB/s]"
     ]
    },
    {
     "name": "stdout",
     "output_type": "stream",
     "text": [
      "\u001b[32m⠏\u001b[0m 1/2 waiting \u001b[33mSBERT_encoder\u001b[0m to be ready...                                        "
     ]
    },
    {
     "name": "stderr",
     "output_type": "stream",
     "text": [
      "Downloading:  70%|███████   | 309M/438M [00:06<00:02, 50.1MB/s]"
     ]
    },
    {
     "name": "stdout",
     "output_type": "stream",
     "text": [
      "\u001b[32m⠙\u001b[0m 1/2 waiting \u001b[33mSBERT_encoder\u001b[0m to be ready...                                        "
     ]
    },
    {
     "name": "stderr",
     "output_type": "stream",
     "text": [
      "Downloading:  73%|███████▎  | 319M/438M [00:06<00:02, 50.1MB/s]"
     ]
    },
    {
     "name": "stdout",
     "output_type": "stream",
     "text": [
      "\u001b[32m⠸\u001b[0m 1/2 waiting \u001b[33mSBERT_encoder\u001b[0m to be ready...                                        "
     ]
    },
    {
     "name": "stderr",
     "output_type": "stream",
     "text": [
      "Downloading:  76%|███████▌  | 334M/438M [00:06<00:02, 49.4MB/s]"
     ]
    },
    {
     "name": "stdout",
     "output_type": "stream",
     "text": [
      "\u001b[32m⠦\u001b[0m 1/2 waiting \u001b[33mSBERT_encoder\u001b[0m to be ready...                                        "
     ]
    },
    {
     "name": "stderr",
     "output_type": "stream",
     "text": [
      "Downloading:  80%|███████▉  | 349M/438M [00:07<00:01, 49.7MB/s]"
     ]
    },
    {
     "name": "stdout",
     "output_type": "stream",
     "text": [
      "\u001b[32m⠏\u001b[0m 1/2 waiting \u001b[33mSBERT_encoder\u001b[0m to be ready...                                        "
     ]
    },
    {
     "name": "stderr",
     "output_type": "stream",
     "text": [
      "Downloading:  82%|████████▏ | 359M/438M [00:07<00:01, 49.9MB/s]"
     ]
    },
    {
     "name": "stdout",
     "output_type": "stream",
     "text": [
      "\u001b[32m⠙\u001b[0m 1/2 waiting \u001b[33mSBERT_encoder\u001b[0m to be ready...                                        "
     ]
    },
    {
     "name": "stderr",
     "output_type": "stream",
     "text": [
      "Downloading:  84%|████████▍ | 369M/438M [00:07<00:01, 50.1MB/s]"
     ]
    },
    {
     "name": "stdout",
     "output_type": "stream",
     "text": [
      "\u001b[32m⠸\u001b[0m 1/2 waiting \u001b[33mSBERT_encoder\u001b[0m to be ready...                                        "
     ]
    },
    {
     "name": "stderr",
     "output_type": "stream",
     "text": [
      "Downloading:  88%|████████▊ | 384M/438M [00:07<00:01, 49.9MB/s]"
     ]
    },
    {
     "name": "stdout",
     "output_type": "stream",
     "text": [
      "\u001b[32m⠦\u001b[0m 1/2 waiting \u001b[33mSBERT_encoder\u001b[0m to be ready...                                        "
     ]
    },
    {
     "name": "stderr",
     "output_type": "stream",
     "text": [
      "Downloading:  90%|████████▉ | 394M/438M [00:07<00:00, 49.8MB/s]"
     ]
    },
    {
     "name": "stdout",
     "output_type": "stream",
     "text": [
      "\u001b[32m⠇\u001b[0m 1/2 waiting \u001b[33mSBERT_encoder\u001b[0m to be ready...                                        "
     ]
    },
    {
     "name": "stderr",
     "output_type": "stream",
     "text": [
      "Downloading:  93%|█████████▎| 409M/438M [00:08<00:00, 49.7MB/s]"
     ]
    },
    {
     "name": "stdout",
     "output_type": "stream",
     "text": [
      "\u001b[32m⠙\u001b[0m 1/2 waiting \u001b[33mSBERT_encoder\u001b[0m to be ready...                                        "
     ]
    },
    {
     "name": "stderr",
     "output_type": "stream",
     "text": [
      "Downloading:  96%|█████████▌| 419M/438M [00:08<00:00, 49.3MB/s]"
     ]
    },
    {
     "name": "stdout",
     "output_type": "stream",
     "text": [
      "\u001b[32m⠸\u001b[0m 1/2 waiting \u001b[33mSBERT_encoder\u001b[0m to be ready...                                        "
     ]
    },
    {
     "name": "stderr",
     "output_type": "stream",
     "text": [
      "Downloading:  98%|█████████▊| 429M/438M [00:08<00:00, 48.7MB/s]"
     ]
    },
    {
     "name": "stdout",
     "output_type": "stream",
     "text": [
      "\u001b[32m⠴\u001b[0m 1/2 waiting \u001b[33mSBERT_encoder\u001b[0m to be ready...                                        "
     ]
    },
    {
     "name": "stderr",
     "output_type": "stream",
     "text": [
      "Downloading: 100%|██████████| 438M/438M [00:08<00:00, 49.3MB/s]\n"
     ]
    },
    {
     "name": "stdout",
     "output_type": "stream",
     "text": [
      "\u001b[32m⠏\u001b[0m 1/2 waiting \u001b[33mSBERT_encoder\u001b[0m to be ready...                                        "
     ]
    },
    {
     "name": "stderr",
     "output_type": "stream",
     "text": [
      "Downloading: 100%|██████████| 53.0/53.0 [00:00<00:00, 63.0kB/s]\n"
     ]
    },
    {
     "name": "stdout",
     "output_type": "stream",
     "text": [
      "\u001b[32m⠸\u001b[0m 1/2 waiting \u001b[33mSBERT_encoder\u001b[0m to be ready...                                        "
     ]
    },
    {
     "name": "stderr",
     "output_type": "stream",
     "text": [
      "Downloading: 100%|██████████| 239/239 [00:00<00:00, 320kB/s]\n"
     ]
    },
    {
     "name": "stdout",
     "output_type": "stream",
     "text": [
      "\u001b[32m⠦\u001b[0m 1/2 waiting \u001b[33mSBERT_encoder\u001b[0m to be ready...                                        "
     ]
    },
    {
     "name": "stderr",
     "output_type": "stream",
     "text": [
      "Downloading: 100%|██████████| 466k/466k [00:00<00:00, 2.70MB/s]\n"
     ]
    },
    {
     "name": "stdout",
     "output_type": "stream",
     "text": [
      "\u001b[32m⠙\u001b[0m 1/2 waiting \u001b[33mSBERT_encoder\u001b[0m to be ready...                                        "
     ]
    },
    {
     "name": "stderr",
     "output_type": "stream",
     "text": [
      "Downloading: 100%|██████████| 363/363 [00:00<00:00, 483kB/s]\n"
     ]
    },
    {
     "name": "stdout",
     "output_type": "stream",
     "text": [
      "\u001b[32m⠼\u001b[0m 1/2 waiting \u001b[33mSBERT_encoder\u001b[0m to be ready...                                        "
     ]
    },
    {
     "name": "stderr",
     "output_type": "stream",
     "text": [
      "Downloading: 100%|██████████| 13.1k/13.1k [00:00<00:00, 11.9MB/s]\n"
     ]
    },
    {
     "name": "stdout",
     "output_type": "stream",
     "text": [
      "\u001b[32m⠧\u001b[0m 1/2 waiting \u001b[33mSBERT_encoder\u001b[0m to be ready...                                        "
     ]
    },
    {
     "name": "stderr",
     "output_type": "stream",
     "text": [
      "Downloading: 100%|██████████| 232k/232k [00:00<00:00, 1.66MB/s]\n"
     ]
    },
    {
     "name": "stdout",
     "output_type": "stream",
     "text": [
      "\u001b[32m⠹\u001b[0m 1/2 waiting \u001b[33mSBERT_encoder\u001b[0m to be ready...                                        "
     ]
    },
    {
     "name": "stderr",
     "output_type": "stream",
     "text": [
      "Downloading: 100%|██████████| 190/190 [00:00<00:00, 243kB/s]\n"
     ]
    },
    {
     "name": "stdout",
     "output_type": "stream",
     "text": [
      "           Flow@15[I]:\u001b[32m🎉 Flow is ready to use!\u001b[0m                                             \n",
      "\t🔗 Protocol: \t\t\u001b[1mGRPC\u001b[0m\n",
      "\t🏠 Local access:\t\u001b[4m\u001b[36m0.0.0.0:38587\u001b[0m\n",
      "\t🔒 Private network:\t\u001b[4m\u001b[36m172.20.0.6:38587\u001b[0m\n",
      "\t🌐 Public address:\t\u001b[4m\u001b[36m35.224.116.253:38587\u001b[0m\u001b[0m\n",
      "\u001b[32m⠦\u001b[0m Working... \u001b[32m━\u001b[0m\u001b[32m╸\u001b[0m\u001b[2m\u001b[32m━━━━━━━━━━━━━━━━━━━━━━━━━━━━━━━━━━━━━━━\u001b[0m \u001b[36m0:00:01\u001b[0m estimating... "
     ]
    },
    {
     "name": "stderr",
     "output_type": "stream",
     "text": [
      "  0%|          | 0/2 [00:00<?, ?it/s]"
     ]
    },
    {
     "name": "stdout",
     "output_type": "stream",
     "text": [
      "\u001b[32m⠇\u001b[0m Working... \u001b[32m━\u001b[0m\u001b[32m╸\u001b[0m\u001b[2m\u001b[32m━━━━━━━━━━━━━━━━━━━━━━━━━━━━━━━━━━━━━━━\u001b[0m \u001b[36m0:00:31\u001b[0m estimating... "
     ]
    },
    {
     "name": "stderr",
     "output_type": "stream",
     "text": [
      " 50%|█████     | 1/2 [00:29<00:29, 29.48s/it]"
     ]
    },
    {
     "name": "stdout",
     "output_type": "stream",
     "text": [
      "\u001b[32m⠏\u001b[0m Working... \u001b[32m━\u001b[0m\u001b[32m╸\u001b[0m\u001b[2m\u001b[32m━━━━━━━━━━━━━━━━━━━━━━━━━━━━━━━━━━━━━━━\u001b[0m \u001b[36m0:00:38\u001b[0m estimating... "
     ]
    },
    {
     "name": "stderr",
     "output_type": "stream",
     "text": [
      "100%|██████████| 2/2 [00:36<00:00, 18.34s/it]\n"
     ]
    },
    {
     "name": "stdout",
     "output_type": "stream",
     "text": [
      "\u001b[32m⠼\u001b[0m Working... \u001b[32m━━\u001b[0m\u001b[32m╸\u001b[0m\u001b[2m\u001b[32m━━━━━━━━━━━━━━━━━━━━━━━━━━━━━━━━━━━━━━\u001b[0m \u001b[36m0:00:38\u001b[0m  0.0 step/s . "
     ]
    },
    {
     "name": "stderr",
     "output_type": "stream",
     "text": [
      "  0%|          | 0/2 [00:00<?, ?it/s]"
     ]
    },
    {
     "name": "stdout",
     "output_type": "stream",
     "text": [
      "\u001b[32m⠧\u001b[0m Working... \u001b[32m━━\u001b[0m\u001b[32m╸\u001b[0m\u001b[2m\u001b[32m━━━━━━━━━━━━━━━━━━━━━━━━━━━━━━━━━━━━━━\u001b[0m \u001b[36m0:01:08\u001b[0m  0.0 step/s "
     ]
    },
    {
     "name": "stderr",
     "output_type": "stream",
     "text": [
      " 50%|█████     | 1/2 [00:29<00:29, 29.62s/it]"
     ]
    },
    {
     "name": "stdout",
     "output_type": "stream",
     "text": [
      "\u001b[32m⠼\u001b[0m Working... \u001b[32m━━\u001b[0m\u001b[32m╸\u001b[0m\u001b[2m\u001b[32m━━━━━━━━━━━━━━━━━━━━━━━━━━━━━━━━━━━━━━\u001b[0m \u001b[36m0:01:14\u001b[0m  0.0 step/s "
     ]
    },
    {
     "name": "stderr",
     "output_type": "stream",
     "text": [
      "100%|██████████| 2/2 [00:35<00:00, 17.71s/it]\n"
     ]
    },
    {
     "name": "stdout",
     "output_type": "stream",
     "text": [
      "\u001b[32m⠏\u001b[0m Working... \u001b[32m━━━\u001b[0m\u001b[32m╸\u001b[0m\u001b[2m\u001b[32m━━━━━━━━━━━━━━━━━━━━━━━━━━━━━━━━━━━━━\u001b[0m \u001b[36m0:01:14\u001b[0m  0.0 step/s "
     ]
    },
    {
     "name": "stderr",
     "output_type": "stream",
     "text": [
      "  0%|          | 0/2 [00:00<?, ?it/s]"
     ]
    },
    {
     "name": "stdout",
     "output_type": "stream",
     "text": [
      "\u001b[32m⠇\u001b[0m Working... \u001b[32m━━━\u001b[0m\u001b[32m╸\u001b[0m\u001b[2m\u001b[32m━━━━━━━━━━━━━━━━━━━━━━━━━━━━━━━━━━━━━\u001b[0m \u001b[36m0:01:40\u001b[0m  0.0 step/s "
     ]
    },
    {
     "name": "stderr",
     "output_type": "stream",
     "text": [
      " 50%|█████     | 1/2 [00:25<00:25, 25.14s/it]"
     ]
    },
    {
     "name": "stdout",
     "output_type": "stream",
     "text": [
      "\u001b[32m⠋\u001b[0m Working... \u001b[32m━━━\u001b[0m\u001b[32m╸\u001b[0m\u001b[2m\u001b[32m━━━━━━━━━━━━━━━━━━━━━━━━━━━━━━━━━━━━━\u001b[0m \u001b[36m0:01:45\u001b[0m  0.0 step/s "
     ]
    },
    {
     "name": "stderr",
     "output_type": "stream",
     "text": [
      "100%|██████████| 2/2 [00:30<00:00, 15.19s/it]\n"
     ]
    },
    {
     "name": "stdout",
     "output_type": "stream",
     "text": [
      "\u001b[32m⠦\u001b[0m Working... \u001b[32m━━━━\u001b[0m\u001b[32m╸\u001b[0m\u001b[2m\u001b[32m━━━━━━━━━━━━━━━━━━━━━━━━━━━━━━━━━━━━\u001b[0m \u001b[36m0:01:45\u001b[0m  0.0 step/s "
     ]
    },
    {
     "name": "stderr",
     "output_type": "stream",
     "text": [
      "  0%|          | 0/2 [00:00<?, ?it/s]"
     ]
    },
    {
     "name": "stdout",
     "output_type": "stream",
     "text": [
      "\u001b[32m⠹\u001b[0m Working... \u001b[32m━━━━\u001b[0m\u001b[32m╸\u001b[0m\u001b[2m\u001b[32m━━━━━━━━━━━━━━━━━━━━━━━━━━━━━━━━━━━━\u001b[0m \u001b[36m0:02:16\u001b[0m  0.0 step/s "
     ]
    },
    {
     "name": "stderr",
     "output_type": "stream",
     "text": [
      " 50%|█████     | 1/2 [00:30<00:30, 30.91s/it]"
     ]
    },
    {
     "name": "stdout",
     "output_type": "stream",
     "text": [
      "\u001b[32m⠏\u001b[0m Working... \u001b[32m━━━━\u001b[0m\u001b[32m╸\u001b[0m\u001b[2m\u001b[32m━━━━━━━━━━━━━━━━━━━━━━━━━━━━━━━━━━━━\u001b[0m \u001b[36m0:02:22\u001b[0m  0.0 step/s "
     ]
    },
    {
     "name": "stderr",
     "output_type": "stream",
     "text": [
      "100%|██████████| 2/2 [00:36<00:00, 18.30s/it]\n"
     ]
    },
    {
     "name": "stdout",
     "output_type": "stream",
     "text": [
      "\u001b[32m⠧\u001b[0m Working... \u001b[32m━━━━━\u001b[0m\u001b[32m╸\u001b[0m\u001b[2m\u001b[32m━━━━━━━━━━━━━━━━━━━━━━━━━━━━━━━━━━━\u001b[0m \u001b[36m0:02:23\u001b[0m  0.0 step/s "
     ]
    },
    {
     "name": "stderr",
     "output_type": "stream",
     "text": [
      "  0%|          | 0/2 [00:00<?, ?it/s]"
     ]
    },
    {
     "name": "stdout",
     "output_type": "stream",
     "text": [
      "\u001b[32m⠧\u001b[0m Working... \u001b[32m━━━━━\u001b[0m\u001b[32m╸\u001b[0m\u001b[2m\u001b[32m━━━━━━━━━━━━━━━━━━━━━━━━━━━━━━━━━━━\u001b[0m \u001b[36m0:02:56\u001b[0m  0.0 step/s "
     ]
    },
    {
     "name": "stderr",
     "output_type": "stream",
     "text": [
      " 50%|█████     | 1/2 [00:33<00:33, 33.25s/it]"
     ]
    },
    {
     "name": "stdout",
     "output_type": "stream",
     "text": [
      "\u001b[32m⠏\u001b[0m Working... \u001b[32m━━━━━\u001b[0m\u001b[32m╸\u001b[0m\u001b[2m\u001b[32m━━━━━━━━━━━━━━━━━━━━━━━━━━━━━━━━━━━\u001b[0m \u001b[36m0:03:05\u001b[0m  0.0 step/s "
     ]
    },
    {
     "name": "stderr",
     "output_type": "stream",
     "text": [
      "100%|██████████| 2/2 [00:41<00:00, 20.80s/it]\n"
     ]
    },
    {
     "name": "stdout",
     "output_type": "stream",
     "text": [
      "\u001b[32m⠏\u001b[0m Working... \u001b[32m━━━━━━\u001b[0m\u001b[32m╸\u001b[0m\u001b[2m\u001b[32m━━━━━━━━━━━━━━━━━━━━━━━━━━━━━━━━━━\u001b[0m \u001b[36m0:03:06\u001b[0m  0.0 step/s "
     ]
    },
    {
     "name": "stderr",
     "output_type": "stream",
     "text": [
      "  0%|          | 0/2 [00:00<?, ?it/s]"
     ]
    },
    {
     "name": "stdout",
     "output_type": "stream",
     "text": [
      "\u001b[32m⠼\u001b[0m Working... \u001b[32m━━━━━━\u001b[0m\u001b[32m╸\u001b[0m\u001b[2m\u001b[32m━━━━━━━━━━━━━━━━━━━━━━━━━━━━━━━━━━\u001b[0m \u001b[36m0:03:39\u001b[0m  0.0 step/s "
     ]
    },
    {
     "name": "stderr",
     "output_type": "stream",
     "text": [
      " 50%|█████     | 1/2 [00:33<00:33, 33.86s/it]"
     ]
    },
    {
     "name": "stdout",
     "output_type": "stream",
     "text": [
      "\u001b[32m⠦\u001b[0m Working... \u001b[32m━━━━━━\u001b[0m\u001b[32m╸\u001b[0m\u001b[2m\u001b[32m━━━━━━━━━━━━━━━━━━━━━━━━━━━━━━━━━━\u001b[0m \u001b[36m0:03:47\u001b[0m  0.0 step/s "
     ]
    },
    {
     "name": "stderr",
     "output_type": "stream",
     "text": [
      "100%|██████████| 2/2 [00:41<00:00, 20.53s/it]\n"
     ]
    },
    {
     "name": "stdout",
     "output_type": "stream",
     "text": [
      "\u001b[32m⠇\u001b[0m Working... \u001b[32m━━━━━━━\u001b[0m\u001b[32m╸\u001b[0m\u001b[2m\u001b[32m━━━━━━━━━━━━━━━━━━━━━━━━━━━━━━━━━\u001b[0m \u001b[36m0:03:48\u001b[0m  0.0 step/s "
     ]
    },
    {
     "name": "stderr",
     "output_type": "stream",
     "text": [
      "  0%|          | 0/2 [00:00<?, ?it/s]"
     ]
    },
    {
     "name": "stdout",
     "output_type": "stream",
     "text": [
      "\u001b[32m⠴\u001b[0m Working... \u001b[32m━━━━━━━\u001b[0m\u001b[32m╸\u001b[0m\u001b[2m\u001b[32m━━━━━━━━━━━━━━━━━━━━━━━━━━━━━━━━━\u001b[0m \u001b[36m0:04:17\u001b[0m  0.0 step/s "
     ]
    },
    {
     "name": "stderr",
     "output_type": "stream",
     "text": [
      " 50%|█████     | 1/2 [00:29<00:29, 29.04s/it]"
     ]
    },
    {
     "name": "stdout",
     "output_type": "stream",
     "text": [
      "\u001b[32m⠇\u001b[0m Working... \u001b[32m━━━━━━━\u001b[0m\u001b[32m╸\u001b[0m\u001b[2m\u001b[32m━━━━━━━━━━━━━━━━━━━━━━━━━━━━━━━━━\u001b[0m \u001b[36m0:04:23\u001b[0m  0.0 step/s "
     ]
    },
    {
     "name": "stderr",
     "output_type": "stream",
     "text": [
      "100%|██████████| 2/2 [00:35<00:00, 17.71s/it]\n"
     ]
    },
    {
     "name": "stdout",
     "output_type": "stream",
     "text": [
      "\u001b[32m⠸\u001b[0m Working... \u001b[32m━━━━━━━━\u001b[0m\u001b[32m╸\u001b[0m\u001b[2m\u001b[32m━━━━━━━━━━━━━━━━━━━━━━━━━━━━━━━━\u001b[0m \u001b[36m0:04:25\u001b[0m  0.0 step/s "
     ]
    },
    {
     "name": "stderr",
     "output_type": "stream",
     "text": [
      "  0%|          | 0/2 [00:00<?, ?it/s]"
     ]
    },
    {
     "name": "stdout",
     "output_type": "stream",
     "text": [
      "\u001b[32m⠸\u001b[0m Working... \u001b[32m━━━━━━━━\u001b[0m\u001b[32m╸\u001b[0m\u001b[2m\u001b[32m━━━━━━━━━━━━━━━━━━━━━━━━━━━━━━━━\u001b[0m \u001b[36m0:04:56\u001b[0m  0.0 step/s "
     ]
    },
    {
     "name": "stderr",
     "output_type": "stream",
     "text": [
      " 50%|█████     | 1/2 [00:31<00:31, 31.37s/it]"
     ]
    },
    {
     "name": "stdout",
     "output_type": "stream",
     "text": [
      "\u001b[32m⠏\u001b[0m Working... \u001b[32m━━━━━━━━\u001b[0m\u001b[32m╸\u001b[0m\u001b[2m\u001b[32m━━━━━━━━━━━━━━━━━━━━━━━━━━━━━━━━\u001b[0m \u001b[36m0:05:03\u001b[0m  0.0 step/s "
     ]
    },
    {
     "name": "stderr",
     "output_type": "stream",
     "text": [
      "100%|██████████| 2/2 [00:38<00:00, 19.01s/it]\n"
     ]
    },
    {
     "name": "stdout",
     "output_type": "stream",
     "text": [
      "\u001b[32m⠴\u001b[0m Working... \u001b[32m━━━━━━━━━\u001b[0m\u001b[32m╸\u001b[0m\u001b[2m\u001b[32m━━━━━━━━━━━━━━━━━━━━━━━━━━━━━━━\u001b[0m \u001b[36m0:05:04\u001b[0m  0.0 step/s "
     ]
    },
    {
     "name": "stderr",
     "output_type": "stream",
     "text": [
      "  0%|          | 0/2 [00:00<?, ?it/s]"
     ]
    },
    {
     "name": "stdout",
     "output_type": "stream",
     "text": [
      "\u001b[32m⠋\u001b[0m Working... \u001b[32m━━━━━━━━━\u001b[0m\u001b[32m╸\u001b[0m\u001b[2m\u001b[32m━━━━━━━━━━━━━━━━━━━━━━━━━━━━━━━\u001b[0m \u001b[36m0:05:31\u001b[0m  0.0 step/s "
     ]
    },
    {
     "name": "stderr",
     "output_type": "stream",
     "text": [
      " 50%|█████     | 1/2 [00:26<00:26, 26.81s/it]"
     ]
    },
    {
     "name": "stdout",
     "output_type": "stream",
     "text": [
      "\u001b[32m⠸\u001b[0m Working... \u001b[32m━━━━━━━━━\u001b[0m\u001b[32m╸\u001b[0m\u001b[2m\u001b[32m━━━━━━━━━━━━━━━━━━━━━━━━━━━━━━━\u001b[0m \u001b[36m0:05:41\u001b[0m  0.0 step/s "
     ]
    },
    {
     "name": "stderr",
     "output_type": "stream",
     "text": [
      "100%|██████████| 2/2 [00:36<00:00, 18.12s/it]\n"
     ]
    },
    {
     "name": "stdout",
     "output_type": "stream",
     "text": [
      "\u001b[32m⠙\u001b[0m Working... \u001b[32m━━━━━━━━━━\u001b[0m\u001b[32m╸\u001b[0m\u001b[2m\u001b[32m━━━━━━━━━━━━━━━━━━━━━━━━━━━━━━\u001b[0m \u001b[36m0:05:43\u001b[0m  0.0 step/s "
     ]
    },
    {
     "name": "stderr",
     "output_type": "stream",
     "text": [
      "  0%|          | 0/2 [00:00<?, ?it/s]"
     ]
    },
    {
     "name": "stdout",
     "output_type": "stream",
     "text": [
      "\u001b[32m⠸\u001b[0m Working... \u001b[32m━━━━━━━━━━\u001b[0m\u001b[32m╸\u001b[0m\u001b[2m\u001b[32m━━━━━━━━━━━━━━━━━━━━━━━━━━━━━━\u001b[0m \u001b[36m0:06:12\u001b[0m  0.0 step/s "
     ]
    },
    {
     "name": "stderr",
     "output_type": "stream",
     "text": [
      " 50%|█████     | 1/2 [00:29<00:29, 29.48s/it]"
     ]
    },
    {
     "name": "stdout",
     "output_type": "stream",
     "text": [
      "\u001b[32m⠦\u001b[0m Working... \u001b[32m━━━━━━━━━━\u001b[0m\u001b[32m╸\u001b[0m\u001b[2m\u001b[32m━━━━━━━━━━━━━━━━━━━━━━━━━━━━━━\u001b[0m \u001b[36m0:06:18\u001b[0m  0.0 step/s "
     ]
    },
    {
     "name": "stderr",
     "output_type": "stream",
     "text": [
      "100%|██████████| 2/2 [00:35<00:00, 17.94s/it]\n"
     ]
    },
    {
     "name": "stdout",
     "output_type": "stream",
     "text": [
      "\u001b[32m⠦\u001b[0m Working... \u001b[32m━━━━━━━━━━━\u001b[0m\u001b[32m╸\u001b[0m\u001b[2m\u001b[32m━━━━━━━━━━━━━━━━━━━━━━━━━━━━━\u001b[0m \u001b[36m0:06:20\u001b[0m  0.0 step/s "
     ]
    },
    {
     "name": "stderr",
     "output_type": "stream",
     "text": [
      "  0%|          | 0/2 [00:00<?, ?it/s]"
     ]
    },
    {
     "name": "stdout",
     "output_type": "stream",
     "text": [
      "\u001b[32m⠹\u001b[0m Working... \u001b[32m━━━━━━━━━━━\u001b[0m\u001b[32m╸\u001b[0m\u001b[2m\u001b[32m━━━━━━━━━━━━━━━━━━━━━━━━━━━━━\u001b[0m \u001b[36m0:06:52\u001b[0m  0.0 step/s "
     ]
    },
    {
     "name": "stderr",
     "output_type": "stream",
     "text": [
      " 50%|█████     | 1/2 [00:31<00:31, 31.84s/it]"
     ]
    },
    {
     "name": "stdout",
     "output_type": "stream",
     "text": [
      "\u001b[32m⠙\u001b[0m Working... \u001b[32m━━━━━━━━━━━\u001b[0m\u001b[32m╸\u001b[0m\u001b[2m\u001b[32m━━━━━━━━━━━━━━━━━━━━━━━━━━━━━\u001b[0m \u001b[36m0:06:59\u001b[0m  0.0 step/s "
     ]
    },
    {
     "name": "stderr",
     "output_type": "stream",
     "text": [
      "100%|██████████| 2/2 [00:38<00:00, 19.42s/it]\n"
     ]
    },
    {
     "name": "stdout",
     "output_type": "stream",
     "text": [
      "\u001b[32m⠹\u001b[0m Working... \u001b[32m━━━━━━━━━━━━\u001b[0m\u001b[32m╸\u001b[0m\u001b[2m\u001b[32m━━━━━━━━━━━━━━━━━━━━━━━━━━━━\u001b[0m \u001b[36m0:07:02\u001b[0m  0.0 step/s "
     ]
    },
    {
     "name": "stderr",
     "output_type": "stream",
     "text": [
      "  0%|          | 0/1 [00:00<?, ?it/s]"
     ]
    },
    {
     "name": "stdout",
     "output_type": "stream",
     "text": [
      "\u001b[32m⠦\u001b[0m Working... \u001b[32m━━━━━━━━━━━━\u001b[0m\u001b[32m╸\u001b[0m\u001b[2m\u001b[32m━━━━━━━━━━━━━━━━━━━━━━━━━━━━\u001b[0m \u001b[36m0:07:21\u001b[0m  0.0 step/s "
     ]
    },
    {
     "name": "stderr",
     "output_type": "stream",
     "text": [
      "100%|██████████| 1/1 [00:19<00:00, 19.61s/it]\n"
     ]
    },
    {
     "name": "stdout",
     "output_type": "stream",
     "text": [
      "\u001b[32m⠧\u001b[0m       DONE \u001b[33m━━━━━━━━━━━━━\u001b[0m\u001b[33m╸\u001b[0m\u001b[2m\u001b[33m━━━━━━━━━━━━━━━━━━━━━━━━━━━\u001b[0m \u001b[36m0:07:21\u001b[0m  0.0 step/s \u001b[K13 steps done in 7 minutes and 21 seconds\n"
     ]
    }
   ],
   "source": [
    "with flow_text_encode:\n",
    "    flow_text_encode.post(on='', inputs=text_input_docs(df), request_size=10_000, show_progress=True)"
   ]
  },
  {
   "cell_type": "code",
   "execution_count": null,
   "id": "18c515e4-427e-4308-a84c-bd6baed608c2",
   "metadata": {},
   "outputs": [],
   "source": []
  }
 ],
 "metadata": {
  "kernelspec": {
   "display_name": "Python 3 (ipykernel)",
   "language": "python",
   "name": "python3"
  },
  "language_info": {
   "codemirror_mode": {
    "name": "ipython",
    "version": 3
   },
   "file_extension": ".py",
   "mimetype": "text/x-python",
   "name": "python",
   "nbconvert_exporter": "python",
   "pygments_lexer": "ipython3",
   "version": "3.7.11"
  }
 },
 "nbformat": 4,
 "nbformat_minor": 5
}
